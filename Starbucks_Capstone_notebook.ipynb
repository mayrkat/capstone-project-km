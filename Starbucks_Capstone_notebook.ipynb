{
 "cells": [
  {
   "cell_type": "markdown",
   "metadata": {},
   "source": [
    "# Starbucks Capstone Challenge\n",
    "\n",
    "### Introduction\n",
    "\n",
    "This data set contains simulated data that mimics customer behavior on the Starbucks rewards mobile app. Once every few days, Starbucks sends out an offer to users of the mobile app. An offer can be merely an advertisement for a drink or an actual offer such as a discount or BOGO (buy one get one free). Some users might not receive any offer during certain weeks. \n",
    "\n",
    "Not all users receive the same offer, and that is the challenge to solve with this data set.\n",
    "\n",
    "Your task is to combine transaction, demographic and offer data to determine which demographic groups respond best to which offer type. This data set is a simplified version of the real Starbucks app because the underlying simulator only has one product whereas Starbucks actually sells dozens of products.\n",
    "\n",
    "Every offer has a validity period before the offer expires. As an example, a BOGO offer might be valid for only 5 days. You'll see in the data set that informational offers have a validity period even though these ads are merely providing information about a product; for example, if an informational offer has 7 days of validity, you can assume the customer is feeling the influence of the offer for 7 days after receiving the advertisement.\n",
    "\n",
    "You'll be given transactional data showing user purchases made on the app including the timestamp of purchase and the amount of money spent on a purchase. This transactional data also has a record for each offer that a user receives as well as a record for when a user actually views the offer. There are also records for when a user completes an offer. \n",
    "\n",
    "Keep in mind as well that someone using the app might make a purchase through the app without having received an offer or seen an offer.\n",
    "\n",
    "### Example\n",
    "\n",
    "To give an example, a user could receive a discount offer buy 10 dollars get 2 off on Monday. The offer is valid for 10 days from receipt. If the customer accumulates at least 10 dollars in purchases during the validity period, the customer completes the offer.\n",
    "\n",
    "However, there are a few things to watch out for in this data set. Customers do not opt into the offers that they receive; in other words, a user can receive an offer, never actually view the offer, and still complete the offer. For example, a user might receive the \"buy 10 dollars get 2 dollars off offer\", but the user never opens the offer during the 10 day validity period. The customer spends 15 dollars during those ten days. There will be an offer completion record in the data set; however, the customer was not influenced by the offer because the customer never viewed the offer.\n",
    "\n",
    "### Cleaning\n",
    "\n",
    "This makes data cleaning especially important and tricky.\n",
    "\n",
    "You'll also want to take into account that some demographic groups will make purchases even if they don't receive an offer. From a business perspective, if a customer is going to make a 10 dollar purchase without an offer anyway, you wouldn't want to send a buy 10 dollars get 2 dollars off offer. You'll want to try to assess what a certain demographic group will buy when not receiving any offers.\n",
    "\n",
    "### Final Advice\n",
    "\n",
    "Because this is a capstone project, you are free to analyze the data any way you see fit. For example, you could build a machine learning model that predicts how much someone will spend based on demographics and offer type. Or you could build a model that predicts whether or not someone will respond to an offer. Or, you don't need to build a machine learning model at all. You could develop a set of heuristics that determine what offer you should send to each customer (i.e., 75 percent of women customers who were 35 years old responded to offer A vs 40 percent from the same demographic to offer B, so send offer A)."
   ]
  },
  {
   "cell_type": "markdown",
   "metadata": {},
   "source": [
    "# Data Sets\n",
    "\n",
    "The data is contained in three files:\n",
    "\n",
    "* portfolio.json - containing offer ids and meta data about each offer (duration, type, etc.)\n",
    "* profile.json - demographic data for each customer\n",
    "* transcript.json - records for transactions, offers received, offers viewed, and offers completed\n",
    "\n",
    "Here is the schema and explanation of each variable in the files:\n",
    "\n",
    "**portfolio.json**\n",
    "* id (string) - offer id\n",
    "* offer_type (string) - type of offer ie BOGO, discount, informational\n",
    "* difficulty (int) - minimum required spend to complete an offer\n",
    "* reward (int) - reward given for completing an offer\n",
    "* duration (int) - time for offer to be open, in days\n",
    "* channels (list of strings)\n",
    "\n",
    "**profile.json**\n",
    "* age (int) - age of the customer missing value encoded as 118\n",
    "* became_member_on (int) - date when customer created an app account\n",
    "* gender (str) - gender of the customer (note some entries contain 'O' for other rather than M or F)\n",
    "* id (str) - customer id\n",
    "* income (float) - customer's income\n",
    "\n",
    "**transcript.json**\n",
    "* event (str) - record description (ie transaction, offer received, offer viewed, etc.)\n",
    "* person (str) - customer id\n",
    "* time (int) - time in hours since start of test. The data begins at time t=0\n",
    "* value - (dict of strings) - either an offer id or transaction amount depending on the record\n",
    "\n",
    "**Note:** If you are using the workspace, you will need to go to the terminal and run the command `conda update pandas` before reading in the files. This is because the version of pandas in the workspace cannot read in the transcript.json file correctly, but the newest version of pandas can. You can access the termnal from the orange icon in the top left of this notebook.  \n",
    "\n",
    "You can see how to access the terminal and how the install works using the two images below.  First you need to access the terminal:\n",
    "\n",
    "<img src=\"pic1.png\"/>\n",
    "\n",
    "Then you will want to run the above command:\n",
    "\n",
    "<img src=\"pic2.png\"/>\n",
    "\n",
    "Finally, when you enter back into the notebook (use the jupyter icon again), you should be able to run the below cell without any errors."
   ]
  },
  {
   "cell_type": "code",
   "execution_count": 554,
   "metadata": {},
   "outputs": [],
   "source": [
    "import pandas as pd\n",
    "import numpy as np\n",
    "import math\n",
    "import json\n",
    "\n",
    "%matplotlib inline\n",
    "\n",
    "from sklearn.model_selection import train_test_split\n",
    "\n",
    "\n",
    "\n",
    "# read in the json files\n",
    "portfolio = pd.read_json('data/portfolio.json', orient='records', lines=True)\n",
    "profile = pd.read_json('data/profile.json', orient='records', lines=True)\n",
    "transcript = pd.read_json('data/transcript.json', orient='records', lines=True)"
   ]
  },
  {
   "cell_type": "markdown",
   "metadata": {},
   "source": [
    "# Data Exploration\n",
    "- features and calculated statistics relevant to the problem have been reported and discussed\n",
    "- Abnormalities or characteristics of the data or input that need to be addressed have been identified.\n",
    "- A visualization has been provided that summarizes or extracts a relevant characteristic or feature about the dataset or input data with thorough discussion. Visual cues are clearly defined."
   ]
  },
  {
   "cell_type": "markdown",
   "metadata": {},
   "source": [
    "### 1. Portfolio data - containing offer ids and meta data about each offer (duration, type, etc.)"
   ]
  },
  {
   "cell_type": "code",
   "execution_count": 210,
   "metadata": {},
   "outputs": [
    {
     "name": "stdout",
     "output_type": "stream",
     "text": [
      "length of dataset: 10\n"
     ]
    },
    {
     "data": {
      "text/html": [
       "<div>\n",
       "<style scoped>\n",
       "    .dataframe tbody tr th:only-of-type {\n",
       "        vertical-align: middle;\n",
       "    }\n",
       "\n",
       "    .dataframe tbody tr th {\n",
       "        vertical-align: top;\n",
       "    }\n",
       "\n",
       "    .dataframe thead th {\n",
       "        text-align: right;\n",
       "    }\n",
       "</style>\n",
       "<table border=\"1\" class=\"dataframe\">\n",
       "  <thead>\n",
       "    <tr style=\"text-align: right;\">\n",
       "      <th></th>\n",
       "      <th>reward</th>\n",
       "      <th>channels</th>\n",
       "      <th>difficulty</th>\n",
       "      <th>duration</th>\n",
       "      <th>offer_type</th>\n",
       "      <th>id</th>\n",
       "    </tr>\n",
       "  </thead>\n",
       "  <tbody>\n",
       "    <tr>\n",
       "      <th>0</th>\n",
       "      <td>10</td>\n",
       "      <td>[email, mobile, social]</td>\n",
       "      <td>10</td>\n",
       "      <td>7</td>\n",
       "      <td>bogo</td>\n",
       "      <td>ae264e3637204a6fb9bb56bc8210ddfd</td>\n",
       "    </tr>\n",
       "    <tr>\n",
       "      <th>1</th>\n",
       "      <td>10</td>\n",
       "      <td>[web, email, mobile, social]</td>\n",
       "      <td>10</td>\n",
       "      <td>5</td>\n",
       "      <td>bogo</td>\n",
       "      <td>4d5c57ea9a6940dd891ad53e9dbe8da0</td>\n",
       "    </tr>\n",
       "    <tr>\n",
       "      <th>2</th>\n",
       "      <td>0</td>\n",
       "      <td>[web, email, mobile]</td>\n",
       "      <td>0</td>\n",
       "      <td>4</td>\n",
       "      <td>informational</td>\n",
       "      <td>3f207df678b143eea3cee63160fa8bed</td>\n",
       "    </tr>\n",
       "    <tr>\n",
       "      <th>3</th>\n",
       "      <td>5</td>\n",
       "      <td>[web, email, mobile]</td>\n",
       "      <td>5</td>\n",
       "      <td>7</td>\n",
       "      <td>bogo</td>\n",
       "      <td>9b98b8c7a33c4b65b9aebfe6a799e6d9</td>\n",
       "    </tr>\n",
       "    <tr>\n",
       "      <th>4</th>\n",
       "      <td>5</td>\n",
       "      <td>[web, email]</td>\n",
       "      <td>20</td>\n",
       "      <td>10</td>\n",
       "      <td>discount</td>\n",
       "      <td>0b1e1539f2cc45b7b9fa7c272da2e1d7</td>\n",
       "    </tr>\n",
       "    <tr>\n",
       "      <th>5</th>\n",
       "      <td>3</td>\n",
       "      <td>[web, email, mobile, social]</td>\n",
       "      <td>7</td>\n",
       "      <td>7</td>\n",
       "      <td>discount</td>\n",
       "      <td>2298d6c36e964ae4a3e7e9706d1fb8c2</td>\n",
       "    </tr>\n",
       "    <tr>\n",
       "      <th>6</th>\n",
       "      <td>2</td>\n",
       "      <td>[web, email, mobile, social]</td>\n",
       "      <td>10</td>\n",
       "      <td>10</td>\n",
       "      <td>discount</td>\n",
       "      <td>fafdcd668e3743c1bb461111dcafc2a4</td>\n",
       "    </tr>\n",
       "    <tr>\n",
       "      <th>7</th>\n",
       "      <td>0</td>\n",
       "      <td>[email, mobile, social]</td>\n",
       "      <td>0</td>\n",
       "      <td>3</td>\n",
       "      <td>informational</td>\n",
       "      <td>5a8bc65990b245e5a138643cd4eb9837</td>\n",
       "    </tr>\n",
       "    <tr>\n",
       "      <th>8</th>\n",
       "      <td>5</td>\n",
       "      <td>[web, email, mobile, social]</td>\n",
       "      <td>5</td>\n",
       "      <td>5</td>\n",
       "      <td>bogo</td>\n",
       "      <td>f19421c1d4aa40978ebb69ca19b0e20d</td>\n",
       "    </tr>\n",
       "    <tr>\n",
       "      <th>9</th>\n",
       "      <td>2</td>\n",
       "      <td>[web, email, mobile]</td>\n",
       "      <td>10</td>\n",
       "      <td>7</td>\n",
       "      <td>discount</td>\n",
       "      <td>2906b810c7d4411798c6938adc9daaa5</td>\n",
       "    </tr>\n",
       "  </tbody>\n",
       "</table>\n",
       "</div>"
      ],
      "text/plain": [
       "   reward                      channels  difficulty  duration     offer_type  \\\n",
       "0      10       [email, mobile, social]          10         7           bogo   \n",
       "1      10  [web, email, mobile, social]          10         5           bogo   \n",
       "2       0          [web, email, mobile]           0         4  informational   \n",
       "3       5          [web, email, mobile]           5         7           bogo   \n",
       "4       5                  [web, email]          20        10       discount   \n",
       "5       3  [web, email, mobile, social]           7         7       discount   \n",
       "6       2  [web, email, mobile, social]          10        10       discount   \n",
       "7       0       [email, mobile, social]           0         3  informational   \n",
       "8       5  [web, email, mobile, social]           5         5           bogo   \n",
       "9       2          [web, email, mobile]          10         7       discount   \n",
       "\n",
       "                                 id  \n",
       "0  ae264e3637204a6fb9bb56bc8210ddfd  \n",
       "1  4d5c57ea9a6940dd891ad53e9dbe8da0  \n",
       "2  3f207df678b143eea3cee63160fa8bed  \n",
       "3  9b98b8c7a33c4b65b9aebfe6a799e6d9  \n",
       "4  0b1e1539f2cc45b7b9fa7c272da2e1d7  \n",
       "5  2298d6c36e964ae4a3e7e9706d1fb8c2  \n",
       "6  fafdcd668e3743c1bb461111dcafc2a4  \n",
       "7  5a8bc65990b245e5a138643cd4eb9837  \n",
       "8  f19421c1d4aa40978ebb69ca19b0e20d  \n",
       "9  2906b810c7d4411798c6938adc9daaa5  "
      ]
     },
     "metadata": {},
     "output_type": "display_data"
    },
    {
     "name": "stdout",
     "output_type": "stream",
     "text": [
      "Missing values in portfolio data:\n"
     ]
    },
    {
     "data": {
      "text/plain": [
       "reward        0\n",
       "channels      0\n",
       "difficulty    0\n",
       "duration      0\n",
       "offer_type    0\n",
       "id            0\n",
       "dtype: int64"
      ]
     },
     "metadata": {},
     "output_type": "display_data"
    },
    {
     "data": {
      "text/plain": [
       "reward         int64\n",
       "channels      object\n",
       "difficulty     int64\n",
       "duration       int64\n",
       "offer_type    object\n",
       "id            object\n",
       "dtype: object"
      ]
     },
     "metadata": {},
     "output_type": "display_data"
    },
    {
     "ename": "TypeError",
     "evalue": "unhashable type: 'list'",
     "output_type": "error",
     "traceback": [
      "\u001b[0;31m---------------------------------------------------------------------------\u001b[0m",
      "\u001b[0;31mTypeError\u001b[0m                                 Traceback (most recent call last)",
      "\u001b[0;32mpandas/_libs/hashtable_class_helper.pxi\u001b[0m in \u001b[0;36mpandas._libs.hashtable.PyObjectHashTable.map_locations\u001b[0;34m()\u001b[0m\n",
      "\u001b[0;31mTypeError\u001b[0m: unhashable type: 'list'"
     ]
    },
    {
     "name": "stderr",
     "output_type": "stream",
     "text": [
      "Exception ignored in: 'pandas._libs.index.IndexEngine._call_map_locations'\n",
      "Traceback (most recent call last):\n",
      "  File \"pandas/_libs/hashtable_class_helper.pxi\", line 1653, in pandas._libs.hashtable.PyObjectHashTable.map_locations\n",
      "TypeError: unhashable type: 'list'\n"
     ]
    },
    {
     "data": {
      "text/plain": [
       "[web, email, mobile, social]    4\n",
       "[web, email, mobile]            3\n",
       "[email, mobile, social]         2\n",
       "[web, email]                    1\n",
       "Name: channels, dtype: int64"
      ]
     },
     "metadata": {},
     "output_type": "display_data"
    },
    {
     "data": {
      "text/plain": [
       "discount         4\n",
       "bogo             4\n",
       "informational    2\n",
       "Name: offer_type, dtype: int64"
      ]
     },
     "metadata": {},
     "output_type": "display_data"
    },
    {
     "data": {
      "text/plain": [
       "9b98b8c7a33c4b65b9aebfe6a799e6d9    1\n",
       "2298d6c36e964ae4a3e7e9706d1fb8c2    1\n",
       "fafdcd668e3743c1bb461111dcafc2a4    1\n",
       "5a8bc65990b245e5a138643cd4eb9837    1\n",
       "0b1e1539f2cc45b7b9fa7c272da2e1d7    1\n",
       "ae264e3637204a6fb9bb56bc8210ddfd    1\n",
       "2906b810c7d4411798c6938adc9daaa5    1\n",
       "3f207df678b143eea3cee63160fa8bed    1\n",
       "f19421c1d4aa40978ebb69ca19b0e20d    1\n",
       "4d5c57ea9a6940dd891ad53e9dbe8da0    1\n",
       "Name: id, dtype: int64"
      ]
     },
     "metadata": {},
     "output_type": "display_data"
    }
   ],
   "source": [
    "# Portfolio data: containing offer ids and meta data about each offer (duration, type, etc.)\n",
    "\n",
    "print(\"length of dataset:\", len(portfolio))\n",
    "display(portfolio.head(10))\n",
    "\n",
    "\n",
    "print(\"Missing values in portfolio data:\")\n",
    "display(portfolio.isna().sum())\n",
    "\n",
    "display(portfolio.dtypes)\n",
    "\n",
    "for column in portfolio.select_dtypes(include=['object']).columns:\n",
    "    display(portfolio[column].value_counts())\n",
    "\n"
   ]
  },
  {
   "cell_type": "code",
   "execution_count": null,
   "metadata": {},
   "outputs": [],
   "source": [
    "## Recode some of the offer types?\n"
   ]
  },
  {
   "cell_type": "markdown",
   "metadata": {},
   "source": [
    "### 2. Profile data - demographic data for each customer"
   ]
  },
  {
   "cell_type": "code",
   "execution_count": 377,
   "metadata": {},
   "outputs": [
    {
     "name": "stdout",
     "output_type": "stream",
     "text": [
      "length of dataset: 17000\n"
     ]
    },
    {
     "data": {
      "text/html": [
       "<div>\n",
       "<style scoped>\n",
       "    .dataframe tbody tr th:only-of-type {\n",
       "        vertical-align: middle;\n",
       "    }\n",
       "\n",
       "    .dataframe tbody tr th {\n",
       "        vertical-align: top;\n",
       "    }\n",
       "\n",
       "    .dataframe thead th {\n",
       "        text-align: right;\n",
       "    }\n",
       "</style>\n",
       "<table border=\"1\" class=\"dataframe\">\n",
       "  <thead>\n",
       "    <tr style=\"text-align: right;\">\n",
       "      <th></th>\n",
       "      <th>gender</th>\n",
       "      <th>age</th>\n",
       "      <th>id</th>\n",
       "      <th>became_member_on</th>\n",
       "      <th>income</th>\n",
       "    </tr>\n",
       "  </thead>\n",
       "  <tbody>\n",
       "    <tr>\n",
       "      <th>0</th>\n",
       "      <td>None</td>\n",
       "      <td>118</td>\n",
       "      <td>68be06ca386d4c31939f3a4f0e3dd783</td>\n",
       "      <td>2017-02-12</td>\n",
       "      <td>NaN</td>\n",
       "    </tr>\n",
       "    <tr>\n",
       "      <th>1</th>\n",
       "      <td>F</td>\n",
       "      <td>55</td>\n",
       "      <td>0610b486422d4921ae7d2bf64640c50b</td>\n",
       "      <td>2017-07-15</td>\n",
       "      <td>112000.0</td>\n",
       "    </tr>\n",
       "    <tr>\n",
       "      <th>2</th>\n",
       "      <td>None</td>\n",
       "      <td>118</td>\n",
       "      <td>38fe809add3b4fcf9315a9694bb96ff5</td>\n",
       "      <td>2018-07-12</td>\n",
       "      <td>NaN</td>\n",
       "    </tr>\n",
       "    <tr>\n",
       "      <th>3</th>\n",
       "      <td>F</td>\n",
       "      <td>75</td>\n",
       "      <td>78afa995795e4d85b5d9ceeca43f5fef</td>\n",
       "      <td>2017-05-09</td>\n",
       "      <td>100000.0</td>\n",
       "    </tr>\n",
       "    <tr>\n",
       "      <th>4</th>\n",
       "      <td>None</td>\n",
       "      <td>118</td>\n",
       "      <td>a03223e636434f42ac4c3df47e8bac43</td>\n",
       "      <td>2017-08-04</td>\n",
       "      <td>NaN</td>\n",
       "    </tr>\n",
       "    <tr>\n",
       "      <th>5</th>\n",
       "      <td>M</td>\n",
       "      <td>68</td>\n",
       "      <td>e2127556f4f64592b11af22de27a7932</td>\n",
       "      <td>2018-04-26</td>\n",
       "      <td>70000.0</td>\n",
       "    </tr>\n",
       "    <tr>\n",
       "      <th>6</th>\n",
       "      <td>None</td>\n",
       "      <td>118</td>\n",
       "      <td>8ec6ce2a7e7949b1bf142def7d0e0586</td>\n",
       "      <td>2017-09-25</td>\n",
       "      <td>NaN</td>\n",
       "    </tr>\n",
       "    <tr>\n",
       "      <th>7</th>\n",
       "      <td>None</td>\n",
       "      <td>118</td>\n",
       "      <td>68617ca6246f4fbc85e91a2a49552598</td>\n",
       "      <td>2017-10-02</td>\n",
       "      <td>NaN</td>\n",
       "    </tr>\n",
       "    <tr>\n",
       "      <th>8</th>\n",
       "      <td>M</td>\n",
       "      <td>65</td>\n",
       "      <td>389bc3fa690240e798340f5a15918d5c</td>\n",
       "      <td>2018-02-09</td>\n",
       "      <td>53000.0</td>\n",
       "    </tr>\n",
       "    <tr>\n",
       "      <th>9</th>\n",
       "      <td>None</td>\n",
       "      <td>118</td>\n",
       "      <td>8974fc5686fe429db53ddde067b88302</td>\n",
       "      <td>2016-11-22</td>\n",
       "      <td>NaN</td>\n",
       "    </tr>\n",
       "  </tbody>\n",
       "</table>\n",
       "</div>"
      ],
      "text/plain": [
       "  gender  age                                id became_member_on    income\n",
       "0   None  118  68be06ca386d4c31939f3a4f0e3dd783       2017-02-12       NaN\n",
       "1      F   55  0610b486422d4921ae7d2bf64640c50b       2017-07-15  112000.0\n",
       "2   None  118  38fe809add3b4fcf9315a9694bb96ff5       2018-07-12       NaN\n",
       "3      F   75  78afa995795e4d85b5d9ceeca43f5fef       2017-05-09  100000.0\n",
       "4   None  118  a03223e636434f42ac4c3df47e8bac43       2017-08-04       NaN\n",
       "5      M   68  e2127556f4f64592b11af22de27a7932       2018-04-26   70000.0\n",
       "6   None  118  8ec6ce2a7e7949b1bf142def7d0e0586       2017-09-25       NaN\n",
       "7   None  118  68617ca6246f4fbc85e91a2a49552598       2017-10-02       NaN\n",
       "8      M   65  389bc3fa690240e798340f5a15918d5c       2018-02-09   53000.0\n",
       "9   None  118  8974fc5686fe429db53ddde067b88302       2016-11-22       NaN"
      ]
     },
     "metadata": {},
     "output_type": "display_data"
    },
    {
     "name": "stdout",
     "output_type": "stream",
     "text": [
      "Missing values in portfolio data:\n"
     ]
    },
    {
     "data": {
      "text/plain": [
       "gender              0.127941\n",
       "age                 0.000000\n",
       "id                  0.000000\n",
       "became_member_on    0.000000\n",
       "income              0.127941\n",
       "dtype: float64"
      ]
     },
     "metadata": {},
     "output_type": "display_data"
    },
    {
     "name": "stdout",
     "output_type": "stream",
     "text": [
      "Missing values in age column: 0.12794117647058822\n"
     ]
    },
    {
     "data": {
      "text/plain": [
       "gender                      object\n",
       "age                          int64\n",
       "id                          object\n",
       "became_member_on    datetime64[ns]\n",
       "income                     float64\n",
       "dtype: object"
      ]
     },
     "metadata": {},
     "output_type": "display_data"
    },
    {
     "data": {
      "text/plain": [
       "'gender'"
      ]
     },
     "metadata": {},
     "output_type": "display_data"
    },
    {
     "data": {
      "text/plain": [
       "M    8484\n",
       "F    6129\n",
       "O     212\n",
       "Name: gender, dtype: int64"
      ]
     },
     "metadata": {},
     "output_type": "display_data"
    },
    {
     "data": {
      "text/plain": [
       "'id'"
      ]
     },
     "metadata": {},
     "output_type": "display_data"
    },
    {
     "data": {
      "text/plain": [
       "69addd8913974e6eae56b6e789acf2ca    1\n",
       "cbdd0e50d9e24b60a9ff67444a2ff7ef    1\n",
       "663c5a9d7fed499d97b23b514137fecd    1\n",
       "d53717f5400c4e84affdaeda9dd926b3    1\n",
       "597ebda5954741909a583df17c61c94b    1\n",
       "                                   ..\n",
       "79b6efb03873466e93714c376b1f1d1a    1\n",
       "74aeed36262c4e8a833f5ee579b2fcd3    1\n",
       "0ff34474e5b245b79f396d4c5ddef96c    1\n",
       "cc35fd7b202a43d19eddbec7b76e01ca    1\n",
       "3671e62b64104ba49147706fb33087ff    1\n",
       "Name: id, Length: 17000, dtype: int64"
      ]
     },
     "metadata": {},
     "output_type": "display_data"
    },
    {
     "data": {
      "text/plain": [
       "'age'"
      ]
     },
     "metadata": {},
     "output_type": "display_data"
    },
    {
     "data": {
      "text/plain": [
       "count    17000.000000\n",
       "mean        62.531412\n",
       "std         26.738580\n",
       "min         18.000000\n",
       "25%         45.000000\n",
       "50%         58.000000\n",
       "75%         73.000000\n",
       "max        118.000000\n",
       "Name: age, dtype: float64"
      ]
     },
     "metadata": {},
     "output_type": "display_data"
    }
   ],
   "source": [
    "print(\"length of dataset:\", len(profile))\n",
    "display(profile.head(10))\n",
    "\n",
    "\n",
    "print(\"Missing values in portfolio data:\")\n",
    "display(profile.isna().sum()/len(profile))\n",
    "print(\"Missing values in age column:\", len(profile[profile['age']==118])/ len(profile))\n",
    "\n",
    "display(profile.dtypes)\n",
    "\n",
    "for column in profile.select_dtypes(include=['object']).columns:\n",
    "    display(column, profile[column].value_counts())\n",
    "    \n",
    "for column in profile.select_dtypes(include=['int64']).columns:\n",
    "    display(column, profile[column].describe())\n",
    "\n",
    "\n",
    "## missing values in gender and income\n",
    "## Became member should be date:\n",
    "\n",
    "profile['became_member_on'] = pd.to_datetime(profile['became_member_on'], format = '%Y%m%d')"
   ]
  },
  {
   "cell_type": "code",
   "execution_count": null,
   "metadata": {},
   "outputs": [],
   "source": []
  },
  {
   "cell_type": "markdown",
   "metadata": {},
   "source": [
    "### 3. Trancsript data - records for transactions, offers received, offers viewed, and offers completed"
   ]
  },
  {
   "cell_type": "code",
   "execution_count": 25,
   "metadata": {},
   "outputs": [
    {
     "name": "stdout",
     "output_type": "stream",
     "text": [
      "length of dataset: 306534\n"
     ]
    },
    {
     "data": {
      "text/html": [
       "<div>\n",
       "<style scoped>\n",
       "    .dataframe tbody tr th:only-of-type {\n",
       "        vertical-align: middle;\n",
       "    }\n",
       "\n",
       "    .dataframe tbody tr th {\n",
       "        vertical-align: top;\n",
       "    }\n",
       "\n",
       "    .dataframe thead th {\n",
       "        text-align: right;\n",
       "    }\n",
       "</style>\n",
       "<table border=\"1\" class=\"dataframe\">\n",
       "  <thead>\n",
       "    <tr style=\"text-align: right;\">\n",
       "      <th></th>\n",
       "      <th>person</th>\n",
       "      <th>event</th>\n",
       "      <th>value</th>\n",
       "      <th>time</th>\n",
       "    </tr>\n",
       "  </thead>\n",
       "  <tbody>\n",
       "    <tr>\n",
       "      <th>0</th>\n",
       "      <td>78afa995795e4d85b5d9ceeca43f5fef</td>\n",
       "      <td>offer received</td>\n",
       "      <td>{'offer id': '9b98b8c7a33c4b65b9aebfe6a799e6d9'}</td>\n",
       "      <td>0</td>\n",
       "    </tr>\n",
       "    <tr>\n",
       "      <th>1</th>\n",
       "      <td>a03223e636434f42ac4c3df47e8bac43</td>\n",
       "      <td>offer received</td>\n",
       "      <td>{'offer id': '0b1e1539f2cc45b7b9fa7c272da2e1d7'}</td>\n",
       "      <td>0</td>\n",
       "    </tr>\n",
       "    <tr>\n",
       "      <th>2</th>\n",
       "      <td>e2127556f4f64592b11af22de27a7932</td>\n",
       "      <td>offer received</td>\n",
       "      <td>{'offer id': '2906b810c7d4411798c6938adc9daaa5'}</td>\n",
       "      <td>0</td>\n",
       "    </tr>\n",
       "    <tr>\n",
       "      <th>3</th>\n",
       "      <td>8ec6ce2a7e7949b1bf142def7d0e0586</td>\n",
       "      <td>offer received</td>\n",
       "      <td>{'offer id': 'fafdcd668e3743c1bb461111dcafc2a4'}</td>\n",
       "      <td>0</td>\n",
       "    </tr>\n",
       "    <tr>\n",
       "      <th>4</th>\n",
       "      <td>68617ca6246f4fbc85e91a2a49552598</td>\n",
       "      <td>offer received</td>\n",
       "      <td>{'offer id': '4d5c57ea9a6940dd891ad53e9dbe8da0'}</td>\n",
       "      <td>0</td>\n",
       "    </tr>\n",
       "  </tbody>\n",
       "</table>\n",
       "</div>"
      ],
      "text/plain": [
       "                             person           event  \\\n",
       "0  78afa995795e4d85b5d9ceeca43f5fef  offer received   \n",
       "1  a03223e636434f42ac4c3df47e8bac43  offer received   \n",
       "2  e2127556f4f64592b11af22de27a7932  offer received   \n",
       "3  8ec6ce2a7e7949b1bf142def7d0e0586  offer received   \n",
       "4  68617ca6246f4fbc85e91a2a49552598  offer received   \n",
       "\n",
       "                                              value  time  \n",
       "0  {'offer id': '9b98b8c7a33c4b65b9aebfe6a799e6d9'}     0  \n",
       "1  {'offer id': '0b1e1539f2cc45b7b9fa7c272da2e1d7'}     0  \n",
       "2  {'offer id': '2906b810c7d4411798c6938adc9daaa5'}     0  \n",
       "3  {'offer id': 'fafdcd668e3743c1bb461111dcafc2a4'}     0  \n",
       "4  {'offer id': '4d5c57ea9a6940dd891ad53e9dbe8da0'}     0  "
      ]
     },
     "metadata": {},
     "output_type": "display_data"
    },
    {
     "name": "stdout",
     "output_type": "stream",
     "text": [
      "Missing values in portfolio data:\n"
     ]
    },
    {
     "data": {
      "text/plain": [
       "person    0\n",
       "event     0\n",
       "value     0\n",
       "time      0\n",
       "dtype: int64"
      ]
     },
     "metadata": {},
     "output_type": "display_data"
    },
    {
     "data": {
      "text/plain": [
       "person    object\n",
       "event     object\n",
       "value     object\n",
       "time       int64\n",
       "dtype: object"
      ]
     },
     "metadata": {},
     "output_type": "display_data"
    },
    {
     "name": "stdout",
     "output_type": "stream",
     "text": [
      "person\n"
     ]
    },
    {
     "data": {
      "text/plain": [
       "94de646f7b6041228ca7dec82adb97d2    51\n",
       "8dbfa485249f409aa223a2130f40634a    49\n",
       "79d9d4f86aca4bed9290350fb43817c2    48\n",
       "5e60c6aa3b834e44b822ea43a3efea26    48\n",
       "d0a80415b84c4df4908b8403b19765e3    48\n",
       "                                    ..\n",
       "e63e42480aae4ede9f07cac49c8c3f78     2\n",
       "fccc9279ba56411f80ffe8ce7e0935cd     2\n",
       "3a4e53046c544134bb1e7782248631d1     2\n",
       "afd41b230f924f9ca8f5ed6249616114     2\n",
       "da7a7c0dcfcb41a8acc7864a53cf60fb     1\n",
       "Name: person, Length: 17000, dtype: int64"
      ]
     },
     "metadata": {},
     "output_type": "display_data"
    },
    {
     "name": "stdout",
     "output_type": "stream",
     "text": [
      "event\n"
     ]
    },
    {
     "data": {
      "text/plain": [
       "transaction        138953\n",
       "offer received      76277\n",
       "offer viewed        57725\n",
       "offer completed     33579\n",
       "Name: event, dtype: int64"
      ]
     },
     "metadata": {},
     "output_type": "display_data"
    },
    {
     "name": "stdout",
     "output_type": "stream",
     "text": [
      "value\n"
     ]
    },
    {
     "ename": "TypeError",
     "evalue": "unhashable type: 'dict'",
     "output_type": "error",
     "traceback": [
      "\u001b[0;31m---------------------------------------------------------------------------\u001b[0m",
      "\u001b[0;31mTypeError\u001b[0m                                 Traceback (most recent call last)",
      "\u001b[0;32mpandas/_libs/hashtable_class_helper.pxi\u001b[0m in \u001b[0;36mpandas._libs.hashtable.PyObjectHashTable.map_locations\u001b[0;34m()\u001b[0m\n",
      "\u001b[0;31mTypeError\u001b[0m: unhashable type: 'dict'"
     ]
    },
    {
     "name": "stderr",
     "output_type": "stream",
     "text": [
      "Exception ignored in: 'pandas._libs.index.IndexEngine._call_map_locations'\n",
      "Traceback (most recent call last):\n",
      "  File \"pandas/_libs/hashtable_class_helper.pxi\", line 1653, in pandas._libs.hashtable.PyObjectHashTable.map_locations\n",
      "TypeError: unhashable type: 'dict'\n"
     ]
    },
    {
     "data": {
      "text/plain": [
       "{'offer id': '2298d6c36e964ae4a3e7e9706d1fb8c2'}    14983\n",
       "{'offer id': 'fafdcd668e3743c1bb461111dcafc2a4'}    14924\n",
       "{'offer id': '4d5c57ea9a6940dd891ad53e9dbe8da0'}    14891\n",
       "{'offer id': 'f19421c1d4aa40978ebb69ca19b0e20d'}    14835\n",
       "{'offer id': 'ae264e3637204a6fb9bb56bc8210ddfd'}    14374\n",
       "                                                    ...  \n",
       "{'amount': 439.14}                                      1\n",
       "{'amount': 42.75}                                       1\n",
       "{'amount': 650.75}                                      1\n",
       "{'amount': 943.4}                                       1\n",
       "{'amount': 44.21}                                       1\n",
       "Name: value, Length: 5121, dtype: int64"
      ]
     },
     "metadata": {},
     "output_type": "display_data"
    },
    {
     "data": {
      "text/html": [
       "<div>\n",
       "<style scoped>\n",
       "    .dataframe tbody tr th:only-of-type {\n",
       "        vertical-align: middle;\n",
       "    }\n",
       "\n",
       "    .dataframe tbody tr th {\n",
       "        vertical-align: top;\n",
       "    }\n",
       "\n",
       "    .dataframe thead th {\n",
       "        text-align: right;\n",
       "    }\n",
       "</style>\n",
       "<table border=\"1\" class=\"dataframe\">\n",
       "  <thead>\n",
       "    <tr style=\"text-align: right;\">\n",
       "      <th></th>\n",
       "      <th>time</th>\n",
       "    </tr>\n",
       "  </thead>\n",
       "  <tbody>\n",
       "    <tr>\n",
       "      <th>count</th>\n",
       "      <td>306534.000000</td>\n",
       "    </tr>\n",
       "    <tr>\n",
       "      <th>mean</th>\n",
       "      <td>366.382940</td>\n",
       "    </tr>\n",
       "    <tr>\n",
       "      <th>std</th>\n",
       "      <td>200.326314</td>\n",
       "    </tr>\n",
       "    <tr>\n",
       "      <th>min</th>\n",
       "      <td>0.000000</td>\n",
       "    </tr>\n",
       "    <tr>\n",
       "      <th>25%</th>\n",
       "      <td>186.000000</td>\n",
       "    </tr>\n",
       "    <tr>\n",
       "      <th>50%</th>\n",
       "      <td>408.000000</td>\n",
       "    </tr>\n",
       "    <tr>\n",
       "      <th>75%</th>\n",
       "      <td>528.000000</td>\n",
       "    </tr>\n",
       "    <tr>\n",
       "      <th>max</th>\n",
       "      <td>714.000000</td>\n",
       "    </tr>\n",
       "  </tbody>\n",
       "</table>\n",
       "</div>"
      ],
      "text/plain": [
       "                time\n",
       "count  306534.000000\n",
       "mean      366.382940\n",
       "std       200.326314\n",
       "min         0.000000\n",
       "25%       186.000000\n",
       "50%       408.000000\n",
       "75%       528.000000\n",
       "max       714.000000"
      ]
     },
     "metadata": {},
     "output_type": "display_data"
    }
   ],
   "source": [
    "print(\"length of dataset:\", len(transcript))\n",
    "display(transcript.head(5))\n",
    "\n",
    "\n",
    "print(\"Missing values in portfolio data:\")\n",
    "display(transcript.isna().sum())\n",
    "\n",
    "display(transcript.dtypes)\n",
    "\n",
    "for column in transcript.select_dtypes(include=['object']).columns:\n",
    "    print(column)\n",
    "    display(transcript[column].value_counts())\n",
    "\n",
    "display(transcript.describe())"
   ]
  },
  {
   "cell_type": "code",
   "execution_count": null,
   "metadata": {},
   "outputs": [],
   "source": []
  },
  {
   "cell_type": "code",
   "execution_count": null,
   "metadata": {},
   "outputs": [],
   "source": []
  },
  {
   "cell_type": "code",
   "execution_count": null,
   "metadata": {},
   "outputs": [],
   "source": []
  },
  {
   "cell_type": "code",
   "execution_count": null,
   "metadata": {},
   "outputs": [],
   "source": []
  },
  {
   "cell_type": "markdown",
   "metadata": {},
   "source": [
    "## Preprocess transcript data"
   ]
  },
  {
   "cell_type": "code",
   "execution_count": 555,
   "metadata": {},
   "outputs": [],
   "source": [
    "# Turn json into dummy columns\n",
    "transcript = transcript.join(pd.json_normalize(transcript['value'])).drop(columns = ['value'])"
   ]
  },
  {
   "cell_type": "code",
   "execution_count": 556,
   "metadata": {},
   "outputs": [
    {
     "data": {
      "text/plain": [
       "person      0.000000\n",
       "event       0.000000\n",
       "time        0.000000\n",
       "offer id    0.562848\n",
       "amount      0.546696\n",
       "offer_id    0.890456\n",
       "reward      0.890456\n",
       "dtype: float64"
      ]
     },
     "metadata": {},
     "output_type": "display_data"
    }
   ],
   "source": [
    "# Check missing values again\n",
    "\n",
    "display(transcript.isna().sum()/len(transcript))"
   ]
  },
  {
   "cell_type": "code",
   "execution_count": 557,
   "metadata": {},
   "outputs": [],
   "source": [
    "transcript['offer id'] = transcript['offer id'].fillna(transcript.offer_id)\n",
    "transcript.drop(columns = 'offer_id', inplace = True)\n",
    "transcript = transcript.rename(columns={\"offer id\": \"offer_id\"})"
   ]
  },
  {
   "cell_type": "code",
   "execution_count": 558,
   "metadata": {},
   "outputs": [],
   "source": [
    "transcript = transcript.reset_index()\n",
    "transcript = transcript.join(pd.get_dummies(transcript['event']))"
   ]
  },
  {
   "cell_type": "code",
   "execution_count": 553,
   "metadata": {},
   "outputs": [],
   "source": []
  },
  {
   "cell_type": "code",
   "execution_count": 559,
   "metadata": {},
   "outputs": [],
   "source": [
    "### Marking transactions that were bought with offer\n",
    "\n",
    "# First sort the dataframe\n",
    "transcript = transcript.sort_values(['person', 'index', 'time'])\n",
    "transcript['offer_id_filled'] = np.where((transcript['offer completed']==1), transcript['offer_id'], np.nan)\n",
    "transcript['offer_id_viewed'] = np.where((transcript['offer viewed']==1), transcript['offer_id'], np.nan)\n",
    "\n",
    "\n",
    "transcript['offer_viewed_trans'] = transcript['offer viewed'].replace(to_replace=0, method='ffill', limit = 1)\n",
    "\n",
    "# hard cut 20 transactions after offer\n",
    "m1 = transcript['transaction']==1\n",
    "transcript.loc[m1, 'offer_id_viewed'] = transcript['offer_id_viewed'].fillna(method='ffill', limit = 20)\n",
    "\n",
    "\n",
    "\n",
    "# Make sure that offer was viewed before transaction so transaction qualifies\n",
    "m2 = transcript['offer_viewed_trans'].isnull()==False\n",
    "transcript.loc[m2, 'offer_id_filled'] = transcript['offer_id_filled'].fillna(method='bfill', limit = 1)\n",
    "\n",
    "transcript['offer_id_final'] = np.where((transcript['offer_id_filled']==transcript['offer_id_viewed']), transcript['offer_id_filled'], np.nan)\n",
    "\n",
    "# Also keep transactions after an informational offer without monetary reward\n",
    "info_offers = portfolio[portfolio['offer_type']=='informational']['id'].unique()\n",
    "transcript['offer_id_final'] = np.where(((transcript['offer_id_viewed'].isnull() == False) & (transcript['offer_id_viewed'].isin(info_offers))), transcript['offer_id_filled'], np.nan)\n",
    "\n",
    "transcript['offer_id_final'].fillna(transcript['offer_id'], inplace = True)\n",
    "transcript.drop(columns = 'offer_id', inplace = True)\n",
    "transcript = transcript.rename(columns={'offer_id_final':'offer_id'})\n"
   ]
  },
  {
   "cell_type": "code",
   "execution_count": 560,
   "metadata": {},
   "outputs": [
    {
     "data": {
      "text/html": [
       "<div>\n",
       "<style scoped>\n",
       "    .dataframe tbody tr th:only-of-type {\n",
       "        vertical-align: middle;\n",
       "    }\n",
       "\n",
       "    .dataframe tbody tr th {\n",
       "        vertical-align: top;\n",
       "    }\n",
       "\n",
       "    .dataframe thead th {\n",
       "        text-align: right;\n",
       "    }\n",
       "</style>\n",
       "<table border=\"1\" class=\"dataframe\">\n",
       "  <thead>\n",
       "    <tr style=\"text-align: right;\">\n",
       "      <th></th>\n",
       "      <th>index</th>\n",
       "      <th>person</th>\n",
       "      <th>event</th>\n",
       "      <th>time</th>\n",
       "      <th>amount</th>\n",
       "      <th>reward</th>\n",
       "      <th>offer completed</th>\n",
       "      <th>offer received</th>\n",
       "      <th>offer viewed</th>\n",
       "      <th>transaction</th>\n",
       "      <th>offer_id_filled</th>\n",
       "      <th>offer_id_viewed</th>\n",
       "      <th>offer_viewed_trans</th>\n",
       "      <th>offer_id</th>\n",
       "    </tr>\n",
       "  </thead>\n",
       "  <tbody>\n",
       "    <tr>\n",
       "      <th>52423</th>\n",
       "      <td>52423</td>\n",
       "      <td>0069a50874d846438e58acff5e594725</td>\n",
       "      <td>transaction</td>\n",
       "      <td>162</td>\n",
       "      <td>16.20</td>\n",
       "      <td>NaN</td>\n",
       "      <td>0</td>\n",
       "      <td>0</td>\n",
       "      <td>0</td>\n",
       "      <td>1</td>\n",
       "      <td>NaN</td>\n",
       "      <td>0b1e1539f2cc45b7b9fa7c272da2e1d7</td>\n",
       "      <td>1</td>\n",
       "      <td>NaN</td>\n",
       "    </tr>\n",
       "    <tr>\n",
       "      <th>113176</th>\n",
       "      <td>113176</td>\n",
       "      <td>0069a50874d846438e58acff5e594725</td>\n",
       "      <td>offer received</td>\n",
       "      <td>336</td>\n",
       "      <td>NaN</td>\n",
       "      <td>NaN</td>\n",
       "      <td>0</td>\n",
       "      <td>1</td>\n",
       "      <td>0</td>\n",
       "      <td>0</td>\n",
       "      <td>NaN</td>\n",
       "      <td>NaN</td>\n",
       "      <td>0</td>\n",
       "      <td>0b1e1539f2cc45b7b9fa7c272da2e1d7</td>\n",
       "    </tr>\n",
       "    <tr>\n",
       "      <th>147540</th>\n",
       "      <td>147540</td>\n",
       "      <td>0069a50874d846438e58acff5e594725</td>\n",
       "      <td>transaction</td>\n",
       "      <td>396</td>\n",
       "      <td>0.60</td>\n",
       "      <td>NaN</td>\n",
       "      <td>0</td>\n",
       "      <td>0</td>\n",
       "      <td>0</td>\n",
       "      <td>1</td>\n",
       "      <td>NaN</td>\n",
       "      <td>0b1e1539f2cc45b7b9fa7c272da2e1d7</td>\n",
       "      <td>0</td>\n",
       "      <td>NaN</td>\n",
       "    </tr>\n",
       "    <tr>\n",
       "      <th>152967</th>\n",
       "      <td>152967</td>\n",
       "      <td>0069a50874d846438e58acff5e594725</td>\n",
       "      <td>offer received</td>\n",
       "      <td>408</td>\n",
       "      <td>NaN</td>\n",
       "      <td>NaN</td>\n",
       "      <td>0</td>\n",
       "      <td>1</td>\n",
       "      <td>0</td>\n",
       "      <td>0</td>\n",
       "      <td>NaN</td>\n",
       "      <td>NaN</td>\n",
       "      <td>0</td>\n",
       "      <td>3f207df678b143eea3cee63160fa8bed</td>\n",
       "    </tr>\n",
       "    <tr>\n",
       "      <th>180415</th>\n",
       "      <td>180415</td>\n",
       "      <td>0069a50874d846438e58acff5e594725</td>\n",
       "      <td>transaction</td>\n",
       "      <td>438</td>\n",
       "      <td>3.61</td>\n",
       "      <td>NaN</td>\n",
       "      <td>0</td>\n",
       "      <td>0</td>\n",
       "      <td>0</td>\n",
       "      <td>1</td>\n",
       "      <td>NaN</td>\n",
       "      <td>0b1e1539f2cc45b7b9fa7c272da2e1d7</td>\n",
       "      <td>0</td>\n",
       "      <td>NaN</td>\n",
       "    </tr>\n",
       "    <tr>\n",
       "      <th>203928</th>\n",
       "      <td>203928</td>\n",
       "      <td>0069a50874d846438e58acff5e594725</td>\n",
       "      <td>offer received</td>\n",
       "      <td>504</td>\n",
       "      <td>NaN</td>\n",
       "      <td>NaN</td>\n",
       "      <td>0</td>\n",
       "      <td>1</td>\n",
       "      <td>0</td>\n",
       "      <td>0</td>\n",
       "      <td>NaN</td>\n",
       "      <td>NaN</td>\n",
       "      <td>0</td>\n",
       "      <td>2906b810c7d4411798c6938adc9daaa5</td>\n",
       "    </tr>\n",
       "    <tr>\n",
       "      <th>237730</th>\n",
       "      <td>237730</td>\n",
       "      <td>0069a50874d846438e58acff5e594725</td>\n",
       "      <td>offer viewed</td>\n",
       "      <td>552</td>\n",
       "      <td>NaN</td>\n",
       "      <td>NaN</td>\n",
       "      <td>0</td>\n",
       "      <td>0</td>\n",
       "      <td>1</td>\n",
       "      <td>0</td>\n",
       "      <td>NaN</td>\n",
       "      <td>2906b810c7d4411798c6938adc9daaa5</td>\n",
       "      <td>1</td>\n",
       "      <td>2906b810c7d4411798c6938adc9daaa5</td>\n",
       "    </tr>\n",
       "    <tr>\n",
       "      <th>247454</th>\n",
       "      <td>247454</td>\n",
       "      <td>0069a50874d846438e58acff5e594725</td>\n",
       "      <td>offer received</td>\n",
       "      <td>576</td>\n",
       "      <td>NaN</td>\n",
       "      <td>NaN</td>\n",
       "      <td>0</td>\n",
       "      <td>1</td>\n",
       "      <td>0</td>\n",
       "      <td>0</td>\n",
       "      <td>NaN</td>\n",
       "      <td>NaN</td>\n",
       "      <td>1</td>\n",
       "      <td>2906b810c7d4411798c6938adc9daaa5</td>\n",
       "    </tr>\n",
       "    <tr>\n",
       "      <th>279923</th>\n",
       "      <td>279923</td>\n",
       "      <td>0069a50874d846438e58acff5e594725</td>\n",
       "      <td>transaction</td>\n",
       "      <td>618</td>\n",
       "      <td>5.12</td>\n",
       "      <td>NaN</td>\n",
       "      <td>0</td>\n",
       "      <td>0</td>\n",
       "      <td>0</td>\n",
       "      <td>1</td>\n",
       "      <td>NaN</td>\n",
       "      <td>2906b810c7d4411798c6938adc9daaa5</td>\n",
       "      <td>0</td>\n",
       "      <td>NaN</td>\n",
       "    </tr>\n",
       "    <tr>\n",
       "      <th>302172</th>\n",
       "      <td>302172</td>\n",
       "      <td>0069a50874d846438e58acff5e594725</td>\n",
       "      <td>transaction</td>\n",
       "      <td>696</td>\n",
       "      <td>7.97</td>\n",
       "      <td>NaN</td>\n",
       "      <td>0</td>\n",
       "      <td>0</td>\n",
       "      <td>0</td>\n",
       "      <td>1</td>\n",
       "      <td>2906b810c7d4411798c6938adc9daaa5</td>\n",
       "      <td>2906b810c7d4411798c6938adc9daaa5</td>\n",
       "      <td>0</td>\n",
       "      <td>NaN</td>\n",
       "    </tr>\n",
       "    <tr>\n",
       "      <th>302173</th>\n",
       "      <td>302173</td>\n",
       "      <td>0069a50874d846438e58acff5e594725</td>\n",
       "      <td>offer completed</td>\n",
       "      <td>696</td>\n",
       "      <td>NaN</td>\n",
       "      <td>2.0</td>\n",
       "      <td>1</td>\n",
       "      <td>0</td>\n",
       "      <td>0</td>\n",
       "      <td>0</td>\n",
       "      <td>2906b810c7d4411798c6938adc9daaa5</td>\n",
       "      <td>NaN</td>\n",
       "      <td>0</td>\n",
       "      <td>2906b810c7d4411798c6938adc9daaa5</td>\n",
       "    </tr>\n",
       "  </tbody>\n",
       "</table>\n",
       "</div>"
      ],
      "text/plain": [
       "         index                            person            event  time  amount  reward  offer completed  offer received  offer viewed  transaction                   offer_id_filled                   offer_id_viewed  offer_viewed_trans                          offer_id\n",
       "52423    52423  0069a50874d846438e58acff5e594725      transaction   162   16.20     NaN                0               0             0            1                               NaN  0b1e1539f2cc45b7b9fa7c272da2e1d7                   1                               NaN\n",
       "113176  113176  0069a50874d846438e58acff5e594725   offer received   336     NaN     NaN                0               1             0            0                               NaN                               NaN                   0  0b1e1539f2cc45b7b9fa7c272da2e1d7\n",
       "147540  147540  0069a50874d846438e58acff5e594725      transaction   396    0.60     NaN                0               0             0            1                               NaN  0b1e1539f2cc45b7b9fa7c272da2e1d7                   0                               NaN\n",
       "152967  152967  0069a50874d846438e58acff5e594725   offer received   408     NaN     NaN                0               1             0            0                               NaN                               NaN                   0  3f207df678b143eea3cee63160fa8bed\n",
       "180415  180415  0069a50874d846438e58acff5e594725      transaction   438    3.61     NaN                0               0             0            1                               NaN  0b1e1539f2cc45b7b9fa7c272da2e1d7                   0                               NaN\n",
       "203928  203928  0069a50874d846438e58acff5e594725   offer received   504     NaN     NaN                0               1             0            0                               NaN                               NaN                   0  2906b810c7d4411798c6938adc9daaa5\n",
       "237730  237730  0069a50874d846438e58acff5e594725     offer viewed   552     NaN     NaN                0               0             1            0                               NaN  2906b810c7d4411798c6938adc9daaa5                   1  2906b810c7d4411798c6938adc9daaa5\n",
       "247454  247454  0069a50874d846438e58acff5e594725   offer received   576     NaN     NaN                0               1             0            0                               NaN                               NaN                   1  2906b810c7d4411798c6938adc9daaa5\n",
       "279923  279923  0069a50874d846438e58acff5e594725      transaction   618    5.12     NaN                0               0             0            1                               NaN  2906b810c7d4411798c6938adc9daaa5                   0                               NaN\n",
       "302172  302172  0069a50874d846438e58acff5e594725      transaction   696    7.97     NaN                0               0             0            1  2906b810c7d4411798c6938adc9daaa5  2906b810c7d4411798c6938adc9daaa5                   0                               NaN\n",
       "302173  302173  0069a50874d846438e58acff5e594725  offer completed   696     NaN     2.0                1               0             0            0  2906b810c7d4411798c6938adc9daaa5                               NaN                   0  2906b810c7d4411798c6938adc9daaa5"
      ]
     },
     "execution_count": 560,
     "metadata": {},
     "output_type": "execute_result"
    }
   ],
   "source": [
    "# Check example\n",
    "transcript[transcript['person'] == '0069a50874d846438e58acff5e594725'] "
   ]
  },
  {
   "cell_type": "code",
   "execution_count": 561,
   "metadata": {},
   "outputs": [
    {
     "name": "stdout",
     "output_type": "stream",
     "text": [
      "number of transactions with negative amount values: 37\n"
     ]
    }
   ],
   "source": [
    "## Should reward be removed from order amount?\n",
    "\n",
    "\n",
    "df_amount = transcript.groupby(['person', 'time','offer_id']).agg({'amount':'sum', 'reward':'sum', 'transaction':'sum'}).reset_index()\n",
    "df_amount['order_value'] = df_amount['amount'] - df_amount['reward']\n",
    "print(\"number of transactions with negative amount values:\", len(df_amount[(df_amount['order_value']<0) & (df_amount['transaction']==1)]))\n",
    "\n",
    "## As there are negative values I assume that amount already excludes reward\n",
    "# transcript = transcript.merge(df_amount[['person','time','order_value']], on = ['person','time'], how = 'left')"
   ]
  },
  {
   "cell_type": "code",
   "execution_count": null,
   "metadata": {},
   "outputs": [],
   "source": []
  },
  {
   "cell_type": "markdown",
   "metadata": {},
   "source": [
    "## Join portfolio dataframe"
   ]
  },
  {
   "cell_type": "code",
   "execution_count": 562,
   "metadata": {},
   "outputs": [],
   "source": [
    "### Join portfolio dataframe\n",
    "\n",
    "transcript = transcript.merge(portfolio, right_on = 'id', left_on = 'offer_id', how = 'left')\n"
   ]
  },
  {
   "cell_type": "markdown",
   "metadata": {},
   "source": [
    "#### Check for non-qualifying discounts and remove"
   ]
  },
  {
   "cell_type": "code",
   "execution_count": 563,
   "metadata": {},
   "outputs": [
    {
     "name": "stdout",
     "output_type": "stream",
     "text": [
      "number of non-qualifying purchases: 226\n",
      "percentage of non-qualifying purchases: 0.07372754735200662 %\n"
     ]
    },
    {
     "data": {
      "text/html": [
       "<div>\n",
       "<style scoped>\n",
       "    .dataframe tbody tr th:only-of-type {\n",
       "        vertical-align: middle;\n",
       "    }\n",
       "\n",
       "    .dataframe tbody tr th {\n",
       "        vertical-align: top;\n",
       "    }\n",
       "\n",
       "    .dataframe thead th {\n",
       "        text-align: right;\n",
       "    }\n",
       "</style>\n",
       "<table border=\"1\" class=\"dataframe\">\n",
       "  <thead>\n",
       "    <tr style=\"text-align: right;\">\n",
       "      <th></th>\n",
       "      <th>index</th>\n",
       "      <th>person</th>\n",
       "      <th>event</th>\n",
       "      <th>time</th>\n",
       "      <th>amount</th>\n",
       "      <th>reward_x</th>\n",
       "      <th>offer completed</th>\n",
       "      <th>offer received</th>\n",
       "      <th>offer viewed</th>\n",
       "      <th>transaction</th>\n",
       "      <th>offer_id_filled</th>\n",
       "      <th>offer_id_viewed</th>\n",
       "      <th>offer_viewed_trans</th>\n",
       "      <th>offer_id</th>\n",
       "      <th>reward_y</th>\n",
       "      <th>channels</th>\n",
       "      <th>difficulty</th>\n",
       "      <th>duration</th>\n",
       "      <th>offer_type</th>\n",
       "      <th>id</th>\n",
       "    </tr>\n",
       "  </thead>\n",
       "  <tbody>\n",
       "    <tr>\n",
       "      <th>99</th>\n",
       "      <td>144667</td>\n",
       "      <td>003d66b6608740288d6cc97a6903f4f0</td>\n",
       "      <td>transaction</td>\n",
       "      <td>384</td>\n",
       "      <td>3.66</td>\n",
       "      <td>NaN</td>\n",
       "      <td>0</td>\n",
       "      <td>0</td>\n",
       "      <td>0</td>\n",
       "      <td>1</td>\n",
       "      <td>fafdcd668e3743c1bb461111dcafc2a4</td>\n",
       "      <td>3f207df678b143eea3cee63160fa8bed</td>\n",
       "      <td>1</td>\n",
       "      <td>fafdcd668e3743c1bb461111dcafc2a4</td>\n",
       "      <td>2.0</td>\n",
       "      <td>[web, email, mobile, social]</td>\n",
       "      <td>10.0</td>\n",
       "      <td>10.0</td>\n",
       "      <td>discount</td>\n",
       "      <td>fafdcd668e3743c1bb461111dcafc2a4</td>\n",
       "    </tr>\n",
       "    <tr>\n",
       "      <th>895</th>\n",
       "      <td>283939</td>\n",
       "      <td>00e52682848542c3a6f59b7824e9a5c5</td>\n",
       "      <td>transaction</td>\n",
       "      <td>624</td>\n",
       "      <td>7.32</td>\n",
       "      <td>NaN</td>\n",
       "      <td>0</td>\n",
       "      <td>0</td>\n",
       "      <td>0</td>\n",
       "      <td>1</td>\n",
       "      <td>0b1e1539f2cc45b7b9fa7c272da2e1d7</td>\n",
       "      <td>5a8bc65990b245e5a138643cd4eb9837</td>\n",
       "      <td>0</td>\n",
       "      <td>0b1e1539f2cc45b7b9fa7c272da2e1d7</td>\n",
       "      <td>5.0</td>\n",
       "      <td>[web, email]</td>\n",
       "      <td>20.0</td>\n",
       "      <td>10.0</td>\n",
       "      <td>discount</td>\n",
       "      <td>0b1e1539f2cc45b7b9fa7c272da2e1d7</td>\n",
       "    </tr>\n",
       "    <tr>\n",
       "      <th>924</th>\n",
       "      <td>179059</td>\n",
       "      <td>00e9f403afa641889cd034ee7c7ca6e9</td>\n",
       "      <td>transaction</td>\n",
       "      <td>432</td>\n",
       "      <td>12.36</td>\n",
       "      <td>NaN</td>\n",
       "      <td>0</td>\n",
       "      <td>0</td>\n",
       "      <td>0</td>\n",
       "      <td>1</td>\n",
       "      <td>0b1e1539f2cc45b7b9fa7c272da2e1d7</td>\n",
       "      <td>5a8bc65990b245e5a138643cd4eb9837</td>\n",
       "      <td>0</td>\n",
       "      <td>0b1e1539f2cc45b7b9fa7c272da2e1d7</td>\n",
       "      <td>5.0</td>\n",
       "      <td>[web, email]</td>\n",
       "      <td>20.0</td>\n",
       "      <td>10.0</td>\n",
       "      <td>discount</td>\n",
       "      <td>0b1e1539f2cc45b7b9fa7c272da2e1d7</td>\n",
       "    </tr>\n",
       "    <tr>\n",
       "      <th>1091</th>\n",
       "      <td>142787</td>\n",
       "      <td>01162252405b4524a8fa1bf8e6d5f04b</td>\n",
       "      <td>transaction</td>\n",
       "      <td>378</td>\n",
       "      <td>9.06</td>\n",
       "      <td>NaN</td>\n",
       "      <td>0</td>\n",
       "      <td>0</td>\n",
       "      <td>0</td>\n",
       "      <td>1</td>\n",
       "      <td>0b1e1539f2cc45b7b9fa7c272da2e1d7</td>\n",
       "      <td>5a8bc65990b245e5a138643cd4eb9837</td>\n",
       "      <td>0</td>\n",
       "      <td>0b1e1539f2cc45b7b9fa7c272da2e1d7</td>\n",
       "      <td>5.0</td>\n",
       "      <td>[web, email]</td>\n",
       "      <td>20.0</td>\n",
       "      <td>10.0</td>\n",
       "      <td>discount</td>\n",
       "      <td>0b1e1539f2cc45b7b9fa7c272da2e1d7</td>\n",
       "    </tr>\n",
       "    <tr>\n",
       "      <th>1496</th>\n",
       "      <td>108915</td>\n",
       "      <td>016edb1d1d67477391c5337545a5d98a</td>\n",
       "      <td>transaction</td>\n",
       "      <td>318</td>\n",
       "      <td>14.94</td>\n",
       "      <td>NaN</td>\n",
       "      <td>0</td>\n",
       "      <td>0</td>\n",
       "      <td>0</td>\n",
       "      <td>1</td>\n",
       "      <td>0b1e1539f2cc45b7b9fa7c272da2e1d7</td>\n",
       "      <td>3f207df678b143eea3cee63160fa8bed</td>\n",
       "      <td>0</td>\n",
       "      <td>0b1e1539f2cc45b7b9fa7c272da2e1d7</td>\n",
       "      <td>5.0</td>\n",
       "      <td>[web, email]</td>\n",
       "      <td>20.0</td>\n",
       "      <td>10.0</td>\n",
       "      <td>discount</td>\n",
       "      <td>0b1e1539f2cc45b7b9fa7c272da2e1d7</td>\n",
       "    </tr>\n",
       "  </tbody>\n",
       "</table>\n",
       "</div>"
      ],
      "text/plain": [
       "       index                            person        event  time  amount  reward_x  offer completed  offer received  offer viewed  transaction                   offer_id_filled                   offer_id_viewed  offer_viewed_trans                          offer_id  reward_y                      channels  difficulty  duration offer_type                                id\n",
       "99    144667  003d66b6608740288d6cc97a6903f4f0  transaction   384    3.66       NaN                0               0             0            1  fafdcd668e3743c1bb461111dcafc2a4  3f207df678b143eea3cee63160fa8bed                   1  fafdcd668e3743c1bb461111dcafc2a4       2.0  [web, email, mobile, social]        10.0      10.0   discount  fafdcd668e3743c1bb461111dcafc2a4\n",
       "895   283939  00e52682848542c3a6f59b7824e9a5c5  transaction   624    7.32       NaN                0               0             0            1  0b1e1539f2cc45b7b9fa7c272da2e1d7  5a8bc65990b245e5a138643cd4eb9837                   0  0b1e1539f2cc45b7b9fa7c272da2e1d7       5.0                  [web, email]        20.0      10.0   discount  0b1e1539f2cc45b7b9fa7c272da2e1d7\n",
       "924   179059  00e9f403afa641889cd034ee7c7ca6e9  transaction   432   12.36       NaN                0               0             0            1  0b1e1539f2cc45b7b9fa7c272da2e1d7  5a8bc65990b245e5a138643cd4eb9837                   0  0b1e1539f2cc45b7b9fa7c272da2e1d7       5.0                  [web, email]        20.0      10.0   discount  0b1e1539f2cc45b7b9fa7c272da2e1d7\n",
       "1091  142787  01162252405b4524a8fa1bf8e6d5f04b  transaction   378    9.06       NaN                0               0             0            1  0b1e1539f2cc45b7b9fa7c272da2e1d7  5a8bc65990b245e5a138643cd4eb9837                   0  0b1e1539f2cc45b7b9fa7c272da2e1d7       5.0                  [web, email]        20.0      10.0   discount  0b1e1539f2cc45b7b9fa7c272da2e1d7\n",
       "1496  108915  016edb1d1d67477391c5337545a5d98a  transaction   318   14.94       NaN                0               0             0            1  0b1e1539f2cc45b7b9fa7c272da2e1d7  3f207df678b143eea3cee63160fa8bed                   0  0b1e1539f2cc45b7b9fa7c272da2e1d7       5.0                  [web, email]        20.0      10.0   discount  0b1e1539f2cc45b7b9fa7c272da2e1d7"
      ]
     },
     "metadata": {},
     "output_type": "display_data"
    }
   ],
   "source": [
    "# There are some strange observations that should be excluded. \n",
    "# It seems some customers received discounts although they did not qualify with their order value\n",
    "\n",
    "print(\"number of non-qualifying purchases:\", len(transcript[((transcript['amount'] + transcript['reward_y']) < transcript['difficulty']) & (transcript['offer_id'].isnull()==False)])\n",
    ")\n",
    "print(\"percentage of non-qualifying purchases:\",\n",
    "      len(transcript[((transcript['amount'] + transcript['reward_y']) < transcript['difficulty'])\n",
    "                     & (transcript['offer_id'].isnull()==False)]) / len(transcript['event'] == 'transaction') *100, \"%\")\n",
    "display(transcript[((transcript['amount'] + transcript['reward_y']) < transcript['difficulty']) & (transcript['offer_id'].isnull()==False)].head())\n",
    "\n",
    "# Observations will be excluded"
   ]
  },
  {
   "cell_type": "code",
   "execution_count": 564,
   "metadata": {},
   "outputs": [],
   "source": [
    "## Remove non-qualifying observations\n",
    "\n",
    "transcript = transcript[~(((transcript['amount'] + transcript['reward_y']) < transcript['difficulty'])\n",
    "                     & (transcript['offer_id'].isnull()==False))]"
   ]
  },
  {
   "cell_type": "code",
   "execution_count": 565,
   "metadata": {},
   "outputs": [
    {
     "data": {
      "text/plain": [
       "Index(['index', 'person', 'event', 'time', 'amount', 'reward_x', 'offer completed', 'offer received', 'offer viewed', 'transaction', 'offer_id_filled', 'offer_id_viewed', 'offer_viewed_trans', 'offer_id', 'reward_y', 'channels', 'difficulty', 'duration', 'offer_type', 'id'], dtype='object')"
      ]
     },
     "execution_count": 565,
     "metadata": {},
     "output_type": "execute_result"
    }
   ],
   "source": [
    "transcript.columns\n"
   ]
  },
  {
   "cell_type": "code",
   "execution_count": 566,
   "metadata": {},
   "outputs": [],
   "source": [
    "#### Drop unnecessary columns\n",
    "unnecess_cols = ['offer completed', 'offer received', 'offer viewed', 'transaction', 'offer_id_filled',\n",
    "                 'offer_id_viewed', 'offer_viewed_trans','reward_x', 'id']\n",
    "transcript = transcript.drop(columns = unnecess_cols)\n",
    "transcript['offer_id'].fillna('no_special_offer', inplace = True)\n",
    "transcript = transcript.rename(columns = {'reward_y':'potential_reward'})\n",
    "                             "
   ]
  },
  {
   "cell_type": "code",
   "execution_count": 567,
   "metadata": {},
   "outputs": [
    {
     "data": {
      "text/html": [
       "<div>\n",
       "<style scoped>\n",
       "    .dataframe tbody tr th:only-of-type {\n",
       "        vertical-align: middle;\n",
       "    }\n",
       "\n",
       "    .dataframe tbody tr th {\n",
       "        vertical-align: top;\n",
       "    }\n",
       "\n",
       "    .dataframe thead th {\n",
       "        text-align: right;\n",
       "    }\n",
       "</style>\n",
       "<table border=\"1\" class=\"dataframe\">\n",
       "  <thead>\n",
       "    <tr style=\"text-align: right;\">\n",
       "      <th></th>\n",
       "      <th>index</th>\n",
       "      <th>person</th>\n",
       "      <th>event</th>\n",
       "      <th>time</th>\n",
       "      <th>amount</th>\n",
       "      <th>offer_id</th>\n",
       "      <th>potential_reward</th>\n",
       "      <th>channels</th>\n",
       "      <th>difficulty</th>\n",
       "      <th>duration</th>\n",
       "      <th>offer_type</th>\n",
       "    </tr>\n",
       "  </thead>\n",
       "  <tbody>\n",
       "    <tr>\n",
       "      <th>0</th>\n",
       "      <td>55972</td>\n",
       "      <td>0009655768c64bdeb2e877511632db8f</td>\n",
       "      <td>offer received</td>\n",
       "      <td>168</td>\n",
       "      <td>NaN</td>\n",
       "      <td>5a8bc65990b245e5a138643cd4eb9837</td>\n",
       "      <td>0.0</td>\n",
       "      <td>[email, mobile, social]</td>\n",
       "      <td>0.0</td>\n",
       "      <td>3.0</td>\n",
       "      <td>informational</td>\n",
       "    </tr>\n",
       "    <tr>\n",
       "      <th>1</th>\n",
       "      <td>77705</td>\n",
       "      <td>0009655768c64bdeb2e877511632db8f</td>\n",
       "      <td>offer viewed</td>\n",
       "      <td>192</td>\n",
       "      <td>NaN</td>\n",
       "      <td>5a8bc65990b245e5a138643cd4eb9837</td>\n",
       "      <td>0.0</td>\n",
       "      <td>[email, mobile, social]</td>\n",
       "      <td>0.0</td>\n",
       "      <td>3.0</td>\n",
       "      <td>informational</td>\n",
       "    </tr>\n",
       "    <tr>\n",
       "      <th>2</th>\n",
       "      <td>89291</td>\n",
       "      <td>0009655768c64bdeb2e877511632db8f</td>\n",
       "      <td>transaction</td>\n",
       "      <td>228</td>\n",
       "      <td>22.16</td>\n",
       "      <td>no_special_offer</td>\n",
       "      <td>NaN</td>\n",
       "      <td>NaN</td>\n",
       "      <td>NaN</td>\n",
       "      <td>NaN</td>\n",
       "      <td>NaN</td>\n",
       "    </tr>\n",
       "    <tr>\n",
       "      <th>3</th>\n",
       "      <td>113605</td>\n",
       "      <td>0009655768c64bdeb2e877511632db8f</td>\n",
       "      <td>offer received</td>\n",
       "      <td>336</td>\n",
       "      <td>NaN</td>\n",
       "      <td>3f207df678b143eea3cee63160fa8bed</td>\n",
       "      <td>0.0</td>\n",
       "      <td>[web, email, mobile]</td>\n",
       "      <td>0.0</td>\n",
       "      <td>4.0</td>\n",
       "      <td>informational</td>\n",
       "    </tr>\n",
       "    <tr>\n",
       "      <th>4</th>\n",
       "      <td>139992</td>\n",
       "      <td>0009655768c64bdeb2e877511632db8f</td>\n",
       "      <td>offer viewed</td>\n",
       "      <td>372</td>\n",
       "      <td>NaN</td>\n",
       "      <td>3f207df678b143eea3cee63160fa8bed</td>\n",
       "      <td>0.0</td>\n",
       "      <td>[web, email, mobile]</td>\n",
       "      <td>0.0</td>\n",
       "      <td>4.0</td>\n",
       "      <td>informational</td>\n",
       "    </tr>\n",
       "  </tbody>\n",
       "</table>\n",
       "</div>"
      ],
      "text/plain": [
       "    index                            person           event  time  amount                          offer_id  potential_reward                 channels  difficulty  duration     offer_type\n",
       "0   55972  0009655768c64bdeb2e877511632db8f  offer received   168     NaN  5a8bc65990b245e5a138643cd4eb9837               0.0  [email, mobile, social]         0.0       3.0  informational\n",
       "1   77705  0009655768c64bdeb2e877511632db8f    offer viewed   192     NaN  5a8bc65990b245e5a138643cd4eb9837               0.0  [email, mobile, social]         0.0       3.0  informational\n",
       "2   89291  0009655768c64bdeb2e877511632db8f     transaction   228   22.16                  no_special_offer               NaN                      NaN         NaN       NaN            NaN\n",
       "3  113605  0009655768c64bdeb2e877511632db8f  offer received   336     NaN  3f207df678b143eea3cee63160fa8bed               0.0     [web, email, mobile]         0.0       4.0  informational\n",
       "4  139992  0009655768c64bdeb2e877511632db8f    offer viewed   372     NaN  3f207df678b143eea3cee63160fa8bed               0.0     [web, email, mobile]         0.0       4.0  informational"
      ]
     },
     "execution_count": 567,
     "metadata": {},
     "output_type": "execute_result"
    }
   ],
   "source": [
    "transcript['offer_id'].fillna('no_special_offer', inplace = True)\n",
    "transcript.head()"
   ]
  },
  {
   "cell_type": "markdown",
   "metadata": {},
   "source": [
    "## Merge demographic information"
   ]
  },
  {
   "cell_type": "code",
   "execution_count": 568,
   "metadata": {},
   "outputs": [],
   "source": [
    "\n",
    "transcript = transcript.merge(profile.rename(columns = {'id':'person'}), on = 'person', how = 'left')\n"
   ]
  },
  {
   "cell_type": "code",
   "execution_count": 569,
   "metadata": {},
   "outputs": [
    {
     "data": {
      "text/plain": [
       "bogo             72398\n",
       "discount         70701\n",
       "informational    26066\n",
       "Name: offer_type, dtype: int64"
      ]
     },
     "execution_count": 569,
     "metadata": {},
     "output_type": "execute_result"
    }
   ],
   "source": [
    "transcript.offer_type.value_counts()"
   ]
  },
  {
   "cell_type": "markdown",
   "metadata": {},
   "source": [
    "#### Limit data to transactions"
   ]
  },
  {
   "cell_type": "code",
   "execution_count": 638,
   "metadata": {},
   "outputs": [],
   "source": [
    "df = transcript[transcript['event']=='transaction']"
   ]
  },
  {
   "cell_type": "code",
   "execution_count": null,
   "metadata": {},
   "outputs": [],
   "source": []
  },
  {
   "cell_type": "markdown",
   "metadata": {},
   "source": [
    "## Data Cleaning and Feature Generation"
   ]
  },
  {
   "cell_type": "markdown",
   "metadata": {},
   "source": [
    "### Treat Missing values in merged data"
   ]
  },
  {
   "cell_type": "code",
   "execution_count": 606,
   "metadata": {},
   "outputs": [
    {
     "name": "stdout",
     "output_type": "stream",
     "text": [
      "Missing values in merged transcript data:\n"
     ]
    },
    {
     "data": {
      "text/plain": [
       "index               0.000000\n",
       "person              0.000000\n",
       "event               0.000000\n",
       "time                0.000000\n",
       "amount              0.000000\n",
       "offer_id            0.000000\n",
       "potential_reward    0.988582\n",
       "channels            0.988582\n",
       "difficulty          0.988582\n",
       "duration            0.988582\n",
       "offer_type          0.988582\n",
       "gender              0.107953\n",
       "age                 0.000000\n",
       "became_member_on    0.000000\n",
       "income              0.107953\n",
       "dtype: float64"
      ]
     },
     "metadata": {},
     "output_type": "display_data"
    },
    {
     "name": "stdout",
     "output_type": "stream",
     "text": [
      "Missing values in age column: 0.10795303005182841\n"
     ]
    },
    {
     "data": {
      "text/plain": [
       "index               0.000000\n",
       "person              0.000000\n",
       "event               0.000000\n",
       "time                0.000000\n",
       "amount              0.000000\n",
       "offer_id            0.000000\n",
       "potential_reward    0.987507\n",
       "channels            0.987507\n",
       "difficulty          0.987507\n",
       "duration            0.987507\n",
       "offer_type          0.987507\n",
       "gender              0.000000\n",
       "age                 0.000000\n",
       "became_member_on    0.000000\n",
       "income              0.000000\n",
       "dtype: float64"
      ]
     },
     "metadata": {},
     "output_type": "display_data"
    }
   ],
   "source": [
    "print(\"Missing values in merged transcript data:\")\n",
    "display(df.isna().sum()/len(df))\n",
    "\n",
    "print('Missing values in age column:', len(df[df['age']==118])/len(df))\n",
    "\n",
    "# 10 % is quite a lot but they will have to be removed\n",
    "\n",
    "df = df[df['age']!=118]\n",
    "\n",
    "display(df.isna().sum()/len(df))\n"
   ]
  },
  {
   "cell_type": "markdown",
   "metadata": {},
   "source": [
    "### Generate new features"
   ]
  },
  {
   "cell_type": "markdown",
   "metadata": {},
   "source": [
    "#### Ideas for pre-processing columns:\n",
    "\n",
    "1. Put income into buckets\n",
    "2. Calculate days since someone beacme member\n",
    "3. Put age into buckets\n"
   ]
  },
  {
   "cell_type": "code",
   "execution_count": 607,
   "metadata": {},
   "outputs": [
    {
     "data": {
      "text/plain": [
       "count    123751.000000\n",
       "mean         52.717618\n",
       "std          17.904179\n",
       "min          18.000000\n",
       "25%          39.000000\n",
       "50%          54.000000\n",
       "75%          65.000000\n",
       "max         101.000000\n",
       "Name: age, dtype: float64"
      ]
     },
     "execution_count": 607,
     "metadata": {},
     "output_type": "execute_result"
    }
   ],
   "source": [
    "### Age \n",
    "df.age.describe()"
   ]
  },
  {
   "cell_type": "code",
   "execution_count": 639,
   "metadata": {},
   "outputs": [
    {
     "name": "stderr",
     "output_type": "stream",
     "text": [
      "/Users/mayrkah/anaconda3/lib/python3.7/site-packages/ipykernel_launcher.py:4: SettingWithCopyWarning: \n",
      "A value is trying to be set on a copy of a slice from a DataFrame.\n",
      "Try using .loc[row_indexer,col_indexer] = value instead\n",
      "\n",
      "See the caveats in the documentation: https://pandas.pydata.org/pandas-docs/stable/user_guide/indexing.html#returning-a-view-versus-a-copy\n",
      "  after removing the cwd from sys.path.\n"
     ]
    }
   ],
   "source": [
    "# Important: Missing values are encoded as 118!\n",
    "cut_labels_age = ['18-39', '40-54', '55-66', '67+']\n",
    "cut_bins_age = [0, 40, 55, 67, 101]\n",
    "df['age_bucket'] = pd.cut(df['age'], bins=cut_bins_age, labels=cut_labels_age)"
   ]
  },
  {
   "cell_type": "code",
   "execution_count": 640,
   "metadata": {},
   "outputs": [
    {
     "data": {
      "text/html": [
       "<div>\n",
       "<style scoped>\n",
       "    .dataframe tbody tr th:only-of-type {\n",
       "        vertical-align: middle;\n",
       "    }\n",
       "\n",
       "    .dataframe tbody tr th {\n",
       "        vertical-align: top;\n",
       "    }\n",
       "\n",
       "    .dataframe thead th {\n",
       "        text-align: right;\n",
       "    }\n",
       "</style>\n",
       "<table border=\"1\" class=\"dataframe\">\n",
       "  <thead>\n",
       "    <tr style=\"text-align: right;\">\n",
       "      <th></th>\n",
       "      <th>index</th>\n",
       "      <th>person</th>\n",
       "      <th>event</th>\n",
       "      <th>time</th>\n",
       "      <th>amount</th>\n",
       "      <th>offer_id</th>\n",
       "      <th>potential_reward</th>\n",
       "      <th>channels</th>\n",
       "      <th>difficulty</th>\n",
       "      <th>duration</th>\n",
       "      <th>offer_type</th>\n",
       "      <th>gender</th>\n",
       "      <th>age</th>\n",
       "      <th>became_member_on</th>\n",
       "      <th>income</th>\n",
       "      <th>age_bucket</th>\n",
       "    </tr>\n",
       "  </thead>\n",
       "  <tbody>\n",
       "    <tr>\n",
       "      <th>415</th>\n",
       "      <td>21841</td>\n",
       "      <td>00a794f62b9a48beb58f8f6c02c2f1a6</td>\n",
       "      <td>transaction</td>\n",
       "      <td>18</td>\n",
       "      <td>6.03</td>\n",
       "      <td>no_special_offer</td>\n",
       "      <td>NaN</td>\n",
       "      <td>NaN</td>\n",
       "      <td>NaN</td>\n",
       "      <td>NaN</td>\n",
       "      <td>NaN</td>\n",
       "      <td>F</td>\n",
       "      <td>88</td>\n",
       "      <td>20151024</td>\n",
       "      <td>54000.0</td>\n",
       "      <td>67+</td>\n",
       "    </tr>\n",
       "    <tr>\n",
       "      <th>417</th>\n",
       "      <td>27464</td>\n",
       "      <td>00a794f62b9a48beb58f8f6c02c2f1a6</td>\n",
       "      <td>transaction</td>\n",
       "      <td>36</td>\n",
       "      <td>15.47</td>\n",
       "      <td>no_special_offer</td>\n",
       "      <td>NaN</td>\n",
       "      <td>NaN</td>\n",
       "      <td>NaN</td>\n",
       "      <td>NaN</td>\n",
       "      <td>NaN</td>\n",
       "      <td>F</td>\n",
       "      <td>88</td>\n",
       "      <td>20151024</td>\n",
       "      <td>54000.0</td>\n",
       "      <td>67+</td>\n",
       "    </tr>\n",
       "    <tr>\n",
       "      <th>418</th>\n",
       "      <td>32302</td>\n",
       "      <td>00a794f62b9a48beb58f8f6c02c2f1a6</td>\n",
       "      <td>transaction</td>\n",
       "      <td>54</td>\n",
       "      <td>15.88</td>\n",
       "      <td>no_special_offer</td>\n",
       "      <td>NaN</td>\n",
       "      <td>NaN</td>\n",
       "      <td>NaN</td>\n",
       "      <td>NaN</td>\n",
       "      <td>NaN</td>\n",
       "      <td>F</td>\n",
       "      <td>88</td>\n",
       "      <td>20151024</td>\n",
       "      <td>54000.0</td>\n",
       "      <td>67+</td>\n",
       "    </tr>\n",
       "    <tr>\n",
       "      <th>419</th>\n",
       "      <td>41748</td>\n",
       "      <td>00a794f62b9a48beb58f8f6c02c2f1a6</td>\n",
       "      <td>transaction</td>\n",
       "      <td>96</td>\n",
       "      <td>17.15</td>\n",
       "      <td>no_special_offer</td>\n",
       "      <td>NaN</td>\n",
       "      <td>NaN</td>\n",
       "      <td>NaN</td>\n",
       "      <td>NaN</td>\n",
       "      <td>NaN</td>\n",
       "      <td>F</td>\n",
       "      <td>88</td>\n",
       "      <td>20151024</td>\n",
       "      <td>54000.0</td>\n",
       "      <td>67+</td>\n",
       "    </tr>\n",
       "    <tr>\n",
       "      <th>422</th>\n",
       "      <td>76693</td>\n",
       "      <td>00a794f62b9a48beb58f8f6c02c2f1a6</td>\n",
       "      <td>transaction</td>\n",
       "      <td>186</td>\n",
       "      <td>26.39</td>\n",
       "      <td>no_special_offer</td>\n",
       "      <td>NaN</td>\n",
       "      <td>NaN</td>\n",
       "      <td>NaN</td>\n",
       "      <td>NaN</td>\n",
       "      <td>NaN</td>\n",
       "      <td>F</td>\n",
       "      <td>88</td>\n",
       "      <td>20151024</td>\n",
       "      <td>54000.0</td>\n",
       "      <td>67+</td>\n",
       "    </tr>\n",
       "    <tr>\n",
       "      <th>...</th>\n",
       "      <td>...</td>\n",
       "      <td>...</td>\n",
       "      <td>...</td>\n",
       "      <td>...</td>\n",
       "      <td>...</td>\n",
       "      <td>...</td>\n",
       "      <td>...</td>\n",
       "      <td>...</td>\n",
       "      <td>...</td>\n",
       "      <td>...</td>\n",
       "      <td>...</td>\n",
       "      <td>...</td>\n",
       "      <td>...</td>\n",
       "      <td>...</td>\n",
       "      <td>...</td>\n",
       "      <td>...</td>\n",
       "    </tr>\n",
       "    <tr>\n",
       "      <th>306082</th>\n",
       "      <td>238840</td>\n",
       "      <td>ffdefcac307f4ca99ac1ebd51470f106</td>\n",
       "      <td>transaction</td>\n",
       "      <td>552</td>\n",
       "      <td>13.43</td>\n",
       "      <td>no_special_offer</td>\n",
       "      <td>NaN</td>\n",
       "      <td>NaN</td>\n",
       "      <td>NaN</td>\n",
       "      <td>NaN</td>\n",
       "      <td>NaN</td>\n",
       "      <td>F</td>\n",
       "      <td>87</td>\n",
       "      <td>20170315</td>\n",
       "      <td>47000.0</td>\n",
       "      <td>67+</td>\n",
       "    </tr>\n",
       "    <tr>\n",
       "      <th>306085</th>\n",
       "      <td>301539</td>\n",
       "      <td>ffdefcac307f4ca99ac1ebd51470f106</td>\n",
       "      <td>transaction</td>\n",
       "      <td>690</td>\n",
       "      <td>10.78</td>\n",
       "      <td>no_special_offer</td>\n",
       "      <td>NaN</td>\n",
       "      <td>NaN</td>\n",
       "      <td>NaN</td>\n",
       "      <td>NaN</td>\n",
       "      <td>NaN</td>\n",
       "      <td>F</td>\n",
       "      <td>87</td>\n",
       "      <td>20170315</td>\n",
       "      <td>47000.0</td>\n",
       "      <td>67+</td>\n",
       "    </tr>\n",
       "    <tr>\n",
       "      <th>306089</th>\n",
       "      <td>86337</td>\n",
       "      <td>ffe5257abf8840b395e1ee6b29894637</td>\n",
       "      <td>transaction</td>\n",
       "      <td>216</td>\n",
       "      <td>34.95</td>\n",
       "      <td>no_special_offer</td>\n",
       "      <td>NaN</td>\n",
       "      <td>NaN</td>\n",
       "      <td>NaN</td>\n",
       "      <td>NaN</td>\n",
       "      <td>NaN</td>\n",
       "      <td>M</td>\n",
       "      <td>77</td>\n",
       "      <td>20170822</td>\n",
       "      <td>75000.0</td>\n",
       "      <td>67+</td>\n",
       "    </tr>\n",
       "    <tr>\n",
       "      <th>306094</th>\n",
       "      <td>140676</td>\n",
       "      <td>ffe5257abf8840b395e1ee6b29894637</td>\n",
       "      <td>transaction</td>\n",
       "      <td>372</td>\n",
       "      <td>15.22</td>\n",
       "      <td>no_special_offer</td>\n",
       "      <td>NaN</td>\n",
       "      <td>NaN</td>\n",
       "      <td>NaN</td>\n",
       "      <td>NaN</td>\n",
       "      <td>NaN</td>\n",
       "      <td>M</td>\n",
       "      <td>77</td>\n",
       "      <td>20170822</td>\n",
       "      <td>75000.0</td>\n",
       "      <td>67+</td>\n",
       "    </tr>\n",
       "    <tr>\n",
       "      <th>306100</th>\n",
       "      <td>267399</td>\n",
       "      <td>ffe5257abf8840b395e1ee6b29894637</td>\n",
       "      <td>transaction</td>\n",
       "      <td>588</td>\n",
       "      <td>13.32</td>\n",
       "      <td>no_special_offer</td>\n",
       "      <td>NaN</td>\n",
       "      <td>NaN</td>\n",
       "      <td>NaN</td>\n",
       "      <td>NaN</td>\n",
       "      <td>NaN</td>\n",
       "      <td>M</td>\n",
       "      <td>77</td>\n",
       "      <td>20170822</td>\n",
       "      <td>75000.0</td>\n",
       "      <td>67+</td>\n",
       "    </tr>\n",
       "  </tbody>\n",
       "</table>\n",
       "<p>17056 rows × 16 columns</p>\n",
       "</div>"
      ],
      "text/plain": [
       "         index                            person        event  time  amount          offer_id  potential_reward channels  difficulty  duration offer_type gender  age  became_member_on   income age_bucket\n",
       "415      21841  00a794f62b9a48beb58f8f6c02c2f1a6  transaction    18    6.03  no_special_offer               NaN      NaN         NaN       NaN        NaN      F   88          20151024  54000.0        67+\n",
       "417      27464  00a794f62b9a48beb58f8f6c02c2f1a6  transaction    36   15.47  no_special_offer               NaN      NaN         NaN       NaN        NaN      F   88          20151024  54000.0        67+\n",
       "418      32302  00a794f62b9a48beb58f8f6c02c2f1a6  transaction    54   15.88  no_special_offer               NaN      NaN         NaN       NaN        NaN      F   88          20151024  54000.0        67+\n",
       "419      41748  00a794f62b9a48beb58f8f6c02c2f1a6  transaction    96   17.15  no_special_offer               NaN      NaN         NaN       NaN        NaN      F   88          20151024  54000.0        67+\n",
       "422      76693  00a794f62b9a48beb58f8f6c02c2f1a6  transaction   186   26.39  no_special_offer               NaN      NaN         NaN       NaN        NaN      F   88          20151024  54000.0        67+\n",
       "...        ...                               ...          ...   ...     ...               ...               ...      ...         ...       ...        ...    ...  ...               ...      ...        ...\n",
       "306082  238840  ffdefcac307f4ca99ac1ebd51470f106  transaction   552   13.43  no_special_offer               NaN      NaN         NaN       NaN        NaN      F   87          20170315  47000.0        67+\n",
       "306085  301539  ffdefcac307f4ca99ac1ebd51470f106  transaction   690   10.78  no_special_offer               NaN      NaN         NaN       NaN        NaN      F   87          20170315  47000.0        67+\n",
       "306089   86337  ffe5257abf8840b395e1ee6b29894637  transaction   216   34.95  no_special_offer               NaN      NaN         NaN       NaN        NaN      M   77          20170822  75000.0        67+\n",
       "306094  140676  ffe5257abf8840b395e1ee6b29894637  transaction   372   15.22  no_special_offer               NaN      NaN         NaN       NaN        NaN      M   77          20170822  75000.0        67+\n",
       "306100  267399  ffe5257abf8840b395e1ee6b29894637  transaction   588   13.32  no_special_offer               NaN      NaN         NaN       NaN        NaN      M   77          20170822  75000.0        67+\n",
       "\n",
       "[17056 rows x 16 columns]"
      ]
     },
     "metadata": {},
     "output_type": "display_data"
    },
    {
     "data": {
      "text/html": [
       "<div>\n",
       "<style scoped>\n",
       "    .dataframe tbody tr th:only-of-type {\n",
       "        vertical-align: middle;\n",
       "    }\n",
       "\n",
       "    .dataframe tbody tr th {\n",
       "        vertical-align: top;\n",
       "    }\n",
       "\n",
       "    .dataframe thead th {\n",
       "        text-align: right;\n",
       "    }\n",
       "</style>\n",
       "<table border=\"1\" class=\"dataframe\">\n",
       "  <thead>\n",
       "    <tr style=\"text-align: right;\">\n",
       "      <th></th>\n",
       "      <th>index</th>\n",
       "      <th>person</th>\n",
       "      <th>event</th>\n",
       "      <th>time</th>\n",
       "      <th>amount</th>\n",
       "      <th>offer_id</th>\n",
       "      <th>potential_reward</th>\n",
       "      <th>channels</th>\n",
       "      <th>difficulty</th>\n",
       "      <th>duration</th>\n",
       "      <th>offer_type</th>\n",
       "      <th>gender</th>\n",
       "      <th>age</th>\n",
       "      <th>became_member_on</th>\n",
       "      <th>income</th>\n",
       "      <th>age_bucket</th>\n",
       "    </tr>\n",
       "  </thead>\n",
       "  <tbody>\n",
       "    <tr>\n",
       "      <th>22</th>\n",
       "      <td>104088</td>\n",
       "      <td>00116118485d4dfda04fdbaba9a87b5c</td>\n",
       "      <td>transaction</td>\n",
       "      <td>294</td>\n",
       "      <td>0.70</td>\n",
       "      <td>no_special_offer</td>\n",
       "      <td>NaN</td>\n",
       "      <td>NaN</td>\n",
       "      <td>NaN</td>\n",
       "      <td>NaN</td>\n",
       "      <td>NaN</td>\n",
       "      <td>None</td>\n",
       "      <td>118</td>\n",
       "      <td>20180425</td>\n",
       "      <td>NaN</td>\n",
       "      <td>NaN</td>\n",
       "    </tr>\n",
       "    <tr>\n",
       "      <th>23</th>\n",
       "      <td>187632</td>\n",
       "      <td>00116118485d4dfda04fdbaba9a87b5c</td>\n",
       "      <td>transaction</td>\n",
       "      <td>456</td>\n",
       "      <td>0.20</td>\n",
       "      <td>no_special_offer</td>\n",
       "      <td>NaN</td>\n",
       "      <td>NaN</td>\n",
       "      <td>NaN</td>\n",
       "      <td>NaN</td>\n",
       "      <td>NaN</td>\n",
       "      <td>None</td>\n",
       "      <td>118</td>\n",
       "      <td>20180425</td>\n",
       "      <td>NaN</td>\n",
       "      <td>NaN</td>\n",
       "    </tr>\n",
       "    <tr>\n",
       "      <th>24</th>\n",
       "      <td>193680</td>\n",
       "      <td>00116118485d4dfda04fdbaba9a87b5c</td>\n",
       "      <td>transaction</td>\n",
       "      <td>474</td>\n",
       "      <td>3.19</td>\n",
       "      <td>no_special_offer</td>\n",
       "      <td>NaN</td>\n",
       "      <td>NaN</td>\n",
       "      <td>NaN</td>\n",
       "      <td>NaN</td>\n",
       "      <td>NaN</td>\n",
       "      <td>None</td>\n",
       "      <td>118</td>\n",
       "      <td>20180425</td>\n",
       "      <td>NaN</td>\n",
       "      <td>NaN</td>\n",
       "    </tr>\n",
       "    <tr>\n",
       "      <th>208</th>\n",
       "      <td>25759</td>\n",
       "      <td>0063def0f9c14bc4805322a488839b32</td>\n",
       "      <td>transaction</td>\n",
       "      <td>30</td>\n",
       "      <td>2.76</td>\n",
       "      <td>no_special_offer</td>\n",
       "      <td>NaN</td>\n",
       "      <td>NaN</td>\n",
       "      <td>NaN</td>\n",
       "      <td>NaN</td>\n",
       "      <td>NaN</td>\n",
       "      <td>None</td>\n",
       "      <td>118</td>\n",
       "      <td>20180615</td>\n",
       "      <td>NaN</td>\n",
       "      <td>NaN</td>\n",
       "    </tr>\n",
       "    <tr>\n",
       "      <th>211</th>\n",
       "      <td>90218</td>\n",
       "      <td>0063def0f9c14bc4805322a488839b32</td>\n",
       "      <td>transaction</td>\n",
       "      <td>228</td>\n",
       "      <td>2.06</td>\n",
       "      <td>no_special_offer</td>\n",
       "      <td>NaN</td>\n",
       "      <td>NaN</td>\n",
       "      <td>NaN</td>\n",
       "      <td>NaN</td>\n",
       "      <td>NaN</td>\n",
       "      <td>None</td>\n",
       "      <td>118</td>\n",
       "      <td>20180615</td>\n",
       "      <td>NaN</td>\n",
       "      <td>NaN</td>\n",
       "    </tr>\n",
       "    <tr>\n",
       "      <th>...</th>\n",
       "      <td>...</td>\n",
       "      <td>...</td>\n",
       "      <td>...</td>\n",
       "      <td>...</td>\n",
       "      <td>...</td>\n",
       "      <td>...</td>\n",
       "      <td>...</td>\n",
       "      <td>...</td>\n",
       "      <td>...</td>\n",
       "      <td>...</td>\n",
       "      <td>...</td>\n",
       "      <td>...</td>\n",
       "      <td>...</td>\n",
       "      <td>...</td>\n",
       "      <td>...</td>\n",
       "      <td>...</td>\n",
       "    </tr>\n",
       "    <tr>\n",
       "      <th>306156</th>\n",
       "      <td>269577</td>\n",
       "      <td>ffede3b700ac41d6a266fa1ba74b4f16</td>\n",
       "      <td>transaction</td>\n",
       "      <td>594</td>\n",
       "      <td>0.72</td>\n",
       "      <td>no_special_offer</td>\n",
       "      <td>NaN</td>\n",
       "      <td>NaN</td>\n",
       "      <td>NaN</td>\n",
       "      <td>NaN</td>\n",
       "      <td>NaN</td>\n",
       "      <td>None</td>\n",
       "      <td>118</td>\n",
       "      <td>20180704</td>\n",
       "      <td>NaN</td>\n",
       "      <td>NaN</td>\n",
       "    </tr>\n",
       "    <tr>\n",
       "      <th>306157</th>\n",
       "      <td>272477</td>\n",
       "      <td>ffede3b700ac41d6a266fa1ba74b4f16</td>\n",
       "      <td>transaction</td>\n",
       "      <td>600</td>\n",
       "      <td>0.91</td>\n",
       "      <td>no_special_offer</td>\n",
       "      <td>NaN</td>\n",
       "      <td>NaN</td>\n",
       "      <td>NaN</td>\n",
       "      <td>NaN</td>\n",
       "      <td>NaN</td>\n",
       "      <td>None</td>\n",
       "      <td>118</td>\n",
       "      <td>20180704</td>\n",
       "      <td>NaN</td>\n",
       "      <td>NaN</td>\n",
       "    </tr>\n",
       "    <tr>\n",
       "      <th>306158</th>\n",
       "      <td>288311</td>\n",
       "      <td>ffede3b700ac41d6a266fa1ba74b4f16</td>\n",
       "      <td>transaction</td>\n",
       "      <td>642</td>\n",
       "      <td>2.32</td>\n",
       "      <td>no_special_offer</td>\n",
       "      <td>NaN</td>\n",
       "      <td>NaN</td>\n",
       "      <td>NaN</td>\n",
       "      <td>NaN</td>\n",
       "      <td>NaN</td>\n",
       "      <td>None</td>\n",
       "      <td>118</td>\n",
       "      <td>20180704</td>\n",
       "      <td>NaN</td>\n",
       "      <td>NaN</td>\n",
       "    </tr>\n",
       "    <tr>\n",
       "      <th>306159</th>\n",
       "      <td>293556</td>\n",
       "      <td>ffede3b700ac41d6a266fa1ba74b4f16</td>\n",
       "      <td>transaction</td>\n",
       "      <td>660</td>\n",
       "      <td>1.64</td>\n",
       "      <td>no_special_offer</td>\n",
       "      <td>NaN</td>\n",
       "      <td>NaN</td>\n",
       "      <td>NaN</td>\n",
       "      <td>NaN</td>\n",
       "      <td>NaN</td>\n",
       "      <td>None</td>\n",
       "      <td>118</td>\n",
       "      <td>20180704</td>\n",
       "      <td>NaN</td>\n",
       "      <td>NaN</td>\n",
       "    </tr>\n",
       "    <tr>\n",
       "      <th>306160</th>\n",
       "      <td>296728</td>\n",
       "      <td>ffede3b700ac41d6a266fa1ba74b4f16</td>\n",
       "      <td>transaction</td>\n",
       "      <td>672</td>\n",
       "      <td>1.66</td>\n",
       "      <td>no_special_offer</td>\n",
       "      <td>NaN</td>\n",
       "      <td>NaN</td>\n",
       "      <td>NaN</td>\n",
       "      <td>NaN</td>\n",
       "      <td>NaN</td>\n",
       "      <td>None</td>\n",
       "      <td>118</td>\n",
       "      <td>20180704</td>\n",
       "      <td>NaN</td>\n",
       "      <td>NaN</td>\n",
       "    </tr>\n",
       "  </tbody>\n",
       "</table>\n",
       "<p>14976 rows × 16 columns</p>\n",
       "</div>"
      ],
      "text/plain": [
       "         index                            person        event  time  amount          offer_id  potential_reward channels  difficulty  duration offer_type gender  age  became_member_on  income age_bucket\n",
       "22      104088  00116118485d4dfda04fdbaba9a87b5c  transaction   294    0.70  no_special_offer               NaN      NaN         NaN       NaN        NaN   None  118          20180425     NaN        NaN\n",
       "23      187632  00116118485d4dfda04fdbaba9a87b5c  transaction   456    0.20  no_special_offer               NaN      NaN         NaN       NaN        NaN   None  118          20180425     NaN        NaN\n",
       "24      193680  00116118485d4dfda04fdbaba9a87b5c  transaction   474    3.19  no_special_offer               NaN      NaN         NaN       NaN        NaN   None  118          20180425     NaN        NaN\n",
       "208      25759  0063def0f9c14bc4805322a488839b32  transaction    30    2.76  no_special_offer               NaN      NaN         NaN       NaN        NaN   None  118          20180615     NaN        NaN\n",
       "211      90218  0063def0f9c14bc4805322a488839b32  transaction   228    2.06  no_special_offer               NaN      NaN         NaN       NaN        NaN   None  118          20180615     NaN        NaN\n",
       "...        ...                               ...          ...   ...     ...               ...               ...      ...         ...       ...        ...    ...  ...               ...     ...        ...\n",
       "306156  269577  ffede3b700ac41d6a266fa1ba74b4f16  transaction   594    0.72  no_special_offer               NaN      NaN         NaN       NaN        NaN   None  118          20180704     NaN        NaN\n",
       "306157  272477  ffede3b700ac41d6a266fa1ba74b4f16  transaction   600    0.91  no_special_offer               NaN      NaN         NaN       NaN        NaN   None  118          20180704     NaN        NaN\n",
       "306158  288311  ffede3b700ac41d6a266fa1ba74b4f16  transaction   642    2.32  no_special_offer               NaN      NaN         NaN       NaN        NaN   None  118          20180704     NaN        NaN\n",
       "306159  293556  ffede3b700ac41d6a266fa1ba74b4f16  transaction   660    1.64  no_special_offer               NaN      NaN         NaN       NaN        NaN   None  118          20180704     NaN        NaN\n",
       "306160  296728  ffede3b700ac41d6a266fa1ba74b4f16  transaction   672    1.66  no_special_offer               NaN      NaN         NaN       NaN        NaN   None  118          20180704     NaN        NaN\n",
       "\n",
       "[14976 rows x 16 columns]"
      ]
     },
     "metadata": {},
     "output_type": "display_data"
    }
   ],
   "source": [
    "# Check\n",
    "display(df[(df['age']>72) & (df['age']<118)])\n",
    "display(df[df['age']==118])\n",
    "\n"
   ]
  },
  {
   "cell_type": "code",
   "execution_count": 610,
   "metadata": {},
   "outputs": [
    {
     "data": {
      "text/plain": [
       "count    123751.000000\n",
       "mean      61861.277889\n",
       "std       20668.460051\n",
       "min       30000.000000\n",
       "25%       46000.000000\n",
       "50%       60000.000000\n",
       "75%       74000.000000\n",
       "max      120000.000000\n",
       "Name: income, dtype: float64"
      ]
     },
     "execution_count": 610,
     "metadata": {},
     "output_type": "execute_result"
    }
   ],
   "source": [
    "### Age \n",
    "df.income.describe()"
   ]
  },
  {
   "cell_type": "code",
   "execution_count": 641,
   "metadata": {},
   "outputs": [
    {
     "name": "stderr",
     "output_type": "stream",
     "text": [
      "/Users/mayrkah/anaconda3/lib/python3.7/site-packages/ipykernel_launcher.py:4: SettingWithCopyWarning: \n",
      "A value is trying to be set on a copy of a slice from a DataFrame.\n",
      "Try using .loc[row_indexer,col_indexer] = value instead\n",
      "\n",
      "See the caveats in the documentation: https://pandas.pydata.org/pandas-docs/stable/user_guide/indexing.html#returning-a-view-versus-a-copy\n",
      "  after removing the cwd from sys.path.\n"
     ]
    }
   ],
   "source": [
    "\n",
    "cut_labels_income = ['0-46000', '46001-60000', '60001-74000', '74001+']\n",
    "cut_bins_income = [0, 46001, 60001, 74001, 120001]\n",
    "df['income_bucket'] = pd.cut(df['income'], bins=cut_bins_income, labels=cut_labels_income)"
   ]
  },
  {
   "cell_type": "code",
   "execution_count": null,
   "metadata": {},
   "outputs": [],
   "source": []
  },
  {
   "cell_type": "code",
   "execution_count": null,
   "metadata": {},
   "outputs": [],
   "source": []
  },
  {
   "cell_type": "code",
   "execution_count": null,
   "metadata": {},
   "outputs": [],
   "source": []
  },
  {
   "cell_type": "code",
   "execution_count": null,
   "metadata": {},
   "outputs": [],
   "source": []
  },
  {
   "cell_type": "code",
   "execution_count": null,
   "metadata": {},
   "outputs": [],
   "source": []
  },
  {
   "cell_type": "code",
   "execution_count": 642,
   "metadata": {},
   "outputs": [
    {
     "name": "stderr",
     "output_type": "stream",
     "text": [
      "/Users/mayrkah/anaconda3/lib/python3.7/site-packages/ipykernel_launcher.py:1: SettingWithCopyWarning: \n",
      "A value is trying to be set on a copy of a slice from a DataFrame.\n",
      "Try using .loc[row_indexer,col_indexer] = value instead\n",
      "\n",
      "See the caveats in the documentation: https://pandas.pydata.org/pandas-docs/stable/user_guide/indexing.html#returning-a-view-versus-a-copy\n",
      "  \"\"\"Entry point for launching an IPython kernel.\n"
     ]
    }
   ],
   "source": [
    "df['days_member'] = (pd.to_datetime('today').normalize() - pd.to_datetime(df.became_member_on, format = '%Y%m%d')).dt.days\n"
   ]
  },
  {
   "cell_type": "code",
   "execution_count": 643,
   "metadata": {},
   "outputs": [
    {
     "name": "stderr",
     "output_type": "stream",
     "text": [
      "/Users/mayrkah/anaconda3/lib/python3.7/site-packages/ipykernel_launcher.py:1: SettingWithCopyWarning: \n",
      "A value is trying to be set on a copy of a slice from a DataFrame.\n",
      "Try using .loc[row_indexer,col_indexer] = value instead\n",
      "\n",
      "See the caveats in the documentation: https://pandas.pydata.org/pandas-docs/stable/user_guide/indexing.html#returning-a-view-versus-a-copy\n",
      "  \"\"\"Entry point for launching an IPython kernel.\n",
      "/Users/mayrkah/anaconda3/lib/python3.7/site-packages/ipykernel_launcher.py:3: SettingWithCopyWarning: \n",
      "A value is trying to be set on a copy of a slice from a DataFrame.\n",
      "Try using .loc[row_indexer,col_indexer] = value instead\n",
      "\n",
      "See the caveats in the documentation: https://pandas.pydata.org/pandas-docs/stable/user_guide/indexing.html#returning-a-view-versus-a-copy\n",
      "  This is separate from the ipykernel package so we can avoid doing imports until\n"
     ]
    }
   ],
   "source": [
    "df['years_member'] = df.days_member/365\n",
    "\n",
    "df['years_member'] = round(df['years_member'] - min(df['years_member']))"
   ]
  },
  {
   "cell_type": "code",
   "execution_count": 644,
   "metadata": {
    "scrolled": true
   },
   "outputs": [
    {
     "data": {
      "text/plain": [
       "count    138727.000000\n",
       "mean          1.737780\n",
       "std           1.215052\n",
       "min           0.000000\n",
       "25%           1.000000\n",
       "50%           1.000000\n",
       "75%           2.000000\n",
       "max           5.000000\n",
       "Name: years_member, dtype: float64"
      ]
     },
     "execution_count": 644,
     "metadata": {},
     "output_type": "execute_result"
    }
   ],
   "source": [
    "df.years_member.describe()"
   ]
  },
  {
   "cell_type": "code",
   "execution_count": 645,
   "metadata": {},
   "outputs": [],
   "source": [
    "df = df.drop(columns = ['became_member_on', 'index'])"
   ]
  },
  {
   "cell_type": "code",
   "execution_count": null,
   "metadata": {},
   "outputs": [],
   "source": []
  },
  {
   "cell_type": "markdown",
   "metadata": {},
   "source": [
    "### Check dependent / label attribute amount"
   ]
  },
  {
   "cell_type": "code",
   "execution_count": 646,
   "metadata": {},
   "outputs": [
    {
     "data": {
      "text/plain": [
       "count    138727.000000\n",
       "mean         12.786287\n",
       "std          30.273933\n",
       "min           0.050000\n",
       "25%           2.780000\n",
       "50%           8.900000\n",
       "75%          18.080000\n",
       "max        1062.280000\n",
       "Name: amount, dtype: float64"
      ]
     },
     "execution_count": 646,
     "metadata": {},
     "output_type": "execute_result"
    }
   ],
   "source": [
    "df.amount.describe()"
   ]
  },
  {
   "cell_type": "code",
   "execution_count": 647,
   "metadata": {},
   "outputs": [
    {
     "data": {
      "text/plain": [
       "<matplotlib.axes._subplots.AxesSubplot at 0x7fbcde326f60>"
      ]
     },
     "execution_count": 647,
     "metadata": {},
     "output_type": "execute_result"
    },
    {
     "data": {
      "image/png": "[encoded data removed]",
      "text/plain": [
       "<Figure size 432x288 with 1 Axes>"
      ]
     },
     "metadata": {
      "needs_background": "light"
     },
     "output_type": "display_data"
    }
   ],
   "source": [
    "df.amount.hist()"
   ]
  },
  {
   "cell_type": "code",
   "execution_count": 652,
   "metadata": {},
   "outputs": [
    {
     "name": "stdout",
     "output_type": "stream",
     "text": [
      "50.431099999999866\n"
     ]
    }
   ],
   "source": [
    "# Anything above 50 seems a bit high\n",
    "print(df.amount.quantile(.995))\n",
    "\n",
    "df = df[df['amount']<=df.amount.quantile(.995)]"
   ]
  },
  {
   "cell_type": "code",
   "execution_count": null,
   "metadata": {},
   "outputs": [],
   "source": [
    "## Outlier?"
   ]
  },
  {
   "cell_type": "markdown",
   "metadata": {},
   "source": [
    "## Exploratory Visualization\n",
    "\n",
    "- Analyze the problem through visualizations and data exploration to have a better understanding of what algorithms and features are appropriate for solving it.\n"
   ]
  },
  {
   "cell_type": "code",
   "execution_count": 617,
   "metadata": {},
   "outputs": [
    {
     "data": {
      "text/plain": [
       "person                object\n",
       "event                 object\n",
       "time                   int64\n",
       "amount               float64\n",
       "offer_id              object\n",
       "potential_reward     float64\n",
       "channels              object\n",
       "difficulty           float64\n",
       "duration             float64\n",
       "offer_type            object\n",
       "gender                object\n",
       "age                    int64\n",
       "income               float64\n",
       "age_bucket          category\n",
       "income_bucket       category\n",
       "days_member            int64\n",
       "dtype: object"
      ]
     },
     "execution_count": 617,
     "metadata": {},
     "output_type": "execute_result"
    }
   ],
   "source": [
    "df.dtypes"
   ]
  },
  {
   "cell_type": "code",
   "execution_count": 653,
   "metadata": {},
   "outputs": [
    {
     "name": "stdout",
     "output_type": "stream",
     "text": [
      "Missing values in portfolio data:\n"
     ]
    },
    {
     "data": {
      "text/plain": [
       "person                   0\n",
       "event                    0\n",
       "time                     0\n",
       "amount                   0\n",
       "offer_id                 0\n",
       "potential_reward    136459\n",
       "channels            136459\n",
       "difficulty          136459\n",
       "duration            136459\n",
       "offer_type          136459\n",
       "gender               14912\n",
       "age                      0\n",
       "income               14912\n",
       "age_bucket           14912\n",
       "income_bucket        14912\n",
       "days_member              0\n",
       "years_member             0\n",
       "dtype: int64"
      ]
     },
     "metadata": {},
     "output_type": "display_data"
    }
   ],
   "source": [
    "print(\"Missing values in portfolio data:\")\n",
    "display(df.isna().sum())\n"
   ]
  },
  {
   "cell_type": "code",
   "execution_count": 654,
   "metadata": {},
   "outputs": [],
   "source": [
    "### Filling NaN\n",
    "\n",
    "df['offer_type'].fillna('no_offer_type', inplace = True)\n",
    "df['duration'].fillna(0, inplace = True)\n",
    "df['difficulty'].fillna(0, inplace = True)\n",
    "df['potential_reward'].fillna(0, inplace = True)\n",
    "df['channels'].fillna('no_channel', inplace = True)\n"
   ]
  },
  {
   "cell_type": "code",
   "execution_count": 636,
   "metadata": {},
   "outputs": [
    {
     "data": {
      "text/html": [
       "<div>\n",
       "<style scoped>\n",
       "    .dataframe tbody tr th:only-of-type {\n",
       "        vertical-align: middle;\n",
       "    }\n",
       "\n",
       "    .dataframe tbody tr th {\n",
       "        vertical-align: top;\n",
       "    }\n",
       "\n",
       "    .dataframe thead th {\n",
       "        text-align: right;\n",
       "    }\n",
       "</style>\n",
       "<table border=\"1\" class=\"dataframe\">\n",
       "  <thead>\n",
       "    <tr style=\"text-align: right;\">\n",
       "      <th></th>\n",
       "      <th>amount</th>\n",
       "      <th>potential_reward</th>\n",
       "      <th>difficulty</th>\n",
       "      <th>duration</th>\n",
       "      <th>age_bucket_18-39</th>\n",
       "      <th>age_bucket_40-54</th>\n",
       "      <th>age_bucket_55-66</th>\n",
       "      <th>age_bucket_67+</th>\n",
       "      <th>income_bucket_0-46000</th>\n",
       "      <th>income_bucket_46001-60000</th>\n",
       "      <th>...</th>\n",
       "      <th>offer_type_no_offer_type</th>\n",
       "      <th>offer_id_0b1e1539f2cc45b7b9fa7c272da2e1d7</th>\n",
       "      <th>offer_id_2298d6c36e964ae4a3e7e9706d1fb8c2</th>\n",
       "      <th>offer_id_2906b810c7d4411798c6938adc9daaa5</th>\n",
       "      <th>offer_id_4d5c57ea9a6940dd891ad53e9dbe8da0</th>\n",
       "      <th>offer_id_9b98b8c7a33c4b65b9aebfe6a799e6d9</th>\n",
       "      <th>offer_id_ae264e3637204a6fb9bb56bc8210ddfd</th>\n",
       "      <th>offer_id_f19421c1d4aa40978ebb69ca19b0e20d</th>\n",
       "      <th>offer_id_fafdcd668e3743c1bb461111dcafc2a4</th>\n",
       "      <th>offer_id_no_special_offer</th>\n",
       "    </tr>\n",
       "  </thead>\n",
       "  <tbody>\n",
       "    <tr>\n",
       "      <th>2</th>\n",
       "      <td>0.256596</td>\n",
       "      <td>-0.098938</td>\n",
       "      <td>-0.099987</td>\n",
       "      <td>-0.109987</td>\n",
       "      <td>1.644556</td>\n",
       "      <td>-0.611271</td>\n",
       "      <td>-0.572713</td>\n",
       "      <td>-0.517228</td>\n",
       "      <td>-0.597751</td>\n",
       "      <td>-0.582666</td>\n",
       "      <td>...</td>\n",
       "      <td>0.112476</td>\n",
       "      <td>-0.04553</td>\n",
       "      <td>-0.032428</td>\n",
       "      <td>-0.046761</td>\n",
       "      <td>-0.025907</td>\n",
       "      <td>-0.054984</td>\n",
       "      <td>-0.038588</td>\n",
       "      <td>-0.031025</td>\n",
       "      <td>-0.032553</td>\n",
       "      <td>0.112476</td>\n",
       "    </tr>\n",
       "    <tr>\n",
       "      <th>6</th>\n",
       "      <td>-0.171109</td>\n",
       "      <td>7.953980</td>\n",
       "      <td>3.978281</td>\n",
       "      <td>5.767455</td>\n",
       "      <td>1.644556</td>\n",
       "      <td>-0.611271</td>\n",
       "      <td>-0.572713</td>\n",
       "      <td>-0.517228</td>\n",
       "      <td>-0.597751</td>\n",
       "      <td>-0.582666</td>\n",
       "      <td>...</td>\n",
       "      <td>-8.890778</td>\n",
       "      <td>-0.04553</td>\n",
       "      <td>-0.032428</td>\n",
       "      <td>-0.046761</td>\n",
       "      <td>-0.025907</td>\n",
       "      <td>-0.054984</td>\n",
       "      <td>-0.038588</td>\n",
       "      <td>32.232350</td>\n",
       "      <td>-0.032553</td>\n",
       "      <td>-8.890778</td>\n",
       "    </tr>\n",
       "    <tr>\n",
       "      <th>10</th>\n",
       "      <td>0.003246</td>\n",
       "      <td>-0.098938</td>\n",
       "      <td>-0.099987</td>\n",
       "      <td>-0.109987</td>\n",
       "      <td>1.644556</td>\n",
       "      <td>-0.611271</td>\n",
       "      <td>-0.572713</td>\n",
       "      <td>-0.517228</td>\n",
       "      <td>-0.597751</td>\n",
       "      <td>-0.582666</td>\n",
       "      <td>...</td>\n",
       "      <td>0.112476</td>\n",
       "      <td>-0.04553</td>\n",
       "      <td>-0.032428</td>\n",
       "      <td>-0.046761</td>\n",
       "      <td>-0.025907</td>\n",
       "      <td>-0.054984</td>\n",
       "      <td>-0.038588</td>\n",
       "      <td>-0.031025</td>\n",
       "      <td>-0.032553</td>\n",
       "      <td>0.112476</td>\n",
       "    </tr>\n",
       "    <tr>\n",
       "      <th>13</th>\n",
       "      <td>-0.014064</td>\n",
       "      <td>-0.098938</td>\n",
       "      <td>-0.099987</td>\n",
       "      <td>-0.109987</td>\n",
       "      <td>1.644556</td>\n",
       "      <td>-0.611271</td>\n",
       "      <td>-0.572713</td>\n",
       "      <td>-0.517228</td>\n",
       "      <td>-0.597751</td>\n",
       "      <td>-0.582666</td>\n",
       "      <td>...</td>\n",
       "      <td>0.112476</td>\n",
       "      <td>-0.04553</td>\n",
       "      <td>-0.032428</td>\n",
       "      <td>-0.046761</td>\n",
       "      <td>-0.025907</td>\n",
       "      <td>-0.054984</td>\n",
       "      <td>-0.038588</td>\n",
       "      <td>-0.031025</td>\n",
       "      <td>-0.032553</td>\n",
       "      <td>0.112476</td>\n",
       "    </tr>\n",
       "    <tr>\n",
       "      <th>15</th>\n",
       "      <td>-0.117607</td>\n",
       "      <td>-0.098938</td>\n",
       "      <td>-0.099987</td>\n",
       "      <td>-0.109987</td>\n",
       "      <td>1.644556</td>\n",
       "      <td>-0.611271</td>\n",
       "      <td>-0.572713</td>\n",
       "      <td>-0.517228</td>\n",
       "      <td>-0.597751</td>\n",
       "      <td>-0.582666</td>\n",
       "      <td>...</td>\n",
       "      <td>0.112476</td>\n",
       "      <td>-0.04553</td>\n",
       "      <td>-0.032428</td>\n",
       "      <td>-0.046761</td>\n",
       "      <td>-0.025907</td>\n",
       "      <td>-0.054984</td>\n",
       "      <td>-0.038588</td>\n",
       "      <td>-0.031025</td>\n",
       "      <td>-0.032553</td>\n",
       "      <td>0.112476</td>\n",
       "    </tr>\n",
       "    <tr>\n",
       "      <th>...</th>\n",
       "      <td>...</td>\n",
       "      <td>...</td>\n",
       "      <td>...</td>\n",
       "      <td>...</td>\n",
       "      <td>...</td>\n",
       "      <td>...</td>\n",
       "      <td>...</td>\n",
       "      <td>...</td>\n",
       "      <td>...</td>\n",
       "      <td>...</td>\n",
       "      <td>...</td>\n",
       "      <td>...</td>\n",
       "      <td>...</td>\n",
       "      <td>...</td>\n",
       "      <td>...</td>\n",
       "      <td>...</td>\n",
       "      <td>...</td>\n",
       "      <td>...</td>\n",
       "      <td>...</td>\n",
       "      <td>...</td>\n",
       "      <td>...</td>\n",
       "    </tr>\n",
       "    <tr>\n",
       "      <th>306297</th>\n",
       "      <td>-0.026338</td>\n",
       "      <td>-0.098938</td>\n",
       "      <td>-0.099987</td>\n",
       "      <td>-0.109987</td>\n",
       "      <td>-0.608067</td>\n",
       "      <td>1.635935</td>\n",
       "      <td>-0.572713</td>\n",
       "      <td>-0.517228</td>\n",
       "      <td>-0.597751</td>\n",
       "      <td>-0.582666</td>\n",
       "      <td>...</td>\n",
       "      <td>0.112476</td>\n",
       "      <td>-0.04553</td>\n",
       "      <td>-0.032428</td>\n",
       "      <td>-0.046761</td>\n",
       "      <td>-0.025907</td>\n",
       "      <td>-0.054984</td>\n",
       "      <td>-0.038588</td>\n",
       "      <td>-0.031025</td>\n",
       "      <td>-0.032553</td>\n",
       "      <td>0.112476</td>\n",
       "    </tr>\n",
       "    <tr>\n",
       "      <th>306299</th>\n",
       "      <td>-0.195657</td>\n",
       "      <td>-0.098938</td>\n",
       "      <td>-0.099987</td>\n",
       "      <td>-0.109987</td>\n",
       "      <td>-0.608067</td>\n",
       "      <td>1.635935</td>\n",
       "      <td>-0.572713</td>\n",
       "      <td>-0.517228</td>\n",
       "      <td>-0.597751</td>\n",
       "      <td>-0.582666</td>\n",
       "      <td>...</td>\n",
       "      <td>0.112476</td>\n",
       "      <td>-0.04553</td>\n",
       "      <td>-0.032428</td>\n",
       "      <td>-0.046761</td>\n",
       "      <td>-0.025907</td>\n",
       "      <td>-0.054984</td>\n",
       "      <td>-0.038588</td>\n",
       "      <td>-0.031025</td>\n",
       "      <td>-0.032553</td>\n",
       "      <td>0.112476</td>\n",
       "    </tr>\n",
       "    <tr>\n",
       "      <th>306303</th>\n",
       "      <td>0.007023</td>\n",
       "      <td>-0.098938</td>\n",
       "      <td>-0.099987</td>\n",
       "      <td>-0.109987</td>\n",
       "      <td>-0.608067</td>\n",
       "      <td>1.635935</td>\n",
       "      <td>-0.572713</td>\n",
       "      <td>-0.517228</td>\n",
       "      <td>-0.597751</td>\n",
       "      <td>-0.582666</td>\n",
       "      <td>...</td>\n",
       "      <td>0.112476</td>\n",
       "      <td>-0.04553</td>\n",
       "      <td>-0.032428</td>\n",
       "      <td>-0.046761</td>\n",
       "      <td>-0.025907</td>\n",
       "      <td>-0.054984</td>\n",
       "      <td>-0.038588</td>\n",
       "      <td>-0.031025</td>\n",
       "      <td>-0.032553</td>\n",
       "      <td>0.112476</td>\n",
       "    </tr>\n",
       "    <tr>\n",
       "      <th>306306</th>\n",
       "      <td>-0.122327</td>\n",
       "      <td>-0.098938</td>\n",
       "      <td>-0.099987</td>\n",
       "      <td>-0.109987</td>\n",
       "      <td>-0.608067</td>\n",
       "      <td>1.635935</td>\n",
       "      <td>-0.572713</td>\n",
       "      <td>-0.517228</td>\n",
       "      <td>-0.597751</td>\n",
       "      <td>-0.582666</td>\n",
       "      <td>...</td>\n",
       "      <td>0.112476</td>\n",
       "      <td>-0.04553</td>\n",
       "      <td>-0.032428</td>\n",
       "      <td>-0.046761</td>\n",
       "      <td>-0.025907</td>\n",
       "      <td>-0.054984</td>\n",
       "      <td>-0.038588</td>\n",
       "      <td>-0.031025</td>\n",
       "      <td>-0.032553</td>\n",
       "      <td>0.112476</td>\n",
       "    </tr>\n",
       "    <tr>\n",
       "      <th>306307</th>\n",
       "      <td>0.154312</td>\n",
       "      <td>-0.098938</td>\n",
       "      <td>-0.099987</td>\n",
       "      <td>-0.109987</td>\n",
       "      <td>-0.608067</td>\n",
       "      <td>1.635935</td>\n",
       "      <td>-0.572713</td>\n",
       "      <td>-0.517228</td>\n",
       "      <td>-0.597751</td>\n",
       "      <td>-0.582666</td>\n",
       "      <td>...</td>\n",
       "      <td>0.112476</td>\n",
       "      <td>-0.04553</td>\n",
       "      <td>-0.032428</td>\n",
       "      <td>-0.046761</td>\n",
       "      <td>-0.025907</td>\n",
       "      <td>-0.054984</td>\n",
       "      <td>-0.038588</td>\n",
       "      <td>-0.031025</td>\n",
       "      <td>-0.032553</td>\n",
       "      <td>0.112476</td>\n",
       "    </tr>\n",
       "  </tbody>\n",
       "</table>\n",
       "<p>123751 rows × 32 columns</p>\n",
       "</div>"
      ],
      "text/plain": [
       "          amount  potential_reward  difficulty  duration  age_bucket_18-39  age_bucket_40-54  age_bucket_55-66  age_bucket_67+  income_bucket_0-46000  income_bucket_46001-60000  ...  offer_type_no_offer_type  offer_id_0b1e1539f2cc45b7b9fa7c272da2e1d7  offer_id_2298d6c36e964ae4a3e7e9706d1fb8c2  offer_id_2906b810c7d4411798c6938adc9daaa5  offer_id_4d5c57ea9a6940dd891ad53e9dbe8da0  offer_id_9b98b8c7a33c4b65b9aebfe6a799e6d9  offer_id_ae264e3637204a6fb9bb56bc8210ddfd  offer_id_f19421c1d4aa40978ebb69ca19b0e20d  offer_id_fafdcd668e3743c1bb461111dcafc2a4  offer_id_no_special_offer\n",
       "2       0.256596         -0.098938   -0.099987 -0.109987          1.644556         -0.611271         -0.572713       -0.517228              -0.597751                  -0.582666  ...                  0.112476                                   -0.04553                                  -0.032428                                  -0.046761                                  -0.025907                                  -0.054984                                  -0.038588                                  -0.031025                                  -0.032553                   0.112476\n",
       "6      -0.171109          7.953980    3.978281  5.767455          1.644556         -0.611271         -0.572713       -0.517228              -0.597751                  -0.582666  ...                 -8.890778                                   -0.04553                                  -0.032428                                  -0.046761                                  -0.025907                                  -0.054984                                  -0.038588                                  32.232350                                  -0.032553                  -8.890778\n",
       "10      0.003246         -0.098938   -0.099987 -0.109987          1.644556         -0.611271         -0.572713       -0.517228              -0.597751                  -0.582666  ...                  0.112476                                   -0.04553                                  -0.032428                                  -0.046761                                  -0.025907                                  -0.054984                                  -0.038588                                  -0.031025                                  -0.032553                   0.112476\n",
       "13     -0.014064         -0.098938   -0.099987 -0.109987          1.644556         -0.611271         -0.572713       -0.517228              -0.597751                  -0.582666  ...                  0.112476                                   -0.04553                                  -0.032428                                  -0.046761                                  -0.025907                                  -0.054984                                  -0.038588                                  -0.031025                                  -0.032553                   0.112476\n",
       "15     -0.117607         -0.098938   -0.099987 -0.109987          1.644556         -0.611271         -0.572713       -0.517228              -0.597751                  -0.582666  ...                  0.112476                                   -0.04553                                  -0.032428                                  -0.046761                                  -0.025907                                  -0.054984                                  -0.038588                                  -0.031025                                  -0.032553                   0.112476\n",
       "...          ...               ...         ...       ...               ...               ...               ...             ...                    ...                        ...  ...                       ...                                        ...                                        ...                                        ...                                        ...                                        ...                                        ...                                        ...                                        ...                        ...\n",
       "306297 -0.026338         -0.098938   -0.099987 -0.109987         -0.608067          1.635935         -0.572713       -0.517228              -0.597751                  -0.582666  ...                  0.112476                                   -0.04553                                  -0.032428                                  -0.046761                                  -0.025907                                  -0.054984                                  -0.038588                                  -0.031025                                  -0.032553                   0.112476\n",
       "306299 -0.195657         -0.098938   -0.099987 -0.109987         -0.608067          1.635935         -0.572713       -0.517228              -0.597751                  -0.582666  ...                  0.112476                                   -0.04553                                  -0.032428                                  -0.046761                                  -0.025907                                  -0.054984                                  -0.038588                                  -0.031025                                  -0.032553                   0.112476\n",
       "306303  0.007023         -0.098938   -0.099987 -0.109987         -0.608067          1.635935         -0.572713       -0.517228              -0.597751                  -0.582666  ...                  0.112476                                   -0.04553                                  -0.032428                                  -0.046761                                  -0.025907                                  -0.054984                                  -0.038588                                  -0.031025                                  -0.032553                   0.112476\n",
       "306306 -0.122327         -0.098938   -0.099987 -0.109987         -0.608067          1.635935         -0.572713       -0.517228              -0.597751                  -0.582666  ...                  0.112476                                   -0.04553                                  -0.032428                                  -0.046761                                  -0.025907                                  -0.054984                                  -0.038588                                  -0.031025                                  -0.032553                   0.112476\n",
       "306307  0.154312         -0.098938   -0.099987 -0.109987         -0.608067          1.635935         -0.572713       -0.517228              -0.597751                  -0.582666  ...                  0.112476                                   -0.04553                                  -0.032428                                  -0.046761                                  -0.025907                                  -0.054984                                  -0.038588                                  -0.031025                                  -0.032553                   0.112476\n",
       "\n",
       "[123751 rows x 32 columns]"
      ]
     },
     "execution_count": 636,
     "metadata": {},
     "output_type": "execute_result"
    }
   ],
   "source": [
    "df"
   ]
  },
  {
   "cell_type": "code",
   "execution_count": 655,
   "metadata": {},
   "outputs": [],
   "source": [
    "df.loc[:, \"channels\"] = df[\"channels\"].astype(\"str\")\n",
    "df.loc[:, \"channels\"] = df[\"channels\"].astype(\"category\")\n",
    "df.loc[:, \"gender\"] = df[\"gender\"].astype(\"category\")\n",
    "df.loc[:, \"offer_type\"] = df[\"offer_type\"].astype(\"category\")\n"
   ]
  },
  {
   "cell_type": "code",
   "execution_count": 622,
   "metadata": {},
   "outputs": [
    {
     "data": {
      "text/plain": [
       "[no_channel, ['web', 'email', 'mobile', 'social'], ['web', 'email'], ['email', 'mobile', 'social'], ['web', 'email', 'mobile']]\n",
       "Categories (5, object): [no_channel, ['web', 'email', 'mobile', 'social'], ['web', 'email'], ['email', 'mobile', 'social'], ['web', 'email', 'mobile']]"
      ]
     },
     "execution_count": 622,
     "metadata": {},
     "output_type": "execute_result"
    }
   ],
   "source": [
    "df[\"channels\"].unique()"
   ]
  },
  {
   "cell_type": "code",
   "execution_count": 656,
   "metadata": {},
   "outputs": [],
   "source": [
    "channel_old = [\"no_channel\", \"['web', 'email', 'mobile', 'social']\", \"['web', 'email', 'mobile']\", \"['web', 'email']\", \"['email', 'mobile', 'social']\"]\n",
    "channel_new = [\"no_channel\", \"all_channels\", \"no_social\", \"no_web_social\", \"no_web\"]\n",
    "\n",
    "df['channels'] = df['channels'].replace(channel_old, channel_new)\n"
   ]
  },
  {
   "cell_type": "code",
   "execution_count": 657,
   "metadata": {},
   "outputs": [],
   "source": [
    "df.loc[:, \"channels\"] = df[\"channels\"].astype(\"category\")"
   ]
  },
  {
   "cell_type": "code",
   "execution_count": 658,
   "metadata": {},
   "outputs": [
    {
     "data": {
      "text/plain": [
       "'channels'"
      ]
     },
     "metadata": {},
     "output_type": "display_data"
    },
    {
     "data": {
      "text/plain": [
       "no_channel       136459\n",
       "no_social           657\n",
       "all_channels        480\n",
       "no_web_social       254\n",
       "no_web              183\n",
       "Name: channels, dtype: int64"
      ]
     },
     "metadata": {},
     "output_type": "display_data"
    },
    {
     "data": {
      "text/plain": [
       "'offer_type'"
      ]
     },
     "metadata": {},
     "output_type": "display_data"
    },
    {
     "data": {
      "text/plain": [
       "no_offer_type    136459\n",
       "discount            797\n",
       "bogo                777\n",
       "Name: offer_type, dtype: int64"
      ]
     },
     "metadata": {},
     "output_type": "display_data"
    },
    {
     "data": {
      "text/plain": [
       "'gender'"
      ]
     },
     "metadata": {},
     "output_type": "display_data"
    },
    {
     "data": {
      "text/plain": [
       "M    72277\n",
       "F    49075\n",
       "O     1769\n",
       "Name: gender, dtype: int64"
      ]
     },
     "metadata": {},
     "output_type": "display_data"
    },
    {
     "data": {
      "text/plain": [
       "'age_bucket'"
      ]
     },
     "metadata": {},
     "output_type": "display_data"
    },
    {
     "data": {
      "text/plain": [
       "40-54    33508\n",
       "18-39    33232\n",
       "55-66    30394\n",
       "67+      25987\n",
       "Name: age_bucket, dtype: int64"
      ]
     },
     "metadata": {},
     "output_type": "display_data"
    },
    {
     "data": {
      "text/plain": [
       "'income_bucket'"
      ]
     },
     "metadata": {},
     "output_type": "display_data"
    },
    {
     "data": {
      "text/plain": [
       "0-46000        32414\n",
       "46001-60000    31218\n",
       "60001-74000    30642\n",
       "74001+         28847\n",
       "Name: income_bucket, dtype: int64"
      ]
     },
     "metadata": {},
     "output_type": "display_data"
    }
   ],
   "source": [
    "\n",
    "for column in df.select_dtypes(include=['category']).columns:\n",
    "    display(column, df[column].value_counts())"
   ]
  },
  {
   "cell_type": "code",
   "execution_count": 659,
   "metadata": {},
   "outputs": [
    {
     "data": {
      "image/png": "[encoded data removed]",
      "text/plain": [
       "<Figure size 720x720 with 9 Axes>"
      ]
     },
     "metadata": {
      "needs_background": "light"
     },
     "output_type": "display_data"
    }
   ],
   "source": [
    "# build histograms for each numeric feature\n",
    "%matplotlib inline\n",
    "hist = df.hist(bins=30, sharey=False, figsize=(10, 10))"
   ]
  },
  {
   "cell_type": "code",
   "execution_count": 662,
   "metadata": {},
   "outputs": [
    {
     "data": {
      "text/plain": [
       "<matplotlib.axes._subplots.AxesSubplot at 0x7fbcddfbae48>"
      ]
     },
     "execution_count": 662,
     "metadata": {},
     "output_type": "execute_result"
    },
    {
     "data": {
      "image/png": "[encoded data removed]",
      "text/plain": [
       "<Figure size 1440x1440 with 2 Axes>"
      ]
     },
     "metadata": {
      "needs_background": "light"
     },
     "output_type": "display_data"
    }
   ],
   "source": [
    "import seaborn as sns\n",
    "from matplotlib import pyplot as plt\n",
    "\n",
    "plt.figure(figsize=[20,20])\n",
    "sns.heatmap(df.corr(), annot=True, fmt='.2f',square=True, cmap='vlag', center=0, vmax=0.05)\n",
    "\n",
    "## Amount most strongely correlates with income"
   ]
  },
  {
   "cell_type": "code",
   "execution_count": 660,
   "metadata": {},
   "outputs": [],
   "source": [
    "corr = df.corr()"
   ]
  },
  {
   "cell_type": "code",
   "execution_count": 661,
   "metadata": {},
   "outputs": [
    {
     "data": {
      "text/html": [
       "<div>\n",
       "<style scoped>\n",
       "    .dataframe tbody tr th:only-of-type {\n",
       "        vertical-align: middle;\n",
       "    }\n",
       "\n",
       "    .dataframe tbody tr th {\n",
       "        vertical-align: top;\n",
       "    }\n",
       "\n",
       "    .dataframe thead th {\n",
       "        text-align: right;\n",
       "    }\n",
       "</style>\n",
       "<table border=\"1\" class=\"dataframe\">\n",
       "  <thead>\n",
       "    <tr style=\"text-align: right;\">\n",
       "      <th></th>\n",
       "      <th>time</th>\n",
       "      <th>amount</th>\n",
       "      <th>potential_reward</th>\n",
       "      <th>difficulty</th>\n",
       "      <th>duration</th>\n",
       "      <th>age</th>\n",
       "      <th>income</th>\n",
       "      <th>days_member</th>\n",
       "      <th>years_member</th>\n",
       "    </tr>\n",
       "  </thead>\n",
       "  <tbody>\n",
       "    <tr>\n",
       "      <th>time</th>\n",
       "      <td>1.000000</td>\n",
       "      <td>-0.002319</td>\n",
       "      <td>0.018049</td>\n",
       "      <td>0.021526</td>\n",
       "      <td>0.021654</td>\n",
       "      <td>0.006957</td>\n",
       "      <td>0.003274</td>\n",
       "      <td>-0.004864</td>\n",
       "      <td>-0.003354</td>\n",
       "    </tr>\n",
       "    <tr>\n",
       "      <th>amount</th>\n",
       "      <td>-0.002319</td>\n",
       "      <td>1.000000</td>\n",
       "      <td>0.079619</td>\n",
       "      <td>0.093576</td>\n",
       "      <td>0.089432</td>\n",
       "      <td>-0.081869</td>\n",
       "      <td>0.686878</td>\n",
       "      <td>-0.069112</td>\n",
       "      <td>-0.061020</td>\n",
       "    </tr>\n",
       "    <tr>\n",
       "      <th>potential_reward</th>\n",
       "      <td>0.018049</td>\n",
       "      <td>0.079619</td>\n",
       "      <td>1.000000</td>\n",
       "      <td>0.790187</td>\n",
       "      <td>0.831183</td>\n",
       "      <td>-0.005471</td>\n",
       "      <td>0.046378</td>\n",
       "      <td>-0.015743</td>\n",
       "      <td>-0.014401</td>\n",
       "    </tr>\n",
       "    <tr>\n",
       "      <th>difficulty</th>\n",
       "      <td>0.021526</td>\n",
       "      <td>0.093576</td>\n",
       "      <td>0.790187</td>\n",
       "      <td>1.000000</td>\n",
       "      <td>0.938421</td>\n",
       "      <td>-0.004366</td>\n",
       "      <td>0.055029</td>\n",
       "      <td>-0.016864</td>\n",
       "      <td>-0.015550</td>\n",
       "    </tr>\n",
       "    <tr>\n",
       "      <th>duration</th>\n",
       "      <td>0.021654</td>\n",
       "      <td>0.089432</td>\n",
       "      <td>0.831183</td>\n",
       "      <td>0.938421</td>\n",
       "      <td>1.000000</td>\n",
       "      <td>-0.005625</td>\n",
       "      <td>0.049838</td>\n",
       "      <td>-0.019503</td>\n",
       "      <td>-0.017756</td>\n",
       "    </tr>\n",
       "    <tr>\n",
       "      <th>age</th>\n",
       "      <td>0.006957</td>\n",
       "      <td>-0.081869</td>\n",
       "      <td>-0.005471</td>\n",
       "      <td>-0.004366</td>\n",
       "      <td>-0.005625</td>\n",
       "      <td>1.000000</td>\n",
       "      <td>0.282693</td>\n",
       "      <td>-0.044668</td>\n",
       "      <td>-0.045232</td>\n",
       "    </tr>\n",
       "    <tr>\n",
       "      <th>income</th>\n",
       "      <td>0.003274</td>\n",
       "      <td>0.686878</td>\n",
       "      <td>0.046378</td>\n",
       "      <td>0.055029</td>\n",
       "      <td>0.049838</td>\n",
       "      <td>0.282693</td>\n",
       "      <td>1.000000</td>\n",
       "      <td>-0.027806</td>\n",
       "      <td>-0.024614</td>\n",
       "    </tr>\n",
       "    <tr>\n",
       "      <th>days_member</th>\n",
       "      <td>-0.004864</td>\n",
       "      <td>-0.069112</td>\n",
       "      <td>-0.015743</td>\n",
       "      <td>-0.016864</td>\n",
       "      <td>-0.019503</td>\n",
       "      <td>-0.044668</td>\n",
       "      <td>-0.027806</td>\n",
       "      <td>1.000000</td>\n",
       "      <td>0.971353</td>\n",
       "    </tr>\n",
       "    <tr>\n",
       "      <th>years_member</th>\n",
       "      <td>-0.003354</td>\n",
       "      <td>-0.061020</td>\n",
       "      <td>-0.014401</td>\n",
       "      <td>-0.015550</td>\n",
       "      <td>-0.017756</td>\n",
       "      <td>-0.045232</td>\n",
       "      <td>-0.024614</td>\n",
       "      <td>0.971353</td>\n",
       "      <td>1.000000</td>\n",
       "    </tr>\n",
       "  </tbody>\n",
       "</table>\n",
       "</div>"
      ],
      "text/plain": [
       "                      time    amount  potential_reward  difficulty  duration       age    income  days_member  years_member\n",
       "time              1.000000 -0.002319          0.018049    0.021526  0.021654  0.006957  0.003274    -0.004864     -0.003354\n",
       "amount           -0.002319  1.000000          0.079619    0.093576  0.089432 -0.081869  0.686878    -0.069112     -0.061020\n",
       "potential_reward  0.018049  0.079619          1.000000    0.790187  0.831183 -0.005471  0.046378    -0.015743     -0.014401\n",
       "difficulty        0.021526  0.093576          0.790187    1.000000  0.938421 -0.004366  0.055029    -0.016864     -0.015550\n",
       "duration          0.021654  0.089432          0.831183    0.938421  1.000000 -0.005625  0.049838    -0.019503     -0.017756\n",
       "age               0.006957 -0.081869         -0.005471   -0.004366 -0.005625  1.000000  0.282693    -0.044668     -0.045232\n",
       "income            0.003274  0.686878          0.046378    0.055029  0.049838  0.282693  1.000000    -0.027806     -0.024614\n",
       "days_member      -0.004864 -0.069112         -0.015743   -0.016864 -0.019503 -0.044668 -0.027806     1.000000      0.971353\n",
       "years_member     -0.003354 -0.061020         -0.014401   -0.015550 -0.017756 -0.045232 -0.024614     0.971353      1.000000"
      ]
     },
     "execution_count": 661,
     "metadata": {},
     "output_type": "execute_result"
    }
   ],
   "source": [
    "corr"
   ]
  },
  {
   "cell_type": "markdown",
   "metadata": {},
   "source": [
    "# Definition"
   ]
  },
  {
   "cell_type": "markdown",
   "metadata": {},
   "source": [
    "## Project overview\n",
    "\n",
    "will build a machine learning model that predicts how much someone will spend based on demographics and offer type"
   ]
  },
  {
   "cell_type": "markdown",
   "metadata": {},
   "source": [
    "## Project Statement\n",
    "Starbucks wants blabka\n",
    "\n",
    "Ex: \n",
    "The problem with restaurants and food-related businesses is not knowing future demand for your services. Because this is an unknown, you may create or purchase too much or too little of an item. Furthermore, there are also operational costs associated with not knowing demand as it may require additional personal and equipment. This leads to a mismatch in demand between the business and the customer, leading to a poor experience."
   ]
  },
  {
   "cell_type": "markdown",
   "metadata": {},
   "source": [
    "## Objective\n",
    "\n",
    "Predict demand based on the restaurant's risk tolerance, and create \"what if\" scenarios to better prepare the business. This creates new tools for the restaurants to better serve their customer and overall create an improved experience."
   ]
  },
  {
   "cell_type": "code",
   "execution_count": null,
   "metadata": {},
   "outputs": [],
   "source": []
  },
  {
   "cell_type": "markdown",
   "metadata": {},
   "source": [
    "# Analysis"
   ]
  },
  {
   "cell_type": "code",
   "execution_count": 663,
   "metadata": {},
   "outputs": [
    {
     "data": {
      "text/plain": [
       "Index(['person', 'event', 'time', 'amount', 'offer_id', 'potential_reward', 'channels', 'difficulty', 'duration', 'offer_type', 'gender', 'age', 'income', 'age_bucket', 'income_bucket', 'days_member', 'years_member'], dtype='object')"
      ]
     },
     "execution_count": 663,
     "metadata": {},
     "output_type": "execute_result"
    }
   ],
   "source": [
    "df.columns\n"
   ]
  },
  {
   "cell_type": "code",
   "execution_count": 664,
   "metadata": {},
   "outputs": [],
   "source": [
    "### Creating new features \n",
    "\n",
    "age_bucket_one_hot_df = pd.get_dummies(df.age_bucket, prefix=\"age_bucket\")\n",
    "df[age_bucket_one_hot_df.columns.tolist()] = age_bucket_one_hot_df"
   ]
  },
  {
   "cell_type": "code",
   "execution_count": 665,
   "metadata": {},
   "outputs": [],
   "source": [
    "income_bucket_one_hot_df = pd.get_dummies(df.income_bucket, prefix=\"income_bucket\")\n",
    "df[income_bucket_one_hot_df.columns.tolist()] = income_bucket_one_hot_df"
   ]
  },
  {
   "cell_type": "code",
   "execution_count": 666,
   "metadata": {},
   "outputs": [],
   "source": [
    "channels_one_hot_df = pd.get_dummies(df.channels, prefix=\"channel\")\n",
    "df[channels_one_hot_df.columns.tolist()] = channels_one_hot_df"
   ]
  },
  {
   "cell_type": "code",
   "execution_count": 667,
   "metadata": {},
   "outputs": [],
   "source": [
    "gender_one_hot_df = pd.get_dummies(df.gender, prefix=\"gender\")\n",
    "df[gender_one_hot_df.columns.tolist()] = gender_one_hot_df"
   ]
  },
  {
   "cell_type": "code",
   "execution_count": 668,
   "metadata": {},
   "outputs": [],
   "source": [
    "offer_type_one_hot_df = pd.get_dummies(df.offer_type, prefix=\"offer_type\")\n",
    "df[offer_type_one_hot_df.columns.tolist()] = offer_type_one_hot_df"
   ]
  },
  {
   "cell_type": "code",
   "execution_count": 669,
   "metadata": {},
   "outputs": [],
   "source": [
    "offer_id_one_hot_df = pd.get_dummies(df.offer_id, prefix=\"offer_id\")\n",
    "df[offer_id_one_hot_df.columns.tolist()] = offer_id_one_hot_df"
   ]
  },
  {
   "cell_type": "code",
   "execution_count": null,
   "metadata": {},
   "outputs": [],
   "source": []
  },
  {
   "cell_type": "code",
   "execution_count": 670,
   "metadata": {},
   "outputs": [],
   "source": [
    "df = df.drop(columns = ['time', 'days_member', 'person', 'event','age', 'income', 'income_bucket', 'age_bucket', 'channels', 'offer_type', 'gender', 'offer_id'])"
   ]
  },
  {
   "cell_type": "code",
   "execution_count": 671,
   "metadata": {},
   "outputs": [],
   "source": [
    "# Standarize feature values to have a zero mean\n",
    "from sklearn.preprocessing import StandardScaler\n",
    "scaler = StandardScaler()\n",
    "scaler.fit(df[df.columns])\n",
    "df.loc[:, df.columns] = scaler.transform(df[df.columns])"
   ]
  },
  {
   "cell_type": "code",
   "execution_count": 672,
   "metadata": {},
   "outputs": [
    {
     "data": {
      "text/plain": [
       "Index(['amount', 'potential_reward', 'difficulty', 'duration', 'years_member', 'age_bucket_18-39', 'age_bucket_40-54', 'age_bucket_55-66', 'age_bucket_67+', 'income_bucket_0-46000', 'income_bucket_46001-60000', 'income_bucket_60001-74000', 'income_bucket_74001+', 'channel_all_channels', 'channel_no_channel', 'channel_no_social', 'channel_no_web', 'channel_no_web_social', 'gender_F', 'gender_M', 'gender_O', 'offer_type_bogo', 'offer_type_discount', 'offer_type_no_offer_type', 'offer_id_0b1e1539f2cc45b7b9fa7c272da2e1d7', 'offer_id_2298d6c36e964ae4a3e7e9706d1fb8c2', 'offer_id_2906b810c7d4411798c6938adc9daaa5', 'offer_id_4d5c57ea9a6940dd891ad53e9dbe8da0', 'offer_id_9b98b8c7a33c4b65b9aebfe6a799e6d9', 'offer_id_ae264e3637204a6fb9bb56bc8210ddfd', 'offer_id_f19421c1d4aa40978ebb69ca19b0e20d', 'offer_id_fafdcd668e3743c1bb461111dcafc2a4', 'offer_id_no_special_offer'], dtype='object')"
      ]
     },
     "execution_count": 672,
     "metadata": {},
     "output_type": "execute_result"
    }
   ],
   "source": [
    "df.columns"
   ]
  },
  {
   "cell_type": "code",
   "execution_count": null,
   "metadata": {},
   "outputs": [],
   "source": [
    "## Scatterplots"
   ]
  },
  {
   "cell_type": "code",
   "execution_count": null,
   "metadata": {},
   "outputs": [],
   "source": [
    "fig, axes = plt.subplots(nrows=2, ncols=3, figsize=(12, 8))\n",
    "df.plot(ax=axes[0, 0], x=\"sepal length (cm)\", y=\"sepal width (cm)\", kind=\"scatter\")\n",
    "df.plot(ax=axes[0, 1], x=\"sepal length (cm)\", y=\"petal length (cm)\", kind=\"scatter\")\n",
    "df.plot(ax=axes[0, 2], x=\"sepal length (cm)\", y=\"petal width (cm)\", kind=\"scatter\")\n",
    "df.plot(ax=axes[1, 0], x=\"sepal width (cm)\", y=\"petal length (cm)\", kind=\"scatter\")\n",
    "df.plot(ax=axes[1, 1], x=\"sepal width (cm)\", y=\"petal width (cm)\", kind=\"scatter\")\n",
    "df.plot(ax=axes[1, 2], x=\"petal length (cm)\", y=\"petal width (cm)\", kind=\"scatter\")"
   ]
  },
  {
   "cell_type": "code",
   "execution_count": null,
   "metadata": {},
   "outputs": [],
   "source": []
  },
  {
   "cell_type": "code",
   "execution_count": null,
   "metadata": {},
   "outputs": [],
   "source": [
    "### Splitting train and test datasets"
   ]
  },
  {
   "cell_type": "code",
   "execution_count": 673,
   "metadata": {},
   "outputs": [],
   "source": [
    "df = df.rename(columns={\"amount\": \"target\"})\n"
   ]
  },
  {
   "cell_type": "code",
   "execution_count": 674,
   "metadata": {},
   "outputs": [],
   "source": [
    "# train: 0.8 | test: 0.2\n",
    "df_train, df_test = train_test_split(df, test_size=0.2, random_state=0)\n",
    "\n",
    "## train: 0.6 | validation: 0.2\n",
    "#df_train, df_val = train_test_split(df_train, test_size=0.25, random_state=0)\n",
    "#\n",
    "## Final dataset sizes: train: 0.6, validation: 0.2, text: 0.2,"
   ]
  },
  {
   "cell_type": "code",
   "execution_count": 675,
   "metadata": {},
   "outputs": [
    {
     "name": "stdout",
     "output_type": "stream",
     "text": [
      "Train: (110426, 33)\n",
      "Test: (27607, 33)\n"
     ]
    }
   ],
   "source": [
    "print(f\"Train: {df_train.shape}\")\n",
    "#print(f\"Validation: {df_val.shape}\")\n",
    "print(f\"Test: {df_test.shape}\")"
   ]
  },
  {
   "cell_type": "markdown",
   "metadata": {},
   "source": [
    "# Save all clean data, and the train, validation, test data as csv\n",
    "df.to_csv(\"data_clean.csv\", index=False)\n",
    "df_train.to_csv(\"train.csv\", index=False)\n",
    "df_val.to_csv(\"validation.csv\", index=False)\n",
    "df_test.to_csv(\"test.csv\", index=False)"
   ]
  },
  {
   "cell_type": "code",
   "execution_count": null,
   "metadata": {},
   "outputs": [],
   "source": []
  },
  {
   "cell_type": "code",
   "execution_count": null,
   "metadata": {},
   "outputs": [],
   "source": [
    "# Baseline: Linear regression?"
   ]
  },
  {
   "cell_type": "code",
   "execution_count": 679,
   "metadata": {
    "scrolled": true
   },
   "outputs": [
    {
     "data": {
      "text/plain": [
       "0.5546256993593426"
      ]
     },
     "execution_count": 679,
     "metadata": {},
     "output_type": "execute_result"
    }
   ],
   "source": [
    "import pandas as pd\n",
    "from sklearn.linear_model import LinearRegression\n",
    "\n",
    "\n",
    "# regression model\n",
    "reg = LinearRegression().fit(df[[col for col in df.columns if col !='target']], df[\"target\"])\n",
    "reg.score(df[[col for col in df.columns if col !='target']], df[\"target\"])"
   ]
  },
  {
   "cell_type": "code",
   "execution_count": 681,
   "metadata": {},
   "outputs": [],
   "source": [
    "import numpy as np\n",
    "import pandas as pd\n",
    "from sklearn import datasets\n",
    "from sklearn.metrics import r2_score, accuracy_score\n",
    "from sklearn.model_selection import train_test_split\n",
    "import xgboost as xgb"
   ]
  },
  {
   "cell_type": "code",
   "execution_count": 434,
   "metadata": {},
   "outputs": [
    {
     "name": "stdout",
     "output_type": "stream",
     "text": [
      "Looking in indexes: https://tools.adidas-group.com/artifactory/api/pypi/pypi-trading-sciences/simple\n",
      "Requirement already satisfied: xgboost in /Users/mayrkah/anaconda3/lib/python3.7/site-packages (1.2.1)\n",
      "Requirement already satisfied: numpy in /Users/mayrkah/anaconda3/lib/python3.7/site-packages (from xgboost) (1.21.0)\n",
      "Requirement already satisfied: scipy in /Users/mayrkah/anaconda3/lib/python3.7/site-packages (from xgboost) (1.4.1)\n"
     ]
    }
   ],
   "source": [
    "### Using XGBoost\n",
    "\n",
    "!pip install xgboost"
   ]
  },
  {
   "cell_type": "code",
   "execution_count": 474,
   "metadata": {},
   "outputs": [],
   "source": []
  },
  {
   "cell_type": "code",
   "execution_count": 682,
   "metadata": {},
   "outputs": [],
   "source": [
    "# Load your train/test dataframe into DMatrix\n",
    "dtrain = xgb.DMatrix(\n",
    "    df_train.loc[:, df_train.columns != \"target\"], label=df_train[\"target\"]\n",
    ")\n",
    "dtest = xgb.DMatrix(\n",
    "    df_test.loc[:, df_test.columns != \"target\"], label=df_test[\"target\"]\n",
    ")"
   ]
  },
  {
   "cell_type": "code",
   "execution_count": 700,
   "metadata": {},
   "outputs": [],
   "source": [
    "# How does the model perform on the training dataset and default model parameters?\n",
    "# Using the hyperparameters in the requirements, is there improvement?\n",
    "# Remember we use the test dataset to score the model\n",
    "param = {\n",
    "    \"max_depth\": 20,\n",
    "    \"eta\": 0.03,\n",
    "    \"gamma\": 0.09,\n",
    "    \"colsample_bytree\": 0.5,\n",
    "    \"objective\": \"reg:squarederror\",\n",
    "}\n",
    "num_round = 100\n",
    "bst = xgb.train(param, dtrain, num_round)"
   ]
  },
  {
   "cell_type": "code",
   "execution_count": 701,
   "metadata": {},
   "outputs": [],
   "source": [
    "# xgboost is not scikit learn, so you'll need to do predictions using their API\n",
    "preds = bst.predict(dtest)"
   ]
  },
  {
   "cell_type": "code",
   "execution_count": 702,
   "metadata": {},
   "outputs": [
    {
     "data": {
      "text/plain": [
       "27607"
      ]
     },
     "execution_count": 702,
     "metadata": {},
     "output_type": "execute_result"
    }
   ],
   "source": [
    "len(preds)"
   ]
  },
  {
   "cell_type": "code",
   "execution_count": 703,
   "metadata": {},
   "outputs": [
    {
     "data": {
      "text/plain": [
       "116235    0.788487\n",
       "281783   -0.539785\n",
       "225425    0.729244\n",
       "242114    1.026495\n",
       "173879   -1.041784\n",
       "            ...   \n",
       "228677   -0.302816\n",
       "248542   -0.882766\n",
       "304949    2.196787\n",
       "262450    0.551518\n",
       "161498   -1.121813\n",
       "Name: target, Length: 27607, dtype: float64"
      ]
     },
     "execution_count": 703,
     "metadata": {},
     "output_type": "execute_result"
    }
   ],
   "source": [
    "df_test[\"target\"]"
   ]
  },
  {
   "cell_type": "code",
   "execution_count": 704,
   "metadata": {},
   "outputs": [
    {
     "data": {
      "text/plain": [
       "0.5718712267728892"
      ]
     },
     "execution_count": 704,
     "metadata": {},
     "output_type": "execute_result"
    }
   ],
   "source": [
    "# R2 score using scikit learn function for regression metric\n",
    "r2_score(df_test[\"target\"], preds)"
   ]
  },
  {
   "cell_type": "code",
   "execution_count": 705,
   "metadata": {},
   "outputs": [
    {
     "data": {
      "text/plain": [
       "<matplotlib.axes._subplots.AxesSubplot at 0x7fbcd9c47eb8>"
      ]
     },
     "execution_count": 705,
     "metadata": {},
     "output_type": "execute_result"
    },
    {
     "data": {
      "image/png": "[encoded data removed]",
      "text/plain": [
       "<Figure size 432x288 with 1 Axes>"
      ]
     },
     "metadata": {
      "needs_background": "light"
     },
     "output_type": "display_data"
    }
   ],
   "source": [
    "# Plot the importance of the features based on fitted trees\n",
    "xgb.plot_importance(bst)"
   ]
  },
  {
   "cell_type": "code",
   "execution_count": null,
   "metadata": {},
   "outputs": [],
   "source": []
  },
  {
   "cell_type": "code",
   "execution_count": null,
   "metadata": {},
   "outputs": [],
   "source": []
  },
  {
   "cell_type": "code",
   "execution_count": null,
   "metadata": {},
   "outputs": [],
   "source": []
  },
  {
   "cell_type": "code",
   "execution_count": null,
   "metadata": {},
   "outputs": [],
   "source": []
  },
  {
   "cell_type": "code",
   "execution_count": null,
   "metadata": {},
   "outputs": [],
   "source": []
  },
  {
   "cell_type": "code",
   "execution_count": null,
   "metadata": {},
   "outputs": [],
   "source": [
    "import os\n",
    "import boto3\n",
    "import sagemaker\n",
    "\n",
    "sess = sagemaker.Session()\n",
    "\n",
    "bucket = sess.default_bucket()\n",
    "print(bucket)\n",
    "prefix = 'bootcamp-xgboost-churn'\n",
    "\n",
    "boto3.Session().resource('s3').Bucket(bucket).Object(\n",
    "    os.path.join(prefix, 'train/train.csv')).upload_file('train.csv')\n",
    "boto3.Session().resource('s3').Bucket(bucket).Object(os.path.join(\n",
    "    prefix, 'validation/validation.csv')).upload_file('validation.csv')"
   ]
  },
  {
   "cell_type": "code",
   "execution_count": null,
   "metadata": {},
   "outputs": [],
   "source": [
    "# Set the IAM Role\n",
    "from sagemaker import get_execution_role\n",
    "\n",
    "role = get_execution_role()\n",
    "print(role)\n",
    "# Get the XGBoost docker image\n",
    "from sagemaker import image_uris\n",
    "container = image_uris.retrieve('xgboost', boto3.Session().region_name, '1.0-1')\n",
    "display(container)"
   ]
  },
  {
   "cell_type": "code",
   "execution_count": null,
   "metadata": {},
   "outputs": [],
   "source": [
    "# Creating the SageMaker Estimator object\n",
    "import sagemaker\n",
    "sess = sagemaker.Session()\n",
    "\n",
    "xgb = sagemaker.estimator.Estimator(\n",
    "    image_uri=container,\n",
    "    role=role,\n",
    "    sagemaker_session =sess,\n",
    "    instance_count =1,\n",
    "    instance_type=\"ml.m4.xlarge\",\n",
    "    max_run=2000,\n",
    "    max_wait = 2500,\n",
    "    use_spot_instances=True #Save up to 90%\n",
    ")"
   ]
  },
  {
   "cell_type": "code",
   "execution_count": null,
   "metadata": {},
   "outputs": [],
   "source": [
    "# Set the hyperparameters\n",
    "xgb.set_hyperparameters(\n",
    "    objective=\"binary:logistic\",\n",
    "    num_round=1000,\n",
    "    max_depth=100,\n",
    "    subsample=0.8,\n",
    "    eta=0.1,\n",
    "    gamma=1\n",
    ")"
   ]
  },
  {
   "cell_type": "code",
   "execution_count": null,
   "metadata": {},
   "outputs": [],
   "source": [
    "# Configuring the data inputs\n",
    "s3_input_train = sagemaker.inputs.TrainingInput(\n",
    "    s3_data='s3://{}/{}/train'.format(bucket, prefix), content_type='csv')\n",
    "s3_input_validation = sagemaker.inputs.TrainingInput(\n",
    "    s3_data='s3://{}/{}/validation/'.format(bucket, prefix), content_type='csv')"
   ]
  },
  {
   "cell_type": "code",
   "execution_count": null,
   "metadata": {},
   "outputs": [],
   "source": [
    "# Training the model\n",
    "xgb.fit({'train': s3_input_train, 'validation': s3_input_validation})"
   ]
  },
  {
   "cell_type": "code",
   "execution_count": null,
   "metadata": {},
   "outputs": [],
   "source": []
  },
  {
   "cell_type": "code",
   "execution_count": null,
   "metadata": {},
   "outputs": [],
   "source": []
  },
  {
   "cell_type": "code",
   "execution_count": null,
   "metadata": {},
   "outputs": [],
   "source": []
  },
  {
   "cell_type": "code",
   "execution_count": null,
   "metadata": {},
   "outputs": [],
   "source": [
    "# Recreate the Estimator from above\n",
    "# Creating the SageMaker Estimator object\n",
    "xgb = sagemaker.estimator.Estimator(\n",
    "    image_uri=container,\n",
    "    role=role,\n",
    "    sagemaker_session =sess,\n",
    "    instance_count =1,\n",
    "    instance_type=\"ml.m4.xlarge\",\n",
    "    max_run=2000,\n",
    "    max_wait = 2500,\n",
    "    use_spot_instances=True #Save up to 90%\n",
    ")\n"
   ]
  },
  {
   "cell_type": "markdown",
   "metadata": {},
   "source": [
    "### From my nlp project"
   ]
  },
  {
   "cell_type": "code",
   "execution_count": null,
   "metadata": {},
   "outputs": [],
   "source": []
  },
  {
   "cell_type": "code",
   "execution_count": null,
   "metadata": {},
   "outputs": [],
   "source": [
    "training_path= \"s3://{}/{}/\".format(bucket, \"data/dogImages\")\n",
    "s3_output_dir = \"s3://{}/{}/\".format(bucket, \"output\")\n",
    "s3_model_dir = \"s3://{}/{}/\".format(bucket, \"model\")\n",
    "os.environ['SM_CHANNEL_TRAIN']=training_path\n",
    "os.environ['SM_MODEL_DIR']=s3_model_dir\n",
    "os.environ['SM_OUTPUT_DATA_DIR']=s3_output_dir\n"
   ]
  },
  {
   "cell_type": "code",
   "execution_count": null,
   "metadata": {},
   "outputs": [],
   "source": [
    "hyperparameter_ranges = {\n",
    "    \"lr\": ContinuousParameter(0.001, 0.1),\n",
    "    \"batch-size\": CategoricalParameter([32, 64, 128, 256]),\n",
    "}\n",
    "\n",
    "objective_metric_name = \"average test loss\"\n",
    "objective_type = \"Minimize\"\n",
    "metric_definitions = [{\"Name\": \"average test loss\", \"Regex\": \"Test set: Average loss: ([0-9\\\\.]+)\"}]"
   ]
  },
  {
   "cell_type": "code",
   "execution_count": null,
   "metadata": {},
   "outputs": [],
   "source": [
    "#TODO: Create estimators for your HPs\n",
    "from sagemaker.pytorch import PyTorch\n",
    "\n",
    "estimator = PyTorch(\n",
    "    entry_point=\"hpo.py\",\n",
    "    role=sagemaker.get_execution_role(),\n",
    "    py_version='py36',\n",
    "    framework_version=\"1.8\",\n",
    "    instance_count=1,\n",
    "    instance_type=\"ml.g4dn.xlarge\"\n",
    ")\n",
    "\n",
    "tuner = HyperparameterTuner(\n",
    "    estimator,\n",
    "    objective_metric_name,\n",
    "    hyperparameter_ranges,\n",
    "    metric_definitions,\n",
    "    max_jobs=4,\n",
    "    max_parallel_jobs=2,\n",
    "    objective_type=objective_type,\n",
    ")"
   ]
  },
  {
   "cell_type": "code",
   "execution_count": null,
   "metadata": {},
   "outputs": [],
   "source": [
    "# TODO: Get the best estimators and the best HPs\n",
    "\n",
    "best_estimator = tuner.best_estimator()\n",
    "\n",
    "#Get the hyperparameters of the best trained model\n",
    "best_estimator.hyperparameters()"
   ]
  },
  {
   "cell_type": "code",
   "execution_count": null,
   "metadata": {},
   "outputs": [],
   "source": [
    "\n",
    "hyperparameters = {\"lr\": '0.0010890341083269243',\n",
    "                  \"batch-size\": 256}\n",
    "\n",
    "estimator = PyTorch(\n",
    "    role=sagemaker.get_execution_role(),\n",
    "    instance_count=1,\n",
    "    instance_type=\"ml.g4dn.xlarge\",\n",
    "    entry_point=\"train_model.py\",\n",
    "    framework_version=\"1.8\",\n",
    "    py_version=\"py36\",\n",
    "    profiler_config=profiler_config,\n",
    "    hyperparameters=hyperparameters,\n",
    "    debugger_hook_config=debugger_config,\n",
    "    rules=rules,\n",
    ")\n",
    "\n",
    "#os.environ['SM_CHANNEL_TRAIN']=training_path\n",
    "#os.environ['SM_MODEL_DIR']=s3_model_dir\n",
    "#os.environ['SM_OUTPUT_DATA_DIR']=s3_output_dir\n",
    "estimator.fit({\"train\": training_path}, wait=True)"
   ]
  },
  {
   "cell_type": "code",
   "execution_count": null,
   "metadata": {},
   "outputs": [],
   "source": [
    "# TODO: Plot a debutraining_job_name = estimator.latest_training_job.name\n",
    "session = boto3.session.Session()\n",
    "region = session.region_name\n",
    "print(f\"Training jobname: {training_job_name}\")\n",
    "print(f\"Region: {region}\")\n",
    "\n",
    "trial = create_trial(estimator.latest_job_debugger_artifacts_path())\n",
    "\n",
    "print(trial.tensor_names())\n",
    "print(len(trial.tensor(\"NLLLoss_output_0\").steps(mode=ModeKeys.TRAIN)))\n",
    "print(len(trial.tensor(\"NLLLoss_output_0\").steps(mode=ModeKeys.EVAL)))\n"
   ]
  },
  {
   "cell_type": "code",
   "execution_count": null,
   "metadata": {},
   "outputs": [],
   "source": [
    "# TODO: Deploy your model to an endpoint\n",
    "\n",
    "predictor=estimator.deploy(initial_instance_count=1, instance_type=\"ml.t2.medium\") # TODO: Add your deployment configuration like instance type and number of instances"
   ]
  },
  {
   "cell_type": "code",
   "execution_count": null,
   "metadata": {},
   "outputs": [],
   "source": [
    "predictor = sagemaker.predictor.Predictor('pytorch-training-2022-08-09-14-18-19-119', sagemaker_session=sagemaker_session)\n"
   ]
  },
  {
   "cell_type": "code",
   "execution_count": null,
   "metadata": {},
   "outputs": [],
   "source": [
    "response = predictor.predict(data = img_tensor_pred)"
   ]
  },
  {
   "cell_type": "code",
   "execution_count": null,
   "metadata": {},
   "outputs": [],
   "source": [
    "# TODO: Remember to shutdown/delete your endpoint once your work is done\n",
    "predictor.delete_endpoint()"
   ]
  },
  {
   "cell_type": "code",
   "execution_count": null,
   "metadata": {},
   "outputs": [],
   "source": []
  },
  {
   "cell_type": "markdown",
   "metadata": {},
   "source": [
    "#### end"
   ]
  },
  {
   "cell_type": "code",
   "execution_count": null,
   "metadata": {},
   "outputs": [],
   "source": []
  },
  {
   "cell_type": "code",
   "execution_count": null,
   "metadata": {},
   "outputs": [],
   "source": [
    "from sagemaker.tuner import IntegerParameter, CategoricalParameter, ContinuousParameter\n",
    "\n",
    "xgb.set_hyperparameters(objective='binary:logistic',\n",
    "                        num_round=1500)\n",
    "hyperparameter_ranges = { \n",
    "   \"max_depth\": IntegerParameter(10, 2000),\n",
    "    \"eta\":ContinuousParameter(0,1),\n",
    "    \"gamma\":IntegerParameter(4,20),\n",
    "    \"subsample\":ContinuousParameter(0,1)\n",
    "}"
   ]
  },
  {
   "cell_type": "code",
   "execution_count": null,
   "metadata": {},
   "outputs": [],
   "source": [
    "# Compete the statement\n",
    "objective_metric_name = \"validation:auc\""
   ]
  },
  {
   "cell_type": "code",
   "execution_count": null,
   "metadata": {},
   "outputs": [],
   "source": []
  },
  {
   "cell_type": "code",
   "execution_count": null,
   "metadata": {},
   "outputs": [],
   "source": []
  },
  {
   "cell_type": "code",
   "execution_count": null,
   "metadata": {},
   "outputs": [],
   "source": [
    "# Bar plot of all scores from each model fit: all_df_score, val_df_score, val_df_h_score, test_df_h_score\n",
    "pd.Series(\n",
    "    {\n",
    "        \"all_df_score\": all_df_score,\n",
    "        \"val_df_score\": val_df_score,\n",
    "        \"val_df_h_score\": val_df_h_score,\n",
    "        \"test_df_h_score\": test_df_h_score,\n",
    "    }\n",
    ").plot(kind=\"bar\", legend=False, title=\"R2 Score of Ridge Model\")"
   ]
  }
 ],
 "metadata": {
  "kernelspec": {
   "display_name": "Python 3",
   "language": "python",
   "name": "python3"
  },
  "language_info": {
   "codemirror_mode": {
    "name": "ipython",
    "version": 3
   },
   "file_extension": ".py",
   "mimetype": "text/x-python",
   "name": "python",
   "nbconvert_exporter": "python",
   "pygments_lexer": "ipython3",
   "version": "3.7.3"
  }
 },
 "nbformat": 4,
 "nbformat_minor": 2
}
