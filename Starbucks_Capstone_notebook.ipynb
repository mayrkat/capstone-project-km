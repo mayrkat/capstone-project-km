{
 "cells": [
  {
   "cell_type": "markdown",
   "metadata": {},
   "source": [
    "# Starbucks Capstone Challenge\n",
    "\n",
    "### Introduction\n",
    "\n",
    "This data set contains simulated data that mimics customer behavior on the Starbucks rewards mobile app. Once every few days, Starbucks sends out an offer to users of the mobile app. An offer can be merely an advertisement for a drink or an actual offer such as a discount or BOGO (buy one get one free). Some users might not receive any offer during certain weeks. \n",
    "\n",
    "Not all users receive the same offer, and that is the challenge to solve with this data set.\n",
    "\n",
    "Your task is to combine transaction, demographic and offer data to determine which demographic groups respond best to which offer type. This data set is a simplified version of the real Starbucks app because the underlying simulator only has one product whereas Starbucks actually sells dozens of products.\n",
    "\n",
    "Every offer has a validity period before the offer expires. As an example, a BOGO offer might be valid for only 5 days. You'll see in the data set that informational offers have a validity period even though these ads are merely providing information about a product; for example, if an informational offer has 7 days of validity, you can assume the customer is feeling the influence of the offer for 7 days after receiving the advertisement.\n",
    "\n",
    "You'll be given transactional data showing user purchases made on the app including the timestamp of purchase and the amount of money spent on a purchase. This transactional data also has a record for each offer that a user receives as well as a record for when a user actually views the offer. There are also records for when a user completes an offer. \n",
    "\n",
    "Keep in mind as well that someone using the app might make a purchase through the app without having received an offer or seen an offer.\n",
    "\n",
    "### Example\n",
    "\n",
    "To give an example, a user could receive a discount offer buy 10 dollars get 2 off on Monday. The offer is valid for 10 days from receipt. If the customer accumulates at least 10 dollars in purchases during the validity period, the customer completes the offer.\n",
    "\n",
    "However, there are a few things to watch out for in this data set. Customers do not opt into the offers that they receive; in other words, a user can receive an offer, never actually view the offer, and still complete the offer. For example, a user might receive the \"buy 10 dollars get 2 dollars off offer\", but the user never opens the offer during the 10 day validity period. The customer spends 15 dollars during those ten days. There will be an offer completion record in the data set; however, the customer was not influenced by the offer because the customer never viewed the offer.\n",
    "\n",
    "### Cleaning\n",
    "\n",
    "This makes data cleaning especially important and tricky.\n",
    "\n",
    "You'll also want to take into account that some demographic groups will make purchases even if they don't receive an offer. From a business perspective, if a customer is going to make a 10 dollar purchase without an offer anyway, you wouldn't want to send a buy 10 dollars get 2 dollars off offer. You'll want to try to assess what a certain demographic group will buy when not receiving any offers.\n",
    "\n",
    "### Final Advice\n",
    "\n",
    "Because this is a capstone project, you are free to analyze the data any way you see fit. For example, you could build a machine learning model that predicts how much someone will spend based on demographics and offer type. Or you could build a model that predicts whether or not someone will respond to an offer. Or, you don't need to build a machine learning model at all. You could develop a set of heuristics that determine what offer you should send to each customer (i.e., 75 percent of women customers who were 35 years old responded to offer A vs 40 percent from the same demographic to offer B, so send offer A)."
   ]
  },
  {
   "cell_type": "markdown",
   "metadata": {},
   "source": [
    "# Data Sets\n",
    "\n",
    "The data is contained in three files:\n",
    "\n",
    "* portfolio.json - containing offer ids and meta data about each offer (duration, type, etc.)\n",
    "* profile.json - demographic data for each customer\n",
    "* transcript.json - records for transactions, offers received, offers viewed, and offers completed\n",
    "\n",
    "Here is the schema and explanation of each variable in the files:\n",
    "\n",
    "**portfolio.json**\n",
    "* id (string) - offer id\n",
    "* offer_type (string) - type of offer ie BOGO, discount, informational\n",
    "* difficulty (int) - minimum required spend to complete an offer\n",
    "* reward (int) - reward given for completing an offer\n",
    "* duration (int) - time for offer to be open, in days\n",
    "* channels (list of strings)\n",
    "\n",
    "**profile.json**\n",
    "* age (int) - age of the customer missing value encoded as 118\n",
    "* became_member_on (int) - date when customer created an app account\n",
    "* gender (str) - gender of the customer (note some entries contain 'O' for other rather than M or F)\n",
    "* id (str) - customer id\n",
    "* income (float) - customer's income\n",
    "\n",
    "**transcript.json**\n",
    "* event (str) - record description (ie transaction, offer received, offer viewed, etc.)\n",
    "* person (str) - customer id\n",
    "* time (int) - time in hours since start of test. The data begins at time t=0\n",
    "* value - (dict of strings) - either an offer id or transaction amount depending on the record\n",
    "\n",
    "**Note:** If you are using the workspace, you will need to go to the terminal and run the command `conda update pandas` before reading in the files. This is because the version of pandas in the workspace cannot read in the transcript.json file correctly, but the newest version of pandas can. You can access the termnal from the orange icon in the top left of this notebook.  \n",
    "\n",
    "You can see how to access the terminal and how the install works using the two images below.  First you need to access the terminal:\n",
    "\n",
    "<img src=\"pic1.png\"/>\n",
    "\n",
    "Then you will want to run the above command:\n",
    "\n",
    "<img src=\"pic2.png\"/>\n",
    "\n",
    "Finally, when you enter back into the notebook (use the jupyter icon again), you should be able to run the below cell without any errors."
   ]
  },
  {
   "cell_type": "code",
   "execution_count": 4,
   "metadata": {},
   "outputs": [],
   "source": [
    "import pandas as pd\n",
    "import numpy as np\n",
    "import math\n",
    "import json\n",
    "\n",
    "%matplotlib inline\n",
    "\n",
    "from sklearn.model_selection import train_test_split\n",
    "\n",
    "\n",
    "\n",
    "# read in the json files\n",
    "portfolio = pd.read_json('data/portfolio.json', orient='records', lines=True)\n",
    "profile = pd.read_json('data/profile.json', orient='records', lines=True)\n",
    "transcript = pd.read_json('data/transcript.json', orient='records', lines=True)"
   ]
  },
  {
   "cell_type": "markdown",
   "metadata": {},
   "source": [
    "# Data Exploration\n",
    "- features and calculated statistics relevant to the problem have been reported and discussed\n",
    "- Abnormalities or characteristics of the data or input that need to be addressed have been identified.\n",
    "- A visualization has been provided that summarizes or extracts a relevant characteristic or feature about the dataset or input data with thorough discussion. Visual cues are clearly defined."
   ]
  },
  {
   "cell_type": "markdown",
   "metadata": {},
   "source": [
    "### 1. Portfolio data - containing offer ids and meta data about each offer (duration, type, etc.)"
   ]
  },
  {
   "cell_type": "code",
   "execution_count": 3,
   "metadata": {},
   "outputs": [
    {
     "name": "stdout",
     "output_type": "stream",
     "text": [
      "length of dataset: 10\n"
     ]
    },
    {
     "data": {
      "text/html": [
       "<div>\n",
       "<style scoped>\n",
       "    .dataframe tbody tr th:only-of-type {\n",
       "        vertical-align: middle;\n",
       "    }\n",
       "\n",
       "    .dataframe tbody tr th {\n",
       "        vertical-align: top;\n",
       "    }\n",
       "\n",
       "    .dataframe thead th {\n",
       "        text-align: right;\n",
       "    }\n",
       "</style>\n",
       "<table border=\"1\" class=\"dataframe\">\n",
       "  <thead>\n",
       "    <tr style=\"text-align: right;\">\n",
       "      <th></th>\n",
       "      <th>reward</th>\n",
       "      <th>channels</th>\n",
       "      <th>difficulty</th>\n",
       "      <th>duration</th>\n",
       "      <th>offer_type</th>\n",
       "      <th>id</th>\n",
       "    </tr>\n",
       "  </thead>\n",
       "  <tbody>\n",
       "    <tr>\n",
       "      <th>0</th>\n",
       "      <td>10</td>\n",
       "      <td>[email, mobile, social]</td>\n",
       "      <td>10</td>\n",
       "      <td>7</td>\n",
       "      <td>bogo</td>\n",
       "      <td>ae264e3637204a6fb9bb56bc8210ddfd</td>\n",
       "    </tr>\n",
       "    <tr>\n",
       "      <th>1</th>\n",
       "      <td>10</td>\n",
       "      <td>[web, email, mobile, social]</td>\n",
       "      <td>10</td>\n",
       "      <td>5</td>\n",
       "      <td>bogo</td>\n",
       "      <td>4d5c57ea9a6940dd891ad53e9dbe8da0</td>\n",
       "    </tr>\n",
       "    <tr>\n",
       "      <th>2</th>\n",
       "      <td>0</td>\n",
       "      <td>[web, email, mobile]</td>\n",
       "      <td>0</td>\n",
       "      <td>4</td>\n",
       "      <td>informational</td>\n",
       "      <td>3f207df678b143eea3cee63160fa8bed</td>\n",
       "    </tr>\n",
       "    <tr>\n",
       "      <th>3</th>\n",
       "      <td>5</td>\n",
       "      <td>[web, email, mobile]</td>\n",
       "      <td>5</td>\n",
       "      <td>7</td>\n",
       "      <td>bogo</td>\n",
       "      <td>9b98b8c7a33c4b65b9aebfe6a799e6d9</td>\n",
       "    </tr>\n",
       "    <tr>\n",
       "      <th>4</th>\n",
       "      <td>5</td>\n",
       "      <td>[web, email]</td>\n",
       "      <td>20</td>\n",
       "      <td>10</td>\n",
       "      <td>discount</td>\n",
       "      <td>0b1e1539f2cc45b7b9fa7c272da2e1d7</td>\n",
       "    </tr>\n",
       "    <tr>\n",
       "      <th>5</th>\n",
       "      <td>3</td>\n",
       "      <td>[web, email, mobile, social]</td>\n",
       "      <td>7</td>\n",
       "      <td>7</td>\n",
       "      <td>discount</td>\n",
       "      <td>2298d6c36e964ae4a3e7e9706d1fb8c2</td>\n",
       "    </tr>\n",
       "    <tr>\n",
       "      <th>6</th>\n",
       "      <td>2</td>\n",
       "      <td>[web, email, mobile, social]</td>\n",
       "      <td>10</td>\n",
       "      <td>10</td>\n",
       "      <td>discount</td>\n",
       "      <td>fafdcd668e3743c1bb461111dcafc2a4</td>\n",
       "    </tr>\n",
       "    <tr>\n",
       "      <th>7</th>\n",
       "      <td>0</td>\n",
       "      <td>[email, mobile, social]</td>\n",
       "      <td>0</td>\n",
       "      <td>3</td>\n",
       "      <td>informational</td>\n",
       "      <td>5a8bc65990b245e5a138643cd4eb9837</td>\n",
       "    </tr>\n",
       "    <tr>\n",
       "      <th>8</th>\n",
       "      <td>5</td>\n",
       "      <td>[web, email, mobile, social]</td>\n",
       "      <td>5</td>\n",
       "      <td>5</td>\n",
       "      <td>bogo</td>\n",
       "      <td>f19421c1d4aa40978ebb69ca19b0e20d</td>\n",
       "    </tr>\n",
       "    <tr>\n",
       "      <th>9</th>\n",
       "      <td>2</td>\n",
       "      <td>[web, email, mobile]</td>\n",
       "      <td>10</td>\n",
       "      <td>7</td>\n",
       "      <td>discount</td>\n",
       "      <td>2906b810c7d4411798c6938adc9daaa5</td>\n",
       "    </tr>\n",
       "  </tbody>\n",
       "</table>\n",
       "</div>"
      ],
      "text/plain": [
       "   reward                      channels  difficulty  duration     offer_type  \\\n",
       "0      10       [email, mobile, social]          10         7           bogo   \n",
       "1      10  [web, email, mobile, social]          10         5           bogo   \n",
       "2       0          [web, email, mobile]           0         4  informational   \n",
       "3       5          [web, email, mobile]           5         7           bogo   \n",
       "4       5                  [web, email]          20        10       discount   \n",
       "5       3  [web, email, mobile, social]           7         7       discount   \n",
       "6       2  [web, email, mobile, social]          10        10       discount   \n",
       "7       0       [email, mobile, social]           0         3  informational   \n",
       "8       5  [web, email, mobile, social]           5         5           bogo   \n",
       "9       2          [web, email, mobile]          10         7       discount   \n",
       "\n",
       "                                 id  \n",
       "0  ae264e3637204a6fb9bb56bc8210ddfd  \n",
       "1  4d5c57ea9a6940dd891ad53e9dbe8da0  \n",
       "2  3f207df678b143eea3cee63160fa8bed  \n",
       "3  9b98b8c7a33c4b65b9aebfe6a799e6d9  \n",
       "4  0b1e1539f2cc45b7b9fa7c272da2e1d7  \n",
       "5  2298d6c36e964ae4a3e7e9706d1fb8c2  \n",
       "6  fafdcd668e3743c1bb461111dcafc2a4  \n",
       "7  5a8bc65990b245e5a138643cd4eb9837  \n",
       "8  f19421c1d4aa40978ebb69ca19b0e20d  \n",
       "9  2906b810c7d4411798c6938adc9daaa5  "
      ]
     },
     "metadata": {},
     "output_type": "display_data"
    },
    {
     "name": "stdout",
     "output_type": "stream",
     "text": [
      "Missing values in portfolio data:\n"
     ]
    },
    {
     "data": {
      "text/plain": [
       "reward        0\n",
       "channels      0\n",
       "difficulty    0\n",
       "duration      0\n",
       "offer_type    0\n",
       "id            0\n",
       "dtype: int64"
      ]
     },
     "metadata": {},
     "output_type": "display_data"
    },
    {
     "data": {
      "text/plain": [
       "reward         int64\n",
       "channels      object\n",
       "difficulty     int64\n",
       "duration       int64\n",
       "offer_type    object\n",
       "id            object\n",
       "dtype: object"
      ]
     },
     "metadata": {},
     "output_type": "display_data"
    },
    {
     "ename": "TypeError",
     "evalue": "unhashable type: 'list'",
     "output_type": "error",
     "traceback": [
      "\u001b[0;31m---------------------------------------------------------------------------\u001b[0m",
      "\u001b[0;31mTypeError\u001b[0m                                 Traceback (most recent call last)",
      "\u001b[0;32mpandas/_libs/hashtable_class_helper.pxi\u001b[0m in \u001b[0;36mpandas._libs.hashtable.PyObjectHashTable.map_locations\u001b[0;34m()\u001b[0m\n",
      "\u001b[0;31mTypeError\u001b[0m: unhashable type: 'list'"
     ]
    },
    {
     "name": "stderr",
     "output_type": "stream",
     "text": [
      "Exception ignored in: 'pandas._libs.index.IndexEngine._call_map_locations'\n",
      "Traceback (most recent call last):\n",
      "  File \"pandas/_libs/hashtable_class_helper.pxi\", line 5231, in pandas._libs.hashtable.PyObjectHashTable.map_locations\n",
      "TypeError: unhashable type: 'list'\n"
     ]
    },
    {
     "data": {
      "text/plain": [
       "[web, email, mobile, social]    4\n",
       "[web, email, mobile]            3\n",
       "[email, mobile, social]         2\n",
       "[web, email]                    1\n",
       "Name: channels, dtype: int64"
      ]
     },
     "metadata": {},
     "output_type": "display_data"
    },
    {
     "data": {
      "text/plain": [
       "bogo             4\n",
       "discount         4\n",
       "informational    2\n",
       "Name: offer_type, dtype: int64"
      ]
     },
     "metadata": {},
     "output_type": "display_data"
    },
    {
     "data": {
      "text/plain": [
       "ae264e3637204a6fb9bb56bc8210ddfd    1\n",
       "4d5c57ea9a6940dd891ad53e9dbe8da0    1\n",
       "3f207df678b143eea3cee63160fa8bed    1\n",
       "9b98b8c7a33c4b65b9aebfe6a799e6d9    1\n",
       "0b1e1539f2cc45b7b9fa7c272da2e1d7    1\n",
       "2298d6c36e964ae4a3e7e9706d1fb8c2    1\n",
       "fafdcd668e3743c1bb461111dcafc2a4    1\n",
       "5a8bc65990b245e5a138643cd4eb9837    1\n",
       "f19421c1d4aa40978ebb69ca19b0e20d    1\n",
       "2906b810c7d4411798c6938adc9daaa5    1\n",
       "Name: id, dtype: int64"
      ]
     },
     "metadata": {},
     "output_type": "display_data"
    }
   ],
   "source": [
    "# Portfolio data: containing offer ids and meta data about each offer (duration, type, etc.)\n",
    "\n",
    "print(\"length of dataset:\", len(portfolio))\n",
    "display(portfolio.head(10))\n",
    "\n",
    "\n",
    "print(\"Missing values in portfolio data:\")\n",
    "display(portfolio.isna().sum())\n",
    "\n",
    "display(portfolio.dtypes)\n",
    "\n",
    "for column in portfolio.select_dtypes(include=['object']).columns:\n",
    "    display(portfolio[column].value_counts())\n",
    "\n"
   ]
  },
  {
   "cell_type": "code",
   "execution_count": 4,
   "metadata": {},
   "outputs": [
    {
     "name": "stdout",
     "output_type": "stream",
     "text": [
      "<class 'pandas.core.frame.DataFrame'>\n",
      "RangeIndex: 10 entries, 0 to 9\n",
      "Data columns (total 6 columns):\n",
      " #   Column      Non-Null Count  Dtype \n",
      "---  ------      --------------  ----- \n",
      " 0   reward      10 non-null     int64 \n",
      " 1   channels    10 non-null     object\n",
      " 2   difficulty  10 non-null     int64 \n",
      " 3   duration    10 non-null     int64 \n",
      " 4   offer_type  10 non-null     object\n",
      " 5   id          10 non-null     object\n",
      "dtypes: int64(3), object(3)\n",
      "memory usage: 608.0+ bytes\n"
     ]
    }
   ],
   "source": [
    "portfolio.info()"
   ]
  },
  {
   "cell_type": "markdown",
   "metadata": {},
   "source": [
    "### 2. Profile data - demographic data for each customer"
   ]
  },
  {
   "cell_type": "code",
   "execution_count": 5,
   "metadata": {},
   "outputs": [
    {
     "name": "stdout",
     "output_type": "stream",
     "text": [
      "length of dataset: 17000\n"
     ]
    },
    {
     "data": {
      "text/html": [
       "<div>\n",
       "<style scoped>\n",
       "    .dataframe tbody tr th:only-of-type {\n",
       "        vertical-align: middle;\n",
       "    }\n",
       "\n",
       "    .dataframe tbody tr th {\n",
       "        vertical-align: top;\n",
       "    }\n",
       "\n",
       "    .dataframe thead th {\n",
       "        text-align: right;\n",
       "    }\n",
       "</style>\n",
       "<table border=\"1\" class=\"dataframe\">\n",
       "  <thead>\n",
       "    <tr style=\"text-align: right;\">\n",
       "      <th></th>\n",
       "      <th>gender</th>\n",
       "      <th>age</th>\n",
       "      <th>id</th>\n",
       "      <th>became_member_on</th>\n",
       "      <th>income</th>\n",
       "    </tr>\n",
       "  </thead>\n",
       "  <tbody>\n",
       "    <tr>\n",
       "      <th>0</th>\n",
       "      <td>None</td>\n",
       "      <td>118</td>\n",
       "      <td>68be06ca386d4c31939f3a4f0e3dd783</td>\n",
       "      <td>20170212</td>\n",
       "      <td>NaN</td>\n",
       "    </tr>\n",
       "    <tr>\n",
       "      <th>1</th>\n",
       "      <td>F</td>\n",
       "      <td>55</td>\n",
       "      <td>0610b486422d4921ae7d2bf64640c50b</td>\n",
       "      <td>20170715</td>\n",
       "      <td>112000.0</td>\n",
       "    </tr>\n",
       "    <tr>\n",
       "      <th>2</th>\n",
       "      <td>None</td>\n",
       "      <td>118</td>\n",
       "      <td>38fe809add3b4fcf9315a9694bb96ff5</td>\n",
       "      <td>20180712</td>\n",
       "      <td>NaN</td>\n",
       "    </tr>\n",
       "    <tr>\n",
       "      <th>3</th>\n",
       "      <td>F</td>\n",
       "      <td>75</td>\n",
       "      <td>78afa995795e4d85b5d9ceeca43f5fef</td>\n",
       "      <td>20170509</td>\n",
       "      <td>100000.0</td>\n",
       "    </tr>\n",
       "    <tr>\n",
       "      <th>4</th>\n",
       "      <td>None</td>\n",
       "      <td>118</td>\n",
       "      <td>a03223e636434f42ac4c3df47e8bac43</td>\n",
       "      <td>20170804</td>\n",
       "      <td>NaN</td>\n",
       "    </tr>\n",
       "    <tr>\n",
       "      <th>5</th>\n",
       "      <td>M</td>\n",
       "      <td>68</td>\n",
       "      <td>e2127556f4f64592b11af22de27a7932</td>\n",
       "      <td>20180426</td>\n",
       "      <td>70000.0</td>\n",
       "    </tr>\n",
       "    <tr>\n",
       "      <th>6</th>\n",
       "      <td>None</td>\n",
       "      <td>118</td>\n",
       "      <td>8ec6ce2a7e7949b1bf142def7d0e0586</td>\n",
       "      <td>20170925</td>\n",
       "      <td>NaN</td>\n",
       "    </tr>\n",
       "    <tr>\n",
       "      <th>7</th>\n",
       "      <td>None</td>\n",
       "      <td>118</td>\n",
       "      <td>68617ca6246f4fbc85e91a2a49552598</td>\n",
       "      <td>20171002</td>\n",
       "      <td>NaN</td>\n",
       "    </tr>\n",
       "    <tr>\n",
       "      <th>8</th>\n",
       "      <td>M</td>\n",
       "      <td>65</td>\n",
       "      <td>389bc3fa690240e798340f5a15918d5c</td>\n",
       "      <td>20180209</td>\n",
       "      <td>53000.0</td>\n",
       "    </tr>\n",
       "    <tr>\n",
       "      <th>9</th>\n",
       "      <td>None</td>\n",
       "      <td>118</td>\n",
       "      <td>8974fc5686fe429db53ddde067b88302</td>\n",
       "      <td>20161122</td>\n",
       "      <td>NaN</td>\n",
       "    </tr>\n",
       "  </tbody>\n",
       "</table>\n",
       "</div>"
      ],
      "text/plain": [
       "  gender  age                                id  became_member_on    income\n",
       "0   None  118  68be06ca386d4c31939f3a4f0e3dd783          20170212       NaN\n",
       "1      F   55  0610b486422d4921ae7d2bf64640c50b          20170715  112000.0\n",
       "2   None  118  38fe809add3b4fcf9315a9694bb96ff5          20180712       NaN\n",
       "3      F   75  78afa995795e4d85b5d9ceeca43f5fef          20170509  100000.0\n",
       "4   None  118  a03223e636434f42ac4c3df47e8bac43          20170804       NaN\n",
       "5      M   68  e2127556f4f64592b11af22de27a7932          20180426   70000.0\n",
       "6   None  118  8ec6ce2a7e7949b1bf142def7d0e0586          20170925       NaN\n",
       "7   None  118  68617ca6246f4fbc85e91a2a49552598          20171002       NaN\n",
       "8      M   65  389bc3fa690240e798340f5a15918d5c          20180209   53000.0\n",
       "9   None  118  8974fc5686fe429db53ddde067b88302          20161122       NaN"
      ]
     },
     "metadata": {},
     "output_type": "display_data"
    },
    {
     "name": "stdout",
     "output_type": "stream",
     "text": [
      "Missing values in portfolio data:\n"
     ]
    },
    {
     "data": {
      "text/plain": [
       "gender              0.127941\n",
       "age                 0.000000\n",
       "id                  0.000000\n",
       "became_member_on    0.000000\n",
       "income              0.127941\n",
       "dtype: float64"
      ]
     },
     "metadata": {},
     "output_type": "display_data"
    },
    {
     "name": "stdout",
     "output_type": "stream",
     "text": [
      "Missing values in age column: 0.12794117647058822\n"
     ]
    },
    {
     "data": {
      "text/plain": [
       "gender               object\n",
       "age                   int64\n",
       "id                   object\n",
       "became_member_on      int64\n",
       "income              float64\n",
       "dtype: object"
      ]
     },
     "metadata": {},
     "output_type": "display_data"
    },
    {
     "data": {
      "text/plain": [
       "'gender'"
      ]
     },
     "metadata": {},
     "output_type": "display_data"
    },
    {
     "data": {
      "text/plain": [
       "M    8484\n",
       "F    6129\n",
       "O     212\n",
       "Name: gender, dtype: int64"
      ]
     },
     "metadata": {},
     "output_type": "display_data"
    },
    {
     "data": {
      "text/plain": [
       "'id'"
      ]
     },
     "metadata": {},
     "output_type": "display_data"
    },
    {
     "data": {
      "text/plain": [
       "68be06ca386d4c31939f3a4f0e3dd783    1\n",
       "a1183510d48a4ebfa68a19e2340ea6d9    1\n",
       "128c0040b8d34587970e1cbbf60f5cc0    1\n",
       "1be96fc7edd14e428addbbdc7eccdd27    1\n",
       "4018381562d645bca291b2ea87413258    1\n",
       "                                   ..\n",
       "3fd1c26b6323485da797981fe792204c    1\n",
       "705644ad87c44c09bfc8162c85ec7368    1\n",
       "4d4b57c45d834cd79bf78f6fcc7c1c2c    1\n",
       "48a31c17273d476c87571c44ddf3e667    1\n",
       "e4052622e5ba45a8b96b59aba68cf068    1\n",
       "Name: id, Length: 17000, dtype: int64"
      ]
     },
     "metadata": {},
     "output_type": "display_data"
    },
    {
     "data": {
      "text/plain": [
       "'age'"
      ]
     },
     "metadata": {},
     "output_type": "display_data"
    },
    {
     "data": {
      "text/plain": [
       "count    17000.000000\n",
       "mean        62.531412\n",
       "std         26.738580\n",
       "min         18.000000\n",
       "25%         45.000000\n",
       "50%         58.000000\n",
       "75%         73.000000\n",
       "max        118.000000\n",
       "Name: age, dtype: float64"
      ]
     },
     "metadata": {},
     "output_type": "display_data"
    },
    {
     "data": {
      "text/plain": [
       "'became_member_on'"
      ]
     },
     "metadata": {},
     "output_type": "display_data"
    },
    {
     "data": {
      "text/plain": [
       "count    1.700000e+04\n",
       "mean     2.016703e+07\n",
       "std      1.167750e+04\n",
       "min      2.013073e+07\n",
       "25%      2.016053e+07\n",
       "50%      2.017080e+07\n",
       "75%      2.017123e+07\n",
       "max      2.018073e+07\n",
       "Name: became_member_on, dtype: float64"
      ]
     },
     "metadata": {},
     "output_type": "display_data"
    }
   ],
   "source": [
    "print(\"length of dataset:\", len(profile))\n",
    "display(profile.head(10))\n",
    "\n",
    "\n",
    "print(\"Missing values in portfolio data:\")\n",
    "display(profile.isna().sum()/len(profile))\n",
    "print(\"Missing values in age column:\", len(profile[profile['age']==118])/ len(profile))\n",
    "\n",
    "display(profile.dtypes)\n",
    "\n",
    "for column in profile.select_dtypes(include=['object']).columns:\n",
    "    display(column, profile[column].value_counts())\n",
    "    \n",
    "for column in profile.select_dtypes(include=['int64']).columns:\n",
    "    display(column, profile[column].describe())\n",
    "\n",
    "\n",
    "## missing values in gender and income\n",
    "## Became member should be date:\n",
    "\n",
    "profile['became_member_on'] = pd.to_datetime(profile['became_member_on'], format = '%Y%m%d')"
   ]
  },
  {
   "cell_type": "code",
   "execution_count": 6,
   "metadata": {},
   "outputs": [
    {
     "name": "stdout",
     "output_type": "stream",
     "text": [
      "<class 'pandas.core.frame.DataFrame'>\n",
      "RangeIndex: 17000 entries, 0 to 16999\n",
      "Data columns (total 5 columns):\n",
      " #   Column            Non-Null Count  Dtype         \n",
      "---  ------            --------------  -----         \n",
      " 0   gender            14825 non-null  object        \n",
      " 1   age               17000 non-null  int64         \n",
      " 2   id                17000 non-null  object        \n",
      " 3   became_member_on  17000 non-null  datetime64[ns]\n",
      " 4   income            14825 non-null  float64       \n",
      "dtypes: datetime64[ns](1), float64(1), int64(1), object(2)\n",
      "memory usage: 664.2+ KB\n"
     ]
    }
   ],
   "source": [
    "profile.info()"
   ]
  },
  {
   "cell_type": "markdown",
   "metadata": {},
   "source": [
    "### 3. Trancsript data - records for transactions, offers received, offers viewed, and offers completed"
   ]
  },
  {
   "cell_type": "code",
   "execution_count": 7,
   "metadata": {},
   "outputs": [
    {
     "name": "stdout",
     "output_type": "stream",
     "text": [
      "length of dataset: 306534\n"
     ]
    },
    {
     "data": {
      "text/html": [
       "<div>\n",
       "<style scoped>\n",
       "    .dataframe tbody tr th:only-of-type {\n",
       "        vertical-align: middle;\n",
       "    }\n",
       "\n",
       "    .dataframe tbody tr th {\n",
       "        vertical-align: top;\n",
       "    }\n",
       "\n",
       "    .dataframe thead th {\n",
       "        text-align: right;\n",
       "    }\n",
       "</style>\n",
       "<table border=\"1\" class=\"dataframe\">\n",
       "  <thead>\n",
       "    <tr style=\"text-align: right;\">\n",
       "      <th></th>\n",
       "      <th>person</th>\n",
       "      <th>event</th>\n",
       "      <th>value</th>\n",
       "      <th>time</th>\n",
       "    </tr>\n",
       "  </thead>\n",
       "  <tbody>\n",
       "    <tr>\n",
       "      <th>0</th>\n",
       "      <td>78afa995795e4d85b5d9ceeca43f5fef</td>\n",
       "      <td>offer received</td>\n",
       "      <td>{'offer id': '9b98b8c7a33c4b65b9aebfe6a799e6d9'}</td>\n",
       "      <td>0</td>\n",
       "    </tr>\n",
       "    <tr>\n",
       "      <th>1</th>\n",
       "      <td>a03223e636434f42ac4c3df47e8bac43</td>\n",
       "      <td>offer received</td>\n",
       "      <td>{'offer id': '0b1e1539f2cc45b7b9fa7c272da2e1d7'}</td>\n",
       "      <td>0</td>\n",
       "    </tr>\n",
       "    <tr>\n",
       "      <th>2</th>\n",
       "      <td>e2127556f4f64592b11af22de27a7932</td>\n",
       "      <td>offer received</td>\n",
       "      <td>{'offer id': '2906b810c7d4411798c6938adc9daaa5'}</td>\n",
       "      <td>0</td>\n",
       "    </tr>\n",
       "    <tr>\n",
       "      <th>3</th>\n",
       "      <td>8ec6ce2a7e7949b1bf142def7d0e0586</td>\n",
       "      <td>offer received</td>\n",
       "      <td>{'offer id': 'fafdcd668e3743c1bb461111dcafc2a4'}</td>\n",
       "      <td>0</td>\n",
       "    </tr>\n",
       "    <tr>\n",
       "      <th>4</th>\n",
       "      <td>68617ca6246f4fbc85e91a2a49552598</td>\n",
       "      <td>offer received</td>\n",
       "      <td>{'offer id': '4d5c57ea9a6940dd891ad53e9dbe8da0'}</td>\n",
       "      <td>0</td>\n",
       "    </tr>\n",
       "  </tbody>\n",
       "</table>\n",
       "</div>"
      ],
      "text/plain": [
       "                             person           event  \\\n",
       "0  78afa995795e4d85b5d9ceeca43f5fef  offer received   \n",
       "1  a03223e636434f42ac4c3df47e8bac43  offer received   \n",
       "2  e2127556f4f64592b11af22de27a7932  offer received   \n",
       "3  8ec6ce2a7e7949b1bf142def7d0e0586  offer received   \n",
       "4  68617ca6246f4fbc85e91a2a49552598  offer received   \n",
       "\n",
       "                                              value  time  \n",
       "0  {'offer id': '9b98b8c7a33c4b65b9aebfe6a799e6d9'}     0  \n",
       "1  {'offer id': '0b1e1539f2cc45b7b9fa7c272da2e1d7'}     0  \n",
       "2  {'offer id': '2906b810c7d4411798c6938adc9daaa5'}     0  \n",
       "3  {'offer id': 'fafdcd668e3743c1bb461111dcafc2a4'}     0  \n",
       "4  {'offer id': '4d5c57ea9a6940dd891ad53e9dbe8da0'}     0  "
      ]
     },
     "metadata": {},
     "output_type": "display_data"
    },
    {
     "name": "stdout",
     "output_type": "stream",
     "text": [
      "Missing values in portfolio data:\n"
     ]
    },
    {
     "data": {
      "text/plain": [
       "person    0\n",
       "event     0\n",
       "value     0\n",
       "time      0\n",
       "dtype: int64"
      ]
     },
     "metadata": {},
     "output_type": "display_data"
    },
    {
     "data": {
      "text/plain": [
       "person    object\n",
       "event     object\n",
       "value     object\n",
       "time       int64\n",
       "dtype: object"
      ]
     },
     "metadata": {},
     "output_type": "display_data"
    },
    {
     "name": "stdout",
     "output_type": "stream",
     "text": [
      "person\n"
     ]
    },
    {
     "data": {
      "text/plain": [
       "94de646f7b6041228ca7dec82adb97d2    51\n",
       "8dbfa485249f409aa223a2130f40634a    49\n",
       "d0a80415b84c4df4908b8403b19765e3    48\n",
       "5e60c6aa3b834e44b822ea43a3efea26    48\n",
       "79d9d4f86aca4bed9290350fb43817c2    48\n",
       "                                    ..\n",
       "afd41b230f924f9ca8f5ed6249616114     2\n",
       "3a4e53046c544134bb1e7782248631d1     2\n",
       "e63e42480aae4ede9f07cac49c8c3f78     2\n",
       "7ecfc592171f4844bdc05bdbb48d3847     2\n",
       "da7a7c0dcfcb41a8acc7864a53cf60fb     1\n",
       "Name: person, Length: 17000, dtype: int64"
      ]
     },
     "metadata": {},
     "output_type": "display_data"
    },
    {
     "name": "stdout",
     "output_type": "stream",
     "text": [
      "event\n"
     ]
    },
    {
     "data": {
      "text/plain": [
       "transaction        138953\n",
       "offer received      76277\n",
       "offer viewed        57725\n",
       "offer completed     33579\n",
       "Name: event, dtype: int64"
      ]
     },
     "metadata": {},
     "output_type": "display_data"
    },
    {
     "name": "stdout",
     "output_type": "stream",
     "text": [
      "value\n"
     ]
    },
    {
     "ename": "TypeError",
     "evalue": "unhashable type: 'dict'",
     "output_type": "error",
     "traceback": [
      "\u001b[0;31m---------------------------------------------------------------------------\u001b[0m",
      "\u001b[0;31mTypeError\u001b[0m                                 Traceback (most recent call last)",
      "\u001b[0;32mpandas/_libs/hashtable_class_helper.pxi\u001b[0m in \u001b[0;36mpandas._libs.hashtable.PyObjectHashTable.map_locations\u001b[0;34m()\u001b[0m\n",
      "\u001b[0;31mTypeError\u001b[0m: unhashable type: 'dict'"
     ]
    },
    {
     "name": "stderr",
     "output_type": "stream",
     "text": [
      "Exception ignored in: 'pandas._libs.index.IndexEngine._call_map_locations'\n",
      "Traceback (most recent call last):\n",
      "  File \"pandas/_libs/hashtable_class_helper.pxi\", line 5231, in pandas._libs.hashtable.PyObjectHashTable.map_locations\n",
      "TypeError: unhashable type: 'dict'\n"
     ]
    },
    {
     "data": {
      "text/plain": [
       "{'offer id': '2298d6c36e964ae4a3e7e9706d1fb8c2'}    14983\n",
       "{'offer id': 'fafdcd668e3743c1bb461111dcafc2a4'}    14924\n",
       "{'offer id': '4d5c57ea9a6940dd891ad53e9dbe8da0'}    14891\n",
       "{'offer id': 'f19421c1d4aa40978ebb69ca19b0e20d'}    14835\n",
       "{'offer id': 'ae264e3637204a6fb9bb56bc8210ddfd'}    14374\n",
       "                                                    ...  \n",
       "{'amount': 42.31}                                       1\n",
       "{'amount': 44.62}                                       1\n",
       "{'amount': 42.27}                                       1\n",
       "{'amount': 108.89}                                      1\n",
       "{'amount': 476.33}                                      1\n",
       "Name: value, Length: 5121, dtype: int64"
      ]
     },
     "metadata": {},
     "output_type": "display_data"
    },
    {
     "data": {
      "text/html": [
       "<div>\n",
       "<style scoped>\n",
       "    .dataframe tbody tr th:only-of-type {\n",
       "        vertical-align: middle;\n",
       "    }\n",
       "\n",
       "    .dataframe tbody tr th {\n",
       "        vertical-align: top;\n",
       "    }\n",
       "\n",
       "    .dataframe thead th {\n",
       "        text-align: right;\n",
       "    }\n",
       "</style>\n",
       "<table border=\"1\" class=\"dataframe\">\n",
       "  <thead>\n",
       "    <tr style=\"text-align: right;\">\n",
       "      <th></th>\n",
       "      <th>time</th>\n",
       "    </tr>\n",
       "  </thead>\n",
       "  <tbody>\n",
       "    <tr>\n",
       "      <th>count</th>\n",
       "      <td>306534.000000</td>\n",
       "    </tr>\n",
       "    <tr>\n",
       "      <th>mean</th>\n",
       "      <td>366.382940</td>\n",
       "    </tr>\n",
       "    <tr>\n",
       "      <th>std</th>\n",
       "      <td>200.326314</td>\n",
       "    </tr>\n",
       "    <tr>\n",
       "      <th>min</th>\n",
       "      <td>0.000000</td>\n",
       "    </tr>\n",
       "    <tr>\n",
       "      <th>25%</th>\n",
       "      <td>186.000000</td>\n",
       "    </tr>\n",
       "    <tr>\n",
       "      <th>50%</th>\n",
       "      <td>408.000000</td>\n",
       "    </tr>\n",
       "    <tr>\n",
       "      <th>75%</th>\n",
       "      <td>528.000000</td>\n",
       "    </tr>\n",
       "    <tr>\n",
       "      <th>max</th>\n",
       "      <td>714.000000</td>\n",
       "    </tr>\n",
       "  </tbody>\n",
       "</table>\n",
       "</div>"
      ],
      "text/plain": [
       "                time\n",
       "count  306534.000000\n",
       "mean      366.382940\n",
       "std       200.326314\n",
       "min         0.000000\n",
       "25%       186.000000\n",
       "50%       408.000000\n",
       "75%       528.000000\n",
       "max       714.000000"
      ]
     },
     "metadata": {},
     "output_type": "display_data"
    }
   ],
   "source": [
    "print(\"length of dataset:\", len(transcript))\n",
    "display(transcript.head(5))\n",
    "\n",
    "\n",
    "print(\"Missing values in portfolio data:\")\n",
    "display(transcript.isna().sum())\n",
    "\n",
    "display(transcript.dtypes)\n",
    "\n",
    "for column in transcript.select_dtypes(include=['object']).columns:\n",
    "    print(column)\n",
    "    display(transcript[column].value_counts())\n",
    "\n",
    "display(transcript.describe())"
   ]
  },
  {
   "cell_type": "code",
   "execution_count": 8,
   "metadata": {},
   "outputs": [
    {
     "name": "stdout",
     "output_type": "stream",
     "text": [
      "<class 'pandas.core.frame.DataFrame'>\n",
      "RangeIndex: 306534 entries, 0 to 306533\n",
      "Data columns (total 4 columns):\n",
      " #   Column  Non-Null Count   Dtype \n",
      "---  ------  --------------   ----- \n",
      " 0   person  306534 non-null  object\n",
      " 1   event   306534 non-null  object\n",
      " 2   value   306534 non-null  object\n",
      " 3   time    306534 non-null  int64 \n",
      "dtypes: int64(1), object(3)\n",
      "memory usage: 9.4+ MB\n"
     ]
    }
   ],
   "source": [
    "transcript.info()"
   ]
  },
  {
   "cell_type": "code",
   "execution_count": null,
   "metadata": {},
   "outputs": [],
   "source": []
  },
  {
   "cell_type": "code",
   "execution_count": null,
   "metadata": {},
   "outputs": [],
   "source": []
  },
  {
   "cell_type": "code",
   "execution_count": null,
   "metadata": {},
   "outputs": [],
   "source": []
  },
  {
   "cell_type": "markdown",
   "metadata": {},
   "source": [
    "## Preprocess transcript data"
   ]
  },
  {
   "cell_type": "code",
   "execution_count": 9,
   "metadata": {},
   "outputs": [],
   "source": [
    "# Turn json into dummy columns\n",
    "transcript = transcript.join(pd.json_normalize(transcript['value'])).drop(columns = ['value'])"
   ]
  },
  {
   "cell_type": "code",
   "execution_count": 10,
   "metadata": {},
   "outputs": [
    {
     "data": {
      "text/plain": [
       "person      0.000000\n",
       "event       0.000000\n",
       "time        0.000000\n",
       "offer id    0.562848\n",
       "amount      0.546696\n",
       "offer_id    0.890456\n",
       "reward      0.890456\n",
       "dtype: float64"
      ]
     },
     "metadata": {},
     "output_type": "display_data"
    }
   ],
   "source": [
    "# Check missing values again\n",
    "\n",
    "display(transcript.isna().sum()/len(transcript))"
   ]
  },
  {
   "cell_type": "code",
   "execution_count": 11,
   "metadata": {},
   "outputs": [],
   "source": [
    "transcript['offer id'] = transcript['offer id'].fillna(transcript.offer_id)\n",
    "transcript.drop(columns = 'offer_id', inplace = True)\n",
    "transcript = transcript.rename(columns={\"offer id\": \"offer_id\"})"
   ]
  },
  {
   "cell_type": "code",
   "execution_count": 12,
   "metadata": {},
   "outputs": [],
   "source": [
    "transcript = transcript.reset_index()\n",
    "transcript = transcript.join(pd.get_dummies(transcript['event']))"
   ]
  },
  {
   "cell_type": "code",
   "execution_count": 553,
   "metadata": {},
   "outputs": [],
   "source": []
  },
  {
   "cell_type": "code",
   "execution_count": 13,
   "metadata": {},
   "outputs": [],
   "source": [
    "### Marking transactions that were bought with offer\n",
    "\n",
    "# First sort the dataframe\n",
    "transcript = transcript.sort_values(['person', 'index', 'time'])\n",
    "transcript['offer_id_filled'] = np.where((transcript['offer completed']==1), transcript['offer_id'], np.nan)\n",
    "transcript['offer_id_viewed'] = np.where((transcript['offer viewed']==1), transcript['offer_id'], np.nan)\n",
    "\n",
    "\n",
    "transcript['offer_viewed_trans'] = transcript['offer viewed'].replace(to_replace=0, method='ffill', limit = 1)\n",
    "\n",
    "# hard cut 20 transactions after offer\n",
    "m1 = transcript['transaction']==1\n",
    "transcript.loc[m1, 'offer_id_viewed'] = transcript['offer_id_viewed'].fillna(method='ffill', limit = 20)\n",
    "\n",
    "\n",
    "\n",
    "# Make sure that offer was viewed before transaction so transaction qualifies\n",
    "m2 = transcript['offer_viewed_trans'].isnull()==False\n",
    "transcript.loc[m2, 'offer_id_filled'] = transcript['offer_id_filled'].fillna(method='bfill', limit = 1)\n",
    "\n",
    "transcript['offer_id_final'] = np.where((transcript['offer_id_filled']==transcript['offer_id_viewed']), transcript['offer_id_filled'], np.nan)\n",
    "\n",
    "# Also keep transactions after an informational offer without monetary reward\n",
    "info_offers = portfolio[portfolio['offer_type']=='informational']['id'].unique()\n",
    "transcript['offer_id_final'] = np.where(((transcript['offer_id_viewed'].isnull() == False) & (transcript['offer_id_viewed'].isin(info_offers))), transcript['offer_id_filled'], np.nan)\n",
    "\n",
    "transcript['offer_id_final'].fillna(transcript['offer_id'], inplace = True)\n",
    "transcript.drop(columns = 'offer_id', inplace = True)\n",
    "transcript = transcript.rename(columns={'offer_id_final':'offer_id'})\n"
   ]
  },
  {
   "cell_type": "code",
   "execution_count": 14,
   "metadata": {},
   "outputs": [
    {
     "data": {
      "text/html": [
       "<div>\n",
       "<style scoped>\n",
       "    .dataframe tbody tr th:only-of-type {\n",
       "        vertical-align: middle;\n",
       "    }\n",
       "\n",
       "    .dataframe tbody tr th {\n",
       "        vertical-align: top;\n",
       "    }\n",
       "\n",
       "    .dataframe thead th {\n",
       "        text-align: right;\n",
       "    }\n",
       "</style>\n",
       "<table border=\"1\" class=\"dataframe\">\n",
       "  <thead>\n",
       "    <tr style=\"text-align: right;\">\n",
       "      <th></th>\n",
       "      <th>index</th>\n",
       "      <th>person</th>\n",
       "      <th>event</th>\n",
       "      <th>time</th>\n",
       "      <th>amount</th>\n",
       "      <th>reward</th>\n",
       "      <th>offer completed</th>\n",
       "      <th>offer received</th>\n",
       "      <th>offer viewed</th>\n",
       "      <th>transaction</th>\n",
       "      <th>offer_id_filled</th>\n",
       "      <th>offer_id_viewed</th>\n",
       "      <th>offer_viewed_trans</th>\n",
       "      <th>offer_id</th>\n",
       "    </tr>\n",
       "  </thead>\n",
       "  <tbody>\n",
       "    <tr>\n",
       "      <th>52423</th>\n",
       "      <td>52423</td>\n",
       "      <td>0069a50874d846438e58acff5e594725</td>\n",
       "      <td>transaction</td>\n",
       "      <td>162</td>\n",
       "      <td>16.20</td>\n",
       "      <td>NaN</td>\n",
       "      <td>0</td>\n",
       "      <td>0</td>\n",
       "      <td>0</td>\n",
       "      <td>1</td>\n",
       "      <td>NaN</td>\n",
       "      <td>0b1e1539f2cc45b7b9fa7c272da2e1d7</td>\n",
       "      <td>1</td>\n",
       "      <td>NaN</td>\n",
       "    </tr>\n",
       "    <tr>\n",
       "      <th>113176</th>\n",
       "      <td>113176</td>\n",
       "      <td>0069a50874d846438e58acff5e594725</td>\n",
       "      <td>offer received</td>\n",
       "      <td>336</td>\n",
       "      <td>NaN</td>\n",
       "      <td>NaN</td>\n",
       "      <td>0</td>\n",
       "      <td>1</td>\n",
       "      <td>0</td>\n",
       "      <td>0</td>\n",
       "      <td>NaN</td>\n",
       "      <td>NaN</td>\n",
       "      <td>0</td>\n",
       "      <td>0b1e1539f2cc45b7b9fa7c272da2e1d7</td>\n",
       "    </tr>\n",
       "    <tr>\n",
       "      <th>147540</th>\n",
       "      <td>147540</td>\n",
       "      <td>0069a50874d846438e58acff5e594725</td>\n",
       "      <td>transaction</td>\n",
       "      <td>396</td>\n",
       "      <td>0.60</td>\n",
       "      <td>NaN</td>\n",
       "      <td>0</td>\n",
       "      <td>0</td>\n",
       "      <td>0</td>\n",
       "      <td>1</td>\n",
       "      <td>NaN</td>\n",
       "      <td>0b1e1539f2cc45b7b9fa7c272da2e1d7</td>\n",
       "      <td>0</td>\n",
       "      <td>NaN</td>\n",
       "    </tr>\n",
       "    <tr>\n",
       "      <th>152967</th>\n",
       "      <td>152967</td>\n",
       "      <td>0069a50874d846438e58acff5e594725</td>\n",
       "      <td>offer received</td>\n",
       "      <td>408</td>\n",
       "      <td>NaN</td>\n",
       "      <td>NaN</td>\n",
       "      <td>0</td>\n",
       "      <td>1</td>\n",
       "      <td>0</td>\n",
       "      <td>0</td>\n",
       "      <td>NaN</td>\n",
       "      <td>NaN</td>\n",
       "      <td>0</td>\n",
       "      <td>3f207df678b143eea3cee63160fa8bed</td>\n",
       "    </tr>\n",
       "    <tr>\n",
       "      <th>180415</th>\n",
       "      <td>180415</td>\n",
       "      <td>0069a50874d846438e58acff5e594725</td>\n",
       "      <td>transaction</td>\n",
       "      <td>438</td>\n",
       "      <td>3.61</td>\n",
       "      <td>NaN</td>\n",
       "      <td>0</td>\n",
       "      <td>0</td>\n",
       "      <td>0</td>\n",
       "      <td>1</td>\n",
       "      <td>NaN</td>\n",
       "      <td>0b1e1539f2cc45b7b9fa7c272da2e1d7</td>\n",
       "      <td>0</td>\n",
       "      <td>NaN</td>\n",
       "    </tr>\n",
       "    <tr>\n",
       "      <th>203928</th>\n",
       "      <td>203928</td>\n",
       "      <td>0069a50874d846438e58acff5e594725</td>\n",
       "      <td>offer received</td>\n",
       "      <td>504</td>\n",
       "      <td>NaN</td>\n",
       "      <td>NaN</td>\n",
       "      <td>0</td>\n",
       "      <td>1</td>\n",
       "      <td>0</td>\n",
       "      <td>0</td>\n",
       "      <td>NaN</td>\n",
       "      <td>NaN</td>\n",
       "      <td>0</td>\n",
       "      <td>2906b810c7d4411798c6938adc9daaa5</td>\n",
       "    </tr>\n",
       "    <tr>\n",
       "      <th>237730</th>\n",
       "      <td>237730</td>\n",
       "      <td>0069a50874d846438e58acff5e594725</td>\n",
       "      <td>offer viewed</td>\n",
       "      <td>552</td>\n",
       "      <td>NaN</td>\n",
       "      <td>NaN</td>\n",
       "      <td>0</td>\n",
       "      <td>0</td>\n",
       "      <td>1</td>\n",
       "      <td>0</td>\n",
       "      <td>NaN</td>\n",
       "      <td>2906b810c7d4411798c6938adc9daaa5</td>\n",
       "      <td>1</td>\n",
       "      <td>2906b810c7d4411798c6938adc9daaa5</td>\n",
       "    </tr>\n",
       "    <tr>\n",
       "      <th>247454</th>\n",
       "      <td>247454</td>\n",
       "      <td>0069a50874d846438e58acff5e594725</td>\n",
       "      <td>offer received</td>\n",
       "      <td>576</td>\n",
       "      <td>NaN</td>\n",
       "      <td>NaN</td>\n",
       "      <td>0</td>\n",
       "      <td>1</td>\n",
       "      <td>0</td>\n",
       "      <td>0</td>\n",
       "      <td>NaN</td>\n",
       "      <td>NaN</td>\n",
       "      <td>1</td>\n",
       "      <td>2906b810c7d4411798c6938adc9daaa5</td>\n",
       "    </tr>\n",
       "    <tr>\n",
       "      <th>279923</th>\n",
       "      <td>279923</td>\n",
       "      <td>0069a50874d846438e58acff5e594725</td>\n",
       "      <td>transaction</td>\n",
       "      <td>618</td>\n",
       "      <td>5.12</td>\n",
       "      <td>NaN</td>\n",
       "      <td>0</td>\n",
       "      <td>0</td>\n",
       "      <td>0</td>\n",
       "      <td>1</td>\n",
       "      <td>NaN</td>\n",
       "      <td>2906b810c7d4411798c6938adc9daaa5</td>\n",
       "      <td>0</td>\n",
       "      <td>NaN</td>\n",
       "    </tr>\n",
       "    <tr>\n",
       "      <th>302172</th>\n",
       "      <td>302172</td>\n",
       "      <td>0069a50874d846438e58acff5e594725</td>\n",
       "      <td>transaction</td>\n",
       "      <td>696</td>\n",
       "      <td>7.97</td>\n",
       "      <td>NaN</td>\n",
       "      <td>0</td>\n",
       "      <td>0</td>\n",
       "      <td>0</td>\n",
       "      <td>1</td>\n",
       "      <td>2906b810c7d4411798c6938adc9daaa5</td>\n",
       "      <td>2906b810c7d4411798c6938adc9daaa5</td>\n",
       "      <td>0</td>\n",
       "      <td>NaN</td>\n",
       "    </tr>\n",
       "    <tr>\n",
       "      <th>302173</th>\n",
       "      <td>302173</td>\n",
       "      <td>0069a50874d846438e58acff5e594725</td>\n",
       "      <td>offer completed</td>\n",
       "      <td>696</td>\n",
       "      <td>NaN</td>\n",
       "      <td>2.0</td>\n",
       "      <td>1</td>\n",
       "      <td>0</td>\n",
       "      <td>0</td>\n",
       "      <td>0</td>\n",
       "      <td>2906b810c7d4411798c6938adc9daaa5</td>\n",
       "      <td>NaN</td>\n",
       "      <td>0</td>\n",
       "      <td>2906b810c7d4411798c6938adc9daaa5</td>\n",
       "    </tr>\n",
       "  </tbody>\n",
       "</table>\n",
       "</div>"
      ],
      "text/plain": [
       "         index                            person            event  time  \\\n",
       "52423    52423  0069a50874d846438e58acff5e594725      transaction   162   \n",
       "113176  113176  0069a50874d846438e58acff5e594725   offer received   336   \n",
       "147540  147540  0069a50874d846438e58acff5e594725      transaction   396   \n",
       "152967  152967  0069a50874d846438e58acff5e594725   offer received   408   \n",
       "180415  180415  0069a50874d846438e58acff5e594725      transaction   438   \n",
       "203928  203928  0069a50874d846438e58acff5e594725   offer received   504   \n",
       "237730  237730  0069a50874d846438e58acff5e594725     offer viewed   552   \n",
       "247454  247454  0069a50874d846438e58acff5e594725   offer received   576   \n",
       "279923  279923  0069a50874d846438e58acff5e594725      transaction   618   \n",
       "302172  302172  0069a50874d846438e58acff5e594725      transaction   696   \n",
       "302173  302173  0069a50874d846438e58acff5e594725  offer completed   696   \n",
       "\n",
       "        amount  reward  offer completed  offer received  offer viewed  \\\n",
       "52423    16.20     NaN                0               0             0   \n",
       "113176     NaN     NaN                0               1             0   \n",
       "147540    0.60     NaN                0               0             0   \n",
       "152967     NaN     NaN                0               1             0   \n",
       "180415    3.61     NaN                0               0             0   \n",
       "203928     NaN     NaN                0               1             0   \n",
       "237730     NaN     NaN                0               0             1   \n",
       "247454     NaN     NaN                0               1             0   \n",
       "279923    5.12     NaN                0               0             0   \n",
       "302172    7.97     NaN                0               0             0   \n",
       "302173     NaN     2.0                1               0             0   \n",
       "\n",
       "        transaction                   offer_id_filled  \\\n",
       "52423             1                               NaN   \n",
       "113176            0                               NaN   \n",
       "147540            1                               NaN   \n",
       "152967            0                               NaN   \n",
       "180415            1                               NaN   \n",
       "203928            0                               NaN   \n",
       "237730            0                               NaN   \n",
       "247454            0                               NaN   \n",
       "279923            1                               NaN   \n",
       "302172            1  2906b810c7d4411798c6938adc9daaa5   \n",
       "302173            0  2906b810c7d4411798c6938adc9daaa5   \n",
       "\n",
       "                         offer_id_viewed  offer_viewed_trans  \\\n",
       "52423   0b1e1539f2cc45b7b9fa7c272da2e1d7                   1   \n",
       "113176                               NaN                   0   \n",
       "147540  0b1e1539f2cc45b7b9fa7c272da2e1d7                   0   \n",
       "152967                               NaN                   0   \n",
       "180415  0b1e1539f2cc45b7b9fa7c272da2e1d7                   0   \n",
       "203928                               NaN                   0   \n",
       "237730  2906b810c7d4411798c6938adc9daaa5                   1   \n",
       "247454                               NaN                   1   \n",
       "279923  2906b810c7d4411798c6938adc9daaa5                   0   \n",
       "302172  2906b810c7d4411798c6938adc9daaa5                   0   \n",
       "302173                               NaN                   0   \n",
       "\n",
       "                                offer_id  \n",
       "52423                                NaN  \n",
       "113176  0b1e1539f2cc45b7b9fa7c272da2e1d7  \n",
       "147540                               NaN  \n",
       "152967  3f207df678b143eea3cee63160fa8bed  \n",
       "180415                               NaN  \n",
       "203928  2906b810c7d4411798c6938adc9daaa5  \n",
       "237730  2906b810c7d4411798c6938adc9daaa5  \n",
       "247454  2906b810c7d4411798c6938adc9daaa5  \n",
       "279923                               NaN  \n",
       "302172                               NaN  \n",
       "302173  2906b810c7d4411798c6938adc9daaa5  "
      ]
     },
     "execution_count": 14,
     "metadata": {},
     "output_type": "execute_result"
    }
   ],
   "source": [
    "# Check example\n",
    "transcript[transcript['person'] == '0069a50874d846438e58acff5e594725'] "
   ]
  },
  {
   "cell_type": "code",
   "execution_count": 15,
   "metadata": {},
   "outputs": [
    {
     "name": "stdout",
     "output_type": "stream",
     "text": [
      "number of transactions with negative amount values: 37\n"
     ]
    }
   ],
   "source": [
    "## Should reward be removed from order amount?\n",
    "\n",
    "\n",
    "df_amount = transcript.groupby(['person', 'time','offer_id']).agg({'amount':'sum', 'reward':'sum', 'transaction':'sum'}).reset_index()\n",
    "df_amount['order_value'] = df_amount['amount'] - df_amount['reward']\n",
    "print(\"number of transactions with negative amount values:\", len(df_amount[(df_amount['order_value']<0) & (df_amount['transaction']==1)]))\n",
    "\n",
    "## As there are negative values I assume that amount already excludes reward\n",
    "# transcript = transcript.merge(df_amount[['person','time','order_value']], on = ['person','time'], how = 'left')"
   ]
  },
  {
   "cell_type": "code",
   "execution_count": null,
   "metadata": {},
   "outputs": [],
   "source": []
  },
  {
   "cell_type": "markdown",
   "metadata": {},
   "source": [
    "## Join portfolio dataframe"
   ]
  },
  {
   "cell_type": "code",
   "execution_count": 16,
   "metadata": {},
   "outputs": [],
   "source": [
    "### Join portfolio dataframe\n",
    "\n",
    "transcript = transcript.merge(portfolio, right_on = 'id', left_on = 'offer_id', how = 'left')\n"
   ]
  },
  {
   "cell_type": "markdown",
   "metadata": {},
   "source": [
    "#### Check for non-qualifying discounts and remove"
   ]
  },
  {
   "cell_type": "code",
   "execution_count": 17,
   "metadata": {},
   "outputs": [
    {
     "name": "stdout",
     "output_type": "stream",
     "text": [
      "number of non-qualifying purchases: 226\n",
      "percentage of non-qualifying purchases: 0.07372754735200662 %\n"
     ]
    },
    {
     "data": {
      "text/html": [
       "<div>\n",
       "<style scoped>\n",
       "    .dataframe tbody tr th:only-of-type {\n",
       "        vertical-align: middle;\n",
       "    }\n",
       "\n",
       "    .dataframe tbody tr th {\n",
       "        vertical-align: top;\n",
       "    }\n",
       "\n",
       "    .dataframe thead th {\n",
       "        text-align: right;\n",
       "    }\n",
       "</style>\n",
       "<table border=\"1\" class=\"dataframe\">\n",
       "  <thead>\n",
       "    <tr style=\"text-align: right;\">\n",
       "      <th></th>\n",
       "      <th>index</th>\n",
       "      <th>person</th>\n",
       "      <th>event</th>\n",
       "      <th>time</th>\n",
       "      <th>amount</th>\n",
       "      <th>reward_x</th>\n",
       "      <th>offer completed</th>\n",
       "      <th>offer received</th>\n",
       "      <th>offer viewed</th>\n",
       "      <th>transaction</th>\n",
       "      <th>offer_id_filled</th>\n",
       "      <th>offer_id_viewed</th>\n",
       "      <th>offer_viewed_trans</th>\n",
       "      <th>offer_id</th>\n",
       "      <th>reward_y</th>\n",
       "      <th>channels</th>\n",
       "      <th>difficulty</th>\n",
       "      <th>duration</th>\n",
       "      <th>offer_type</th>\n",
       "      <th>id</th>\n",
       "    </tr>\n",
       "  </thead>\n",
       "  <tbody>\n",
       "    <tr>\n",
       "      <th>99</th>\n",
       "      <td>144667</td>\n",
       "      <td>003d66b6608740288d6cc97a6903f4f0</td>\n",
       "      <td>transaction</td>\n",
       "      <td>384</td>\n",
       "      <td>3.66</td>\n",
       "      <td>NaN</td>\n",
       "      <td>0</td>\n",
       "      <td>0</td>\n",
       "      <td>0</td>\n",
       "      <td>1</td>\n",
       "      <td>fafdcd668e3743c1bb461111dcafc2a4</td>\n",
       "      <td>3f207df678b143eea3cee63160fa8bed</td>\n",
       "      <td>1</td>\n",
       "      <td>fafdcd668e3743c1bb461111dcafc2a4</td>\n",
       "      <td>2.0</td>\n",
       "      <td>[web, email, mobile, social]</td>\n",
       "      <td>10.0</td>\n",
       "      <td>10.0</td>\n",
       "      <td>discount</td>\n",
       "      <td>fafdcd668e3743c1bb461111dcafc2a4</td>\n",
       "    </tr>\n",
       "    <tr>\n",
       "      <th>895</th>\n",
       "      <td>283939</td>\n",
       "      <td>00e52682848542c3a6f59b7824e9a5c5</td>\n",
       "      <td>transaction</td>\n",
       "      <td>624</td>\n",
       "      <td>7.32</td>\n",
       "      <td>NaN</td>\n",
       "      <td>0</td>\n",
       "      <td>0</td>\n",
       "      <td>0</td>\n",
       "      <td>1</td>\n",
       "      <td>0b1e1539f2cc45b7b9fa7c272da2e1d7</td>\n",
       "      <td>5a8bc65990b245e5a138643cd4eb9837</td>\n",
       "      <td>0</td>\n",
       "      <td>0b1e1539f2cc45b7b9fa7c272da2e1d7</td>\n",
       "      <td>5.0</td>\n",
       "      <td>[web, email]</td>\n",
       "      <td>20.0</td>\n",
       "      <td>10.0</td>\n",
       "      <td>discount</td>\n",
       "      <td>0b1e1539f2cc45b7b9fa7c272da2e1d7</td>\n",
       "    </tr>\n",
       "    <tr>\n",
       "      <th>924</th>\n",
       "      <td>179059</td>\n",
       "      <td>00e9f403afa641889cd034ee7c7ca6e9</td>\n",
       "      <td>transaction</td>\n",
       "      <td>432</td>\n",
       "      <td>12.36</td>\n",
       "      <td>NaN</td>\n",
       "      <td>0</td>\n",
       "      <td>0</td>\n",
       "      <td>0</td>\n",
       "      <td>1</td>\n",
       "      <td>0b1e1539f2cc45b7b9fa7c272da2e1d7</td>\n",
       "      <td>5a8bc65990b245e5a138643cd4eb9837</td>\n",
       "      <td>0</td>\n",
       "      <td>0b1e1539f2cc45b7b9fa7c272da2e1d7</td>\n",
       "      <td>5.0</td>\n",
       "      <td>[web, email]</td>\n",
       "      <td>20.0</td>\n",
       "      <td>10.0</td>\n",
       "      <td>discount</td>\n",
       "      <td>0b1e1539f2cc45b7b9fa7c272da2e1d7</td>\n",
       "    </tr>\n",
       "    <tr>\n",
       "      <th>1091</th>\n",
       "      <td>142787</td>\n",
       "      <td>01162252405b4524a8fa1bf8e6d5f04b</td>\n",
       "      <td>transaction</td>\n",
       "      <td>378</td>\n",
       "      <td>9.06</td>\n",
       "      <td>NaN</td>\n",
       "      <td>0</td>\n",
       "      <td>0</td>\n",
       "      <td>0</td>\n",
       "      <td>1</td>\n",
       "      <td>0b1e1539f2cc45b7b9fa7c272da2e1d7</td>\n",
       "      <td>5a8bc65990b245e5a138643cd4eb9837</td>\n",
       "      <td>0</td>\n",
       "      <td>0b1e1539f2cc45b7b9fa7c272da2e1d7</td>\n",
       "      <td>5.0</td>\n",
       "      <td>[web, email]</td>\n",
       "      <td>20.0</td>\n",
       "      <td>10.0</td>\n",
       "      <td>discount</td>\n",
       "      <td>0b1e1539f2cc45b7b9fa7c272da2e1d7</td>\n",
       "    </tr>\n",
       "    <tr>\n",
       "      <th>1496</th>\n",
       "      <td>108915</td>\n",
       "      <td>016edb1d1d67477391c5337545a5d98a</td>\n",
       "      <td>transaction</td>\n",
       "      <td>318</td>\n",
       "      <td>14.94</td>\n",
       "      <td>NaN</td>\n",
       "      <td>0</td>\n",
       "      <td>0</td>\n",
       "      <td>0</td>\n",
       "      <td>1</td>\n",
       "      <td>0b1e1539f2cc45b7b9fa7c272da2e1d7</td>\n",
       "      <td>3f207df678b143eea3cee63160fa8bed</td>\n",
       "      <td>0</td>\n",
       "      <td>0b1e1539f2cc45b7b9fa7c272da2e1d7</td>\n",
       "      <td>5.0</td>\n",
       "      <td>[web, email]</td>\n",
       "      <td>20.0</td>\n",
       "      <td>10.0</td>\n",
       "      <td>discount</td>\n",
       "      <td>0b1e1539f2cc45b7b9fa7c272da2e1d7</td>\n",
       "    </tr>\n",
       "  </tbody>\n",
       "</table>\n",
       "</div>"
      ],
      "text/plain": [
       "       index                            person        event  time  amount  \\\n",
       "99    144667  003d66b6608740288d6cc97a6903f4f0  transaction   384    3.66   \n",
       "895   283939  00e52682848542c3a6f59b7824e9a5c5  transaction   624    7.32   \n",
       "924   179059  00e9f403afa641889cd034ee7c7ca6e9  transaction   432   12.36   \n",
       "1091  142787  01162252405b4524a8fa1bf8e6d5f04b  transaction   378    9.06   \n",
       "1496  108915  016edb1d1d67477391c5337545a5d98a  transaction   318   14.94   \n",
       "\n",
       "      reward_x  offer completed  offer received  offer viewed  transaction  \\\n",
       "99         NaN                0               0             0            1   \n",
       "895        NaN                0               0             0            1   \n",
       "924        NaN                0               0             0            1   \n",
       "1091       NaN                0               0             0            1   \n",
       "1496       NaN                0               0             0            1   \n",
       "\n",
       "                       offer_id_filled                   offer_id_viewed  \\\n",
       "99    fafdcd668e3743c1bb461111dcafc2a4  3f207df678b143eea3cee63160fa8bed   \n",
       "895   0b1e1539f2cc45b7b9fa7c272da2e1d7  5a8bc65990b245e5a138643cd4eb9837   \n",
       "924   0b1e1539f2cc45b7b9fa7c272da2e1d7  5a8bc65990b245e5a138643cd4eb9837   \n",
       "1091  0b1e1539f2cc45b7b9fa7c272da2e1d7  5a8bc65990b245e5a138643cd4eb9837   \n",
       "1496  0b1e1539f2cc45b7b9fa7c272da2e1d7  3f207df678b143eea3cee63160fa8bed   \n",
       "\n",
       "      offer_viewed_trans                          offer_id  reward_y  \\\n",
       "99                     1  fafdcd668e3743c1bb461111dcafc2a4       2.0   \n",
       "895                    0  0b1e1539f2cc45b7b9fa7c272da2e1d7       5.0   \n",
       "924                    0  0b1e1539f2cc45b7b9fa7c272da2e1d7       5.0   \n",
       "1091                   0  0b1e1539f2cc45b7b9fa7c272da2e1d7       5.0   \n",
       "1496                   0  0b1e1539f2cc45b7b9fa7c272da2e1d7       5.0   \n",
       "\n",
       "                          channels  difficulty  duration offer_type  \\\n",
       "99    [web, email, mobile, social]        10.0      10.0   discount   \n",
       "895                   [web, email]        20.0      10.0   discount   \n",
       "924                   [web, email]        20.0      10.0   discount   \n",
       "1091                  [web, email]        20.0      10.0   discount   \n",
       "1496                  [web, email]        20.0      10.0   discount   \n",
       "\n",
       "                                    id  \n",
       "99    fafdcd668e3743c1bb461111dcafc2a4  \n",
       "895   0b1e1539f2cc45b7b9fa7c272da2e1d7  \n",
       "924   0b1e1539f2cc45b7b9fa7c272da2e1d7  \n",
       "1091  0b1e1539f2cc45b7b9fa7c272da2e1d7  \n",
       "1496  0b1e1539f2cc45b7b9fa7c272da2e1d7  "
      ]
     },
     "metadata": {},
     "output_type": "display_data"
    }
   ],
   "source": [
    "# There are some strange observations that should be excluded. \n",
    "# It seems some customers received discounts although they did not qualify with their order value\n",
    "\n",
    "print(\"number of non-qualifying purchases:\", len(transcript[((transcript['amount'] + transcript['reward_y']) < transcript['difficulty']) & (transcript['offer_id'].isnull()==False)])\n",
    ")\n",
    "print(\"percentage of non-qualifying purchases:\",\n",
    "      len(transcript[((transcript['amount'] + transcript['reward_y']) < transcript['difficulty'])\n",
    "                     & (transcript['offer_id'].isnull()==False)]) / len(transcript['event'] == 'transaction') *100, \"%\")\n",
    "display(transcript[((transcript['amount'] + transcript['reward_y']) < transcript['difficulty']) & (transcript['offer_id'].isnull()==False)].head())\n",
    "\n",
    "# Observations will be excluded"
   ]
  },
  {
   "cell_type": "code",
   "execution_count": 18,
   "metadata": {},
   "outputs": [],
   "source": [
    "## Remove non-qualifying observations\n",
    "\n",
    "transcript = transcript[~(((transcript['amount'] + transcript['reward_y']) < transcript['difficulty'])\n",
    "                     & (transcript['offer_id'].isnull()==False))]"
   ]
  },
  {
   "cell_type": "code",
   "execution_count": 19,
   "metadata": {},
   "outputs": [
    {
     "data": {
      "text/plain": [
       "Index(['index', 'person', 'event', 'time', 'amount', 'reward_x',\n",
       "       'offer completed', 'offer received', 'offer viewed', 'transaction',\n",
       "       'offer_id_filled', 'offer_id_viewed', 'offer_viewed_trans', 'offer_id',\n",
       "       'reward_y', 'channels', 'difficulty', 'duration', 'offer_type', 'id'],\n",
       "      dtype='object')"
      ]
     },
     "execution_count": 19,
     "metadata": {},
     "output_type": "execute_result"
    }
   ],
   "source": [
    "transcript.columns\n"
   ]
  },
  {
   "cell_type": "code",
   "execution_count": 20,
   "metadata": {},
   "outputs": [],
   "source": [
    "#### Drop unnecessary columns\n",
    "unnecess_cols = ['offer completed', 'offer received', 'offer viewed', 'transaction', 'offer_id_filled',\n",
    "                 'offer_id_viewed', 'offer_viewed_trans','reward_x', 'id']\n",
    "transcript = transcript.drop(columns = unnecess_cols)\n",
    "transcript['offer_id'].fillna('no_special_offer', inplace = True)\n",
    "transcript = transcript.rename(columns = {'reward_y':'potential_reward'})\n",
    "                             "
   ]
  },
  {
   "cell_type": "code",
   "execution_count": 21,
   "metadata": {},
   "outputs": [
    {
     "data": {
      "text/html": [
       "<div>\n",
       "<style scoped>\n",
       "    .dataframe tbody tr th:only-of-type {\n",
       "        vertical-align: middle;\n",
       "    }\n",
       "\n",
       "    .dataframe tbody tr th {\n",
       "        vertical-align: top;\n",
       "    }\n",
       "\n",
       "    .dataframe thead th {\n",
       "        text-align: right;\n",
       "    }\n",
       "</style>\n",
       "<table border=\"1\" class=\"dataframe\">\n",
       "  <thead>\n",
       "    <tr style=\"text-align: right;\">\n",
       "      <th></th>\n",
       "      <th>index</th>\n",
       "      <th>person</th>\n",
       "      <th>event</th>\n",
       "      <th>time</th>\n",
       "      <th>amount</th>\n",
       "      <th>offer_id</th>\n",
       "      <th>potential_reward</th>\n",
       "      <th>channels</th>\n",
       "      <th>difficulty</th>\n",
       "      <th>duration</th>\n",
       "      <th>offer_type</th>\n",
       "    </tr>\n",
       "  </thead>\n",
       "  <tbody>\n",
       "    <tr>\n",
       "      <th>0</th>\n",
       "      <td>55972</td>\n",
       "      <td>0009655768c64bdeb2e877511632db8f</td>\n",
       "      <td>offer received</td>\n",
       "      <td>168</td>\n",
       "      <td>NaN</td>\n",
       "      <td>5a8bc65990b245e5a138643cd4eb9837</td>\n",
       "      <td>0.0</td>\n",
       "      <td>[email, mobile, social]</td>\n",
       "      <td>0.0</td>\n",
       "      <td>3.0</td>\n",
       "      <td>informational</td>\n",
       "    </tr>\n",
       "    <tr>\n",
       "      <th>1</th>\n",
       "      <td>77705</td>\n",
       "      <td>0009655768c64bdeb2e877511632db8f</td>\n",
       "      <td>offer viewed</td>\n",
       "      <td>192</td>\n",
       "      <td>NaN</td>\n",
       "      <td>5a8bc65990b245e5a138643cd4eb9837</td>\n",
       "      <td>0.0</td>\n",
       "      <td>[email, mobile, social]</td>\n",
       "      <td>0.0</td>\n",
       "      <td>3.0</td>\n",
       "      <td>informational</td>\n",
       "    </tr>\n",
       "    <tr>\n",
       "      <th>2</th>\n",
       "      <td>89291</td>\n",
       "      <td>0009655768c64bdeb2e877511632db8f</td>\n",
       "      <td>transaction</td>\n",
       "      <td>228</td>\n",
       "      <td>22.16</td>\n",
       "      <td>no_special_offer</td>\n",
       "      <td>NaN</td>\n",
       "      <td>NaN</td>\n",
       "      <td>NaN</td>\n",
       "      <td>NaN</td>\n",
       "      <td>NaN</td>\n",
       "    </tr>\n",
       "    <tr>\n",
       "      <th>3</th>\n",
       "      <td>113605</td>\n",
       "      <td>0009655768c64bdeb2e877511632db8f</td>\n",
       "      <td>offer received</td>\n",
       "      <td>336</td>\n",
       "      <td>NaN</td>\n",
       "      <td>3f207df678b143eea3cee63160fa8bed</td>\n",
       "      <td>0.0</td>\n",
       "      <td>[web, email, mobile]</td>\n",
       "      <td>0.0</td>\n",
       "      <td>4.0</td>\n",
       "      <td>informational</td>\n",
       "    </tr>\n",
       "    <tr>\n",
       "      <th>4</th>\n",
       "      <td>139992</td>\n",
       "      <td>0009655768c64bdeb2e877511632db8f</td>\n",
       "      <td>offer viewed</td>\n",
       "      <td>372</td>\n",
       "      <td>NaN</td>\n",
       "      <td>3f207df678b143eea3cee63160fa8bed</td>\n",
       "      <td>0.0</td>\n",
       "      <td>[web, email, mobile]</td>\n",
       "      <td>0.0</td>\n",
       "      <td>4.0</td>\n",
       "      <td>informational</td>\n",
       "    </tr>\n",
       "  </tbody>\n",
       "</table>\n",
       "</div>"
      ],
      "text/plain": [
       "    index                            person           event  time  amount  \\\n",
       "0   55972  0009655768c64bdeb2e877511632db8f  offer received   168     NaN   \n",
       "1   77705  0009655768c64bdeb2e877511632db8f    offer viewed   192     NaN   \n",
       "2   89291  0009655768c64bdeb2e877511632db8f     transaction   228   22.16   \n",
       "3  113605  0009655768c64bdeb2e877511632db8f  offer received   336     NaN   \n",
       "4  139992  0009655768c64bdeb2e877511632db8f    offer viewed   372     NaN   \n",
       "\n",
       "                           offer_id  potential_reward  \\\n",
       "0  5a8bc65990b245e5a138643cd4eb9837               0.0   \n",
       "1  5a8bc65990b245e5a138643cd4eb9837               0.0   \n",
       "2                  no_special_offer               NaN   \n",
       "3  3f207df678b143eea3cee63160fa8bed               0.0   \n",
       "4  3f207df678b143eea3cee63160fa8bed               0.0   \n",
       "\n",
       "                  channels  difficulty  duration     offer_type  \n",
       "0  [email, mobile, social]         0.0       3.0  informational  \n",
       "1  [email, mobile, social]         0.0       3.0  informational  \n",
       "2                      NaN         NaN       NaN            NaN  \n",
       "3     [web, email, mobile]         0.0       4.0  informational  \n",
       "4     [web, email, mobile]         0.0       4.0  informational  "
      ]
     },
     "execution_count": 21,
     "metadata": {},
     "output_type": "execute_result"
    }
   ],
   "source": [
    "transcript['offer_id'].fillna('no_special_offer', inplace = True)\n",
    "transcript.head()"
   ]
  },
  {
   "cell_type": "markdown",
   "metadata": {},
   "source": [
    "## Merge demographic information"
   ]
  },
  {
   "cell_type": "code",
   "execution_count": 22,
   "metadata": {},
   "outputs": [],
   "source": [
    "\n",
    "transcript = transcript.merge(profile.rename(columns = {'id':'person'}), on = 'person', how = 'left')\n"
   ]
  },
  {
   "cell_type": "code",
   "execution_count": 23,
   "metadata": {},
   "outputs": [
    {
     "data": {
      "text/plain": [
       "bogo             72398\n",
       "discount         70701\n",
       "informational    26066\n",
       "Name: offer_type, dtype: int64"
      ]
     },
     "execution_count": 23,
     "metadata": {},
     "output_type": "execute_result"
    }
   ],
   "source": [
    "transcript.offer_type.value_counts()"
   ]
  },
  {
   "cell_type": "markdown",
   "metadata": {},
   "source": [
    "#### Limit data to transactions"
   ]
  },
  {
   "cell_type": "code",
   "execution_count": 24,
   "metadata": {},
   "outputs": [],
   "source": [
    "df = transcript[transcript['event']=='transaction']"
   ]
  },
  {
   "cell_type": "code",
   "execution_count": null,
   "metadata": {},
   "outputs": [],
   "source": []
  },
  {
   "cell_type": "markdown",
   "metadata": {},
   "source": [
    "## Data Cleaning and Feature Generation"
   ]
  },
  {
   "cell_type": "markdown",
   "metadata": {},
   "source": [
    "### Treat Missing values in merged data"
   ]
  },
  {
   "cell_type": "code",
   "execution_count": 25,
   "metadata": {},
   "outputs": [
    {
     "name": "stdout",
     "output_type": "stream",
     "text": [
      "Missing values in merged transcript data:\n"
     ]
    },
    {
     "data": {
      "text/plain": [
       "index               0.000000\n",
       "person              0.000000\n",
       "event               0.000000\n",
       "time                0.000000\n",
       "amount              0.000000\n",
       "offer_id            0.000000\n",
       "potential_reward    0.988582\n",
       "channels            0.988582\n",
       "difficulty          0.988582\n",
       "duration            0.988582\n",
       "offer_type          0.988582\n",
       "gender              0.107953\n",
       "age                 0.000000\n",
       "became_member_on    0.000000\n",
       "income              0.107953\n",
       "dtype: float64"
      ]
     },
     "metadata": {},
     "output_type": "display_data"
    },
    {
     "name": "stdout",
     "output_type": "stream",
     "text": [
      "Missing values in age column: 0.10795303005182841\n"
     ]
    },
    {
     "data": {
      "text/plain": [
       "index               0.000000\n",
       "person              0.000000\n",
       "event               0.000000\n",
       "time                0.000000\n",
       "amount              0.000000\n",
       "offer_id            0.000000\n",
       "potential_reward    0.987507\n",
       "channels            0.987507\n",
       "difficulty          0.987507\n",
       "duration            0.987507\n",
       "offer_type          0.987507\n",
       "gender              0.000000\n",
       "age                 0.000000\n",
       "became_member_on    0.000000\n",
       "income              0.000000\n",
       "dtype: float64"
      ]
     },
     "metadata": {},
     "output_type": "display_data"
    }
   ],
   "source": [
    "print(\"Missing values in merged transcript data:\")\n",
    "display(df.isna().sum()/len(df))\n",
    "\n",
    "print('Missing values in age column:', len(df[df['age']==118])/len(df))\n",
    "\n",
    "# 10 % is quite a lot but they will have to be removed\n",
    "\n",
    "df = df[df['age']!=118]\n",
    "\n",
    "display(df.isna().sum()/len(df))\n"
   ]
  },
  {
   "cell_type": "markdown",
   "metadata": {},
   "source": [
    "### Generate new features"
   ]
  },
  {
   "cell_type": "markdown",
   "metadata": {},
   "source": [
    "#### Ideas for pre-processing columns:\n",
    "\n",
    "1. Put income into buckets\n",
    "2. Calculate days since someone beacme member\n",
    "3. Put age into buckets\n"
   ]
  },
  {
   "cell_type": "code",
   "execution_count": 26,
   "metadata": {},
   "outputs": [
    {
     "data": {
      "text/plain": [
       "count    123751.000000\n",
       "mean         52.717618\n",
       "std          17.904179\n",
       "min          18.000000\n",
       "25%          39.000000\n",
       "50%          54.000000\n",
       "75%          65.000000\n",
       "max         101.000000\n",
       "Name: age, dtype: float64"
      ]
     },
     "execution_count": 26,
     "metadata": {},
     "output_type": "execute_result"
    }
   ],
   "source": [
    "### Age \n",
    "df.age.describe()"
   ]
  },
  {
   "cell_type": "code",
   "execution_count": 27,
   "metadata": {},
   "outputs": [],
   "source": [
    "# Important: Missing values are encoded as 118!\n",
    "cut_labels_age = ['18-39', '40-54', '55-66', '67+']\n",
    "cut_bins_age = [0, 40, 55, 67, 101]\n",
    "df['age_bucket'] = pd.cut(df['age'], bins=cut_bins_age, labels=cut_labels_age)"
   ]
  },
  {
   "cell_type": "code",
   "execution_count": 28,
   "metadata": {},
   "outputs": [
    {
     "data": {
      "text/html": [
       "<div>\n",
       "<style scoped>\n",
       "    .dataframe tbody tr th:only-of-type {\n",
       "        vertical-align: middle;\n",
       "    }\n",
       "\n",
       "    .dataframe tbody tr th {\n",
       "        vertical-align: top;\n",
       "    }\n",
       "\n",
       "    .dataframe thead th {\n",
       "        text-align: right;\n",
       "    }\n",
       "</style>\n",
       "<table border=\"1\" class=\"dataframe\">\n",
       "  <thead>\n",
       "    <tr style=\"text-align: right;\">\n",
       "      <th></th>\n",
       "      <th>index</th>\n",
       "      <th>person</th>\n",
       "      <th>event</th>\n",
       "      <th>time</th>\n",
       "      <th>amount</th>\n",
       "      <th>offer_id</th>\n",
       "      <th>potential_reward</th>\n",
       "      <th>channels</th>\n",
       "      <th>difficulty</th>\n",
       "      <th>duration</th>\n",
       "      <th>offer_type</th>\n",
       "      <th>gender</th>\n",
       "      <th>age</th>\n",
       "      <th>became_member_on</th>\n",
       "      <th>income</th>\n",
       "      <th>age_bucket</th>\n",
       "    </tr>\n",
       "  </thead>\n",
       "  <tbody>\n",
       "    <tr>\n",
       "      <th>415</th>\n",
       "      <td>21841</td>\n",
       "      <td>00a794f62b9a48beb58f8f6c02c2f1a6</td>\n",
       "      <td>transaction</td>\n",
       "      <td>18</td>\n",
       "      <td>6.03</td>\n",
       "      <td>no_special_offer</td>\n",
       "      <td>NaN</td>\n",
       "      <td>NaN</td>\n",
       "      <td>NaN</td>\n",
       "      <td>NaN</td>\n",
       "      <td>NaN</td>\n",
       "      <td>F</td>\n",
       "      <td>88</td>\n",
       "      <td>2015-10-24</td>\n",
       "      <td>54000.0</td>\n",
       "      <td>67+</td>\n",
       "    </tr>\n",
       "    <tr>\n",
       "      <th>417</th>\n",
       "      <td>27464</td>\n",
       "      <td>00a794f62b9a48beb58f8f6c02c2f1a6</td>\n",
       "      <td>transaction</td>\n",
       "      <td>36</td>\n",
       "      <td>15.47</td>\n",
       "      <td>no_special_offer</td>\n",
       "      <td>NaN</td>\n",
       "      <td>NaN</td>\n",
       "      <td>NaN</td>\n",
       "      <td>NaN</td>\n",
       "      <td>NaN</td>\n",
       "      <td>F</td>\n",
       "      <td>88</td>\n",
       "      <td>2015-10-24</td>\n",
       "      <td>54000.0</td>\n",
       "      <td>67+</td>\n",
       "    </tr>\n",
       "    <tr>\n",
       "      <th>418</th>\n",
       "      <td>32302</td>\n",
       "      <td>00a794f62b9a48beb58f8f6c02c2f1a6</td>\n",
       "      <td>transaction</td>\n",
       "      <td>54</td>\n",
       "      <td>15.88</td>\n",
       "      <td>no_special_offer</td>\n",
       "      <td>NaN</td>\n",
       "      <td>NaN</td>\n",
       "      <td>NaN</td>\n",
       "      <td>NaN</td>\n",
       "      <td>NaN</td>\n",
       "      <td>F</td>\n",
       "      <td>88</td>\n",
       "      <td>2015-10-24</td>\n",
       "      <td>54000.0</td>\n",
       "      <td>67+</td>\n",
       "    </tr>\n",
       "    <tr>\n",
       "      <th>419</th>\n",
       "      <td>41748</td>\n",
       "      <td>00a794f62b9a48beb58f8f6c02c2f1a6</td>\n",
       "      <td>transaction</td>\n",
       "      <td>96</td>\n",
       "      <td>17.15</td>\n",
       "      <td>no_special_offer</td>\n",
       "      <td>NaN</td>\n",
       "      <td>NaN</td>\n",
       "      <td>NaN</td>\n",
       "      <td>NaN</td>\n",
       "      <td>NaN</td>\n",
       "      <td>F</td>\n",
       "      <td>88</td>\n",
       "      <td>2015-10-24</td>\n",
       "      <td>54000.0</td>\n",
       "      <td>67+</td>\n",
       "    </tr>\n",
       "    <tr>\n",
       "      <th>422</th>\n",
       "      <td>76693</td>\n",
       "      <td>00a794f62b9a48beb58f8f6c02c2f1a6</td>\n",
       "      <td>transaction</td>\n",
       "      <td>186</td>\n",
       "      <td>26.39</td>\n",
       "      <td>no_special_offer</td>\n",
       "      <td>NaN</td>\n",
       "      <td>NaN</td>\n",
       "      <td>NaN</td>\n",
       "      <td>NaN</td>\n",
       "      <td>NaN</td>\n",
       "      <td>F</td>\n",
       "      <td>88</td>\n",
       "      <td>2015-10-24</td>\n",
       "      <td>54000.0</td>\n",
       "      <td>67+</td>\n",
       "    </tr>\n",
       "    <tr>\n",
       "      <th>...</th>\n",
       "      <td>...</td>\n",
       "      <td>...</td>\n",
       "      <td>...</td>\n",
       "      <td>...</td>\n",
       "      <td>...</td>\n",
       "      <td>...</td>\n",
       "      <td>...</td>\n",
       "      <td>...</td>\n",
       "      <td>...</td>\n",
       "      <td>...</td>\n",
       "      <td>...</td>\n",
       "      <td>...</td>\n",
       "      <td>...</td>\n",
       "      <td>...</td>\n",
       "      <td>...</td>\n",
       "      <td>...</td>\n",
       "    </tr>\n",
       "    <tr>\n",
       "      <th>306082</th>\n",
       "      <td>238840</td>\n",
       "      <td>ffdefcac307f4ca99ac1ebd51470f106</td>\n",
       "      <td>transaction</td>\n",
       "      <td>552</td>\n",
       "      <td>13.43</td>\n",
       "      <td>no_special_offer</td>\n",
       "      <td>NaN</td>\n",
       "      <td>NaN</td>\n",
       "      <td>NaN</td>\n",
       "      <td>NaN</td>\n",
       "      <td>NaN</td>\n",
       "      <td>F</td>\n",
       "      <td>87</td>\n",
       "      <td>2017-03-15</td>\n",
       "      <td>47000.0</td>\n",
       "      <td>67+</td>\n",
       "    </tr>\n",
       "    <tr>\n",
       "      <th>306085</th>\n",
       "      <td>301539</td>\n",
       "      <td>ffdefcac307f4ca99ac1ebd51470f106</td>\n",
       "      <td>transaction</td>\n",
       "      <td>690</td>\n",
       "      <td>10.78</td>\n",
       "      <td>no_special_offer</td>\n",
       "      <td>NaN</td>\n",
       "      <td>NaN</td>\n",
       "      <td>NaN</td>\n",
       "      <td>NaN</td>\n",
       "      <td>NaN</td>\n",
       "      <td>F</td>\n",
       "      <td>87</td>\n",
       "      <td>2017-03-15</td>\n",
       "      <td>47000.0</td>\n",
       "      <td>67+</td>\n",
       "    </tr>\n",
       "    <tr>\n",
       "      <th>306089</th>\n",
       "      <td>86337</td>\n",
       "      <td>ffe5257abf8840b395e1ee6b29894637</td>\n",
       "      <td>transaction</td>\n",
       "      <td>216</td>\n",
       "      <td>34.95</td>\n",
       "      <td>no_special_offer</td>\n",
       "      <td>NaN</td>\n",
       "      <td>NaN</td>\n",
       "      <td>NaN</td>\n",
       "      <td>NaN</td>\n",
       "      <td>NaN</td>\n",
       "      <td>M</td>\n",
       "      <td>77</td>\n",
       "      <td>2017-08-22</td>\n",
       "      <td>75000.0</td>\n",
       "      <td>67+</td>\n",
       "    </tr>\n",
       "    <tr>\n",
       "      <th>306094</th>\n",
       "      <td>140676</td>\n",
       "      <td>ffe5257abf8840b395e1ee6b29894637</td>\n",
       "      <td>transaction</td>\n",
       "      <td>372</td>\n",
       "      <td>15.22</td>\n",
       "      <td>no_special_offer</td>\n",
       "      <td>NaN</td>\n",
       "      <td>NaN</td>\n",
       "      <td>NaN</td>\n",
       "      <td>NaN</td>\n",
       "      <td>NaN</td>\n",
       "      <td>M</td>\n",
       "      <td>77</td>\n",
       "      <td>2017-08-22</td>\n",
       "      <td>75000.0</td>\n",
       "      <td>67+</td>\n",
       "    </tr>\n",
       "    <tr>\n",
       "      <th>306100</th>\n",
       "      <td>267399</td>\n",
       "      <td>ffe5257abf8840b395e1ee6b29894637</td>\n",
       "      <td>transaction</td>\n",
       "      <td>588</td>\n",
       "      <td>13.32</td>\n",
       "      <td>no_special_offer</td>\n",
       "      <td>NaN</td>\n",
       "      <td>NaN</td>\n",
       "      <td>NaN</td>\n",
       "      <td>NaN</td>\n",
       "      <td>NaN</td>\n",
       "      <td>M</td>\n",
       "      <td>77</td>\n",
       "      <td>2017-08-22</td>\n",
       "      <td>75000.0</td>\n",
       "      <td>67+</td>\n",
       "    </tr>\n",
       "  </tbody>\n",
       "</table>\n",
       "<p>17056 rows × 16 columns</p>\n",
       "</div>"
      ],
      "text/plain": [
       "         index                            person        event  time  amount  \\\n",
       "415      21841  00a794f62b9a48beb58f8f6c02c2f1a6  transaction    18    6.03   \n",
       "417      27464  00a794f62b9a48beb58f8f6c02c2f1a6  transaction    36   15.47   \n",
       "418      32302  00a794f62b9a48beb58f8f6c02c2f1a6  transaction    54   15.88   \n",
       "419      41748  00a794f62b9a48beb58f8f6c02c2f1a6  transaction    96   17.15   \n",
       "422      76693  00a794f62b9a48beb58f8f6c02c2f1a6  transaction   186   26.39   \n",
       "...        ...                               ...          ...   ...     ...   \n",
       "306082  238840  ffdefcac307f4ca99ac1ebd51470f106  transaction   552   13.43   \n",
       "306085  301539  ffdefcac307f4ca99ac1ebd51470f106  transaction   690   10.78   \n",
       "306089   86337  ffe5257abf8840b395e1ee6b29894637  transaction   216   34.95   \n",
       "306094  140676  ffe5257abf8840b395e1ee6b29894637  transaction   372   15.22   \n",
       "306100  267399  ffe5257abf8840b395e1ee6b29894637  transaction   588   13.32   \n",
       "\n",
       "                offer_id  potential_reward channels  difficulty  duration  \\\n",
       "415     no_special_offer               NaN      NaN         NaN       NaN   \n",
       "417     no_special_offer               NaN      NaN         NaN       NaN   \n",
       "418     no_special_offer               NaN      NaN         NaN       NaN   \n",
       "419     no_special_offer               NaN      NaN         NaN       NaN   \n",
       "422     no_special_offer               NaN      NaN         NaN       NaN   \n",
       "...                  ...               ...      ...         ...       ...   \n",
       "306082  no_special_offer               NaN      NaN         NaN       NaN   \n",
       "306085  no_special_offer               NaN      NaN         NaN       NaN   \n",
       "306089  no_special_offer               NaN      NaN         NaN       NaN   \n",
       "306094  no_special_offer               NaN      NaN         NaN       NaN   \n",
       "306100  no_special_offer               NaN      NaN         NaN       NaN   \n",
       "\n",
       "       offer_type gender  age became_member_on   income age_bucket  \n",
       "415           NaN      F   88       2015-10-24  54000.0        67+  \n",
       "417           NaN      F   88       2015-10-24  54000.0        67+  \n",
       "418           NaN      F   88       2015-10-24  54000.0        67+  \n",
       "419           NaN      F   88       2015-10-24  54000.0        67+  \n",
       "422           NaN      F   88       2015-10-24  54000.0        67+  \n",
       "...           ...    ...  ...              ...      ...        ...  \n",
       "306082        NaN      F   87       2017-03-15  47000.0        67+  \n",
       "306085        NaN      F   87       2017-03-15  47000.0        67+  \n",
       "306089        NaN      M   77       2017-08-22  75000.0        67+  \n",
       "306094        NaN      M   77       2017-08-22  75000.0        67+  \n",
       "306100        NaN      M   77       2017-08-22  75000.0        67+  \n",
       "\n",
       "[17056 rows x 16 columns]"
      ]
     },
     "metadata": {},
     "output_type": "display_data"
    },
    {
     "data": {
      "text/html": [
       "<div>\n",
       "<style scoped>\n",
       "    .dataframe tbody tr th:only-of-type {\n",
       "        vertical-align: middle;\n",
       "    }\n",
       "\n",
       "    .dataframe tbody tr th {\n",
       "        vertical-align: top;\n",
       "    }\n",
       "\n",
       "    .dataframe thead th {\n",
       "        text-align: right;\n",
       "    }\n",
       "</style>\n",
       "<table border=\"1\" class=\"dataframe\">\n",
       "  <thead>\n",
       "    <tr style=\"text-align: right;\">\n",
       "      <th></th>\n",
       "      <th>index</th>\n",
       "      <th>person</th>\n",
       "      <th>event</th>\n",
       "      <th>time</th>\n",
       "      <th>amount</th>\n",
       "      <th>offer_id</th>\n",
       "      <th>potential_reward</th>\n",
       "      <th>channels</th>\n",
       "      <th>difficulty</th>\n",
       "      <th>duration</th>\n",
       "      <th>offer_type</th>\n",
       "      <th>gender</th>\n",
       "      <th>age</th>\n",
       "      <th>became_member_on</th>\n",
       "      <th>income</th>\n",
       "      <th>age_bucket</th>\n",
       "    </tr>\n",
       "  </thead>\n",
       "  <tbody>\n",
       "  </tbody>\n",
       "</table>\n",
       "</div>"
      ],
      "text/plain": [
       "Empty DataFrame\n",
       "Columns: [index, person, event, time, amount, offer_id, potential_reward, channels, difficulty, duration, offer_type, gender, age, became_member_on, income, age_bucket]\n",
       "Index: []"
      ]
     },
     "metadata": {},
     "output_type": "display_data"
    }
   ],
   "source": [
    "# Check\n",
    "display(df[(df['age']>72) & (df['age']<118)])\n",
    "display(df[df['age']==118])\n",
    "\n"
   ]
  },
  {
   "cell_type": "code",
   "execution_count": 29,
   "metadata": {},
   "outputs": [
    {
     "data": {
      "text/plain": [
       "count    123751.000000\n",
       "mean      61861.277889\n",
       "std       20668.460051\n",
       "min       30000.000000\n",
       "25%       46000.000000\n",
       "50%       60000.000000\n",
       "75%       74000.000000\n",
       "max      120000.000000\n",
       "Name: income, dtype: float64"
      ]
     },
     "execution_count": 29,
     "metadata": {},
     "output_type": "execute_result"
    }
   ],
   "source": [
    "### Age \n",
    "df.income.describe()"
   ]
  },
  {
   "cell_type": "code",
   "execution_count": 30,
   "metadata": {},
   "outputs": [],
   "source": [
    "\n",
    "cut_labels_income = ['0-46000', '46001-60000', '60001-74000', '74001+']\n",
    "cut_bins_income = [0, 46001, 60001, 74001, 120001]\n",
    "df['income_bucket'] = pd.cut(df['income'], bins=cut_bins_income, labels=cut_labels_income)"
   ]
  },
  {
   "cell_type": "code",
   "execution_count": null,
   "metadata": {},
   "outputs": [],
   "source": []
  },
  {
   "cell_type": "code",
   "execution_count": null,
   "metadata": {},
   "outputs": [],
   "source": []
  },
  {
   "cell_type": "code",
   "execution_count": null,
   "metadata": {},
   "outputs": [],
   "source": []
  },
  {
   "cell_type": "code",
   "execution_count": null,
   "metadata": {},
   "outputs": [],
   "source": []
  },
  {
   "cell_type": "code",
   "execution_count": null,
   "metadata": {},
   "outputs": [],
   "source": []
  },
  {
   "cell_type": "code",
   "execution_count": 31,
   "metadata": {},
   "outputs": [],
   "source": [
    "df['days_member'] = (pd.to_datetime('today').normalize() - pd.to_datetime(df.became_member_on, format = '%Y%m%d')).dt.days\n"
   ]
  },
  {
   "cell_type": "code",
   "execution_count": 32,
   "metadata": {},
   "outputs": [],
   "source": [
    "df['years_member'] = df.days_member/365\n",
    "\n",
    "df['years_member'] = round(df['years_member'] - min(df['years_member']))"
   ]
  },
  {
   "cell_type": "code",
   "execution_count": 33,
   "metadata": {
    "scrolled": true
   },
   "outputs": [
    {
     "data": {
      "text/plain": [
       "count    123751.000000\n",
       "mean          1.758394\n",
       "std           1.238452\n",
       "min           0.000000\n",
       "25%           1.000000\n",
       "50%           2.000000\n",
       "75%           3.000000\n",
       "max           5.000000\n",
       "Name: years_member, dtype: float64"
      ]
     },
     "execution_count": 33,
     "metadata": {},
     "output_type": "execute_result"
    }
   ],
   "source": [
    "df.years_member.describe()"
   ]
  },
  {
   "cell_type": "code",
   "execution_count": 34,
   "metadata": {},
   "outputs": [],
   "source": [
    "df = df.drop(columns = ['became_member_on', 'index'])"
   ]
  },
  {
   "cell_type": "code",
   "execution_count": null,
   "metadata": {},
   "outputs": [],
   "source": []
  },
  {
   "cell_type": "markdown",
   "metadata": {},
   "source": [
    "### Check dependent / label attribute amount"
   ]
  },
  {
   "cell_type": "code",
   "execution_count": 35,
   "metadata": {},
   "outputs": [
    {
     "data": {
      "text/plain": [
       "count    123751.000000\n",
       "mean         14.006863\n",
       "std          31.774386\n",
       "min           0.050000\n",
       "25%           3.660000\n",
       "50%          10.810000\n",
       "75%          19.140000\n",
       "max        1062.280000\n",
       "Name: amount, dtype: float64"
      ]
     },
     "execution_count": 35,
     "metadata": {},
     "output_type": "execute_result"
    }
   ],
   "source": [
    "df.amount.describe()"
   ]
  },
  {
   "cell_type": "code",
   "execution_count": 36,
   "metadata": {},
   "outputs": [
    {
     "data": {
      "text/plain": [
       "<AxesSubplot:>"
      ]
     },
     "execution_count": 36,
     "metadata": {},
     "output_type": "execute_result"
    },
    {
     "data": {
      "image/png": "[encoded data removed]",
      "text/plain": [
       "<Figure size 432x288 with 1 Axes>"
      ]
     },
     "metadata": {
      "needs_background": "light"
     },
     "output_type": "display_data"
    }
   ],
   "source": [
    "df.amount.hist()"
   ]
  },
  {
   "cell_type": "code",
   "execution_count": 37,
   "metadata": {},
   "outputs": [
    {
     "name": "stdout",
     "output_type": "stream",
     "text": [
      "51.1\n"
     ]
    }
   ],
   "source": [
    "# Anything above 50 seems a bit high\n",
    "print(df.amount.quantile(.995))\n",
    "\n",
    "df = df[df['amount']<=df.amount.quantile(.995)]"
   ]
  },
  {
   "cell_type": "code",
   "execution_count": 38,
   "metadata": {},
   "outputs": [],
   "source": [
    "## Outlier?"
   ]
  },
  {
   "cell_type": "markdown",
   "metadata": {},
   "source": [
    "## Exploratory Visualization\n",
    "\n",
    "- Analyze the problem through visualizations and data exploration to have a better understanding of what algorithms and features are appropriate for solving it.\n"
   ]
  },
  {
   "cell_type": "code",
   "execution_count": 39,
   "metadata": {},
   "outputs": [
    {
     "data": {
      "text/plain": [
       "person                object\n",
       "event                 object\n",
       "time                   int64\n",
       "amount               float64\n",
       "offer_id              object\n",
       "potential_reward     float64\n",
       "channels              object\n",
       "difficulty           float64\n",
       "duration             float64\n",
       "offer_type            object\n",
       "gender                object\n",
       "age                    int64\n",
       "income               float64\n",
       "age_bucket          category\n",
       "income_bucket       category\n",
       "days_member            int64\n",
       "years_member         float64\n",
       "dtype: object"
      ]
     },
     "execution_count": 39,
     "metadata": {},
     "output_type": "execute_result"
    }
   ],
   "source": [
    "df.dtypes"
   ]
  },
  {
   "cell_type": "code",
   "execution_count": 40,
   "metadata": {},
   "outputs": [
    {
     "name": "stdout",
     "output_type": "stream",
     "text": [
      "Missing values in portfolio data:\n"
     ]
    },
    {
     "data": {
      "text/plain": [
       "person                   0\n",
       "event                    0\n",
       "time                     0\n",
       "amount                   0\n",
       "offer_id                 0\n",
       "potential_reward    121595\n",
       "channels            121595\n",
       "difficulty          121595\n",
       "duration            121595\n",
       "offer_type          121595\n",
       "gender                   0\n",
       "age                      0\n",
       "income                   0\n",
       "age_bucket               0\n",
       "income_bucket            0\n",
       "days_member              0\n",
       "years_member             0\n",
       "dtype: int64"
      ]
     },
     "metadata": {},
     "output_type": "display_data"
    }
   ],
   "source": [
    "print(\"Missing values in portfolio data:\")\n",
    "display(df.isna().sum())\n"
   ]
  },
  {
   "cell_type": "code",
   "execution_count": 41,
   "metadata": {},
   "outputs": [],
   "source": [
    "### Filling NaN\n",
    "\n",
    "df['offer_type'].fillna('no_offer_type', inplace = True)\n",
    "df['duration'].fillna(0, inplace = True)\n",
    "df['difficulty'].fillna(0, inplace = True)\n",
    "df['potential_reward'].fillna(0, inplace = True)\n",
    "df['channels'].fillna('no_channel', inplace = True)\n"
   ]
  },
  {
   "cell_type": "code",
   "execution_count": 42,
   "metadata": {},
   "outputs": [
    {
     "data": {
      "text/html": [
       "<div>\n",
       "<style scoped>\n",
       "    .dataframe tbody tr th:only-of-type {\n",
       "        vertical-align: middle;\n",
       "    }\n",
       "\n",
       "    .dataframe tbody tr th {\n",
       "        vertical-align: top;\n",
       "    }\n",
       "\n",
       "    .dataframe thead th {\n",
       "        text-align: right;\n",
       "    }\n",
       "</style>\n",
       "<table border=\"1\" class=\"dataframe\">\n",
       "  <thead>\n",
       "    <tr style=\"text-align: right;\">\n",
       "      <th></th>\n",
       "      <th>person</th>\n",
       "      <th>event</th>\n",
       "      <th>time</th>\n",
       "      <th>amount</th>\n",
       "      <th>offer_id</th>\n",
       "      <th>potential_reward</th>\n",
       "      <th>channels</th>\n",
       "      <th>difficulty</th>\n",
       "      <th>duration</th>\n",
       "      <th>offer_type</th>\n",
       "      <th>gender</th>\n",
       "      <th>age</th>\n",
       "      <th>income</th>\n",
       "      <th>age_bucket</th>\n",
       "      <th>income_bucket</th>\n",
       "      <th>days_member</th>\n",
       "      <th>years_member</th>\n",
       "    </tr>\n",
       "  </thead>\n",
       "  <tbody>\n",
       "    <tr>\n",
       "      <th>2</th>\n",
       "      <td>0009655768c64bdeb2e877511632db8f</td>\n",
       "      <td>transaction</td>\n",
       "      <td>228</td>\n",
       "      <td>22.16</td>\n",
       "      <td>no_special_offer</td>\n",
       "      <td>0.0</td>\n",
       "      <td>no_channel</td>\n",
       "      <td>0.0</td>\n",
       "      <td>0.0</td>\n",
       "      <td>no_offer_type</td>\n",
       "      <td>M</td>\n",
       "      <td>33</td>\n",
       "      <td>72000.0</td>\n",
       "      <td>18-39</td>\n",
       "      <td>60001-74000</td>\n",
       "      <td>1968</td>\n",
       "      <td>1.0</td>\n",
       "    </tr>\n",
       "    <tr>\n",
       "      <th>6</th>\n",
       "      <td>0009655768c64bdeb2e877511632db8f</td>\n",
       "      <td>transaction</td>\n",
       "      <td>414</td>\n",
       "      <td>8.57</td>\n",
       "      <td>f19421c1d4aa40978ebb69ca19b0e20d</td>\n",
       "      <td>5.0</td>\n",
       "      <td>[web, email, mobile, social]</td>\n",
       "      <td>5.0</td>\n",
       "      <td>5.0</td>\n",
       "      <td>bogo</td>\n",
       "      <td>M</td>\n",
       "      <td>33</td>\n",
       "      <td>72000.0</td>\n",
       "      <td>18-39</td>\n",
       "      <td>60001-74000</td>\n",
       "      <td>1968</td>\n",
       "      <td>1.0</td>\n",
       "    </tr>\n",
       "    <tr>\n",
       "      <th>10</th>\n",
       "      <td>0009655768c64bdeb2e877511632db8f</td>\n",
       "      <td>transaction</td>\n",
       "      <td>528</td>\n",
       "      <td>14.11</td>\n",
       "      <td>no_special_offer</td>\n",
       "      <td>0.0</td>\n",
       "      <td>no_channel</td>\n",
       "      <td>0.0</td>\n",
       "      <td>0.0</td>\n",
       "      <td>no_offer_type</td>\n",
       "      <td>M</td>\n",
       "      <td>33</td>\n",
       "      <td>72000.0</td>\n",
       "      <td>18-39</td>\n",
       "      <td>60001-74000</td>\n",
       "      <td>1968</td>\n",
       "      <td>1.0</td>\n",
       "    </tr>\n",
       "    <tr>\n",
       "      <th>13</th>\n",
       "      <td>0009655768c64bdeb2e877511632db8f</td>\n",
       "      <td>transaction</td>\n",
       "      <td>552</td>\n",
       "      <td>13.56</td>\n",
       "      <td>no_special_offer</td>\n",
       "      <td>0.0</td>\n",
       "      <td>no_channel</td>\n",
       "      <td>0.0</td>\n",
       "      <td>0.0</td>\n",
       "      <td>no_offer_type</td>\n",
       "      <td>M</td>\n",
       "      <td>33</td>\n",
       "      <td>72000.0</td>\n",
       "      <td>18-39</td>\n",
       "      <td>60001-74000</td>\n",
       "      <td>1968</td>\n",
       "      <td>1.0</td>\n",
       "    </tr>\n",
       "    <tr>\n",
       "      <th>15</th>\n",
       "      <td>0009655768c64bdeb2e877511632db8f</td>\n",
       "      <td>transaction</td>\n",
       "      <td>576</td>\n",
       "      <td>10.27</td>\n",
       "      <td>no_special_offer</td>\n",
       "      <td>0.0</td>\n",
       "      <td>no_channel</td>\n",
       "      <td>0.0</td>\n",
       "      <td>0.0</td>\n",
       "      <td>no_offer_type</td>\n",
       "      <td>M</td>\n",
       "      <td>33</td>\n",
       "      <td>72000.0</td>\n",
       "      <td>18-39</td>\n",
       "      <td>60001-74000</td>\n",
       "      <td>1968</td>\n",
       "      <td>1.0</td>\n",
       "    </tr>\n",
       "    <tr>\n",
       "      <th>...</th>\n",
       "      <td>...</td>\n",
       "      <td>...</td>\n",
       "      <td>...</td>\n",
       "      <td>...</td>\n",
       "      <td>...</td>\n",
       "      <td>...</td>\n",
       "      <td>...</td>\n",
       "      <td>...</td>\n",
       "      <td>...</td>\n",
       "      <td>...</td>\n",
       "      <td>...</td>\n",
       "      <td>...</td>\n",
       "      <td>...</td>\n",
       "      <td>...</td>\n",
       "      <td>...</td>\n",
       "      <td>...</td>\n",
       "      <td>...</td>\n",
       "    </tr>\n",
       "    <tr>\n",
       "      <th>306297</th>\n",
       "      <td>ffff82501cea40309d5fdd7edcca4a07</td>\n",
       "      <td>transaction</td>\n",
       "      <td>498</td>\n",
       "      <td>13.17</td>\n",
       "      <td>no_special_offer</td>\n",
       "      <td>0.0</td>\n",
       "      <td>no_channel</td>\n",
       "      <td>0.0</td>\n",
       "      <td>0.0</td>\n",
       "      <td>no_offer_type</td>\n",
       "      <td>F</td>\n",
       "      <td>45</td>\n",
       "      <td>62000.0</td>\n",
       "      <td>40-54</td>\n",
       "      <td>60001-74000</td>\n",
       "      <td>2115</td>\n",
       "      <td>2.0</td>\n",
       "    </tr>\n",
       "    <tr>\n",
       "      <th>306299</th>\n",
       "      <td>ffff82501cea40309d5fdd7edcca4a07</td>\n",
       "      <td>transaction</td>\n",
       "      <td>504</td>\n",
       "      <td>7.79</td>\n",
       "      <td>no_special_offer</td>\n",
       "      <td>0.0</td>\n",
       "      <td>no_channel</td>\n",
       "      <td>0.0</td>\n",
       "      <td>0.0</td>\n",
       "      <td>no_offer_type</td>\n",
       "      <td>F</td>\n",
       "      <td>45</td>\n",
       "      <td>62000.0</td>\n",
       "      <td>40-54</td>\n",
       "      <td>60001-74000</td>\n",
       "      <td>2115</td>\n",
       "      <td>2.0</td>\n",
       "    </tr>\n",
       "    <tr>\n",
       "      <th>306303</th>\n",
       "      <td>ffff82501cea40309d5fdd7edcca4a07</td>\n",
       "      <td>transaction</td>\n",
       "      <td>576</td>\n",
       "      <td>14.23</td>\n",
       "      <td>no_special_offer</td>\n",
       "      <td>0.0</td>\n",
       "      <td>no_channel</td>\n",
       "      <td>0.0</td>\n",
       "      <td>0.0</td>\n",
       "      <td>no_offer_type</td>\n",
       "      <td>F</td>\n",
       "      <td>45</td>\n",
       "      <td>62000.0</td>\n",
       "      <td>40-54</td>\n",
       "      <td>60001-74000</td>\n",
       "      <td>2115</td>\n",
       "      <td>2.0</td>\n",
       "    </tr>\n",
       "    <tr>\n",
       "      <th>306306</th>\n",
       "      <td>ffff82501cea40309d5fdd7edcca4a07</td>\n",
       "      <td>transaction</td>\n",
       "      <td>606</td>\n",
       "      <td>10.12</td>\n",
       "      <td>no_special_offer</td>\n",
       "      <td>0.0</td>\n",
       "      <td>no_channel</td>\n",
       "      <td>0.0</td>\n",
       "      <td>0.0</td>\n",
       "      <td>no_offer_type</td>\n",
       "      <td>F</td>\n",
       "      <td>45</td>\n",
       "      <td>62000.0</td>\n",
       "      <td>40-54</td>\n",
       "      <td>60001-74000</td>\n",
       "      <td>2115</td>\n",
       "      <td>2.0</td>\n",
       "    </tr>\n",
       "    <tr>\n",
       "      <th>306307</th>\n",
       "      <td>ffff82501cea40309d5fdd7edcca4a07</td>\n",
       "      <td>transaction</td>\n",
       "      <td>648</td>\n",
       "      <td>18.91</td>\n",
       "      <td>no_special_offer</td>\n",
       "      <td>0.0</td>\n",
       "      <td>no_channel</td>\n",
       "      <td>0.0</td>\n",
       "      <td>0.0</td>\n",
       "      <td>no_offer_type</td>\n",
       "      <td>F</td>\n",
       "      <td>45</td>\n",
       "      <td>62000.0</td>\n",
       "      <td>40-54</td>\n",
       "      <td>60001-74000</td>\n",
       "      <td>2115</td>\n",
       "      <td>2.0</td>\n",
       "    </tr>\n",
       "  </tbody>\n",
       "</table>\n",
       "<p>123132 rows × 17 columns</p>\n",
       "</div>"
      ],
      "text/plain": [
       "                                  person        event  time  amount  \\\n",
       "2       0009655768c64bdeb2e877511632db8f  transaction   228   22.16   \n",
       "6       0009655768c64bdeb2e877511632db8f  transaction   414    8.57   \n",
       "10      0009655768c64bdeb2e877511632db8f  transaction   528   14.11   \n",
       "13      0009655768c64bdeb2e877511632db8f  transaction   552   13.56   \n",
       "15      0009655768c64bdeb2e877511632db8f  transaction   576   10.27   \n",
       "...                                  ...          ...   ...     ...   \n",
       "306297  ffff82501cea40309d5fdd7edcca4a07  transaction   498   13.17   \n",
       "306299  ffff82501cea40309d5fdd7edcca4a07  transaction   504    7.79   \n",
       "306303  ffff82501cea40309d5fdd7edcca4a07  transaction   576   14.23   \n",
       "306306  ffff82501cea40309d5fdd7edcca4a07  transaction   606   10.12   \n",
       "306307  ffff82501cea40309d5fdd7edcca4a07  transaction   648   18.91   \n",
       "\n",
       "                                offer_id  potential_reward  \\\n",
       "2                       no_special_offer               0.0   \n",
       "6       f19421c1d4aa40978ebb69ca19b0e20d               5.0   \n",
       "10                      no_special_offer               0.0   \n",
       "13                      no_special_offer               0.0   \n",
       "15                      no_special_offer               0.0   \n",
       "...                                  ...               ...   \n",
       "306297                  no_special_offer               0.0   \n",
       "306299                  no_special_offer               0.0   \n",
       "306303                  no_special_offer               0.0   \n",
       "306306                  no_special_offer               0.0   \n",
       "306307                  no_special_offer               0.0   \n",
       "\n",
       "                            channels  difficulty  duration     offer_type  \\\n",
       "2                         no_channel         0.0       0.0  no_offer_type   \n",
       "6       [web, email, mobile, social]         5.0       5.0           bogo   \n",
       "10                        no_channel         0.0       0.0  no_offer_type   \n",
       "13                        no_channel         0.0       0.0  no_offer_type   \n",
       "15                        no_channel         0.0       0.0  no_offer_type   \n",
       "...                              ...         ...       ...            ...   \n",
       "306297                    no_channel         0.0       0.0  no_offer_type   \n",
       "306299                    no_channel         0.0       0.0  no_offer_type   \n",
       "306303                    no_channel         0.0       0.0  no_offer_type   \n",
       "306306                    no_channel         0.0       0.0  no_offer_type   \n",
       "306307                    no_channel         0.0       0.0  no_offer_type   \n",
       "\n",
       "       gender  age   income age_bucket income_bucket  days_member  \\\n",
       "2           M   33  72000.0      18-39   60001-74000         1968   \n",
       "6           M   33  72000.0      18-39   60001-74000         1968   \n",
       "10          M   33  72000.0      18-39   60001-74000         1968   \n",
       "13          M   33  72000.0      18-39   60001-74000         1968   \n",
       "15          M   33  72000.0      18-39   60001-74000         1968   \n",
       "...       ...  ...      ...        ...           ...          ...   \n",
       "306297      F   45  62000.0      40-54   60001-74000         2115   \n",
       "306299      F   45  62000.0      40-54   60001-74000         2115   \n",
       "306303      F   45  62000.0      40-54   60001-74000         2115   \n",
       "306306      F   45  62000.0      40-54   60001-74000         2115   \n",
       "306307      F   45  62000.0      40-54   60001-74000         2115   \n",
       "\n",
       "        years_member  \n",
       "2                1.0  \n",
       "6                1.0  \n",
       "10               1.0  \n",
       "13               1.0  \n",
       "15               1.0  \n",
       "...              ...  \n",
       "306297           2.0  \n",
       "306299           2.0  \n",
       "306303           2.0  \n",
       "306306           2.0  \n",
       "306307           2.0  \n",
       "\n",
       "[123132 rows x 17 columns]"
      ]
     },
     "execution_count": 42,
     "metadata": {},
     "output_type": "execute_result"
    }
   ],
   "source": [
    "df"
   ]
  },
  {
   "cell_type": "code",
   "execution_count": 43,
   "metadata": {},
   "outputs": [],
   "source": [
    "df.loc[:, \"channels\"] = df[\"channels\"].astype(\"str\")\n",
    "df.loc[:, \"channels\"] = df[\"channels\"].astype(\"category\")\n",
    "df.loc[:, \"gender\"] = df[\"gender\"].astype(\"category\")\n",
    "df.loc[:, \"offer_type\"] = df[\"offer_type\"].astype(\"category\")\n"
   ]
  },
  {
   "cell_type": "code",
   "execution_count": 44,
   "metadata": {},
   "outputs": [
    {
     "data": {
      "text/plain": [
       "['no_channel', '['web', 'email', 'mobile', 'social']', '['web', 'email']', '['email', 'mobile', 'social']', '['web', 'email', 'mobile']']\n",
       "Categories (5, object): ['['email', 'mobile', 'social']', '['web', 'email', 'mobile', 'social']', '['web', 'email', 'mobile']', '['web', 'email']', 'no_channel']"
      ]
     },
     "execution_count": 44,
     "metadata": {},
     "output_type": "execute_result"
    }
   ],
   "source": [
    "df[\"channels\"].unique()"
   ]
  },
  {
   "cell_type": "code",
   "execution_count": 45,
   "metadata": {},
   "outputs": [],
   "source": [
    "channel_old = [\"no_channel\", \"['web', 'email', 'mobile', 'social']\", \"['web', 'email', 'mobile']\", \"['web', 'email']\", \"['email', 'mobile', 'social']\"]\n",
    "channel_new = [\"no_channel\", \"all_channels\", \"no_social\", \"no_web_social\", \"no_web\"]\n",
    "\n",
    "df['channels'] = df['channels'].replace(channel_old, channel_new)\n"
   ]
  },
  {
   "cell_type": "code",
   "execution_count": 46,
   "metadata": {},
   "outputs": [],
   "source": [
    "df.loc[:, \"channels\"] = df[\"channels\"].astype(\"category\")"
   ]
  },
  {
   "cell_type": "code",
   "execution_count": 47,
   "metadata": {},
   "outputs": [
    {
     "data": {
      "text/plain": [
       "'channels'"
      ]
     },
     "metadata": {},
     "output_type": "display_data"
    },
    {
     "data": {
      "text/plain": [
       "no_channel       121595\n",
       "no_social           640\n",
       "all_channels        461\n",
       "no_web_social       253\n",
       "no_web              183\n",
       "Name: channels, dtype: int64"
      ]
     },
     "metadata": {},
     "output_type": "display_data"
    },
    {
     "data": {
      "text/plain": [
       "'offer_type'"
      ]
     },
     "metadata": {},
     "output_type": "display_data"
    },
    {
     "data": {
      "text/plain": [
       "no_offer_type    121595\n",
       "discount            781\n",
       "bogo                756\n",
       "Name: offer_type, dtype: int64"
      ]
     },
     "metadata": {},
     "output_type": "display_data"
    },
    {
     "data": {
      "text/plain": [
       "'gender'"
      ]
     },
     "metadata": {},
     "output_type": "display_data"
    },
    {
     "data": {
      "text/plain": [
       "M    72279\n",
       "F    49084\n",
       "O     1769\n",
       "Name: gender, dtype: int64"
      ]
     },
     "metadata": {},
     "output_type": "display_data"
    },
    {
     "data": {
      "text/plain": [
       "'age_bucket'"
      ]
     },
     "metadata": {},
     "output_type": "display_data"
    },
    {
     "data": {
      "text/plain": [
       "40-54    33510\n",
       "18-39    33232\n",
       "55-66    30400\n",
       "67+      25990\n",
       "Name: age_bucket, dtype: int64"
      ]
     },
     "metadata": {},
     "output_type": "display_data"
    },
    {
     "data": {
      "text/plain": [
       "'income_bucket'"
      ]
     },
     "metadata": {},
     "output_type": "display_data"
    },
    {
     "data": {
      "text/plain": [
       "0-46000        32414\n",
       "46001-60000    31218\n",
       "60001-74000    30643\n",
       "74001+         28857\n",
       "Name: income_bucket, dtype: int64"
      ]
     },
     "metadata": {},
     "output_type": "display_data"
    }
   ],
   "source": [
    "\n",
    "for column in df.select_dtypes(include=['category']).columns:\n",
    "    display(column, df[column].value_counts())"
   ]
  },
  {
   "cell_type": "code",
   "execution_count": 48,
   "metadata": {},
   "outputs": [
    {
     "data": {
      "image/png": "[encoded data removed]",
      "text/plain": [
       "<Figure size 720x720 with 9 Axes>"
      ]
     },
     "metadata": {
      "needs_background": "light"
     },
     "output_type": "display_data"
    }
   ],
   "source": [
    "# build histograms for each numeric feature\n",
    "%matplotlib inline\n",
    "hist = df.hist(bins=30, sharey=False, figsize=(10, 10))"
   ]
  },
  {
   "cell_type": "code",
   "execution_count": 49,
   "metadata": {},
   "outputs": [
    {
     "data": {
      "text/plain": [
       "<AxesSubplot:>"
      ]
     },
     "execution_count": 49,
     "metadata": {},
     "output_type": "execute_result"
    },
    {
     "data": {
      "image/png": "[encoded data removed]",
      "text/plain": [
       "<Figure size 1440x1440 with 2 Axes>"
      ]
     },
     "metadata": {
      "needs_background": "light"
     },
     "output_type": "display_data"
    }
   ],
   "source": [
    "import seaborn as sns\n",
    "from matplotlib import pyplot as plt\n",
    "\n",
    "plt.figure(figsize=[20,20])\n",
    "sns.heatmap(df.corr(), annot=True, fmt='.2f',square=True, cmap='vlag', center=0, vmax=0.05)\n",
    "\n",
    "## Amount most strongely correlates with income"
   ]
  },
  {
   "cell_type": "code",
   "execution_count": 50,
   "metadata": {},
   "outputs": [],
   "source": [
    "corr = df.corr()"
   ]
  },
  {
   "cell_type": "code",
   "execution_count": 51,
   "metadata": {},
   "outputs": [
    {
     "data": {
      "text/html": [
       "<div>\n",
       "<style scoped>\n",
       "    .dataframe tbody tr th:only-of-type {\n",
       "        vertical-align: middle;\n",
       "    }\n",
       "\n",
       "    .dataframe tbody tr th {\n",
       "        vertical-align: top;\n",
       "    }\n",
       "\n",
       "    .dataframe thead th {\n",
       "        text-align: right;\n",
       "    }\n",
       "</style>\n",
       "<table border=\"1\" class=\"dataframe\">\n",
       "  <thead>\n",
       "    <tr style=\"text-align: right;\">\n",
       "      <th></th>\n",
       "      <th>time</th>\n",
       "      <th>amount</th>\n",
       "      <th>potential_reward</th>\n",
       "      <th>difficulty</th>\n",
       "      <th>duration</th>\n",
       "      <th>age</th>\n",
       "      <th>income</th>\n",
       "      <th>days_member</th>\n",
       "      <th>years_member</th>\n",
       "    </tr>\n",
       "  </thead>\n",
       "  <tbody>\n",
       "    <tr>\n",
       "      <th>time</th>\n",
       "      <td>1.000000</td>\n",
       "      <td>-0.000951</td>\n",
       "      <td>0.018909</td>\n",
       "      <td>0.022551</td>\n",
       "      <td>0.022727</td>\n",
       "      <td>0.005753</td>\n",
       "      <td>0.003305</td>\n",
       "      <td>-0.006468</td>\n",
       "      <td>-0.004686</td>\n",
       "    </tr>\n",
       "    <tr>\n",
       "      <th>amount</th>\n",
       "      <td>-0.000951</td>\n",
       "      <td>1.000000</td>\n",
       "      <td>0.074248</td>\n",
       "      <td>0.088484</td>\n",
       "      <td>0.083822</td>\n",
       "      <td>0.271572</td>\n",
       "      <td>0.686916</td>\n",
       "      <td>-0.092582</td>\n",
       "      <td>-0.084429</td>\n",
       "    </tr>\n",
       "    <tr>\n",
       "      <th>potential_reward</th>\n",
       "      <td>0.018909</td>\n",
       "      <td>0.074248</td>\n",
       "      <td>1.000000</td>\n",
       "      <td>0.790026</td>\n",
       "      <td>0.830769</td>\n",
       "      <td>0.024184</td>\n",
       "      <td>0.046355</td>\n",
       "      <td>-0.017461</td>\n",
       "      <td>-0.016129</td>\n",
       "    </tr>\n",
       "    <tr>\n",
       "      <th>difficulty</th>\n",
       "      <td>0.022551</td>\n",
       "      <td>0.088484</td>\n",
       "      <td>0.790026</td>\n",
       "      <td>1.000000</td>\n",
       "      <td>0.938930</td>\n",
       "      <td>0.026886</td>\n",
       "      <td>0.055005</td>\n",
       "      <td>-0.018964</td>\n",
       "      <td>-0.017687</td>\n",
       "    </tr>\n",
       "    <tr>\n",
       "      <th>duration</th>\n",
       "      <td>0.022727</td>\n",
       "      <td>0.083822</td>\n",
       "      <td>0.830769</td>\n",
       "      <td>0.938930</td>\n",
       "      <td>1.000000</td>\n",
       "      <td>0.026065</td>\n",
       "      <td>0.049813</td>\n",
       "      <td>-0.021811</td>\n",
       "      <td>-0.020038</td>\n",
       "    </tr>\n",
       "    <tr>\n",
       "      <th>age</th>\n",
       "      <td>0.005753</td>\n",
       "      <td>0.271572</td>\n",
       "      <td>0.024184</td>\n",
       "      <td>0.026886</td>\n",
       "      <td>0.026065</td>\n",
       "      <td>1.000000</td>\n",
       "      <td>0.282749</td>\n",
       "      <td>-0.013700</td>\n",
       "      <td>-0.012287</td>\n",
       "    </tr>\n",
       "    <tr>\n",
       "      <th>income</th>\n",
       "      <td>0.003305</td>\n",
       "      <td>0.686916</td>\n",
       "      <td>0.046355</td>\n",
       "      <td>0.055005</td>\n",
       "      <td>0.049813</td>\n",
       "      <td>0.282749</td>\n",
       "      <td>1.000000</td>\n",
       "      <td>-0.027817</td>\n",
       "      <td>-0.024614</td>\n",
       "    </tr>\n",
       "    <tr>\n",
       "      <th>days_member</th>\n",
       "      <td>-0.006468</td>\n",
       "      <td>-0.092582</td>\n",
       "      <td>-0.017461</td>\n",
       "      <td>-0.018964</td>\n",
       "      <td>-0.021811</td>\n",
       "      <td>-0.013700</td>\n",
       "      <td>-0.027817</td>\n",
       "      <td>1.000000</td>\n",
       "      <td>0.972458</td>\n",
       "    </tr>\n",
       "    <tr>\n",
       "      <th>years_member</th>\n",
       "      <td>-0.004686</td>\n",
       "      <td>-0.084429</td>\n",
       "      <td>-0.016129</td>\n",
       "      <td>-0.017687</td>\n",
       "      <td>-0.020038</td>\n",
       "      <td>-0.012287</td>\n",
       "      <td>-0.024614</td>\n",
       "      <td>0.972458</td>\n",
       "      <td>1.000000</td>\n",
       "    </tr>\n",
       "  </tbody>\n",
       "</table>\n",
       "</div>"
      ],
      "text/plain": [
       "                      time    amount  potential_reward  difficulty  duration  \\\n",
       "time              1.000000 -0.000951          0.018909    0.022551  0.022727   \n",
       "amount           -0.000951  1.000000          0.074248    0.088484  0.083822   \n",
       "potential_reward  0.018909  0.074248          1.000000    0.790026  0.830769   \n",
       "difficulty        0.022551  0.088484          0.790026    1.000000  0.938930   \n",
       "duration          0.022727  0.083822          0.830769    0.938930  1.000000   \n",
       "age               0.005753  0.271572          0.024184    0.026886  0.026065   \n",
       "income            0.003305  0.686916          0.046355    0.055005  0.049813   \n",
       "days_member      -0.006468 -0.092582         -0.017461   -0.018964 -0.021811   \n",
       "years_member     -0.004686 -0.084429         -0.016129   -0.017687 -0.020038   \n",
       "\n",
       "                       age    income  days_member  years_member  \n",
       "time              0.005753  0.003305    -0.006468     -0.004686  \n",
       "amount            0.271572  0.686916    -0.092582     -0.084429  \n",
       "potential_reward  0.024184  0.046355    -0.017461     -0.016129  \n",
       "difficulty        0.026886  0.055005    -0.018964     -0.017687  \n",
       "duration          0.026065  0.049813    -0.021811     -0.020038  \n",
       "age               1.000000  0.282749    -0.013700     -0.012287  \n",
       "income            0.282749  1.000000    -0.027817     -0.024614  \n",
       "days_member      -0.013700 -0.027817     1.000000      0.972458  \n",
       "years_member     -0.012287 -0.024614     0.972458      1.000000  "
      ]
     },
     "execution_count": 51,
     "metadata": {},
     "output_type": "execute_result"
    }
   ],
   "source": [
    "corr"
   ]
  },
  {
   "cell_type": "markdown",
   "metadata": {},
   "source": [
    "# Definition"
   ]
  },
  {
   "cell_type": "markdown",
   "metadata": {},
   "source": [
    "## Project overview\n",
    "\n",
    "will build a machine learning model that predicts how much someone will spend based on demographics and offer type"
   ]
  },
  {
   "cell_type": "markdown",
   "metadata": {},
   "source": [
    "## Project Statement\n",
    "Starbucks wants blabka\n",
    "\n",
    "Ex: \n",
    "The problem with restaurants and food-related businesses is not knowing future demand for your services. Because this is an unknown, you may create or purchase too much or too little of an item. Furthermore, there are also operational costs associated with not knowing demand as it may require additional personal and equipment. This leads to a mismatch in demand between the business and the customer, leading to a poor experience."
   ]
  },
  {
   "cell_type": "markdown",
   "metadata": {},
   "source": [
    "## Objective\n",
    "\n",
    "Predict demand based on the restaurant's risk tolerance, and create \"what if\" scenarios to better prepare the business. This creates new tools for the restaurants to better serve their customer and overall create an improved experience."
   ]
  },
  {
   "cell_type": "code",
   "execution_count": null,
   "metadata": {},
   "outputs": [],
   "source": []
  },
  {
   "cell_type": "markdown",
   "metadata": {},
   "source": [
    "# Analysis"
   ]
  },
  {
   "cell_type": "code",
   "execution_count": 663,
   "metadata": {},
   "outputs": [
    {
     "data": {
      "text/plain": [
       "Index(['person', 'event', 'time', 'amount', 'offer_id', 'potential_reward', 'channels', 'difficulty', 'duration', 'offer_type', 'gender', 'age', 'income', 'age_bucket', 'income_bucket', 'days_member', 'years_member'], dtype='object')"
      ]
     },
     "execution_count": 663,
     "metadata": {},
     "output_type": "execute_result"
    }
   ],
   "source": [
    "df.columns\n"
   ]
  },
  {
   "cell_type": "code",
   "execution_count": 52,
   "metadata": {},
   "outputs": [],
   "source": [
    "### Creating new features \n",
    "\n",
    "age_bucket_one_hot_df = pd.get_dummies(df.age_bucket, prefix=\"age_bucket\")\n",
    "df[age_bucket_one_hot_df.columns.tolist()] = age_bucket_one_hot_df"
   ]
  },
  {
   "cell_type": "code",
   "execution_count": 53,
   "metadata": {},
   "outputs": [],
   "source": [
    "income_bucket_one_hot_df = pd.get_dummies(df.income_bucket, prefix=\"income_bucket\")\n",
    "df[income_bucket_one_hot_df.columns.tolist()] = income_bucket_one_hot_df"
   ]
  },
  {
   "cell_type": "code",
   "execution_count": 54,
   "metadata": {},
   "outputs": [],
   "source": [
    "channels_one_hot_df = pd.get_dummies(df.channels, prefix=\"channel\")\n",
    "df[channels_one_hot_df.columns.tolist()] = channels_one_hot_df"
   ]
  },
  {
   "cell_type": "code",
   "execution_count": 55,
   "metadata": {},
   "outputs": [],
   "source": [
    "gender_one_hot_df = pd.get_dummies(df.gender, prefix=\"gender\")\n",
    "df[gender_one_hot_df.columns.tolist()] = gender_one_hot_df"
   ]
  },
  {
   "cell_type": "code",
   "execution_count": 56,
   "metadata": {},
   "outputs": [],
   "source": [
    "offer_type_one_hot_df = pd.get_dummies(df.offer_type, prefix=\"offer_type\")\n",
    "df[offer_type_one_hot_df.columns.tolist()] = offer_type_one_hot_df"
   ]
  },
  {
   "cell_type": "code",
   "execution_count": 57,
   "metadata": {},
   "outputs": [],
   "source": [
    "offer_id_one_hot_df = pd.get_dummies(df.offer_id, prefix=\"offer_id\")\n",
    "df[offer_id_one_hot_df.columns.tolist()] = offer_id_one_hot_df"
   ]
  },
  {
   "cell_type": "code",
   "execution_count": null,
   "metadata": {},
   "outputs": [],
   "source": []
  },
  {
   "cell_type": "code",
   "execution_count": 58,
   "metadata": {},
   "outputs": [],
   "source": [
    "df = df.drop(columns = ['time', 'days_member', 'person', 'event','age', 'income', 'income_bucket', 'age_bucket', 'channels', 'offer_type', 'gender', 'offer_id'])"
   ]
  },
  {
   "cell_type": "code",
   "execution_count": 59,
   "metadata": {},
   "outputs": [],
   "source": [
    "# Standarize feature values to have a zero mean\n",
    "from sklearn.preprocessing import StandardScaler\n",
    "scaler = StandardScaler()\n",
    "scaler.fit(df[df.columns])\n",
    "df.loc[:, df.columns] = scaler.transform(df[df.columns])"
   ]
  },
  {
   "cell_type": "code",
   "execution_count": 60,
   "metadata": {},
   "outputs": [
    {
     "data": {
      "text/plain": [
       "Index(['amount', 'potential_reward', 'difficulty', 'duration', 'years_member',\n",
       "       'age_bucket_18-39', 'age_bucket_40-54', 'age_bucket_55-66',\n",
       "       'age_bucket_67+', 'income_bucket_0-46000', 'income_bucket_46001-60000',\n",
       "       'income_bucket_60001-74000', 'income_bucket_74001+',\n",
       "       'channel_all_channels', 'channel_no_channel', 'channel_no_social',\n",
       "       'channel_no_web', 'channel_no_web_social', 'gender_F', 'gender_M',\n",
       "       'gender_O', 'offer_type_bogo', 'offer_type_discount',\n",
       "       'offer_type_no_offer_type', 'offer_id_0b1e1539f2cc45b7b9fa7c272da2e1d7',\n",
       "       'offer_id_2298d6c36e964ae4a3e7e9706d1fb8c2',\n",
       "       'offer_id_2906b810c7d4411798c6938adc9daaa5',\n",
       "       'offer_id_4d5c57ea9a6940dd891ad53e9dbe8da0',\n",
       "       'offer_id_9b98b8c7a33c4b65b9aebfe6a799e6d9',\n",
       "       'offer_id_ae264e3637204a6fb9bb56bc8210ddfd',\n",
       "       'offer_id_f19421c1d4aa40978ebb69ca19b0e20d',\n",
       "       'offer_id_fafdcd668e3743c1bb461111dcafc2a4',\n",
       "       'offer_id_no_special_offer'],\n",
       "      dtype='object')"
      ]
     },
     "execution_count": 60,
     "metadata": {},
     "output_type": "execute_result"
    }
   ],
   "source": [
    "df.columns"
   ]
  },
  {
   "cell_type": "code",
   "execution_count": null,
   "metadata": {},
   "outputs": [],
   "source": [
    "## Scatterplots"
   ]
  },
  {
   "cell_type": "markdown",
   "metadata": {},
   "source": [
    "fig, axes = plt.subplots(nrows=2, ncols=3, figsize=(12, 8))\n",
    "df.plot(ax=axes[0, 0], x=\"sepal length (cm)\", y=\"sepal width (cm)\", kind=\"scatter\")\n",
    "df.plot(ax=axes[0, 1], x=\"sepal length (cm)\", y=\"petal length (cm)\", kind=\"scatter\")\n",
    "df.plot(ax=axes[0, 2], x=\"sepal length (cm)\", y=\"petal width (cm)\", kind=\"scatter\")\n",
    "df.plot(ax=axes[1, 0], x=\"sepal width (cm)\", y=\"petal length (cm)\", kind=\"scatter\")\n",
    "df.plot(ax=axes[1, 1], x=\"sepal width (cm)\", y=\"petal width (cm)\", kind=\"scatter\")\n",
    "df.plot(ax=axes[1, 2], x=\"petal length (cm)\", y=\"petal width (cm)\", kind=\"scatter\")"
   ]
  },
  {
   "cell_type": "code",
   "execution_count": null,
   "metadata": {},
   "outputs": [],
   "source": []
  },
  {
   "cell_type": "code",
   "execution_count": null,
   "metadata": {},
   "outputs": [],
   "source": [
    "### Splitting train and test datasets"
   ]
  },
  {
   "cell_type": "code",
   "execution_count": 61,
   "metadata": {},
   "outputs": [],
   "source": [
    "df = df.rename(columns={\"amount\": \"target\"})\n"
   ]
  },
  {
   "cell_type": "code",
   "execution_count": 62,
   "metadata": {},
   "outputs": [],
   "source": [
    "# train: 0.8 | test: 0.2\n",
    "df_train, df_test = train_test_split(df, test_size=0.2, random_state=0)\n",
    "\n",
    "## train: 0.6 | validation: 0.2\n",
    "#df_train, df_val = train_test_split(df_train, test_size=0.25, random_state=0)\n",
    "#\n",
    "## Final dataset sizes: train: 0.6, validation: 0.2, text: 0.2,"
   ]
  },
  {
   "cell_type": "code",
   "execution_count": 63,
   "metadata": {},
   "outputs": [
    {
     "name": "stdout",
     "output_type": "stream",
     "text": [
      "Train: (98505, 33)\n",
      "Test: (24627, 33)\n"
     ]
    }
   ],
   "source": [
    "print(f\"Train: {df_train.shape}\")\n",
    "#print(f\"Validation: {df_val.shape}\")\n",
    "print(f\"Test: {df_test.shape}\")"
   ]
  },
  {
   "cell_type": "code",
   "execution_count": 66,
   "metadata": {},
   "outputs": [],
   "source": [
    "## Save all clean data, and the train, validation, test data as csv\n",
    "df.to_csv(\"data_clean.csv\", index=False)\n",
    "df_train.to_csv(\"train.csv\", index=False)\n",
    "#df_val.to_csv(\"validation.csv\", index=False)\n",
    "df_test.to_csv(\"test.csv\", index=False)"
   ]
  },
  {
   "cell_type": "code",
   "execution_count": 22,
   "metadata": {},
   "outputs": [],
   "source": [
    "\n",
    "df_train=pd.read_csv(\"train.csv\")\n",
    "\n",
    "df_test=pd.read_csv(\"test.csv\")"
   ]
  },
  {
   "cell_type": "code",
   "execution_count": null,
   "metadata": {},
   "outputs": [],
   "source": [
    "# Baseline: Linear regression?"
   ]
  },
  {
   "cell_type": "code",
   "execution_count": 35,
   "metadata": {
    "scrolled": true
   },
   "outputs": [
    {
     "name": "stdout",
     "output_type": "stream",
     "text": [
      "r2 score of train data: 0.5075462686336654\n",
      "r2 score of test data: 0.5090790600350066\n"
     ]
    }
   ],
   "source": [
    "import pandas as pd\n",
    "from sklearn.linear_model import LinearRegression\n",
    "\n",
    "\n",
    "# regression model\n",
    "reg = LinearRegression().fit(df_train[[col for col in df_train.columns if col !='target']], df_train[\"target\"])\n",
    "print(\"r2 score of train data:\",reg.score(df_train[[col for col in df_train.columns if col !='target']], df_train[\"target\"]))\n",
    "print(\"r2 score of test data:\",reg.score(df_test[[col for col in df_test.columns if col !='target']], df_test[\"target\"]))"
   ]
  },
  {
   "cell_type": "code",
   "execution_count": null,
   "metadata": {},
   "outputs": [],
   "source": []
  },
  {
   "cell_type": "code",
   "execution_count": 30,
   "metadata": {},
   "outputs": [],
   "source": [
    "import numpy as np\n",
    "import pandas as pd\n",
    "from sklearn import datasets\n",
    "from sklearn.metrics import r2_score, accuracy_score\n",
    "from sklearn.model_selection import train_test_split\n",
    "#import xgboost as xgb"
   ]
  },
  {
   "cell_type": "code",
   "execution_count": 434,
   "metadata": {},
   "outputs": [
    {
     "name": "stdout",
     "output_type": "stream",
     "text": [
      "Looking in indexes: https://tools.adidas-group.com/artifactory/api/pypi/pypi-trading-sciences/simple\n",
      "Requirement already satisfied: xgboost in /Users/mayrkah/anaconda3/lib/python3.7/site-packages (1.2.1)\n",
      "Requirement already satisfied: numpy in /Users/mayrkah/anaconda3/lib/python3.7/site-packages (from xgboost) (1.21.0)\n",
      "Requirement already satisfied: scipy in /Users/mayrkah/anaconda3/lib/python3.7/site-packages (from xgboost) (1.4.1)\n"
     ]
    }
   ],
   "source": [
    "### Using XGBoost\n",
    "\n",
    "!pip install xgboost"
   ]
  },
  {
   "cell_type": "code",
   "execution_count": 474,
   "metadata": {},
   "outputs": [],
   "source": []
  },
  {
   "cell_type": "code",
   "execution_count": 23,
   "metadata": {},
   "outputs": [
    {
     "ename": "NameError",
     "evalue": "name 'xgb' is not defined",
     "output_type": "error",
     "traceback": [
      "\u001b[0;31m---------------------------------------------------------------------------\u001b[0m",
      "\u001b[0;31mNameError\u001b[0m                                 Traceback (most recent call last)",
      "\u001b[0;32m/tmp/ipykernel_8669/1683163311.py\u001b[0m in \u001b[0;36m<cell line: 2>\u001b[0;34m()\u001b[0m\n\u001b[1;32m      1\u001b[0m \u001b[0;31m# Load your train/test dataframe into DMatrix\u001b[0m\u001b[0;34m\u001b[0m\u001b[0;34m\u001b[0m\u001b[0;34m\u001b[0m\u001b[0m\n\u001b[0;32m----> 2\u001b[0;31m dtrain = xgb.DMatrix(\n\u001b[0m\u001b[1;32m      3\u001b[0m     \u001b[0mdf_train\u001b[0m\u001b[0;34m.\u001b[0m\u001b[0mloc\u001b[0m\u001b[0;34m[\u001b[0m\u001b[0;34m:\u001b[0m\u001b[0;34m,\u001b[0m \u001b[0mdf_train\u001b[0m\u001b[0;34m.\u001b[0m\u001b[0mcolumns\u001b[0m \u001b[0;34m!=\u001b[0m \u001b[0;34m\"target\"\u001b[0m\u001b[0;34m]\u001b[0m\u001b[0;34m,\u001b[0m \u001b[0mlabel\u001b[0m\u001b[0;34m=\u001b[0m\u001b[0mdf_train\u001b[0m\u001b[0;34m[\u001b[0m\u001b[0;34m\"target\"\u001b[0m\u001b[0;34m]\u001b[0m\u001b[0;34m\u001b[0m\u001b[0;34m\u001b[0m\u001b[0m\n\u001b[1;32m      4\u001b[0m )\n\u001b[1;32m      5\u001b[0m dtest = xgb.DMatrix(\n",
      "\u001b[0;31mNameError\u001b[0m: name 'xgb' is not defined"
     ]
    }
   ],
   "source": [
    "# Load your train/test dataframe into DMatrix\n",
    "dtrain = xgb.DMatrix(\n",
    "    df_train.loc[:, df_train.columns != \"target\"], label=df_train[\"target\"]\n",
    ")\n",
    "dtest = xgb.DMatrix(\n",
    "    df_test.loc[:, df_test.columns != \"target\"], label=df_test[\"target\"]\n",
    ")"
   ]
  },
  {
   "cell_type": "code",
   "execution_count": 700,
   "metadata": {},
   "outputs": [],
   "source": [
    "# How does the model perform on the training dataset and default model parameters?\n",
    "# Using the hyperparameters in the requirements, is there improvement?\n",
    "# Remember we use the test dataset to score the model\n",
    "param = {\n",
    "    \"max_depth\": 20,\n",
    "    \"eta\": 0.03,\n",
    "    \"gamma\": 0.09,\n",
    "    \"colsample_bytree\": 0.5,\n",
    "    \"objective\": \"reg:squarederror\",\n",
    "}\n",
    "num_round = 100\n",
    "bst = xgb.train(param, dtrain, num_round)"
   ]
  },
  {
   "cell_type": "code",
   "execution_count": 701,
   "metadata": {},
   "outputs": [],
   "source": [
    "# xgboost is not scikit learn, so you'll need to do predictions using their API\n",
    "preds = bst.predict(dtest)"
   ]
  },
  {
   "cell_type": "code",
   "execution_count": 702,
   "metadata": {},
   "outputs": [
    {
     "data": {
      "text/plain": [
       "27607"
      ]
     },
     "execution_count": 702,
     "metadata": {},
     "output_type": "execute_result"
    }
   ],
   "source": [
    "len(preds)"
   ]
  },
  {
   "cell_type": "code",
   "execution_count": 703,
   "metadata": {},
   "outputs": [
    {
     "data": {
      "text/plain": [
       "116235    0.788487\n",
       "281783   -0.539785\n",
       "225425    0.729244\n",
       "242114    1.026495\n",
       "173879   -1.041784\n",
       "            ...   \n",
       "228677   -0.302816\n",
       "248542   -0.882766\n",
       "304949    2.196787\n",
       "262450    0.551518\n",
       "161498   -1.121813\n",
       "Name: target, Length: 27607, dtype: float64"
      ]
     },
     "execution_count": 703,
     "metadata": {},
     "output_type": "execute_result"
    }
   ],
   "source": [
    "df_test[\"target\"]"
   ]
  },
  {
   "cell_type": "code",
   "execution_count": 704,
   "metadata": {},
   "outputs": [
    {
     "data": {
      "text/plain": [
       "0.5718712267728892"
      ]
     },
     "execution_count": 704,
     "metadata": {},
     "output_type": "execute_result"
    }
   ],
   "source": [
    "# R2 score using scikit learn function for regression metric\n",
    "r2_score(df_test[\"target\"], preds)"
   ]
  },
  {
   "cell_type": "code",
   "execution_count": 705,
   "metadata": {},
   "outputs": [
    {
     "data": {
      "text/plain": [
       "<matplotlib.axes._subplots.AxesSubplot at 0x7fbcd9c47eb8>"
      ]
     },
     "execution_count": 705,
     "metadata": {},
     "output_type": "execute_result"
    },
    {
     "data": {
      "image/png": "[encoded data removed]",
      "text/plain": [
       "<Figure size 432x288 with 1 Axes>"
      ]
     },
     "metadata": {
      "needs_background": "light"
     },
     "output_type": "display_data"
    }
   ],
   "source": [
    "# Plot the importance of the features based on fitted trees\n",
    "xgb.plot_importance(bst)"
   ]
  },
  {
   "cell_type": "code",
   "execution_count": null,
   "metadata": {},
   "outputs": [],
   "source": []
  },
  {
   "cell_type": "code",
   "execution_count": null,
   "metadata": {},
   "outputs": [],
   "source": []
  },
  {
   "cell_type": "code",
   "execution_count": null,
   "metadata": {},
   "outputs": [],
   "source": []
  },
  {
   "cell_type": "code",
   "execution_count": null,
   "metadata": {},
   "outputs": [],
   "source": []
  },
  {
   "cell_type": "code",
   "execution_count": null,
   "metadata": {},
   "outputs": [],
   "source": []
  },
  {
   "cell_type": "code",
   "execution_count": 5,
   "metadata": {},
   "outputs": [
    {
     "name": "stdout",
     "output_type": "stream",
     "text": [
      "sagemaker-us-east-1-664031765781\n"
     ]
    }
   ],
   "source": [
    "import os\n",
    "import boto3\n",
    "import sagemaker\n",
    "\n",
    "sess = sagemaker.Session()\n",
    "\n",
    "bucket = sess.default_bucket()\n",
    "print(bucket)\n",
    "prefix = 'capstone-xgboost-starbucks'\n",
    "\n",
    "boto3.Session().resource('s3').Bucket(bucket).Object(\n",
    "    os.path.join(prefix, 'train/train.csv')).upload_file('train.csv')\n",
    "boto3.Session().resource('s3').Bucket(bucket).Object(os.path.join(\n",
    "    prefix, 'test/test.csv')).upload_file('test.csv')"
   ]
  },
  {
   "cell_type": "code",
   "execution_count": 47,
   "metadata": {},
   "outputs": [
    {
     "name": "stdout",
     "output_type": "stream",
     "text": [
      "arn:aws:iam::664031765781:role/service-role/AmazonSageMaker-ExecutionRole-20220715T104958\n"
     ]
    },
    {
     "data": {
      "text/plain": [
       "'683313688378.dkr.ecr.us-east-1.amazonaws.com/sagemaker-xgboost:1.0-1-cpu-py3'"
      ]
     },
     "metadata": {},
     "output_type": "display_data"
    }
   ],
   "source": [
    "# Set the IAM Role\n",
    "from sagemaker import get_execution_role\n",
    "\n",
    "role = get_execution_role()\n",
    "print(role)\n",
    "# Get the XGBoost docker image\n",
    "from sagemaker import image_uris\n",
    "container = image_uris.retrieve('xgboost', boto3.Session().region_name, '1.0-1')\n",
    "display(container)"
   ]
  },
  {
   "cell_type": "code",
   "execution_count": 71,
   "metadata": {},
   "outputs": [],
   "source": [
    "# Creating the SageMaker Estimator object\n",
    "import sagemaker\n",
    "sess = sagemaker.Session()\n",
    "\n",
    "xgb = sagemaker.estimator.Estimator(\n",
    "    image_uri=container,\n",
    "    role=role,\n",
    "    sagemaker_session =sess,\n",
    "    instance_count =1,\n",
    "    instance_type=\"ml.m4.xlarge\",\n",
    "    max_run=2000,\n",
    "    max_wait = 2500,\n",
    "    use_spot_instances=True #Save up to 90%\n",
    ")"
   ]
  },
  {
   "cell_type": "code",
   "execution_count": 72,
   "metadata": {},
   "outputs": [],
   "source": []
  },
  {
   "cell_type": "code",
   "execution_count": 73,
   "metadata": {},
   "outputs": [],
   "source": [
    "# Compete the statement\n",
    "objective_metric_name = \"validation:rmse\""
   ]
  },
  {
   "cell_type": "code",
   "execution_count": 8,
   "metadata": {},
   "outputs": [],
   "source": [
    "# Configuring the data inputs\n",
    "s3_input_train = sagemaker.inputs.TrainingInput(\n",
    "    s3_data='s3://{}/{}/train'.format(bucket, prefix), content_type='csv')\n",
    "s3_input_test = sagemaker.inputs.TrainingInput(\n",
    "    s3_data='s3://{}/{}/test/'.format(bucket, prefix), content_type='csv')"
   ]
  },
  {
   "cell_type": "code",
   "execution_count": null,
   "metadata": {},
   "outputs": [],
   "source": []
  },
  {
   "cell_type": "code",
   "execution_count": 79,
   "metadata": {},
   "outputs": [],
   "source": [
    "# Hyperparameter tunning job\n",
    "from sagemaker.tuner import HyperparameterTuner\n",
    "\n",
    "## Your soloution goes here\n",
    "tuner = HyperparameterTuner(estimator=xgb, objective_metric_name=objective_metric_name, hyperparameter_ranges=hyperparameter_ranges, objective_type=\"Minimize\", max_jobs=1, max_parallel_jobs=1)\n"
   ]
  },
  {
   "cell_type": "code",
   "execution_count": 80,
   "metadata": {},
   "outputs": [
    {
     "name": "stdout",
     "output_type": "stream",
     "text": [
      "..........................................................................................................................................................................!\n",
      "!\n"
     ]
    }
   ],
   "source": [
    "tuner.fit({'train': s3_input_train, 'validation': s3_input_test})\n",
    "tuner.wait()"
   ]
  },
  {
   "cell_type": "code",
   "execution_count": 81,
   "metadata": {},
   "outputs": [
    {
     "name": "stdout",
     "output_type": "stream",
     "text": [
      "\n",
      "2022-09-10 12:43:59 Starting - Preparing the instances for training\n",
      "2022-09-10 12:43:59 Downloading - Downloading input data\n",
      "2022-09-10 12:43:59 Training - Training image download completed. Training in progress.\n",
      "2022-09-10 12:43:59 Uploading - Uploading generated training model\n",
      "2022-09-10 12:43:59 Completed - Training job completed\n"
     ]
    },
    {
     "data": {
      "text/plain": [
       "{'_tuning_objective_metric': 'validation:rmse',\n",
       " 'eta': '0.36482434587259494',\n",
       " 'gamma': '7',\n",
       " 'max_depth': '981',\n",
       " 'num_round': '1500',\n",
       " 'objective': 'reg:squarederror',\n",
       " 'subsample': '0.6429304118413212'}"
      ]
     },
     "execution_count": 81,
     "metadata": {},
     "output_type": "execute_result"
    }
   ],
   "source": [
    "# TODO: Get the best estimators and the best HPs\n",
    "\n",
    "best_estimator = tuner.best_estimator()\n",
    "\n",
    "#Get the hyperparameters of the best trained model\n",
    "best_estimator.hyperparameters()"
   ]
  },
  {
   "cell_type": "code",
   "execution_count": 94,
   "metadata": {},
   "outputs": [
    {
     "data": {
      "text/plain": [
       "'Completed'"
      ]
     },
     "execution_count": 94,
     "metadata": {},
     "output_type": "execute_result"
    }
   ],
   "source": [
    "boto3.client(\"sagemaker\").describe_hyper_parameter_tuning_job(\n",
    "    HyperParameterTuningJobName=tuner.latest_tuning_job.job_name\n",
    ")[\"HyperParameterTuningJobStatus\"]"
   ]
  },
  {
   "cell_type": "code",
   "execution_count": 82,
   "metadata": {
    "collapsed": true,
    "jupyter": {
     "outputs_hidden": true
    }
   },
   "outputs": [
    {
     "name": "stdout",
     "output_type": "stream",
     "text": [
      "2022-09-10 12:52:34 Starting - Starting the training job...\n",
      "2022-09-10 12:53:00 Starting - Preparing the instances for trainingProfilerReport-1662814354: InProgress\n",
      "............\n",
      "2022-09-10 12:54:58 Downloading - Downloading input data......\n",
      "2022-09-10 12:55:58 Training - Downloading the training image...\n",
      "2022-09-10 12:56:33 Training - Training image download completed. Training in progress...\u001b[34mINFO:sagemaker-containers:Imported framework sagemaker_xgboost_container.training\u001b[0m\n",
      "\u001b[34mINFO:sagemaker-containers:Failed to parse hyperparameter _tuning_objective_metric value validation:rmse to Json.\u001b[0m\n",
      "\u001b[34mReturning the value itself\u001b[0m\n",
      "\u001b[34mINFO:sagemaker-containers:Failed to parse hyperparameter objective value reg:squarederror to Json.\u001b[0m\n",
      "\u001b[34mReturning the value itself\u001b[0m\n",
      "\u001b[34mINFO:sagemaker-containers:No GPUs detected (normal if no gpus installed)\u001b[0m\n",
      "\u001b[34mINFO:sagemaker_xgboost_container.training:Running XGBoost Sagemaker in algorithm mode\u001b[0m\n",
      "\u001b[34mINFO:root:Determined delimiter of CSV input is ','\u001b[0m\n",
      "\u001b[34mINFO:root:Determined delimiter of CSV input is ','\u001b[0m\n",
      "\u001b[34mINFO:root:Determined delimiter of CSV input is ','\u001b[0m\n",
      "\u001b[34m[12:56:38] 98506x32 matrix with 3152192 entries loaded from /opt/ml/input/data/train?format=csv&label_column=0&delimiter=,\u001b[0m\n",
      "\u001b[34mINFO:root:Determined delimiter of CSV input is ','\u001b[0m\n",
      "\u001b[34m[12:56:38] 24628x32 matrix with 788096 entries loaded from /opt/ml/input/data/validation?format=csv&label_column=0&delimiter=,\u001b[0m\n",
      "\u001b[34mINFO:root:Single node training.\u001b[0m\n",
      "\u001b[34mINFO:root:Setting up HPO optimized metric to be : rmse\u001b[0m\n",
      "\u001b[34m[2022-09-10 12:56:38.538 ip-10-2-119-142.ec2.internal:1 INFO json_config.py:90] Creating hook from json_config at /opt/ml/input/config/debughookconfig.json.\u001b[0m\n",
      "\u001b[34m[2022-09-10 12:56:38.539 ip-10-2-119-142.ec2.internal:1 INFO hook.py:151] tensorboard_dir has not been set for the hook. SMDebug will not be exporting tensorboard summaries.\u001b[0m\n",
      "\u001b[34m[2022-09-10 12:56:38.539 ip-10-2-119-142.ec2.internal:1 INFO hook.py:196] Saving to /opt/ml/output/tensors\u001b[0m\n",
      "\u001b[34mINFO:root:Debug hook created from config\u001b[0m\n",
      "\u001b[34mINFO:root:Train matrix has 98506 rows\u001b[0m\n",
      "\u001b[34mINFO:root:Validation matrix has 24628 rows\u001b[0m\n",
      "\u001b[34m[0]#011train-rmse:0.88433#011validation-rmse:0.88451\u001b[0m\n",
      "\u001b[34m[2022-09-10 12:56:39.082 ip-10-2-119-142.ec2.internal:1 INFO hook.py:325] Monitoring the collections: metrics\u001b[0m\n",
      "\u001b[34m[1]#011train-rmse:0.77033#011validation-rmse:0.77058\u001b[0m\n",
      "\u001b[34m[2]#011train-rmse:0.71839#011validation-rmse:0.71864\u001b[0m\n",
      "\u001b[34m[3]#011train-rmse:0.69613#011validation-rmse:0.69643\u001b[0m\n",
      "\u001b[34m[4]#011train-rmse:0.68708#011validation-rmse:0.68739\u001b[0m\n",
      "\u001b[34m[5]#011train-rmse:0.68309#011validation-rmse:0.68335\u001b[0m\n",
      "\u001b[34m[6]#011train-rmse:0.68152#011validation-rmse:0.68183\u001b[0m\n",
      "\u001b[34m[7]#011train-rmse:0.68072#011validation-rmse:0.68109\u001b[0m\n",
      "\u001b[34m[8]#011train-rmse:0.68007#011validation-rmse:0.68049\u001b[0m\n",
      "\u001b[34m[9]#011train-rmse:0.68000#011validation-rmse:0.68041\u001b[0m\n",
      "\u001b[34m[10]#011train-rmse:0.67987#011validation-rmse:0.68030\u001b[0m\n",
      "\u001b[34m[11]#011train-rmse:0.67978#011validation-rmse:0.68017\u001b[0m\n",
      "\u001b[34m[12]#011train-rmse:0.67967#011validation-rmse:0.68006\u001b[0m\n",
      "\u001b[34m[13]#011train-rmse:0.67952#011validation-rmse:0.67996\u001b[0m\n",
      "\u001b[34m[14]#011train-rmse:0.67952#011validation-rmse:0.67996\u001b[0m\n",
      "\u001b[34m[15]#011train-rmse:0.67952#011validation-rmse:0.67996\u001b[0m\n",
      "\u001b[34m[16]#011train-rmse:0.67952#011validation-rmse:0.67996\u001b[0m\n",
      "\u001b[34m[17]#011train-rmse:0.67944#011validation-rmse:0.67974\u001b[0m\n",
      "\u001b[34m[18]#011train-rmse:0.67926#011validation-rmse:0.67963\u001b[0m\n",
      "\u001b[34m[19]#011train-rmse:0.67926#011validation-rmse:0.67962\u001b[0m\n",
      "\u001b[34m[20]#011train-rmse:0.67926#011validation-rmse:0.67962\u001b[0m\n",
      "\u001b[34m[21]#011train-rmse:0.67926#011validation-rmse:0.67962\u001b[0m\n",
      "\u001b[34m[22]#011train-rmse:0.67926#011validation-rmse:0.67963\u001b[0m\n",
      "\u001b[34m[23]#011train-rmse:0.67926#011validation-rmse:0.67963\u001b[0m\n",
      "\u001b[34m[24]#011train-rmse:0.67926#011validation-rmse:0.67963\u001b[0m\n",
      "\u001b[34m[25]#011train-rmse:0.67926#011validation-rmse:0.67963\u001b[0m\n",
      "\u001b[34m[26]#011train-rmse:0.67926#011validation-rmse:0.67963\u001b[0m\n",
      "\u001b[34m[27]#011train-rmse:0.67926#011validation-rmse:0.67963\u001b[0m\n",
      "\u001b[34m[28]#011train-rmse:0.67926#011validation-rmse:0.67963\u001b[0m\n",
      "\u001b[34m[29]#011train-rmse:0.67926#011validation-rmse:0.67963\u001b[0m\n",
      "\u001b[34m[30]#011train-rmse:0.67926#011validation-rmse:0.67963\u001b[0m\n",
      "\u001b[34m[31]#011train-rmse:0.67916#011validation-rmse:0.67966\u001b[0m\n",
      "\u001b[34m[32]#011train-rmse:0.67916#011validation-rmse:0.67966\u001b[0m\n",
      "\u001b[34m[33]#011train-rmse:0.67916#011validation-rmse:0.67965\u001b[0m\n",
      "\u001b[34m[34]#011train-rmse:0.67916#011validation-rmse:0.67965\u001b[0m\n",
      "\u001b[34m[35]#011train-rmse:0.67916#011validation-rmse:0.67965\u001b[0m\n",
      "\u001b[34m[36]#011train-rmse:0.67916#011validation-rmse:0.67965\u001b[0m\n",
      "\u001b[34m[37]#011train-rmse:0.67916#011validation-rmse:0.67965\u001b[0m\n",
      "\u001b[34m[38]#011train-rmse:0.67916#011validation-rmse:0.67965\u001b[0m\n",
      "\u001b[34m[39]#011train-rmse:0.67916#011validation-rmse:0.67965\u001b[0m\n",
      "\u001b[34m[40]#011train-rmse:0.67916#011validation-rmse:0.67965\u001b[0m\n",
      "\u001b[34m[41]#011train-rmse:0.67916#011validation-rmse:0.67965\u001b[0m\n",
      "\u001b[34m[42]#011train-rmse:0.67916#011validation-rmse:0.67965\u001b[0m\n",
      "\u001b[34m[43]#011train-rmse:0.67916#011validation-rmse:0.67965\u001b[0m\n",
      "\u001b[34m[44]#011train-rmse:0.67916#011validation-rmse:0.67965\u001b[0m\n",
      "\u001b[34m[45]#011train-rmse:0.67916#011validation-rmse:0.67966\u001b[0m\n",
      "\u001b[34m[46]#011train-rmse:0.67916#011validation-rmse:0.67965\u001b[0m\n",
      "\u001b[34m[47]#011train-rmse:0.67916#011validation-rmse:0.67965\u001b[0m\n",
      "\u001b[34m[48]#011train-rmse:0.67916#011validation-rmse:0.67965\u001b[0m\n",
      "\u001b[34m[49]#011train-rmse:0.67906#011validation-rmse:0.67966\u001b[0m\n",
      "\u001b[34m[50]#011train-rmse:0.67906#011validation-rmse:0.67966\u001b[0m\n",
      "\u001b[34m[51]#011train-rmse:0.67906#011validation-rmse:0.67966\u001b[0m\n",
      "\u001b[34m[52]#011train-rmse:0.67906#011validation-rmse:0.67966\u001b[0m\n",
      "\u001b[34m[53]#011train-rmse:0.67906#011validation-rmse:0.67966\u001b[0m\n",
      "\u001b[34m[54]#011train-rmse:0.67906#011validation-rmse:0.67966\u001b[0m\n",
      "\u001b[34m[55]#011train-rmse:0.67906#011validation-rmse:0.67966\u001b[0m\n",
      "\u001b[34m[56]#011train-rmse:0.67906#011validation-rmse:0.67966\u001b[0m\n",
      "\u001b[34m[57]#011train-rmse:0.67906#011validation-rmse:0.67966\u001b[0m\n",
      "\u001b[34m[58]#011train-rmse:0.67906#011validation-rmse:0.67966\u001b[0m\n",
      "\u001b[34m[59]#011train-rmse:0.67906#011validation-rmse:0.67966\u001b[0m\n",
      "\u001b[34m[60]#011train-rmse:0.67906#011validation-rmse:0.67966\u001b[0m\n",
      "\u001b[34m[61]#011train-rmse:0.67906#011validation-rmse:0.67966\u001b[0m\n",
      "\u001b[34m[62]#011train-rmse:0.67906#011validation-rmse:0.67966\u001b[0m\n",
      "\u001b[34m[63]#011train-rmse:0.67906#011validation-rmse:0.67966\u001b[0m\n",
      "\u001b[34m[64]#011train-rmse:0.67906#011validation-rmse:0.67966\u001b[0m\n",
      "\u001b[34m[65]#011train-rmse:0.67906#011validation-rmse:0.67966\u001b[0m\n",
      "\u001b[34m[66]#011train-rmse:0.67899#011validation-rmse:0.67955\u001b[0m\n",
      "\u001b[34m[67]#011train-rmse:0.67899#011validation-rmse:0.67955\u001b[0m\n",
      "\u001b[34m[68]#011train-rmse:0.67899#011validation-rmse:0.67956\u001b[0m\n",
      "\u001b[34m[69]#011train-rmse:0.67899#011validation-rmse:0.67956\u001b[0m\n",
      "\u001b[34m[70]#011train-rmse:0.67899#011validation-rmse:0.67956\u001b[0m\n",
      "\u001b[34m[71]#011train-rmse:0.67899#011validation-rmse:0.67956\u001b[0m\n",
      "\u001b[34m[72]#011train-rmse:0.67899#011validation-rmse:0.67956\u001b[0m\n",
      "\u001b[34m[73]#011train-rmse:0.67899#011validation-rmse:0.67956\u001b[0m\n",
      "\u001b[34m[74]#011train-rmse:0.67899#011validation-rmse:0.67955\u001b[0m\n",
      "\u001b[34m[75]#011train-rmse:0.67899#011validation-rmse:0.67956\u001b[0m\n",
      "\u001b[34m[76]#011train-rmse:0.67899#011validation-rmse:0.67956\u001b[0m\n",
      "\u001b[34m[77]#011train-rmse:0.67899#011validation-rmse:0.67955\u001b[0m\n",
      "\u001b[34m[78]#011train-rmse:0.67899#011validation-rmse:0.67956\u001b[0m\n",
      "\u001b[34m[79]#011train-rmse:0.67899#011validation-rmse:0.67956\u001b[0m\n",
      "\u001b[34m[80]#011train-rmse:0.67899#011validation-rmse:0.67955\u001b[0m\n",
      "\u001b[34m[81]#011train-rmse:0.67899#011validation-rmse:0.67956\u001b[0m\n",
      "\u001b[34m[82]#011train-rmse:0.67899#011validation-rmse:0.67956\u001b[0m\n",
      "\u001b[34m[83]#011train-rmse:0.67899#011validation-rmse:0.67956\u001b[0m\n",
      "\u001b[34m[84]#011train-rmse:0.67899#011validation-rmse:0.67956\u001b[0m\n",
      "\u001b[34m[85]#011train-rmse:0.67899#011validation-rmse:0.67955\u001b[0m\n",
      "\u001b[34m[86]#011train-rmse:0.67899#011validation-rmse:0.67956\u001b[0m\n",
      "\u001b[34m[87]#011train-rmse:0.67899#011validation-rmse:0.67955\u001b[0m\n",
      "\u001b[34m[88]#011train-rmse:0.67894#011validation-rmse:0.67949\u001b[0m\n",
      "\u001b[34m[89]#011train-rmse:0.67894#011validation-rmse:0.67949\u001b[0m\n",
      "\u001b[34m[90]#011train-rmse:0.67894#011validation-rmse:0.67949\u001b[0m\n",
      "\u001b[34m[91]#011train-rmse:0.67894#011validation-rmse:0.67949\u001b[0m\n",
      "\u001b[34m[92]#011train-rmse:0.67894#011validation-rmse:0.67949\u001b[0m\n",
      "\u001b[34m[93]#011train-rmse:0.67894#011validation-rmse:0.67949\u001b[0m\n",
      "\u001b[34m[94]#011train-rmse:0.67894#011validation-rmse:0.67949\u001b[0m\n",
      "\u001b[34m[95]#011train-rmse:0.67894#011validation-rmse:0.67949\u001b[0m\n",
      "\u001b[34m[96]#011train-rmse:0.67894#011validation-rmse:0.67949\u001b[0m\n",
      "\u001b[34m[97]#011train-rmse:0.67894#011validation-rmse:0.67949\u001b[0m\n",
      "\u001b[34m[98]#011train-rmse:0.67894#011validation-rmse:0.67949\u001b[0m\n",
      "\u001b[34m[99]#011train-rmse:0.67894#011validation-rmse:0.67949\u001b[0m\n",
      "\u001b[34m[100]#011train-rmse:0.67894#011validation-rmse:0.67949\u001b[0m\n",
      "\u001b[34m[101]#011train-rmse:0.67894#011validation-rmse:0.67949\u001b[0m\n",
      "\u001b[34m[102]#011train-rmse:0.67894#011validation-rmse:0.67949\u001b[0m\n",
      "\u001b[34m[103]#011train-rmse:0.67894#011validation-rmse:0.67949\u001b[0m\n",
      "\u001b[34m[104]#011train-rmse:0.67894#011validation-rmse:0.67949\u001b[0m\n",
      "\u001b[34m[105]#011train-rmse:0.67894#011validation-rmse:0.67949\u001b[0m\n",
      "\u001b[34m[106]#011train-rmse:0.67894#011validation-rmse:0.67949\u001b[0m\n",
      "\u001b[34m[107]#011train-rmse:0.67894#011validation-rmse:0.67949\u001b[0m\n",
      "\u001b[34m[108]#011train-rmse:0.67894#011validation-rmse:0.67949\u001b[0m\n",
      "\u001b[34m[109]#011train-rmse:0.67894#011validation-rmse:0.67950\u001b[0m\n",
      "\u001b[34m[110]#011train-rmse:0.67894#011validation-rmse:0.67949\u001b[0m\n",
      "\u001b[34m[111]#011train-rmse:0.67894#011validation-rmse:0.67949\u001b[0m\n",
      "\u001b[34m[112]#011train-rmse:0.67894#011validation-rmse:0.67949\u001b[0m\n",
      "\u001b[34m[113]#011train-rmse:0.67894#011validation-rmse:0.67949\u001b[0m\n",
      "\u001b[34m[114]#011train-rmse:0.67894#011validation-rmse:0.67949\u001b[0m\n",
      "\u001b[34m[115]#011train-rmse:0.67894#011validation-rmse:0.67949\u001b[0m\n",
      "\u001b[34m[116]#011train-rmse:0.67894#011validation-rmse:0.67949\u001b[0m\n",
      "\u001b[34m[117]#011train-rmse:0.67894#011validation-rmse:0.67949\u001b[0m\n",
      "\u001b[34m[118]#011train-rmse:0.67894#011validation-rmse:0.67949\u001b[0m\n",
      "\u001b[34m[119]#011train-rmse:0.67894#011validation-rmse:0.67949\u001b[0m\n",
      "\u001b[34m[120]#011train-rmse:0.67894#011validation-rmse:0.67949\u001b[0m\n",
      "\u001b[34m[121]#011train-rmse:0.67894#011validation-rmse:0.67949\u001b[0m\n",
      "\u001b[34m[122]#011train-rmse:0.67894#011validation-rmse:0.67949\u001b[0m\n",
      "\u001b[34m[123]#011train-rmse:0.67894#011validation-rmse:0.67949\u001b[0m\n",
      "\u001b[34m[124]#011train-rmse:0.67894#011validation-rmse:0.67949\u001b[0m\n",
      "\u001b[34m[125]#011train-rmse:0.67894#011validation-rmse:0.67949\u001b[0m\n",
      "\u001b[34m[126]#011train-rmse:0.67894#011validation-rmse:0.67949\u001b[0m\n",
      "\u001b[34m[127]#011train-rmse:0.67894#011validation-rmse:0.67949\u001b[0m\n",
      "\u001b[34m[128]#011train-rmse:0.67894#011validation-rmse:0.67949\u001b[0m\n",
      "\u001b[34m[129]#011train-rmse:0.67894#011validation-rmse:0.67949\u001b[0m\n",
      "\u001b[34m[130]#011train-rmse:0.67894#011validation-rmse:0.67949\u001b[0m\n",
      "\u001b[34m[131]#011train-rmse:0.67894#011validation-rmse:0.67949\u001b[0m\n",
      "\u001b[34m[132]#011train-rmse:0.67894#011validation-rmse:0.67949\u001b[0m\n",
      "\u001b[34m[133]#011train-rmse:0.67894#011validation-rmse:0.67949\u001b[0m\n",
      "\u001b[34m[134]#011train-rmse:0.67894#011validation-rmse:0.67949\u001b[0m\n",
      "\u001b[34m[135]#011train-rmse:0.67894#011validation-rmse:0.67949\u001b[0m\n",
      "\u001b[34m[136]#011train-rmse:0.67894#011validation-rmse:0.67949\u001b[0m\n",
      "\u001b[34m[137]#011train-rmse:0.67894#011validation-rmse:0.67949\u001b[0m\n",
      "\u001b[34m[138]#011train-rmse:0.67894#011validation-rmse:0.67949\u001b[0m\n",
      "\u001b[34m[139]#011train-rmse:0.67894#011validation-rmse:0.67949\u001b[0m\n",
      "\u001b[34m[140]#011train-rmse:0.67894#011validation-rmse:0.67949\u001b[0m\n",
      "\u001b[34m[141]#011train-rmse:0.67894#011validation-rmse:0.67949\u001b[0m\n",
      "\u001b[34m[142]#011train-rmse:0.67894#011validation-rmse:0.67949\u001b[0m\n",
      "\u001b[34m[143]#011train-rmse:0.67894#011validation-rmse:0.67949\u001b[0m\n",
      "\u001b[34m[144]#011train-rmse:0.67894#011validation-rmse:0.67949\u001b[0m\n",
      "\u001b[34m[145]#011train-rmse:0.67894#011validation-rmse:0.67949\u001b[0m\n",
      "\u001b[34m[146]#011train-rmse:0.67894#011validation-rmse:0.67949\u001b[0m\n",
      "\u001b[34m[147]#011train-rmse:0.67894#011validation-rmse:0.67950\u001b[0m\n",
      "\u001b[34m[148]#011train-rmse:0.67894#011validation-rmse:0.67950\u001b[0m\n",
      "\u001b[34m[149]#011train-rmse:0.67894#011validation-rmse:0.67949\u001b[0m\n",
      "\u001b[34m[150]#011train-rmse:0.67894#011validation-rmse:0.67949\u001b[0m\n",
      "\u001b[34m[151]#011train-rmse:0.67894#011validation-rmse:0.67949\u001b[0m\n",
      "\u001b[34m[152]#011train-rmse:0.67894#011validation-rmse:0.67949\u001b[0m\n",
      "\u001b[34m[153]#011train-rmse:0.67894#011validation-rmse:0.67949\u001b[0m\n",
      "\u001b[34m[154]#011train-rmse:0.67894#011validation-rmse:0.67949\u001b[0m\n",
      "\u001b[34m[155]#011train-rmse:0.67894#011validation-rmse:0.67949\u001b[0m\n",
      "\u001b[34m[156]#011train-rmse:0.67894#011validation-rmse:0.67949\u001b[0m\n",
      "\u001b[34m[157]#011train-rmse:0.67894#011validation-rmse:0.67949\u001b[0m\n",
      "\u001b[34m[158]#011train-rmse:0.67894#011validation-rmse:0.67949\u001b[0m\n",
      "\u001b[34m[159]#011train-rmse:0.67894#011validation-rmse:0.67949\u001b[0m\n",
      "\u001b[34m[160]#011train-rmse:0.67894#011validation-rmse:0.67949\u001b[0m\n",
      "\u001b[34m[161]#011train-rmse:0.67894#011validation-rmse:0.67949\u001b[0m\n",
      "\u001b[34m[162]#011train-rmse:0.67894#011validation-rmse:0.67949\u001b[0m\n",
      "\u001b[34m[163]#011train-rmse:0.67894#011validation-rmse:0.67949\u001b[0m\n",
      "\u001b[34m[164]#011train-rmse:0.67894#011validation-rmse:0.67949\u001b[0m\n",
      "\u001b[34m[165]#011train-rmse:0.67894#011validation-rmse:0.67949\u001b[0m\n",
      "\u001b[34m[166]#011train-rmse:0.67894#011validation-rmse:0.67949\u001b[0m\n",
      "\u001b[34m[167]#011train-rmse:0.67894#011validation-rmse:0.67949\u001b[0m\n",
      "\u001b[34m[168]#011train-rmse:0.67894#011validation-rmse:0.67949\u001b[0m\n",
      "\u001b[34m[169]#011train-rmse:0.67894#011validation-rmse:0.67949\u001b[0m\n",
      "\u001b[34m[170]#011train-rmse:0.67894#011validation-rmse:0.67949\u001b[0m\n",
      "\u001b[34m[171]#011train-rmse:0.67894#011validation-rmse:0.67949\u001b[0m\n",
      "\u001b[34m[172]#011train-rmse:0.67894#011validation-rmse:0.67949\u001b[0m\n",
      "\u001b[34m[173]#011train-rmse:0.67894#011validation-rmse:0.67949\u001b[0m\n",
      "\u001b[34m[174]#011train-rmse:0.67894#011validation-rmse:0.67949\u001b[0m\n",
      "\u001b[34m[175]#011train-rmse:0.67887#011validation-rmse:0.67953\u001b[0m\n",
      "\u001b[34m[176]#011train-rmse:0.67887#011validation-rmse:0.67953\u001b[0m\n",
      "\u001b[34m[177]#011train-rmse:0.67887#011validation-rmse:0.67952\u001b[0m\n",
      "\u001b[34m[178]#011train-rmse:0.67887#011validation-rmse:0.67952\u001b[0m\n",
      "\u001b[34m[179]#011train-rmse:0.67887#011validation-rmse:0.67952\u001b[0m\n",
      "\u001b[34m[180]#011train-rmse:0.67887#011validation-rmse:0.67952\u001b[0m\n",
      "\u001b[34m[181]#011train-rmse:0.67887#011validation-rmse:0.67953\u001b[0m\n",
      "\u001b[34m[182]#011train-rmse:0.67887#011validation-rmse:0.67952\u001b[0m\n",
      "\u001b[34m[183]#011train-rmse:0.67887#011validation-rmse:0.67952\u001b[0m\n",
      "\u001b[34m[184]#011train-rmse:0.67887#011validation-rmse:0.67952\u001b[0m\n",
      "\u001b[34m[185]#011train-rmse:0.67887#011validation-rmse:0.67952\u001b[0m\n",
      "\u001b[34m[186]#011train-rmse:0.67883#011validation-rmse:0.67947\u001b[0m\n",
      "\u001b[34m[187]#011train-rmse:0.67883#011validation-rmse:0.67947\u001b[0m\n",
      "\u001b[34m[188]#011train-rmse:0.67883#011validation-rmse:0.67946\u001b[0m\n",
      "\u001b[34m[189]#011train-rmse:0.67883#011validation-rmse:0.67947\u001b[0m\n",
      "\u001b[34m[190]#011train-rmse:0.67883#011validation-rmse:0.67947\u001b[0m\n",
      "\u001b[34m[191]#011train-rmse:0.67883#011validation-rmse:0.67947\u001b[0m\n",
      "\u001b[34m[192]#011train-rmse:0.67883#011validation-rmse:0.67947\u001b[0m\n",
      "\u001b[34m[193]#011train-rmse:0.67883#011validation-rmse:0.67946\u001b[0m\n",
      "\u001b[34m[194]#011train-rmse:0.67883#011validation-rmse:0.67947\u001b[0m\n",
      "\u001b[34m[195]#011train-rmse:0.67883#011validation-rmse:0.67947\u001b[0m\n",
      "\u001b[34m[196]#011train-rmse:0.67883#011validation-rmse:0.67947\u001b[0m\n",
      "\u001b[34m[197]#011train-rmse:0.67883#011validation-rmse:0.67946\u001b[0m\n",
      "\u001b[34m[198]#011train-rmse:0.67883#011validation-rmse:0.67946\u001b[0m\n",
      "\u001b[34m[199]#011train-rmse:0.67883#011validation-rmse:0.67946\u001b[0m\n",
      "\u001b[34m[200]#011train-rmse:0.67883#011validation-rmse:0.67946\u001b[0m\n",
      "\u001b[34m[201]#011train-rmse:0.67883#011validation-rmse:0.67946\u001b[0m\n",
      "\u001b[34m[202]#011train-rmse:0.67883#011validation-rmse:0.67946\u001b[0m\n",
      "\u001b[34m[203]#011train-rmse:0.67883#011validation-rmse:0.67947\u001b[0m\n",
      "\u001b[34m[204]#011train-rmse:0.67883#011validation-rmse:0.67947\u001b[0m\n",
      "\u001b[34m[205]#011train-rmse:0.67883#011validation-rmse:0.67946\u001b[0m\n",
      "\u001b[34m[206]#011train-rmse:0.67883#011validation-rmse:0.67947\u001b[0m\n",
      "\u001b[34m[207]#011train-rmse:0.67883#011validation-rmse:0.67947\u001b[0m\n",
      "\u001b[34m[208]#011train-rmse:0.67883#011validation-rmse:0.67947\u001b[0m\n",
      "\u001b[34m[209]#011train-rmse:0.67883#011validation-rmse:0.67947\u001b[0m\n",
      "\u001b[34m[210]#011train-rmse:0.67883#011validation-rmse:0.67948\u001b[0m\n",
      "\u001b[34m[211]#011train-rmse:0.67883#011validation-rmse:0.67948\u001b[0m\n",
      "\u001b[34m[212]#011train-rmse:0.67883#011validation-rmse:0.67947\u001b[0m\n",
      "\u001b[34m[213]#011train-rmse:0.67883#011validation-rmse:0.67947\u001b[0m\n",
      "\u001b[34m[214]#011train-rmse:0.67883#011validation-rmse:0.67946\u001b[0m\n",
      "\u001b[34m[215]#011train-rmse:0.67883#011validation-rmse:0.67947\u001b[0m\n",
      "\u001b[34m[216]#011train-rmse:0.67883#011validation-rmse:0.67946\u001b[0m\n",
      "\u001b[34m[217]#011train-rmse:0.67883#011validation-rmse:0.67947\u001b[0m\n",
      "\u001b[34m[218]#011train-rmse:0.67883#011validation-rmse:0.67946\u001b[0m\n",
      "\u001b[34m[219]#011train-rmse:0.67883#011validation-rmse:0.67946\u001b[0m\n",
      "\u001b[34m[220]#011train-rmse:0.67883#011validation-rmse:0.67946\u001b[0m\n",
      "\u001b[34m[221]#011train-rmse:0.67883#011validation-rmse:0.67947\u001b[0m\n",
      "\u001b[34m[222]#011train-rmse:0.67883#011validation-rmse:0.67946\u001b[0m\n",
      "\u001b[34m[223]#011train-rmse:0.67883#011validation-rmse:0.67946\u001b[0m\n",
      "\u001b[34m[224]#011train-rmse:0.67883#011validation-rmse:0.67947\u001b[0m\n",
      "\u001b[34m[225]#011train-rmse:0.67883#011validation-rmse:0.67947\u001b[0m\n",
      "\u001b[34m[226]#011train-rmse:0.67883#011validation-rmse:0.67946\u001b[0m\n",
      "\u001b[34m[227]#011train-rmse:0.67883#011validation-rmse:0.67946\u001b[0m\n",
      "\u001b[34m[228]#011train-rmse:0.67883#011validation-rmse:0.67946\u001b[0m\n",
      "\u001b[34m[229]#011train-rmse:0.67883#011validation-rmse:0.67946\u001b[0m\n",
      "\u001b[34m[230]#011train-rmse:0.67883#011validation-rmse:0.67946\u001b[0m\n",
      "\u001b[34m[231]#011train-rmse:0.67883#011validation-rmse:0.67946\u001b[0m\n",
      "\u001b[34m[232]#011train-rmse:0.67883#011validation-rmse:0.67947\u001b[0m\n",
      "\u001b[34m[233]#011train-rmse:0.67883#011validation-rmse:0.67947\u001b[0m\n",
      "\u001b[34m[234]#011train-rmse:0.67883#011validation-rmse:0.67946\u001b[0m\n",
      "\u001b[34m[235]#011train-rmse:0.67883#011validation-rmse:0.67946\u001b[0m\n",
      "\u001b[34m[236]#011train-rmse:0.67883#011validation-rmse:0.67946\u001b[0m\n",
      "\u001b[34m[237]#011train-rmse:0.67883#011validation-rmse:0.67946\u001b[0m\n",
      "\u001b[34m[238]#011train-rmse:0.67883#011validation-rmse:0.67946\u001b[0m\n",
      "\u001b[34m[239]#011train-rmse:0.67883#011validation-rmse:0.67947\u001b[0m\n",
      "\u001b[34m[240]#011train-rmse:0.67883#011validation-rmse:0.67947\u001b[0m\n",
      "\u001b[34m[241]#011train-rmse:0.67883#011validation-rmse:0.67947\u001b[0m\n",
      "\u001b[34m[242]#011train-rmse:0.67883#011validation-rmse:0.67946\u001b[0m\n",
      "\u001b[34m[243]#011train-rmse:0.67883#011validation-rmse:0.67946\u001b[0m\n",
      "\u001b[34m[244]#011train-rmse:0.67883#011validation-rmse:0.67946\u001b[0m\n",
      "\u001b[34m[245]#011train-rmse:0.67883#011validation-rmse:0.67946\u001b[0m\n",
      "\u001b[34m[246]#011train-rmse:0.67883#011validation-rmse:0.67946\u001b[0m\n",
      "\u001b[34m[247]#011train-rmse:0.67883#011validation-rmse:0.67946\u001b[0m\n",
      "\u001b[34m[248]#011train-rmse:0.67883#011validation-rmse:0.67946\u001b[0m\n",
      "\u001b[34m[249]#011train-rmse:0.67883#011validation-rmse:0.67946\u001b[0m\n",
      "\u001b[34m[250]#011train-rmse:0.67883#011validation-rmse:0.67946\u001b[0m\n",
      "\u001b[34m[251]#011train-rmse:0.67883#011validation-rmse:0.67946\u001b[0m\n",
      "\u001b[34m[252]#011train-rmse:0.67883#011validation-rmse:0.67946\u001b[0m\n",
      "\u001b[34m[253]#011train-rmse:0.67883#011validation-rmse:0.67946\u001b[0m\n",
      "\u001b[34m[254]#011train-rmse:0.67883#011validation-rmse:0.67947\u001b[0m\n",
      "\u001b[34m[255]#011train-rmse:0.67883#011validation-rmse:0.67947\u001b[0m\n",
      "\u001b[34m[256]#011train-rmse:0.67883#011validation-rmse:0.67947\u001b[0m\n",
      "\u001b[34m[257]#011train-rmse:0.67883#011validation-rmse:0.67947\u001b[0m\n",
      "\u001b[34m[258]#011train-rmse:0.67883#011validation-rmse:0.67947\u001b[0m\n",
      "\u001b[34m[259]#011train-rmse:0.67883#011validation-rmse:0.67947\u001b[0m\n",
      "\u001b[34m[260]#011train-rmse:0.67883#011validation-rmse:0.67947\u001b[0m\n",
      "\u001b[34m[261]#011train-rmse:0.67883#011validation-rmse:0.67948\u001b[0m\n",
      "\u001b[34m[262]#011train-rmse:0.67883#011validation-rmse:0.67947\u001b[0m\n",
      "\u001b[34m[263]#011train-rmse:0.67883#011validation-rmse:0.67947\u001b[0m\n",
      "\u001b[34m[264]#011train-rmse:0.67883#011validation-rmse:0.67946\u001b[0m\n",
      "\u001b[34m[265]#011train-rmse:0.67883#011validation-rmse:0.67946\u001b[0m\n",
      "\u001b[34m[266]#011train-rmse:0.67883#011validation-rmse:0.67947\u001b[0m\n",
      "\u001b[34m[267]#011train-rmse:0.67877#011validation-rmse:0.67937\u001b[0m\n",
      "\u001b[34m[268]#011train-rmse:0.67877#011validation-rmse:0.67937\u001b[0m\n",
      "\u001b[34m[269]#011train-rmse:0.67877#011validation-rmse:0.67937\u001b[0m\n",
      "\u001b[34m[270]#011train-rmse:0.67877#011validation-rmse:0.67937\u001b[0m\n",
      "\u001b[34m[271]#011train-rmse:0.67877#011validation-rmse:0.67937\u001b[0m\n",
      "\u001b[34m[272]#011train-rmse:0.67877#011validation-rmse:0.67937\u001b[0m\n",
      "\u001b[34m[273]#011train-rmse:0.67878#011validation-rmse:0.67937\u001b[0m\n",
      "\u001b[34m[274]#011train-rmse:0.67877#011validation-rmse:0.67937\u001b[0m\n",
      "\u001b[34m[275]#011train-rmse:0.67878#011validation-rmse:0.67937\u001b[0m\n",
      "\u001b[34m[276]#011train-rmse:0.67877#011validation-rmse:0.67937\u001b[0m\n",
      "\u001b[34m[277]#011train-rmse:0.67878#011validation-rmse:0.67937\u001b[0m\n",
      "\u001b[34m[278]#011train-rmse:0.67877#011validation-rmse:0.67937\u001b[0m\n",
      "\u001b[34m[279]#011train-rmse:0.67877#011validation-rmse:0.67937\u001b[0m\n",
      "\u001b[34m[280]#011train-rmse:0.67877#011validation-rmse:0.67937\u001b[0m\n",
      "\u001b[34m[281]#011train-rmse:0.67877#011validation-rmse:0.67937\u001b[0m\n",
      "\u001b[34m[282]#011train-rmse:0.67877#011validation-rmse:0.67937\u001b[0m\n",
      "\u001b[34m[283]#011train-rmse:0.67877#011validation-rmse:0.67937\u001b[0m\n",
      "\u001b[34m[284]#011train-rmse:0.67877#011validation-rmse:0.67937\u001b[0m\n",
      "\u001b[34m[285]#011train-rmse:0.67877#011validation-rmse:0.67937\u001b[0m\n",
      "\u001b[34m[286]#011train-rmse:0.67877#011validation-rmse:0.67937\u001b[0m\n",
      "\u001b[34m[287]#011train-rmse:0.67877#011validation-rmse:0.67937\u001b[0m\n",
      "\u001b[34m[288]#011train-rmse:0.67877#011validation-rmse:0.67937\u001b[0m\n",
      "\u001b[34m[289]#011train-rmse:0.67877#011validation-rmse:0.67937\u001b[0m\n",
      "\u001b[34m[290]#011train-rmse:0.67877#011validation-rmse:0.67937\u001b[0m\n",
      "\u001b[34m[291]#011train-rmse:0.67877#011validation-rmse:0.67937\u001b[0m\n",
      "\u001b[34m[292]#011train-rmse:0.67877#011validation-rmse:0.67937\u001b[0m\n",
      "\u001b[34m[293]#011train-rmse:0.67877#011validation-rmse:0.67937\u001b[0m\n",
      "\u001b[34m[294]#011train-rmse:0.67877#011validation-rmse:0.67937\u001b[0m\n",
      "\u001b[34m[295]#011train-rmse:0.67877#011validation-rmse:0.67937\u001b[0m\n",
      "\u001b[34m[296]#011train-rmse:0.67877#011validation-rmse:0.67937\u001b[0m\n",
      "\u001b[34m[297]#011train-rmse:0.67877#011validation-rmse:0.67937\u001b[0m\n",
      "\u001b[34m[298]#011train-rmse:0.67877#011validation-rmse:0.67937\u001b[0m\n",
      "\u001b[34m[299]#011train-rmse:0.67877#011validation-rmse:0.67937\u001b[0m\n",
      "\u001b[34m[300]#011train-rmse:0.67877#011validation-rmse:0.67937\u001b[0m\n",
      "\u001b[34m[301]#011train-rmse:0.67877#011validation-rmse:0.67937\u001b[0m\n",
      "\u001b[34m[302]#011train-rmse:0.67877#011validation-rmse:0.67937\u001b[0m\n",
      "\u001b[34m[303]#011train-rmse:0.67877#011validation-rmse:0.67937\u001b[0m\n",
      "\u001b[34m[304]#011train-rmse:0.67877#011validation-rmse:0.67937\u001b[0m\n",
      "\u001b[34m[305]#011train-rmse:0.67878#011validation-rmse:0.67937\u001b[0m\n",
      "\u001b[34m[306]#011train-rmse:0.67877#011validation-rmse:0.67937\u001b[0m\n",
      "\u001b[34m[307]#011train-rmse:0.67877#011validation-rmse:0.67937\u001b[0m\n",
      "\u001b[34m[308]#011train-rmse:0.67877#011validation-rmse:0.67937\u001b[0m\n",
      "\u001b[34m[309]#011train-rmse:0.67877#011validation-rmse:0.67937\u001b[0m\n",
      "\u001b[34m[310]#011train-rmse:0.67877#011validation-rmse:0.67937\u001b[0m\n",
      "\u001b[34m[311]#011train-rmse:0.67877#011validation-rmse:0.67937\u001b[0m\n",
      "\u001b[34m[312]#011train-rmse:0.67877#011validation-rmse:0.67937\u001b[0m\n",
      "\u001b[34m[313]#011train-rmse:0.67878#011validation-rmse:0.67937\u001b[0m\n",
      "\u001b[34m[314]#011train-rmse:0.67877#011validation-rmse:0.67937\u001b[0m\n",
      "\u001b[34m[315]#011train-rmse:0.67878#011validation-rmse:0.67936\u001b[0m\n",
      "\u001b[34m[316]#011train-rmse:0.67878#011validation-rmse:0.67937\u001b[0m\n",
      "\u001b[34m[317]#011train-rmse:0.67877#011validation-rmse:0.67937\u001b[0m\n",
      "\u001b[34m[318]#011train-rmse:0.67877#011validation-rmse:0.67937\u001b[0m\n",
      "\u001b[34m[319]#011train-rmse:0.67877#011validation-rmse:0.67937\u001b[0m\n",
      "\u001b[34m[320]#011train-rmse:0.67877#011validation-rmse:0.67937\u001b[0m\n",
      "\u001b[34m[321]#011train-rmse:0.67878#011validation-rmse:0.67936\u001b[0m\n",
      "\u001b[34m[322]#011train-rmse:0.67877#011validation-rmse:0.67936\u001b[0m\n",
      "\u001b[34m[323]#011train-rmse:0.67878#011validation-rmse:0.67937\u001b[0m\n",
      "\u001b[34m[324]#011train-rmse:0.67878#011validation-rmse:0.67936\u001b[0m\n",
      "\u001b[34m[325]#011train-rmse:0.67878#011validation-rmse:0.67937\u001b[0m\n",
      "\u001b[34m[326]#011train-rmse:0.67877#011validation-rmse:0.67937\u001b[0m\n",
      "\u001b[34m[327]#011train-rmse:0.67877#011validation-rmse:0.67937\u001b[0m\n",
      "\u001b[34m[328]#011train-rmse:0.67877#011validation-rmse:0.67937\u001b[0m\n",
      "\u001b[34m[329]#011train-rmse:0.67877#011validation-rmse:0.67937\u001b[0m\n",
      "\u001b[34m[330]#011train-rmse:0.67877#011validation-rmse:0.67937\u001b[0m\n",
      "\u001b[34m[331]#011train-rmse:0.67878#011validation-rmse:0.67938\u001b[0m\n",
      "\u001b[34m[332]#011train-rmse:0.67877#011validation-rmse:0.67937\u001b[0m\n",
      "\u001b[34m[333]#011train-rmse:0.67877#011validation-rmse:0.67937\u001b[0m\n",
      "\u001b[34m[334]#011train-rmse:0.67877#011validation-rmse:0.67937\u001b[0m\n",
      "\u001b[34m[335]#011train-rmse:0.67877#011validation-rmse:0.67937\u001b[0m\n",
      "\u001b[34m[336]#011train-rmse:0.67877#011validation-rmse:0.67937\u001b[0m\n",
      "\u001b[34m[337]#011train-rmse:0.67877#011validation-rmse:0.67937\u001b[0m\n",
      "\u001b[34m[338]#011train-rmse:0.67877#011validation-rmse:0.67937\u001b[0m\n",
      "\u001b[34m[339]#011train-rmse:0.67878#011validation-rmse:0.67937\u001b[0m\n",
      "\u001b[34m[340]#011train-rmse:0.67878#011validation-rmse:0.67937\u001b[0m\n",
      "\u001b[34m[341]#011train-rmse:0.67877#011validation-rmse:0.67937\u001b[0m\n",
      "\u001b[34m[342]#011train-rmse:0.67877#011validation-rmse:0.67937\u001b[0m\n",
      "\u001b[34m[343]#011train-rmse:0.67877#011validation-rmse:0.67937\u001b[0m\n",
      "\u001b[34m[344]#011train-rmse:0.67877#011validation-rmse:0.67937\u001b[0m\n",
      "\u001b[34m[345]#011train-rmse:0.67877#011validation-rmse:0.67937\u001b[0m\n",
      "\u001b[34m[346]#011train-rmse:0.67877#011validation-rmse:0.67937\u001b[0m\n",
      "\u001b[34m[347]#011train-rmse:0.67877#011validation-rmse:0.67937\u001b[0m\n",
      "\u001b[34m[348]#011train-rmse:0.67877#011validation-rmse:0.67937\u001b[0m\n",
      "\u001b[34m[349]#011train-rmse:0.67877#011validation-rmse:0.67937\u001b[0m\n",
      "\u001b[34m[350]#011train-rmse:0.67877#011validation-rmse:0.67937\u001b[0m\n",
      "\u001b[34m[351]#011train-rmse:0.67877#011validation-rmse:0.67937\u001b[0m\n",
      "\u001b[34m[352]#011train-rmse:0.67877#011validation-rmse:0.67937\u001b[0m\n",
      "\u001b[34m[353]#011train-rmse:0.67878#011validation-rmse:0.67937\u001b[0m\n",
      "\u001b[34m[354]#011train-rmse:0.67877#011validation-rmse:0.67937\u001b[0m\n",
      "\u001b[34m[355]#011train-rmse:0.67878#011validation-rmse:0.67937\u001b[0m\n",
      "\u001b[34m[356]#011train-rmse:0.67878#011validation-rmse:0.67938\u001b[0m\n",
      "\u001b[34m[357]#011train-rmse:0.67877#011validation-rmse:0.67937\u001b[0m\n",
      "\u001b[34m[358]#011train-rmse:0.67877#011validation-rmse:0.67937\u001b[0m\n",
      "\u001b[34m[359]#011train-rmse:0.67877#011validation-rmse:0.67937\u001b[0m\n",
      "\u001b[34m[360]#011train-rmse:0.67877#011validation-rmse:0.67937\u001b[0m\n",
      "\u001b[34m[361]#011train-rmse:0.67877#011validation-rmse:0.67937\u001b[0m\n",
      "\u001b[34m[362]#011train-rmse:0.67878#011validation-rmse:0.67937\u001b[0m\n",
      "\u001b[34m[363]#011train-rmse:0.67877#011validation-rmse:0.67937\u001b[0m\n",
      "\u001b[34m[364]#011train-rmse:0.67877#011validation-rmse:0.67937\u001b[0m\n",
      "\u001b[34m[365]#011train-rmse:0.67877#011validation-rmse:0.67937\u001b[0m\n",
      "\u001b[34m[366]#011train-rmse:0.67877#011validation-rmse:0.67937\u001b[0m\n",
      "\u001b[34m[367]#011train-rmse:0.67877#011validation-rmse:0.67937\u001b[0m\n",
      "\u001b[34m[368]#011train-rmse:0.67877#011validation-rmse:0.67937\u001b[0m\n",
      "\u001b[34m[369]#011train-rmse:0.67878#011validation-rmse:0.67937\u001b[0m\n",
      "\u001b[34m[370]#011train-rmse:0.67877#011validation-rmse:0.67937\u001b[0m\n",
      "\u001b[34m[371]#011train-rmse:0.67877#011validation-rmse:0.67937\u001b[0m\n",
      "\u001b[34m[372]#011train-rmse:0.67877#011validation-rmse:0.67937\u001b[0m\n",
      "\u001b[34m[373]#011train-rmse:0.67877#011validation-rmse:0.67937\u001b[0m\n",
      "\u001b[34m[374]#011train-rmse:0.67877#011validation-rmse:0.67937\u001b[0m\n",
      "\u001b[34m[375]#011train-rmse:0.67877#011validation-rmse:0.67937\u001b[0m\n",
      "\u001b[34m[376]#011train-rmse:0.67877#011validation-rmse:0.67937\u001b[0m\n",
      "\u001b[34m[377]#011train-rmse:0.67877#011validation-rmse:0.67937\u001b[0m\n",
      "\u001b[34m[378]#011train-rmse:0.67877#011validation-rmse:0.67937\u001b[0m\n",
      "\u001b[34m[379]#011train-rmse:0.67877#011validation-rmse:0.67937\u001b[0m\n",
      "\u001b[34m[380]#011train-rmse:0.67877#011validation-rmse:0.67937\u001b[0m\n",
      "\u001b[34m[381]#011train-rmse:0.67877#011validation-rmse:0.67937\u001b[0m\n",
      "\u001b[34m[382]#011train-rmse:0.67877#011validation-rmse:0.67937\u001b[0m\n",
      "\u001b[34m[383]#011train-rmse:0.67877#011validation-rmse:0.67937\u001b[0m\n",
      "\u001b[34m[384]#011train-rmse:0.67877#011validation-rmse:0.67937\u001b[0m\n",
      "\u001b[34m[385]#011train-rmse:0.67877#011validation-rmse:0.67937\u001b[0m\n",
      "\u001b[34m[386]#011train-rmse:0.67877#011validation-rmse:0.67937\u001b[0m\n",
      "\u001b[34m[387]#011train-rmse:0.67878#011validation-rmse:0.67937\u001b[0m\n",
      "\u001b[34m[388]#011train-rmse:0.67878#011validation-rmse:0.67937\u001b[0m\n",
      "\u001b[34m[389]#011train-rmse:0.67878#011validation-rmse:0.67936\u001b[0m\n",
      "\u001b[34m[390]#011train-rmse:0.67878#011validation-rmse:0.67937\u001b[0m\n",
      "\u001b[34m[391]#011train-rmse:0.67877#011validation-rmse:0.67937\u001b[0m\n",
      "\u001b[34m[392]#011train-rmse:0.67877#011validation-rmse:0.67937\u001b[0m\n",
      "\u001b[34m[393]#011train-rmse:0.67877#011validation-rmse:0.67937\u001b[0m\n",
      "\u001b[34m[394]#011train-rmse:0.67877#011validation-rmse:0.67937\u001b[0m\n",
      "\u001b[34m[395]#011train-rmse:0.67877#011validation-rmse:0.67937\u001b[0m\n",
      "\u001b[34m[396]#011train-rmse:0.67877#011validation-rmse:0.67937\u001b[0m\n",
      "\u001b[34m[397]#011train-rmse:0.67877#011validation-rmse:0.67937\u001b[0m\n",
      "\u001b[34m[398]#011train-rmse:0.67877#011validation-rmse:0.67937\u001b[0m\n",
      "\u001b[34m[399]#011train-rmse:0.67877#011validation-rmse:0.67937\u001b[0m\n",
      "\u001b[34m[400]#011train-rmse:0.67877#011validation-rmse:0.67937\u001b[0m\n",
      "\u001b[34m[401]#011train-rmse:0.67877#011validation-rmse:0.67937\u001b[0m\n",
      "\u001b[34m[402]#011train-rmse:0.67877#011validation-rmse:0.67937\u001b[0m\n",
      "\u001b[34m[403]#011train-rmse:0.67877#011validation-rmse:0.67937\u001b[0m\n",
      "\u001b[34m[404]#011train-rmse:0.67877#011validation-rmse:0.67937\u001b[0m\n",
      "\u001b[34m[405]#011train-rmse:0.67877#011validation-rmse:0.67937\u001b[0m\n",
      "\u001b[34m[406]#011train-rmse:0.67878#011validation-rmse:0.67938\u001b[0m\n",
      "\u001b[34m[407]#011train-rmse:0.67878#011validation-rmse:0.67938\u001b[0m\n",
      "\u001b[34m[408]#011train-rmse:0.67877#011validation-rmse:0.67937\u001b[0m\n",
      "\u001b[34m[409]#011train-rmse:0.67877#011validation-rmse:0.67937\u001b[0m\n",
      "\u001b[34m[410]#011train-rmse:0.67877#011validation-rmse:0.67937\u001b[0m\n",
      "\u001b[34m[411]#011train-rmse:0.67877#011validation-rmse:0.67937\u001b[0m\n",
      "\u001b[34m[412]#011train-rmse:0.67877#011validation-rmse:0.67937\u001b[0m\n",
      "\u001b[34m[413]#011train-rmse:0.67877#011validation-rmse:0.67937\u001b[0m\n",
      "\u001b[34m[414]#011train-rmse:0.67878#011validation-rmse:0.67938\u001b[0m\n",
      "\u001b[34m[415]#011train-rmse:0.67877#011validation-rmse:0.67937\u001b[0m\n",
      "\u001b[34m[416]#011train-rmse:0.67877#011validation-rmse:0.67937\u001b[0m\n",
      "\u001b[34m[417]#011train-rmse:0.67877#011validation-rmse:0.67937\u001b[0m\n",
      "\u001b[34m[418]#011train-rmse:0.67877#011validation-rmse:0.67937\u001b[0m\n",
      "\u001b[34m[419]#011train-rmse:0.67877#011validation-rmse:0.67937\u001b[0m\n",
      "\u001b[34m[420]#011train-rmse:0.67877#011validation-rmse:0.67937\u001b[0m\n",
      "\u001b[34m[421]#011train-rmse:0.67877#011validation-rmse:0.67937\u001b[0m\n",
      "\u001b[34m[422]#011train-rmse:0.67877#011validation-rmse:0.67937\u001b[0m\n",
      "\u001b[34m[423]#011train-rmse:0.67877#011validation-rmse:0.67937\u001b[0m\n",
      "\u001b[34m[424]#011train-rmse:0.67877#011validation-rmse:0.67937\u001b[0m\n",
      "\u001b[34m[425]#011train-rmse:0.67877#011validation-rmse:0.67937\u001b[0m\n",
      "\u001b[34m[426]#011train-rmse:0.67877#011validation-rmse:0.67937\u001b[0m\n",
      "\u001b[34m[427]#011train-rmse:0.67877#011validation-rmse:0.67937\u001b[0m\n",
      "\u001b[34m[428]#011train-rmse:0.67877#011validation-rmse:0.67937\u001b[0m\n",
      "\u001b[34m[429]#011train-rmse:0.67877#011validation-rmse:0.67937\u001b[0m\n",
      "\u001b[34m[430]#011train-rmse:0.67877#011validation-rmse:0.67937\u001b[0m\n",
      "\u001b[34m[431]#011train-rmse:0.67877#011validation-rmse:0.67937\u001b[0m\n",
      "\u001b[34m[432]#011train-rmse:0.67877#011validation-rmse:0.67937\u001b[0m\n",
      "\u001b[34m[433]#011train-rmse:0.67877#011validation-rmse:0.67937\u001b[0m\n",
      "\u001b[34m[434]#011train-rmse:0.67877#011validation-rmse:0.67937\u001b[0m\n",
      "\u001b[34m[435]#011train-rmse:0.67877#011validation-rmse:0.67937\u001b[0m\n",
      "\u001b[34m[436]#011train-rmse:0.67877#011validation-rmse:0.67937\u001b[0m\n",
      "\u001b[34m[437]#011train-rmse:0.67877#011validation-rmse:0.67937\u001b[0m\n",
      "\u001b[34m[438]#011train-rmse:0.67877#011validation-rmse:0.67937\u001b[0m\n",
      "\u001b[34m[439]#011train-rmse:0.67877#011validation-rmse:0.67937\u001b[0m\n",
      "\u001b[34m[440]#011train-rmse:0.67877#011validation-rmse:0.67937\u001b[0m\n",
      "\u001b[34m[441]#011train-rmse:0.67878#011validation-rmse:0.67936\u001b[0m\n",
      "\u001b[34m[442]#011train-rmse:0.67877#011validation-rmse:0.67937\u001b[0m\n",
      "\u001b[34m[443]#011train-rmse:0.67877#011validation-rmse:0.67937\u001b[0m\n",
      "\u001b[34m[444]#011train-rmse:0.67877#011validation-rmse:0.67937\u001b[0m\n",
      "\u001b[34m[445]#011train-rmse:0.67878#011validation-rmse:0.67937\u001b[0m\n",
      "\u001b[34m[446]#011train-rmse:0.67877#011validation-rmse:0.67937\u001b[0m\n",
      "\u001b[34m[447]#011train-rmse:0.67877#011validation-rmse:0.67936\u001b[0m\n",
      "\u001b[34m[448]#011train-rmse:0.67878#011validation-rmse:0.67937\u001b[0m\n",
      "\u001b[34m[449]#011train-rmse:0.67878#011validation-rmse:0.67936\u001b[0m\n",
      "\u001b[34m[450]#011train-rmse:0.67877#011validation-rmse:0.67937\u001b[0m\n",
      "\u001b[34m[451]#011train-rmse:0.67877#011validation-rmse:0.67937\u001b[0m\n",
      "\u001b[34m[452]#011train-rmse:0.67877#011validation-rmse:0.67937\u001b[0m\n",
      "\u001b[34m[453]#011train-rmse:0.67877#011validation-rmse:0.67937\u001b[0m\n",
      "\u001b[34m[454]#011train-rmse:0.67877#011validation-rmse:0.67937\u001b[0m\n",
      "\u001b[34m[455]#011train-rmse:0.67877#011validation-rmse:0.67937\u001b[0m\n",
      "\u001b[34m[456]#011train-rmse:0.67877#011validation-rmse:0.67937\u001b[0m\n",
      "\u001b[34m[457]#011train-rmse:0.67877#011validation-rmse:0.67937\u001b[0m\n",
      "\u001b[34m[458]#011train-rmse:0.67877#011validation-rmse:0.67937\u001b[0m\n",
      "\u001b[34m[459]#011train-rmse:0.67877#011validation-rmse:0.67937\u001b[0m\n",
      "\u001b[34m[460]#011train-rmse:0.67877#011validation-rmse:0.67937\u001b[0m\n",
      "\u001b[34m[461]#011train-rmse:0.67877#011validation-rmse:0.67937\u001b[0m\n",
      "\u001b[34m[462]#011train-rmse:0.67877#011validation-rmse:0.67937\u001b[0m\n",
      "\u001b[34m[463]#011train-rmse:0.67877#011validation-rmse:0.67937\u001b[0m\n",
      "\u001b[34m[464]#011train-rmse:0.67877#011validation-rmse:0.67937\u001b[0m\n",
      "\u001b[34m[465]#011train-rmse:0.67877#011validation-rmse:0.67937\u001b[0m\n",
      "\u001b[34m[466]#011train-rmse:0.67877#011validation-rmse:0.67937\u001b[0m\n",
      "\u001b[34m[467]#011train-rmse:0.67877#011validation-rmse:0.67937\u001b[0m\n",
      "\u001b[34m[468]#011train-rmse:0.67877#011validation-rmse:0.67937\u001b[0m\n",
      "\u001b[34m[469]#011train-rmse:0.67877#011validation-rmse:0.67937\u001b[0m\n",
      "\u001b[34m[470]#011train-rmse:0.67877#011validation-rmse:0.67937\u001b[0m\n",
      "\u001b[34m[471]#011train-rmse:0.67877#011validation-rmse:0.67937\u001b[0m\n",
      "\u001b[34m[472]#011train-rmse:0.67877#011validation-rmse:0.67937\u001b[0m\n",
      "\u001b[34m[473]#011train-rmse:0.67877#011validation-rmse:0.67937\u001b[0m\n",
      "\u001b[34m[474]#011train-rmse:0.67877#011validation-rmse:0.67937\u001b[0m\n",
      "\u001b[34m[475]#011train-rmse:0.67877#011validation-rmse:0.67937\u001b[0m\n",
      "\u001b[34m[476]#011train-rmse:0.67877#011validation-rmse:0.67937\u001b[0m\n",
      "\u001b[34m[477]#011train-rmse:0.67877#011validation-rmse:0.67937\u001b[0m\n",
      "\u001b[34m[478]#011train-rmse:0.67877#011validation-rmse:0.67937\u001b[0m\n",
      "\u001b[34m[479]#011train-rmse:0.67877#011validation-rmse:0.67937\u001b[0m\n",
      "\u001b[34m[480]#011train-rmse:0.67877#011validation-rmse:0.67937\u001b[0m\n",
      "\u001b[34m[481]#011train-rmse:0.67877#011validation-rmse:0.67937\u001b[0m\n",
      "\u001b[34m[482]#011train-rmse:0.67878#011validation-rmse:0.67938\u001b[0m\n",
      "\u001b[34m[483]#011train-rmse:0.67877#011validation-rmse:0.67937\u001b[0m\n",
      "\u001b[34m[484]#011train-rmse:0.67877#011validation-rmse:0.67937\u001b[0m\n",
      "\u001b[34m[485]#011train-rmse:0.67877#011validation-rmse:0.67937\u001b[0m\n",
      "\u001b[34m[486]#011train-rmse:0.67877#011validation-rmse:0.67937\u001b[0m\n",
      "\u001b[34m[487]#011train-rmse:0.67877#011validation-rmse:0.67937\u001b[0m\n",
      "\u001b[34m[488]#011train-rmse:0.67877#011validation-rmse:0.67937\u001b[0m\n",
      "\u001b[34m[489]#011train-rmse:0.67877#011validation-rmse:0.67937\u001b[0m\n",
      "\u001b[34m[490]#011train-rmse:0.67877#011validation-rmse:0.67937\u001b[0m\n",
      "\u001b[34m[491]#011train-rmse:0.67878#011validation-rmse:0.67937\u001b[0m\n",
      "\u001b[34m[492]#011train-rmse:0.67877#011validation-rmse:0.67937\u001b[0m\n",
      "\u001b[34m[493]#011train-rmse:0.67877#011validation-rmse:0.67937\u001b[0m\n",
      "\u001b[34m[494]#011train-rmse:0.67877#011validation-rmse:0.67937\u001b[0m\n",
      "\u001b[34m[495]#011train-rmse:0.67877#011validation-rmse:0.67937\u001b[0m\n",
      "\u001b[34m[496]#011train-rmse:0.67877#011validation-rmse:0.67937\u001b[0m\n",
      "\u001b[34m[497]#011train-rmse:0.67877#011validation-rmse:0.67937\u001b[0m\n",
      "\u001b[34m[498]#011train-rmse:0.67877#011validation-rmse:0.67937\u001b[0m\n",
      "\u001b[34m[499]#011train-rmse:0.67877#011validation-rmse:0.67937\u001b[0m\n",
      "\u001b[34m[500]#011train-rmse:0.67877#011validation-rmse:0.67937\u001b[0m\n",
      "\u001b[34m[501]#011train-rmse:0.67877#011validation-rmse:0.67937\u001b[0m\n",
      "\u001b[34m[502]#011train-rmse:0.67877#011validation-rmse:0.67937\u001b[0m\n",
      "\u001b[34m[503]#011train-rmse:0.67877#011validation-rmse:0.67937\u001b[0m\n",
      "\u001b[34m[504]#011train-rmse:0.67877#011validation-rmse:0.67937\u001b[0m\n",
      "\u001b[34m[505]#011train-rmse:0.67877#011validation-rmse:0.67937\u001b[0m\n",
      "\u001b[34m[506]#011train-rmse:0.67877#011validation-rmse:0.67937\u001b[0m\n",
      "\u001b[34m[507]#011train-rmse:0.67877#011validation-rmse:0.67937\u001b[0m\n",
      "\u001b[34m[508]#011train-rmse:0.67877#011validation-rmse:0.67937\u001b[0m\n",
      "\u001b[34m[509]#011train-rmse:0.67877#011validation-rmse:0.67937\u001b[0m\n",
      "\u001b[34m[510]#011train-rmse:0.67877#011validation-rmse:0.67937\u001b[0m\n",
      "\u001b[34m[511]#011train-rmse:0.67877#011validation-rmse:0.67937\u001b[0m\n",
      "\u001b[34m[512]#011train-rmse:0.67877#011validation-rmse:0.67937\u001b[0m\n",
      "\u001b[34m[513]#011train-rmse:0.67877#011validation-rmse:0.67938\u001b[0m\n",
      "\u001b[34m[514]#011train-rmse:0.67878#011validation-rmse:0.67938\u001b[0m\n",
      "\u001b[34m[515]#011train-rmse:0.67877#011validation-rmse:0.67937\u001b[0m\n",
      "\u001b[34m[516]#011train-rmse:0.67877#011validation-rmse:0.67937\u001b[0m\n",
      "\u001b[34m[517]#011train-rmse:0.67878#011validation-rmse:0.67937\u001b[0m\n",
      "\u001b[34m[518]#011train-rmse:0.67877#011validation-rmse:0.67937\u001b[0m\n",
      "\u001b[34m[519]#011train-rmse:0.67877#011validation-rmse:0.67937\u001b[0m\n",
      "\u001b[34m[520]#011train-rmse:0.67877#011validation-rmse:0.67937\u001b[0m\n",
      "\u001b[34m[521]#011train-rmse:0.67877#011validation-rmse:0.67937\u001b[0m\n",
      "\u001b[34m[522]#011train-rmse:0.67877#011validation-rmse:0.67938\u001b[0m\n",
      "\u001b[34m[523]#011train-rmse:0.67877#011validation-rmse:0.67937\u001b[0m\n",
      "\u001b[34m[524]#011train-rmse:0.67877#011validation-rmse:0.67937\u001b[0m\n",
      "\u001b[34m[525]#011train-rmse:0.67877#011validation-rmse:0.67937\u001b[0m\n",
      "\u001b[34m[526]#011train-rmse:0.67878#011validation-rmse:0.67937\u001b[0m\n",
      "\u001b[34m[527]#011train-rmse:0.67878#011validation-rmse:0.67938\u001b[0m\n",
      "\u001b[34m[528]#011train-rmse:0.67877#011validation-rmse:0.67937\u001b[0m\n",
      "\u001b[34m[529]#011train-rmse:0.67877#011validation-rmse:0.67937\u001b[0m\n",
      "\u001b[34m[530]#011train-rmse:0.67877#011validation-rmse:0.67937\u001b[0m\n",
      "\u001b[34m[531]#011train-rmse:0.67878#011validation-rmse:0.67937\u001b[0m\n",
      "\u001b[34m[532]#011train-rmse:0.67877#011validation-rmse:0.67936\u001b[0m\n",
      "\u001b[34m[533]#011train-rmse:0.67878#011validation-rmse:0.67937\u001b[0m\n",
      "\u001b[34m[534]#011train-rmse:0.67877#011validation-rmse:0.67937\u001b[0m\n",
      "\u001b[34m[535]#011train-rmse:0.67878#011validation-rmse:0.67937\u001b[0m\n",
      "\u001b[34m[536]#011train-rmse:0.67878#011validation-rmse:0.67937\u001b[0m\n",
      "\u001b[34m[537]#011train-rmse:0.67877#011validation-rmse:0.67937\u001b[0m\n",
      "\u001b[34m[538]#011train-rmse:0.67878#011validation-rmse:0.67936\u001b[0m\n",
      "\u001b[34m[539]#011train-rmse:0.67878#011validation-rmse:0.67937\u001b[0m\n",
      "\u001b[34m[540]#011train-rmse:0.67877#011validation-rmse:0.67937\u001b[0m\n",
      "\u001b[34m[541]#011train-rmse:0.67877#011validation-rmse:0.67937\u001b[0m\n",
      "\u001b[34m[542]#011train-rmse:0.67877#011validation-rmse:0.67937\u001b[0m\n",
      "\u001b[34m[543]#011train-rmse:0.67877#011validation-rmse:0.67937\u001b[0m\n",
      "\u001b[34m[544]#011train-rmse:0.67877#011validation-rmse:0.67937\u001b[0m\n",
      "\u001b[34m[545]#011train-rmse:0.67877#011validation-rmse:0.67937\u001b[0m\n",
      "\u001b[34m[546]#011train-rmse:0.67877#011validation-rmse:0.67937\u001b[0m\n",
      "\u001b[34m[547]#011train-rmse:0.67877#011validation-rmse:0.67937\u001b[0m\n",
      "\u001b[34m[548]#011train-rmse:0.67877#011validation-rmse:0.67937\u001b[0m\n",
      "\u001b[34m[549]#011train-rmse:0.67878#011validation-rmse:0.67937\u001b[0m\n",
      "\u001b[34m[550]#011train-rmse:0.67877#011validation-rmse:0.67937\u001b[0m\n",
      "\u001b[34m[551]#011train-rmse:0.67877#011validation-rmse:0.67937\u001b[0m\n",
      "\u001b[34m[552]#011train-rmse:0.67877#011validation-rmse:0.67937\u001b[0m\n",
      "\u001b[34m[553]#011train-rmse:0.67877#011validation-rmse:0.67937\u001b[0m\n",
      "\u001b[34m[554]#011train-rmse:0.67877#011validation-rmse:0.67937\u001b[0m\n",
      "\u001b[34m[555]#011train-rmse:0.67877#011validation-rmse:0.67937\u001b[0m\n",
      "\u001b[34m[556]#011train-rmse:0.67877#011validation-rmse:0.67937\u001b[0m\n",
      "\u001b[34m[557]#011train-rmse:0.67877#011validation-rmse:0.67937\u001b[0m\n",
      "\u001b[34m[558]#011train-rmse:0.67878#011validation-rmse:0.67937\u001b[0m\n",
      "\u001b[34m[559]#011train-rmse:0.67878#011validation-rmse:0.67937\u001b[0m\n",
      "\u001b[34m[560]#011train-rmse:0.67877#011validation-rmse:0.67937\u001b[0m\n",
      "\u001b[34m[561]#011train-rmse:0.67877#011validation-rmse:0.67937\u001b[0m\n",
      "\u001b[34m[562]#011train-rmse:0.67877#011validation-rmse:0.67937\u001b[0m\n",
      "\u001b[34m[563]#011train-rmse:0.67877#011validation-rmse:0.67937\u001b[0m\n",
      "\u001b[34m[564]#011train-rmse:0.67877#011validation-rmse:0.67937\u001b[0m\n",
      "\u001b[34m[565]#011train-rmse:0.67877#011validation-rmse:0.67937\u001b[0m\n",
      "\u001b[34m[566]#011train-rmse:0.67877#011validation-rmse:0.67937\u001b[0m\n",
      "\u001b[34m[567]#011train-rmse:0.67877#011validation-rmse:0.67937\u001b[0m\n",
      "\u001b[34m[568]#011train-rmse:0.67877#011validation-rmse:0.67937\u001b[0m\n",
      "\u001b[34m[569]#011train-rmse:0.67877#011validation-rmse:0.67937\u001b[0m\n",
      "\u001b[34m[570]#011train-rmse:0.67877#011validation-rmse:0.67937\u001b[0m\n",
      "\u001b[34m[571]#011train-rmse:0.67877#011validation-rmse:0.67937\u001b[0m\n",
      "\u001b[34m[572]#011train-rmse:0.67877#011validation-rmse:0.67937\u001b[0m\n",
      "\u001b[34m[573]#011train-rmse:0.67877#011validation-rmse:0.67937\u001b[0m\n",
      "\u001b[34m[574]#011train-rmse:0.67877#011validation-rmse:0.67937\u001b[0m\n",
      "\u001b[34m[575]#011train-rmse:0.67877#011validation-rmse:0.67937\u001b[0m\n",
      "\u001b[34m[576]#011train-rmse:0.67877#011validation-rmse:0.67937\u001b[0m\n",
      "\u001b[34m[577]#011train-rmse:0.67877#011validation-rmse:0.67937\u001b[0m\n",
      "\u001b[34m[578]#011train-rmse:0.67877#011validation-rmse:0.67937\u001b[0m\n",
      "\u001b[34m[579]#011train-rmse:0.67877#011validation-rmse:0.67937\u001b[0m\n",
      "\u001b[34m[580]#011train-rmse:0.67877#011validation-rmse:0.67937\u001b[0m\n",
      "\u001b[34m[581]#011train-rmse:0.67877#011validation-rmse:0.67937\u001b[0m\n",
      "\u001b[34m[582]#011train-rmse:0.67877#011validation-rmse:0.67937\u001b[0m\n",
      "\u001b[34m[583]#011train-rmse:0.67872#011validation-rmse:0.67935\u001b[0m\n",
      "\u001b[34m[584]#011train-rmse:0.67872#011validation-rmse:0.67935\u001b[0m\n",
      "\u001b[34m[585]#011train-rmse:0.67872#011validation-rmse:0.67935\u001b[0m\n",
      "\u001b[34m[586]#011train-rmse:0.67872#011validation-rmse:0.67936\u001b[0m\n",
      "\u001b[34m[587]#011train-rmse:0.67873#011validation-rmse:0.67936\u001b[0m\n",
      "\u001b[34m[588]#011train-rmse:0.67872#011validation-rmse:0.67935\u001b[0m\n",
      "\u001b[34m[589]#011train-rmse:0.67872#011validation-rmse:0.67935\u001b[0m\n",
      "\u001b[34m[590]#011train-rmse:0.67872#011validation-rmse:0.67935\u001b[0m\n",
      "\u001b[34m[591]#011train-rmse:0.67872#011validation-rmse:0.67935\u001b[0m\n",
      "\u001b[34m[592]#011train-rmse:0.67872#011validation-rmse:0.67935\u001b[0m\n",
      "\u001b[34m[593]#011train-rmse:0.67872#011validation-rmse:0.67935\u001b[0m\n",
      "\u001b[34m[594]#011train-rmse:0.67872#011validation-rmse:0.67935\u001b[0m\n",
      "\u001b[34m[595]#011train-rmse:0.67872#011validation-rmse:0.67935\u001b[0m\n",
      "\u001b[34m[596]#011train-rmse:0.67869#011validation-rmse:0.67945\u001b[0m\n",
      "\u001b[34m[597]#011train-rmse:0.67869#011validation-rmse:0.67945\u001b[0m\n",
      "\u001b[34m[598]#011train-rmse:0.67869#011validation-rmse:0.67945\u001b[0m\n",
      "\u001b[34m[599]#011train-rmse:0.67869#011validation-rmse:0.67945\u001b[0m\n",
      "\u001b[34m[600]#011train-rmse:0.67869#011validation-rmse:0.67945\u001b[0m\n",
      "\u001b[34m[601]#011train-rmse:0.67869#011validation-rmse:0.67945\u001b[0m\n",
      "\u001b[34m[602]#011train-rmse:0.67869#011validation-rmse:0.67946\u001b[0m\n",
      "\u001b[34m[603]#011train-rmse:0.67869#011validation-rmse:0.67945\u001b[0m\n",
      "\u001b[34m[604]#011train-rmse:0.67869#011validation-rmse:0.67945\u001b[0m\n",
      "\u001b[34m[605]#011train-rmse:0.67869#011validation-rmse:0.67945\u001b[0m\n",
      "\u001b[34m[606]#011train-rmse:0.67869#011validation-rmse:0.67945\u001b[0m\n",
      "\u001b[34m[607]#011train-rmse:0.67869#011validation-rmse:0.67945\u001b[0m\n",
      "\u001b[34m[608]#011train-rmse:0.67869#011validation-rmse:0.67945\u001b[0m\n",
      "\u001b[34m[609]#011train-rmse:0.67869#011validation-rmse:0.67945\u001b[0m\n",
      "\u001b[34m[610]#011train-rmse:0.67869#011validation-rmse:0.67945\u001b[0m\n",
      "\u001b[34m[611]#011train-rmse:0.67869#011validation-rmse:0.67946\u001b[0m\n",
      "\u001b[34m[612]#011train-rmse:0.67869#011validation-rmse:0.67946\u001b[0m\n",
      "\u001b[34m[613]#011train-rmse:0.67869#011validation-rmse:0.67945\u001b[0m\n",
      "\u001b[34m[614]#011train-rmse:0.67869#011validation-rmse:0.67945\u001b[0m\n",
      "\u001b[34m[615]#011train-rmse:0.67869#011validation-rmse:0.67945\u001b[0m\n",
      "\u001b[34m[616]#011train-rmse:0.67869#011validation-rmse:0.67945\u001b[0m\n",
      "\u001b[34m[617]#011train-rmse:0.67869#011validation-rmse:0.67945\u001b[0m\n",
      "\u001b[34m[618]#011train-rmse:0.67869#011validation-rmse:0.67946\u001b[0m\n",
      "\u001b[34m[619]#011train-rmse:0.67869#011validation-rmse:0.67946\u001b[0m\n",
      "\u001b[34m[620]#011train-rmse:0.67869#011validation-rmse:0.67946\u001b[0m\n",
      "\u001b[34m[621]#011train-rmse:0.67869#011validation-rmse:0.67946\u001b[0m\n",
      "\u001b[34m[622]#011train-rmse:0.67869#011validation-rmse:0.67945\u001b[0m\n",
      "\u001b[34m[623]#011train-rmse:0.67869#011validation-rmse:0.67945\u001b[0m\n",
      "\u001b[34m[624]#011train-rmse:0.67869#011validation-rmse:0.67945\u001b[0m\n",
      "\u001b[34m[625]#011train-rmse:0.67869#011validation-rmse:0.67945\u001b[0m\n",
      "\u001b[34m[626]#011train-rmse:0.67869#011validation-rmse:0.67945\u001b[0m\n",
      "\u001b[34m[627]#011train-rmse:0.67869#011validation-rmse:0.67945\u001b[0m\n",
      "\u001b[34m[628]#011train-rmse:0.67869#011validation-rmse:0.67945\u001b[0m\n",
      "\u001b[34m[629]#011train-rmse:0.67869#011validation-rmse:0.67945\u001b[0m\n",
      "\u001b[34m[630]#011train-rmse:0.67869#011validation-rmse:0.67945\u001b[0m\n",
      "\u001b[34m[631]#011train-rmse:0.67869#011validation-rmse:0.67945\u001b[0m\n",
      "\u001b[34m[632]#011train-rmse:0.67869#011validation-rmse:0.67945\u001b[0m\n",
      "\u001b[34m[633]#011train-rmse:0.67869#011validation-rmse:0.67945\u001b[0m\n",
      "\u001b[34m[634]#011train-rmse:0.67869#011validation-rmse:0.67945\u001b[0m\n",
      "\u001b[34m[635]#011train-rmse:0.67869#011validation-rmse:0.67945\u001b[0m\n",
      "\u001b[34m[636]#011train-rmse:0.67869#011validation-rmse:0.67945\u001b[0m\n",
      "\u001b[34m[637]#011train-rmse:0.67869#011validation-rmse:0.67945\u001b[0m\n",
      "\u001b[34m[638]#011train-rmse:0.67869#011validation-rmse:0.67945\u001b[0m\n",
      "\u001b[34m[639]#011train-rmse:0.67869#011validation-rmse:0.67945\u001b[0m\n",
      "\u001b[34m[640]#011train-rmse:0.67869#011validation-rmse:0.67945\u001b[0m\n",
      "\u001b[34m[641]#011train-rmse:0.67869#011validation-rmse:0.67945\u001b[0m\n",
      "\u001b[34m[642]#011train-rmse:0.67869#011validation-rmse:0.67945\u001b[0m\n",
      "\u001b[34m[643]#011train-rmse:0.67869#011validation-rmse:0.67945\u001b[0m\n",
      "\u001b[34m[644]#011train-rmse:0.67869#011validation-rmse:0.67945\u001b[0m\n",
      "\u001b[34m[645]#011train-rmse:0.67869#011validation-rmse:0.67945\u001b[0m\n",
      "\u001b[34m[646]#011train-rmse:0.67869#011validation-rmse:0.67945\u001b[0m\n",
      "\u001b[34m[647]#011train-rmse:0.67869#011validation-rmse:0.67946\u001b[0m\n",
      "\u001b[34m[648]#011train-rmse:0.67869#011validation-rmse:0.67945\u001b[0m\n",
      "\u001b[34m[649]#011train-rmse:0.67869#011validation-rmse:0.67945\u001b[0m\n",
      "\u001b[34m[650]#011train-rmse:0.67869#011validation-rmse:0.67945\u001b[0m\n",
      "\u001b[34m[651]#011train-rmse:0.67869#011validation-rmse:0.67945\u001b[0m\n",
      "\u001b[34m[652]#011train-rmse:0.67869#011validation-rmse:0.67946\u001b[0m\n",
      "\u001b[34m[653]#011train-rmse:0.67869#011validation-rmse:0.67945\u001b[0m\n",
      "\u001b[34m[654]#011train-rmse:0.67869#011validation-rmse:0.67945\u001b[0m\n",
      "\u001b[34m[655]#011train-rmse:0.67869#011validation-rmse:0.67945\u001b[0m\n",
      "\u001b[34m[656]#011train-rmse:0.67869#011validation-rmse:0.67945\u001b[0m\n",
      "\u001b[34m[657]#011train-rmse:0.67869#011validation-rmse:0.67945\u001b[0m\n",
      "\u001b[34m[658]#011train-rmse:0.67869#011validation-rmse:0.67945\u001b[0m\n",
      "\u001b[34m[659]#011train-rmse:0.67869#011validation-rmse:0.67945\u001b[0m\n",
      "\u001b[34m[660]#011train-rmse:0.67869#011validation-rmse:0.67945\u001b[0m\n",
      "\u001b[34m[661]#011train-rmse:0.67869#011validation-rmse:0.67945\u001b[0m\n",
      "\u001b[34m[662]#011train-rmse:0.67869#011validation-rmse:0.67945\u001b[0m\n",
      "\u001b[34m[663]#011train-rmse:0.67869#011validation-rmse:0.67945\u001b[0m\n",
      "\u001b[34m[664]#011train-rmse:0.67869#011validation-rmse:0.67945\u001b[0m\n",
      "\u001b[34m[665]#011train-rmse:0.67869#011validation-rmse:0.67945\u001b[0m\n",
      "\u001b[34m[666]#011train-rmse:0.67869#011validation-rmse:0.67945\u001b[0m\n",
      "\u001b[34m[667]#011train-rmse:0.67869#011validation-rmse:0.67945\u001b[0m\n",
      "\u001b[34m[668]#011train-rmse:0.67869#011validation-rmse:0.67945\u001b[0m\n",
      "\u001b[34m[669]#011train-rmse:0.67869#011validation-rmse:0.67945\u001b[0m\n",
      "\u001b[34m[670]#011train-rmse:0.67869#011validation-rmse:0.67945\u001b[0m\n",
      "\u001b[34m[671]#011train-rmse:0.67869#011validation-rmse:0.67945\u001b[0m\n",
      "\u001b[34m[672]#011train-rmse:0.67869#011validation-rmse:0.67945\u001b[0m\n",
      "\u001b[34m[673]#011train-rmse:0.67869#011validation-rmse:0.67945\u001b[0m\n",
      "\u001b[34m[674]#011train-rmse:0.67869#011validation-rmse:0.67945\u001b[0m\n",
      "\u001b[34m[675]#011train-rmse:0.67869#011validation-rmse:0.67945\u001b[0m\n",
      "\u001b[34m[676]#011train-rmse:0.67869#011validation-rmse:0.67946\u001b[0m\n",
      "\u001b[34m[677]#011train-rmse:0.67869#011validation-rmse:0.67945\u001b[0m\n",
      "\u001b[34m[678]#011train-rmse:0.67869#011validation-rmse:0.67945\u001b[0m\n",
      "\u001b[34m[679]#011train-rmse:0.67869#011validation-rmse:0.67945\u001b[0m\n",
      "\u001b[34m[680]#011train-rmse:0.67869#011validation-rmse:0.67945\u001b[0m\n",
      "\u001b[34m[681]#011train-rmse:0.67869#011validation-rmse:0.67945\u001b[0m\n",
      "\u001b[34m[682]#011train-rmse:0.67869#011validation-rmse:0.67945\u001b[0m\n",
      "\u001b[34m[683]#011train-rmse:0.67869#011validation-rmse:0.67945\u001b[0m\n",
      "\u001b[34m[684]#011train-rmse:0.67869#011validation-rmse:0.67945\u001b[0m\n",
      "\u001b[34m[685]#011train-rmse:0.67869#011validation-rmse:0.67945\u001b[0m\n",
      "\u001b[34m[686]#011train-rmse:0.67869#011validation-rmse:0.67946\u001b[0m\n",
      "\u001b[34m[687]#011train-rmse:0.67869#011validation-rmse:0.67946\u001b[0m\n",
      "\u001b[34m[688]#011train-rmse:0.67869#011validation-rmse:0.67946\u001b[0m\n",
      "\u001b[34m[689]#011train-rmse:0.67869#011validation-rmse:0.67946\u001b[0m\n",
      "\u001b[34m[690]#011train-rmse:0.67869#011validation-rmse:0.67945\u001b[0m\n",
      "\u001b[34m[691]#011train-rmse:0.67869#011validation-rmse:0.67945\u001b[0m\n",
      "\u001b[34m[692]#011train-rmse:0.67869#011validation-rmse:0.67946\u001b[0m\n",
      "\u001b[34m[693]#011train-rmse:0.67869#011validation-rmse:0.67946\u001b[0m\n",
      "\u001b[34m[694]#011train-rmse:0.67869#011validation-rmse:0.67945\u001b[0m\n",
      "\u001b[34m[695]#011train-rmse:0.67869#011validation-rmse:0.67945\u001b[0m\n",
      "\u001b[34m[696]#011train-rmse:0.67869#011validation-rmse:0.67945\u001b[0m\n",
      "\u001b[34m[697]#011train-rmse:0.67869#011validation-rmse:0.67945\u001b[0m\n",
      "\u001b[34m[698]#011train-rmse:0.67869#011validation-rmse:0.67945\u001b[0m\n",
      "\u001b[34m[699]#011train-rmse:0.67869#011validation-rmse:0.67945\u001b[0m\n",
      "\u001b[34m[700]#011train-rmse:0.67869#011validation-rmse:0.67945\u001b[0m\n",
      "\u001b[34m[701]#011train-rmse:0.67869#011validation-rmse:0.67945\u001b[0m\n",
      "\u001b[34m[702]#011train-rmse:0.67869#011validation-rmse:0.67945\u001b[0m\n",
      "\u001b[34m[703]#011train-rmse:0.67869#011validation-rmse:0.67945\u001b[0m\n",
      "\u001b[34m[704]#011train-rmse:0.67869#011validation-rmse:0.67945\u001b[0m\n",
      "\u001b[34m[705]#011train-rmse:0.67869#011validation-rmse:0.67945\u001b[0m\n",
      "\u001b[34m[706]#011train-rmse:0.67869#011validation-rmse:0.67945\u001b[0m\n",
      "\u001b[34m[707]#011train-rmse:0.67869#011validation-rmse:0.67946\u001b[0m\n",
      "\u001b[34m[708]#011train-rmse:0.67869#011validation-rmse:0.67946\u001b[0m\n",
      "\u001b[34m[709]#011train-rmse:0.67869#011validation-rmse:0.67945\u001b[0m\n",
      "\u001b[34m[710]#011train-rmse:0.67869#011validation-rmse:0.67945\u001b[0m\n",
      "\u001b[34m[711]#011train-rmse:0.67869#011validation-rmse:0.67945\u001b[0m\n",
      "\u001b[34m[712]#011train-rmse:0.67869#011validation-rmse:0.67945\u001b[0m\n",
      "\u001b[34m[713]#011train-rmse:0.67869#011validation-rmse:0.67945\u001b[0m\n",
      "\u001b[34m[714]#011train-rmse:0.67869#011validation-rmse:0.67945\u001b[0m\n",
      "\u001b[34m[715]#011train-rmse:0.67869#011validation-rmse:0.67945\u001b[0m\n",
      "\u001b[34m[716]#011train-rmse:0.67869#011validation-rmse:0.67945\u001b[0m\n",
      "\u001b[34m[717]#011train-rmse:0.67869#011validation-rmse:0.67945\u001b[0m\n",
      "\u001b[34m[718]#011train-rmse:0.67869#011validation-rmse:0.67945\u001b[0m\n",
      "\u001b[34m[719]#011train-rmse:0.67869#011validation-rmse:0.67945\u001b[0m\n",
      "\u001b[34m[720]#011train-rmse:0.67869#011validation-rmse:0.67945\u001b[0m\n",
      "\u001b[34m[721]#011train-rmse:0.67869#011validation-rmse:0.67945\u001b[0m\n",
      "\u001b[34m[722]#011train-rmse:0.67869#011validation-rmse:0.67945\u001b[0m\n",
      "\u001b[34m[723]#011train-rmse:0.67869#011validation-rmse:0.67945\u001b[0m\n",
      "\u001b[34m[724]#011train-rmse:0.67869#011validation-rmse:0.67945\u001b[0m\n",
      "\u001b[34m[725]#011train-rmse:0.67869#011validation-rmse:0.67946\u001b[0m\n",
      "\u001b[34m[726]#011train-rmse:0.67869#011validation-rmse:0.67946\u001b[0m\n",
      "\u001b[34m[727]#011train-rmse:0.67869#011validation-rmse:0.67946\u001b[0m\n",
      "\u001b[34m[728]#011train-rmse:0.67869#011validation-rmse:0.67945\u001b[0m\n",
      "\u001b[34m[729]#011train-rmse:0.67869#011validation-rmse:0.67945\u001b[0m\n",
      "\u001b[34m[730]#011train-rmse:0.67869#011validation-rmse:0.67945\u001b[0m\n",
      "\u001b[34m[731]#011train-rmse:0.67869#011validation-rmse:0.67945\u001b[0m\n",
      "\u001b[34m[732]#011train-rmse:0.67865#011validation-rmse:0.67951\u001b[0m\n",
      "\u001b[34m[733]#011train-rmse:0.67865#011validation-rmse:0.67950\u001b[0m\n",
      "\u001b[34m[734]#011train-rmse:0.67865#011validation-rmse:0.67950\u001b[0m\n",
      "\u001b[34m[735]#011train-rmse:0.67865#011validation-rmse:0.67950\u001b[0m\n",
      "\u001b[34m[736]#011train-rmse:0.67865#011validation-rmse:0.67950\u001b[0m\n",
      "\u001b[34m[737]#011train-rmse:0.67865#011validation-rmse:0.67951\u001b[0m\n",
      "\u001b[34m[738]#011train-rmse:0.67865#011validation-rmse:0.67950\u001b[0m\n",
      "\u001b[34m[739]#011train-rmse:0.67865#011validation-rmse:0.67951\u001b[0m\n",
      "\u001b[34m[740]#011train-rmse:0.67865#011validation-rmse:0.67951\u001b[0m\n",
      "\u001b[34m[741]#011train-rmse:0.67865#011validation-rmse:0.67951\u001b[0m\n",
      "\u001b[34m[742]#011train-rmse:0.67865#011validation-rmse:0.67950\u001b[0m\n",
      "\u001b[34m[743]#011train-rmse:0.67865#011validation-rmse:0.67951\u001b[0m\n",
      "\u001b[34m[744]#011train-rmse:0.67865#011validation-rmse:0.67951\u001b[0m\n",
      "\u001b[34m[745]#011train-rmse:0.67865#011validation-rmse:0.67951\u001b[0m\n",
      "\u001b[34m[746]#011train-rmse:0.67865#011validation-rmse:0.67951\u001b[0m\n",
      "\u001b[34m[747]#011train-rmse:0.67865#011validation-rmse:0.67951\u001b[0m\n",
      "\u001b[34m[748]#011train-rmse:0.67865#011validation-rmse:0.67951\u001b[0m\n",
      "\u001b[34m[749]#011train-rmse:0.67865#011validation-rmse:0.67950\u001b[0m\n",
      "\u001b[34m[750]#011train-rmse:0.67865#011validation-rmse:0.67950\u001b[0m\n",
      "\u001b[34m[751]#011train-rmse:0.67865#011validation-rmse:0.67950\u001b[0m\n",
      "\u001b[34m[752]#011train-rmse:0.67865#011validation-rmse:0.67950\u001b[0m\n",
      "\u001b[34m[753]#011train-rmse:0.67865#011validation-rmse:0.67950\u001b[0m\n",
      "\u001b[34m[754]#011train-rmse:0.67865#011validation-rmse:0.67950\u001b[0m\n",
      "\u001b[34m[755]#011train-rmse:0.67865#011validation-rmse:0.67951\u001b[0m\n",
      "\u001b[34m[756]#011train-rmse:0.67865#011validation-rmse:0.67951\u001b[0m\n",
      "\u001b[34m[757]#011train-rmse:0.67865#011validation-rmse:0.67951\u001b[0m\n",
      "\u001b[34m[758]#011train-rmse:0.67865#011validation-rmse:0.67950\u001b[0m\n",
      "\u001b[34m[759]#011train-rmse:0.67865#011validation-rmse:0.67951\u001b[0m\n",
      "\u001b[34m[760]#011train-rmse:0.67865#011validation-rmse:0.67950\u001b[0m\n",
      "\u001b[34m[761]#011train-rmse:0.67865#011validation-rmse:0.67950\u001b[0m\n",
      "\u001b[34m[762]#011train-rmse:0.67865#011validation-rmse:0.67950\u001b[0m\n",
      "\u001b[34m[763]#011train-rmse:0.67865#011validation-rmse:0.67950\u001b[0m\n",
      "\u001b[34m[764]#011train-rmse:0.67865#011validation-rmse:0.67950\u001b[0m\n",
      "\u001b[34m[765]#011train-rmse:0.67865#011validation-rmse:0.67950\u001b[0m\n",
      "\u001b[34m[766]#011train-rmse:0.67865#011validation-rmse:0.67950\u001b[0m\n",
      "\u001b[34m[767]#011train-rmse:0.67865#011validation-rmse:0.67950\u001b[0m\n",
      "\u001b[34m[768]#011train-rmse:0.67865#011validation-rmse:0.67950\u001b[0m\n",
      "\u001b[34m[769]#011train-rmse:0.67865#011validation-rmse:0.67950\u001b[0m\n",
      "\u001b[34m[770]#011train-rmse:0.67865#011validation-rmse:0.67950\u001b[0m\n",
      "\u001b[34m[771]#011train-rmse:0.67865#011validation-rmse:0.67951\u001b[0m\n",
      "\u001b[34m[772]#011train-rmse:0.67865#011validation-rmse:0.67951\u001b[0m\n",
      "\u001b[34m[773]#011train-rmse:0.67865#011validation-rmse:0.67951\u001b[0m\n",
      "\u001b[34m[774]#011train-rmse:0.67865#011validation-rmse:0.67950\u001b[0m\n",
      "\u001b[34m[775]#011train-rmse:0.67865#011validation-rmse:0.67951\u001b[0m\n",
      "\u001b[34m[776]#011train-rmse:0.67865#011validation-rmse:0.67950\u001b[0m\n",
      "\u001b[34m[777]#011train-rmse:0.67865#011validation-rmse:0.67951\u001b[0m\n",
      "\u001b[34m[778]#011train-rmse:0.67865#011validation-rmse:0.67950\u001b[0m\n",
      "\u001b[34m[779]#011train-rmse:0.67865#011validation-rmse:0.67951\u001b[0m\n",
      "\u001b[34m[780]#011train-rmse:0.67865#011validation-rmse:0.67951\u001b[0m\n",
      "\u001b[34m[781]#011train-rmse:0.67865#011validation-rmse:0.67951\u001b[0m\n",
      "\u001b[34m[782]#011train-rmse:0.67865#011validation-rmse:0.67951\u001b[0m\n",
      "\u001b[34m[783]#011train-rmse:0.67865#011validation-rmse:0.67951\u001b[0m\n",
      "\u001b[34m[784]#011train-rmse:0.67865#011validation-rmse:0.67951\u001b[0m\n",
      "\u001b[34m[785]#011train-rmse:0.67865#011validation-rmse:0.67950\u001b[0m\n",
      "\u001b[34m[786]#011train-rmse:0.67865#011validation-rmse:0.67950\u001b[0m\n",
      "\u001b[34m[787]#011train-rmse:0.67865#011validation-rmse:0.67950\u001b[0m\n",
      "\u001b[34m[788]#011train-rmse:0.67865#011validation-rmse:0.67950\u001b[0m\n",
      "\u001b[34m[789]#011train-rmse:0.67865#011validation-rmse:0.67950\u001b[0m\n",
      "\u001b[34m[790]#011train-rmse:0.67865#011validation-rmse:0.67950\u001b[0m\n",
      "\u001b[34m[791]#011train-rmse:0.67865#011validation-rmse:0.67950\u001b[0m\n",
      "\u001b[34m[792]#011train-rmse:0.67865#011validation-rmse:0.67950\u001b[0m\n",
      "\u001b[34m[793]#011train-rmse:0.67865#011validation-rmse:0.67950\u001b[0m\n",
      "\u001b[34m[794]#011train-rmse:0.67865#011validation-rmse:0.67950\u001b[0m\n",
      "\u001b[34m[795]#011train-rmse:0.67865#011validation-rmse:0.67950\u001b[0m\n",
      "\u001b[34m[796]#011train-rmse:0.67865#011validation-rmse:0.67950\u001b[0m\n",
      "\u001b[34m[797]#011train-rmse:0.67865#011validation-rmse:0.67951\u001b[0m\n",
      "\u001b[34m[798]#011train-rmse:0.67865#011validation-rmse:0.67951\u001b[0m\n",
      "\u001b[34m[799]#011train-rmse:0.67865#011validation-rmse:0.67951\u001b[0m\n",
      "\u001b[34m[800]#011train-rmse:0.67865#011validation-rmse:0.67951\u001b[0m\n",
      "\u001b[34m[801]#011train-rmse:0.67865#011validation-rmse:0.67951\u001b[0m\n",
      "\u001b[34m[802]#011train-rmse:0.67865#011validation-rmse:0.67951\u001b[0m\n",
      "\u001b[34m[803]#011train-rmse:0.67865#011validation-rmse:0.67951\u001b[0m\n",
      "\u001b[34m[804]#011train-rmse:0.67865#011validation-rmse:0.67951\u001b[0m\n",
      "\u001b[34m[805]#011train-rmse:0.67865#011validation-rmse:0.67951\u001b[0m\n",
      "\u001b[34m[806]#011train-rmse:0.67865#011validation-rmse:0.67951\u001b[0m\n",
      "\u001b[34m[807]#011train-rmse:0.67865#011validation-rmse:0.67951\u001b[0m\n",
      "\u001b[34m[808]#011train-rmse:0.67865#011validation-rmse:0.67950\u001b[0m\n",
      "\u001b[34m[809]#011train-rmse:0.67865#011validation-rmse:0.67950\u001b[0m\n",
      "\u001b[34m[810]#011train-rmse:0.67865#011validation-rmse:0.67950\u001b[0m\n",
      "\u001b[34m[811]#011train-rmse:0.67865#011validation-rmse:0.67950\u001b[0m\n",
      "\u001b[34m[812]#011train-rmse:0.67865#011validation-rmse:0.67950\u001b[0m\n",
      "\u001b[34m[813]#011train-rmse:0.67865#011validation-rmse:0.67950\u001b[0m\n",
      "\u001b[34m[814]#011train-rmse:0.67865#011validation-rmse:0.67951\u001b[0m\n",
      "\u001b[34m[815]#011train-rmse:0.67865#011validation-rmse:0.67951\u001b[0m\n",
      "\u001b[34m[816]#011train-rmse:0.67865#011validation-rmse:0.67950\u001b[0m\n",
      "\u001b[34m[817]#011train-rmse:0.67865#011validation-rmse:0.67950\u001b[0m\n",
      "\u001b[34m[818]#011train-rmse:0.67865#011validation-rmse:0.67951\u001b[0m\n",
      "\u001b[34m[819]#011train-rmse:0.67865#011validation-rmse:0.67950\u001b[0m\n",
      "\u001b[34m[820]#011train-rmse:0.67865#011validation-rmse:0.67951\u001b[0m\n",
      "\u001b[34m[821]#011train-rmse:0.67865#011validation-rmse:0.67951\u001b[0m\n",
      "\u001b[34m[822]#011train-rmse:0.67865#011validation-rmse:0.67950\u001b[0m\n",
      "\u001b[34m[823]#011train-rmse:0.67865#011validation-rmse:0.67950\u001b[0m\n",
      "\u001b[34m[824]#011train-rmse:0.67865#011validation-rmse:0.67950\u001b[0m\n",
      "\u001b[34m[825]#011train-rmse:0.67865#011validation-rmse:0.67950\u001b[0m\n",
      "\u001b[34m[826]#011train-rmse:0.67865#011validation-rmse:0.67950\u001b[0m\n",
      "\u001b[34m[827]#011train-rmse:0.67865#011validation-rmse:0.67951\u001b[0m\n",
      "\u001b[34m[828]#011train-rmse:0.67865#011validation-rmse:0.67951\u001b[0m\n",
      "\u001b[34m[829]#011train-rmse:0.67865#011validation-rmse:0.67951\u001b[0m\n",
      "\u001b[34m[830]#011train-rmse:0.67865#011validation-rmse:0.67951\u001b[0m\n",
      "\u001b[34m[831]#011train-rmse:0.67865#011validation-rmse:0.67951\u001b[0m\n",
      "\u001b[34m[832]#011train-rmse:0.67865#011validation-rmse:0.67951\u001b[0m\n",
      "\u001b[34m[833]#011train-rmse:0.67865#011validation-rmse:0.67951\u001b[0m\n",
      "\u001b[34m[834]#011train-rmse:0.67865#011validation-rmse:0.67952\u001b[0m\n",
      "\u001b[34m[835]#011train-rmse:0.67865#011validation-rmse:0.67951\u001b[0m\n",
      "\u001b[34m[836]#011train-rmse:0.67865#011validation-rmse:0.67951\u001b[0m\n",
      "\u001b[34m[837]#011train-rmse:0.67865#011validation-rmse:0.67951\u001b[0m\n",
      "\u001b[34m[838]#011train-rmse:0.67865#011validation-rmse:0.67950\u001b[0m\n",
      "\u001b[34m[839]#011train-rmse:0.67865#011validation-rmse:0.67951\u001b[0m\n",
      "\u001b[34m[840]#011train-rmse:0.67865#011validation-rmse:0.67950\u001b[0m\n",
      "\u001b[34m[841]#011train-rmse:0.67865#011validation-rmse:0.67950\u001b[0m\n",
      "\u001b[34m[842]#011train-rmse:0.67865#011validation-rmse:0.67951\u001b[0m\n",
      "\u001b[34m[843]#011train-rmse:0.67865#011validation-rmse:0.67951\u001b[0m\n",
      "\u001b[34m[844]#011train-rmse:0.67865#011validation-rmse:0.67950\u001b[0m\n",
      "\u001b[34m[845]#011train-rmse:0.67865#011validation-rmse:0.67950\u001b[0m\n",
      "\u001b[34m[846]#011train-rmse:0.67865#011validation-rmse:0.67950\u001b[0m\n",
      "\u001b[34m[847]#011train-rmse:0.67865#011validation-rmse:0.67950\u001b[0m\n",
      "\u001b[34m[848]#011train-rmse:0.67865#011validation-rmse:0.67950\u001b[0m\n",
      "\u001b[34m[849]#011train-rmse:0.67865#011validation-rmse:0.67951\u001b[0m\n",
      "\u001b[34m[850]#011train-rmse:0.67865#011validation-rmse:0.67950\u001b[0m\n",
      "\u001b[34m[851]#011train-rmse:0.67865#011validation-rmse:0.67950\u001b[0m\n",
      "\u001b[34m[852]#011train-rmse:0.67865#011validation-rmse:0.67950\u001b[0m\n",
      "\u001b[34m[853]#011train-rmse:0.67865#011validation-rmse:0.67950\u001b[0m\n",
      "\u001b[34m[854]#011train-rmse:0.67865#011validation-rmse:0.67950\u001b[0m\n",
      "\u001b[34m[855]#011train-rmse:0.67865#011validation-rmse:0.67950\u001b[0m\n",
      "\u001b[34m[856]#011train-rmse:0.67865#011validation-rmse:0.67950\u001b[0m\n",
      "\u001b[34m[857]#011train-rmse:0.67865#011validation-rmse:0.67950\u001b[0m\n",
      "\u001b[34m[858]#011train-rmse:0.67865#011validation-rmse:0.67950\u001b[0m\n",
      "\u001b[34m[859]#011train-rmse:0.67865#011validation-rmse:0.67950\u001b[0m\n",
      "\u001b[34m[860]#011train-rmse:0.67865#011validation-rmse:0.67950\u001b[0m\n",
      "\u001b[34m[861]#011train-rmse:0.67865#011validation-rmse:0.67951\u001b[0m\n",
      "\u001b[34m[862]#011train-rmse:0.67865#011validation-rmse:0.67951\u001b[0m\n",
      "\u001b[34m[863]#011train-rmse:0.67865#011validation-rmse:0.67951\u001b[0m\n",
      "\u001b[34m[864]#011train-rmse:0.67865#011validation-rmse:0.67951\u001b[0m\n",
      "\u001b[34m[865]#011train-rmse:0.67865#011validation-rmse:0.67951\u001b[0m\n",
      "\u001b[34m[866]#011train-rmse:0.67865#011validation-rmse:0.67951\u001b[0m\n",
      "\u001b[34m[867]#011train-rmse:0.67865#011validation-rmse:0.67951\u001b[0m\n",
      "\u001b[34m[868]#011train-rmse:0.67865#011validation-rmse:0.67951\u001b[0m\n",
      "\u001b[34m[869]#011train-rmse:0.67865#011validation-rmse:0.67951\u001b[0m\n",
      "\u001b[34m[870]#011train-rmse:0.67865#011validation-rmse:0.67951\u001b[0m\n",
      "\u001b[34m[871]#011train-rmse:0.67865#011validation-rmse:0.67951\u001b[0m\n",
      "\u001b[34m[872]#011train-rmse:0.67865#011validation-rmse:0.67951\u001b[0m\n",
      "\u001b[34m[873]#011train-rmse:0.67865#011validation-rmse:0.67950\u001b[0m\n",
      "\u001b[34m[874]#011train-rmse:0.67865#011validation-rmse:0.67951\u001b[0m\n",
      "\u001b[34m[875]#011train-rmse:0.67865#011validation-rmse:0.67951\u001b[0m\n",
      "\u001b[34m[876]#011train-rmse:0.67865#011validation-rmse:0.67950\u001b[0m\n",
      "\u001b[34m[877]#011train-rmse:0.67865#011validation-rmse:0.67950\u001b[0m\n",
      "\u001b[34m[878]#011train-rmse:0.67865#011validation-rmse:0.67950\u001b[0m\n",
      "\u001b[34m[879]#011train-rmse:0.67865#011validation-rmse:0.67950\u001b[0m\n",
      "\u001b[34m[880]#011train-rmse:0.67865#011validation-rmse:0.67950\u001b[0m\n",
      "\u001b[34m[881]#011train-rmse:0.67865#011validation-rmse:0.67950\u001b[0m\n",
      "\u001b[34m[882]#011train-rmse:0.67865#011validation-rmse:0.67951\u001b[0m\n",
      "\u001b[34m[883]#011train-rmse:0.67865#011validation-rmse:0.67951\u001b[0m\n",
      "\u001b[34m[884]#011train-rmse:0.67865#011validation-rmse:0.67951\u001b[0m\n",
      "\u001b[34m[885]#011train-rmse:0.67865#011validation-rmse:0.67950\u001b[0m\n",
      "\u001b[34m[886]#011train-rmse:0.67865#011validation-rmse:0.67950\u001b[0m\n",
      "\u001b[34m[887]#011train-rmse:0.67865#011validation-rmse:0.67950\u001b[0m\n",
      "\u001b[34m[888]#011train-rmse:0.67865#011validation-rmse:0.67950\u001b[0m\n",
      "\u001b[34m[889]#011train-rmse:0.67865#011validation-rmse:0.67950\u001b[0m\n",
      "\u001b[34m[890]#011train-rmse:0.67865#011validation-rmse:0.67950\u001b[0m\n",
      "\u001b[34m[891]#011train-rmse:0.67865#011validation-rmse:0.67950\u001b[0m\n",
      "\u001b[34m[892]#011train-rmse:0.67861#011validation-rmse:0.67948\u001b[0m\n",
      "\u001b[34m[893]#011train-rmse:0.67861#011validation-rmse:0.67948\u001b[0m\n",
      "\u001b[34m[894]#011train-rmse:0.67861#011validation-rmse:0.67948\u001b[0m\n",
      "\u001b[34m[895]#011train-rmse:0.67861#011validation-rmse:0.67948\u001b[0m\n",
      "\u001b[34m[896]#011train-rmse:0.67861#011validation-rmse:0.67948\u001b[0m\n",
      "\u001b[34m[897]#011train-rmse:0.67861#011validation-rmse:0.67948\u001b[0m\n",
      "\u001b[34m[898]#011train-rmse:0.67861#011validation-rmse:0.67948\u001b[0m\n",
      "\u001b[34m[899]#011train-rmse:0.67861#011validation-rmse:0.67948\u001b[0m\n",
      "\u001b[34m[900]#011train-rmse:0.67861#011validation-rmse:0.67948\u001b[0m\n",
      "\u001b[34m[901]#011train-rmse:0.67861#011validation-rmse:0.67948\u001b[0m\n",
      "\u001b[34m[902]#011train-rmse:0.67861#011validation-rmse:0.67948\u001b[0m\n",
      "\u001b[34m[903]#011train-rmse:0.67861#011validation-rmse:0.67948\u001b[0m\n",
      "\u001b[34m[904]#011train-rmse:0.67861#011validation-rmse:0.67948\u001b[0m\n",
      "\u001b[34m[905]#011train-rmse:0.67862#011validation-rmse:0.67948\u001b[0m\n",
      "\u001b[34m[906]#011train-rmse:0.67860#011validation-rmse:0.67935\u001b[0m\n",
      "\u001b[34m[907]#011train-rmse:0.67859#011validation-rmse:0.67935\u001b[0m\n",
      "\u001b[34m[908]#011train-rmse:0.67859#011validation-rmse:0.67935\u001b[0m\n",
      "\u001b[34m[909]#011train-rmse:0.67859#011validation-rmse:0.67935\u001b[0m\n",
      "\u001b[34m[910]#011train-rmse:0.67859#011validation-rmse:0.67935\u001b[0m\n",
      "\u001b[34m[911]#011train-rmse:0.67859#011validation-rmse:0.67935\u001b[0m\n",
      "\u001b[34m[912]#011train-rmse:0.67859#011validation-rmse:0.67936\u001b[0m\n",
      "\u001b[34m[913]#011train-rmse:0.67859#011validation-rmse:0.67936\u001b[0m\n",
      "\u001b[34m[914]#011train-rmse:0.67859#011validation-rmse:0.67936\u001b[0m\n",
      "\u001b[34m[915]#011train-rmse:0.67859#011validation-rmse:0.67935\u001b[0m\n",
      "\u001b[34m[916]#011train-rmse:0.67859#011validation-rmse:0.67936\u001b[0m\n",
      "\u001b[34m[917]#011train-rmse:0.67859#011validation-rmse:0.67936\u001b[0m\n",
      "\u001b[34m[918]#011train-rmse:0.67859#011validation-rmse:0.67935\u001b[0m\n",
      "\u001b[34m[919]#011train-rmse:0.67859#011validation-rmse:0.67936\u001b[0m\n",
      "\u001b[34m[920]#011train-rmse:0.67859#011validation-rmse:0.67936\u001b[0m\n",
      "\u001b[34m[921]#011train-rmse:0.67859#011validation-rmse:0.67936\u001b[0m\n",
      "\u001b[34m[922]#011train-rmse:0.67859#011validation-rmse:0.67935\u001b[0m\n",
      "\u001b[34m[923]#011train-rmse:0.67859#011validation-rmse:0.67936\u001b[0m\n",
      "\u001b[34m[924]#011train-rmse:0.67859#011validation-rmse:0.67935\u001b[0m\n",
      "\u001b[34m[925]#011train-rmse:0.67859#011validation-rmse:0.67936\u001b[0m\n",
      "\u001b[34m[926]#011train-rmse:0.67859#011validation-rmse:0.67936\u001b[0m\n",
      "\u001b[34m[927]#011train-rmse:0.67859#011validation-rmse:0.67936\u001b[0m\n",
      "\u001b[34m[928]#011train-rmse:0.67859#011validation-rmse:0.67936\u001b[0m\n",
      "\u001b[34m[929]#011train-rmse:0.67859#011validation-rmse:0.67936\u001b[0m\n",
      "\u001b[34m[930]#011train-rmse:0.67859#011validation-rmse:0.67936\u001b[0m\n",
      "\u001b[34m[931]#011train-rmse:0.67859#011validation-rmse:0.67936\u001b[0m\n",
      "\u001b[34m[932]#011train-rmse:0.67860#011validation-rmse:0.67936\u001b[0m\n",
      "\u001b[34m[933]#011train-rmse:0.67859#011validation-rmse:0.67936\u001b[0m\n",
      "\u001b[34m[934]#011train-rmse:0.67859#011validation-rmse:0.67936\u001b[0m\n",
      "\u001b[34m[935]#011train-rmse:0.67859#011validation-rmse:0.67936\u001b[0m\n",
      "\u001b[34m[936]#011train-rmse:0.67859#011validation-rmse:0.67936\u001b[0m\n",
      "\u001b[34m[937]#011train-rmse:0.67859#011validation-rmse:0.67936\u001b[0m\n",
      "\u001b[34m[938]#011train-rmse:0.67859#011validation-rmse:0.67936\u001b[0m\n",
      "\u001b[34m[939]#011train-rmse:0.67859#011validation-rmse:0.67936\u001b[0m\n",
      "\u001b[34m[940]#011train-rmse:0.67859#011validation-rmse:0.67935\u001b[0m\n",
      "\u001b[34m[941]#011train-rmse:0.67859#011validation-rmse:0.67936\u001b[0m\n",
      "\u001b[34m[942]#011train-rmse:0.67859#011validation-rmse:0.67936\u001b[0m\n",
      "\u001b[34m[943]#011train-rmse:0.67859#011validation-rmse:0.67936\u001b[0m\n",
      "\u001b[34m[944]#011train-rmse:0.67859#011validation-rmse:0.67936\u001b[0m\n",
      "\u001b[34m[945]#011train-rmse:0.67859#011validation-rmse:0.67936\u001b[0m\n",
      "\u001b[34m[946]#011train-rmse:0.67859#011validation-rmse:0.67936\u001b[0m\n",
      "\u001b[34m[947]#011train-rmse:0.67859#011validation-rmse:0.67936\u001b[0m\n",
      "\u001b[34m[948]#011train-rmse:0.67859#011validation-rmse:0.67936\u001b[0m\n",
      "\u001b[34m[949]#011train-rmse:0.67859#011validation-rmse:0.67936\u001b[0m\n",
      "\u001b[34m[950]#011train-rmse:0.67860#011validation-rmse:0.67936\u001b[0m\n",
      "\u001b[34m[951]#011train-rmse:0.67860#011validation-rmse:0.67936\u001b[0m\n",
      "\u001b[34m[952]#011train-rmse:0.67859#011validation-rmse:0.67936\u001b[0m\n",
      "\u001b[34m[953]#011train-rmse:0.67859#011validation-rmse:0.67936\u001b[0m\n",
      "\u001b[34m[954]#011train-rmse:0.67859#011validation-rmse:0.67936\u001b[0m\n",
      "\u001b[34m[955]#011train-rmse:0.67859#011validation-rmse:0.67936\u001b[0m\n",
      "\u001b[34m[956]#011train-rmse:0.67859#011validation-rmse:0.67936\u001b[0m\n",
      "\u001b[34m[957]#011train-rmse:0.67859#011validation-rmse:0.67936\u001b[0m\n",
      "\u001b[34m[958]#011train-rmse:0.67859#011validation-rmse:0.67936\u001b[0m\n",
      "\u001b[34m[959]#011train-rmse:0.67859#011validation-rmse:0.67936\u001b[0m\n",
      "\u001b[34m[960]#011train-rmse:0.67859#011validation-rmse:0.67935\u001b[0m\n",
      "\u001b[34m[961]#011train-rmse:0.67859#011validation-rmse:0.67936\u001b[0m\n",
      "\u001b[34m[962]#011train-rmse:0.67859#011validation-rmse:0.67936\u001b[0m\n",
      "\u001b[34m[963]#011train-rmse:0.67859#011validation-rmse:0.67936\u001b[0m\n",
      "\u001b[34m[964]#011train-rmse:0.67859#011validation-rmse:0.67935\u001b[0m\n",
      "\u001b[34m[965]#011train-rmse:0.67859#011validation-rmse:0.67936\u001b[0m\n",
      "\u001b[34m[966]#011train-rmse:0.67859#011validation-rmse:0.67936\u001b[0m\n",
      "\u001b[34m[967]#011train-rmse:0.67859#011validation-rmse:0.67936\u001b[0m\n",
      "\u001b[34m[968]#011train-rmse:0.67859#011validation-rmse:0.67936\u001b[0m\n",
      "\u001b[34m[969]#011train-rmse:0.67859#011validation-rmse:0.67936\u001b[0m\n",
      "\u001b[34m[970]#011train-rmse:0.67859#011validation-rmse:0.67936\u001b[0m\n",
      "\u001b[34m[971]#011train-rmse:0.67859#011validation-rmse:0.67935\u001b[0m\n",
      "\u001b[34m[972]#011train-rmse:0.67859#011validation-rmse:0.67935\u001b[0m\n",
      "\u001b[34m[973]#011train-rmse:0.67859#011validation-rmse:0.67935\u001b[0m\n",
      "\u001b[34m[974]#011train-rmse:0.67859#011validation-rmse:0.67935\u001b[0m\n",
      "\u001b[34m[975]#011train-rmse:0.67859#011validation-rmse:0.67935\u001b[0m\n",
      "\u001b[34m[976]#011train-rmse:0.67859#011validation-rmse:0.67935\u001b[0m\n",
      "\u001b[34m[977]#011train-rmse:0.67859#011validation-rmse:0.67935\u001b[0m\n",
      "\u001b[34m[978]#011train-rmse:0.67859#011validation-rmse:0.67936\u001b[0m\n",
      "\u001b[34m[979]#011train-rmse:0.67859#011validation-rmse:0.67936\u001b[0m\n",
      "\u001b[34m[980]#011train-rmse:0.67859#011validation-rmse:0.67936\u001b[0m\n",
      "\u001b[34m[981]#011train-rmse:0.67859#011validation-rmse:0.67936\u001b[0m\n",
      "\u001b[34m[982]#011train-rmse:0.67859#011validation-rmse:0.67936\u001b[0m\n",
      "\u001b[34m[983]#011train-rmse:0.67859#011validation-rmse:0.67936\u001b[0m\n",
      "\u001b[34m[984]#011train-rmse:0.67859#011validation-rmse:0.67935\u001b[0m\n",
      "\u001b[34m[985]#011train-rmse:0.67859#011validation-rmse:0.67935\u001b[0m\n",
      "\u001b[34m[986]#011train-rmse:0.67859#011validation-rmse:0.67935\u001b[0m\n",
      "\u001b[34m[987]#011train-rmse:0.67859#011validation-rmse:0.67935\u001b[0m\n",
      "\u001b[34m[988]#011train-rmse:0.67859#011validation-rmse:0.67935\u001b[0m\n",
      "\u001b[34m[989]#011train-rmse:0.67859#011validation-rmse:0.67935\u001b[0m\n",
      "\u001b[34m[990]#011train-rmse:0.67859#011validation-rmse:0.67936\u001b[0m\n",
      "\u001b[34m[991]#011train-rmse:0.67859#011validation-rmse:0.67935\u001b[0m\n",
      "\u001b[34m[992]#011train-rmse:0.67859#011validation-rmse:0.67935\u001b[0m\n",
      "\u001b[34m[993]#011train-rmse:0.67859#011validation-rmse:0.67936\u001b[0m\n",
      "\u001b[34m[994]#011train-rmse:0.67859#011validation-rmse:0.67936\u001b[0m\n",
      "\u001b[34m[995]#011train-rmse:0.67859#011validation-rmse:0.67936\u001b[0m\n",
      "\u001b[34m[996]#011train-rmse:0.67859#011validation-rmse:0.67936\u001b[0m\n",
      "\u001b[34m[997]#011train-rmse:0.67859#011validation-rmse:0.67936\u001b[0m\n",
      "\u001b[34m[998]#011train-rmse:0.67859#011validation-rmse:0.67936\u001b[0m\n",
      "\u001b[34m[999]#011train-rmse:0.67860#011validation-rmse:0.67936\u001b[0m\n",
      "\u001b[34m[1000]#011train-rmse:0.67859#011validation-rmse:0.67936\u001b[0m\n",
      "\u001b[34m[1001]#011train-rmse:0.67860#011validation-rmse:0.67937\u001b[0m\n",
      "\u001b[34m[1002]#011train-rmse:0.67860#011validation-rmse:0.67937\u001b[0m\n",
      "\u001b[34m[1003]#011train-rmse:0.67859#011validation-rmse:0.67936\u001b[0m\n",
      "\u001b[34m[1004]#011train-rmse:0.67859#011validation-rmse:0.67936\u001b[0m\n",
      "\u001b[34m[1005]#011train-rmse:0.67859#011validation-rmse:0.67935\u001b[0m\n",
      "\u001b[34m[1006]#011train-rmse:0.67859#011validation-rmse:0.67936\u001b[0m\n",
      "\u001b[34m[1007]#011train-rmse:0.67859#011validation-rmse:0.67936\u001b[0m\n",
      "\u001b[34m[1008]#011train-rmse:0.67859#011validation-rmse:0.67935\u001b[0m\n",
      "\u001b[34m[1009]#011train-rmse:0.67859#011validation-rmse:0.67935\u001b[0m\n",
      "\u001b[34m[1010]#011train-rmse:0.67859#011validation-rmse:0.67935\u001b[0m\n",
      "\u001b[34m[1011]#011train-rmse:0.67859#011validation-rmse:0.67935\u001b[0m\n",
      "\u001b[34m[1012]#011train-rmse:0.67859#011validation-rmse:0.67936\u001b[0m\n",
      "\u001b[34m[1013]#011train-rmse:0.67859#011validation-rmse:0.67936\u001b[0m\n",
      "\u001b[34m[1014]#011train-rmse:0.67859#011validation-rmse:0.67936\u001b[0m\n",
      "\u001b[34m[1015]#011train-rmse:0.67859#011validation-rmse:0.67936\u001b[0m\n",
      "\u001b[34m[1016]#011train-rmse:0.67859#011validation-rmse:0.67936\u001b[0m\n",
      "\u001b[34m[1017]#011train-rmse:0.67859#011validation-rmse:0.67936\u001b[0m\n",
      "\u001b[34m[1018]#011train-rmse:0.67859#011validation-rmse:0.67935\u001b[0m\n",
      "\u001b[34m[1019]#011train-rmse:0.67859#011validation-rmse:0.67935\u001b[0m\n",
      "\u001b[34m[1020]#011train-rmse:0.67859#011validation-rmse:0.67935\u001b[0m\n",
      "\u001b[34m[1021]#011train-rmse:0.67859#011validation-rmse:0.67936\u001b[0m\n",
      "\u001b[34m[1022]#011train-rmse:0.67859#011validation-rmse:0.67936\u001b[0m\n",
      "\u001b[34m[1023]#011train-rmse:0.67859#011validation-rmse:0.67936\u001b[0m\n",
      "\u001b[34m[1024]#011train-rmse:0.67859#011validation-rmse:0.67936\u001b[0m\n",
      "\u001b[34m[1025]#011train-rmse:0.67859#011validation-rmse:0.67935\u001b[0m\n",
      "\u001b[34m[1026]#011train-rmse:0.67859#011validation-rmse:0.67935\u001b[0m\n",
      "\u001b[34m[1027]#011train-rmse:0.67859#011validation-rmse:0.67935\u001b[0m\n",
      "\u001b[34m[1028]#011train-rmse:0.67859#011validation-rmse:0.67935\u001b[0m\n",
      "\u001b[34m[1029]#011train-rmse:0.67859#011validation-rmse:0.67935\u001b[0m\n",
      "\u001b[34m[1030]#011train-rmse:0.67859#011validation-rmse:0.67935\u001b[0m\n",
      "\u001b[34m[1031]#011train-rmse:0.67859#011validation-rmse:0.67935\u001b[0m\n",
      "\u001b[34m[1032]#011train-rmse:0.67859#011validation-rmse:0.67936\u001b[0m\n",
      "\u001b[34m[1033]#011train-rmse:0.67859#011validation-rmse:0.67935\u001b[0m\n",
      "\u001b[34m[1034]#011train-rmse:0.67859#011validation-rmse:0.67935\u001b[0m\n",
      "\u001b[34m[1035]#011train-rmse:0.67859#011validation-rmse:0.67935\u001b[0m\n",
      "\u001b[34m[1036]#011train-rmse:0.67859#011validation-rmse:0.67935\u001b[0m\n",
      "\u001b[34m[1037]#011train-rmse:0.67859#011validation-rmse:0.67936\u001b[0m\n",
      "\u001b[34m[1038]#011train-rmse:0.67859#011validation-rmse:0.67936\u001b[0m\n",
      "\u001b[34m[1039]#011train-rmse:0.67859#011validation-rmse:0.67936\u001b[0m\n",
      "\u001b[34m[1040]#011train-rmse:0.67859#011validation-rmse:0.67936\u001b[0m\n",
      "\u001b[34m[1041]#011train-rmse:0.67859#011validation-rmse:0.67936\u001b[0m\n",
      "\u001b[34m[1042]#011train-rmse:0.67859#011validation-rmse:0.67936\u001b[0m\n",
      "\u001b[34m[1043]#011train-rmse:0.67859#011validation-rmse:0.67936\u001b[0m\n",
      "\u001b[34m[1044]#011train-rmse:0.67859#011validation-rmse:0.67935\u001b[0m\n",
      "\u001b[34m[1045]#011train-rmse:0.67859#011validation-rmse:0.67935\u001b[0m\n",
      "\u001b[34m[1046]#011train-rmse:0.67859#011validation-rmse:0.67935\u001b[0m\n",
      "\u001b[34m[1047]#011train-rmse:0.67859#011validation-rmse:0.67935\u001b[0m\n",
      "\u001b[34m[1048]#011train-rmse:0.67859#011validation-rmse:0.67935\u001b[0m\n",
      "\u001b[34m[1049]#011train-rmse:0.67859#011validation-rmse:0.67936\u001b[0m\n",
      "\u001b[34m[1050]#011train-rmse:0.67859#011validation-rmse:0.67936\u001b[0m\n",
      "\u001b[34m[1051]#011train-rmse:0.67859#011validation-rmse:0.67936\u001b[0m\n",
      "\u001b[34m[1052]#011train-rmse:0.67859#011validation-rmse:0.67936\u001b[0m\n",
      "\u001b[34m[1053]#011train-rmse:0.67859#011validation-rmse:0.67936\u001b[0m\n",
      "\u001b[34m[1054]#011train-rmse:0.67859#011validation-rmse:0.67936\u001b[0m\n",
      "\u001b[34m[1055]#011train-rmse:0.67859#011validation-rmse:0.67936\u001b[0m\n",
      "\u001b[34m[1056]#011train-rmse:0.67859#011validation-rmse:0.67936\u001b[0m\n",
      "\u001b[34m[1057]#011train-rmse:0.67860#011validation-rmse:0.67936\u001b[0m\n",
      "\u001b[34m[1058]#011train-rmse:0.67859#011validation-rmse:0.67936\u001b[0m\n",
      "\u001b[34m[1059]#011train-rmse:0.67860#011validation-rmse:0.67936\u001b[0m\n",
      "\u001b[34m[1060]#011train-rmse:0.67859#011validation-rmse:0.67936\u001b[0m\n",
      "\u001b[34m[1061]#011train-rmse:0.67859#011validation-rmse:0.67936\u001b[0m\n",
      "\u001b[34m[1062]#011train-rmse:0.67859#011validation-rmse:0.67936\u001b[0m\n",
      "\u001b[34m[1063]#011train-rmse:0.67859#011validation-rmse:0.67936\u001b[0m\n",
      "\u001b[34m[1064]#011train-rmse:0.67859#011validation-rmse:0.67936\u001b[0m\n",
      "\u001b[34m[1065]#011train-rmse:0.67859#011validation-rmse:0.67936\u001b[0m\n",
      "\u001b[34m[1066]#011train-rmse:0.67859#011validation-rmse:0.67935\u001b[0m\n",
      "\u001b[34m[1067]#011train-rmse:0.67859#011validation-rmse:0.67935\u001b[0m\n",
      "\u001b[34m[1068]#011train-rmse:0.67859#011validation-rmse:0.67936\u001b[0m\n",
      "\u001b[34m[1069]#011train-rmse:0.67859#011validation-rmse:0.67935\u001b[0m\n",
      "\u001b[34m[1070]#011train-rmse:0.67859#011validation-rmse:0.67936\u001b[0m\n",
      "\u001b[34m[1071]#011train-rmse:0.67859#011validation-rmse:0.67935\u001b[0m\n",
      "\u001b[34m[1072]#011train-rmse:0.67859#011validation-rmse:0.67935\u001b[0m\n",
      "\u001b[34m[1073]#011train-rmse:0.67859#011validation-rmse:0.67935\u001b[0m\n",
      "\u001b[34m[1074]#011train-rmse:0.67859#011validation-rmse:0.67935\u001b[0m\n",
      "\u001b[34m[1075]#011train-rmse:0.67859#011validation-rmse:0.67935\u001b[0m\n",
      "\u001b[34m[1076]#011train-rmse:0.67859#011validation-rmse:0.67936\u001b[0m\n",
      "\u001b[34m[1077]#011train-rmse:0.67859#011validation-rmse:0.67936\u001b[0m\n",
      "\u001b[34m[1078]#011train-rmse:0.67859#011validation-rmse:0.67935\u001b[0m\n",
      "\u001b[34m[1079]#011train-rmse:0.67859#011validation-rmse:0.67935\u001b[0m\n",
      "\u001b[34m[1080]#011train-rmse:0.67859#011validation-rmse:0.67935\u001b[0m\n",
      "\u001b[34m[1081]#011train-rmse:0.67859#011validation-rmse:0.67936\u001b[0m\n",
      "\u001b[34m[1082]#011train-rmse:0.67859#011validation-rmse:0.67935\u001b[0m\n",
      "\u001b[34m[1083]#011train-rmse:0.67859#011validation-rmse:0.67936\u001b[0m\n",
      "\u001b[34m[1084]#011train-rmse:0.67859#011validation-rmse:0.67935\u001b[0m\n",
      "\u001b[34m[1085]#011train-rmse:0.67859#011validation-rmse:0.67935\u001b[0m\n",
      "\u001b[34m[1086]#011train-rmse:0.67859#011validation-rmse:0.67935\u001b[0m\n",
      "\u001b[34m[1087]#011train-rmse:0.67859#011validation-rmse:0.67935\u001b[0m\n",
      "\u001b[34m[1088]#011train-rmse:0.67859#011validation-rmse:0.67935\u001b[0m\n",
      "\u001b[34m[1089]#011train-rmse:0.67859#011validation-rmse:0.67936\u001b[0m\n",
      "\u001b[34m[1090]#011train-rmse:0.67859#011validation-rmse:0.67935\u001b[0m\n",
      "\u001b[34m[1091]#011train-rmse:0.67859#011validation-rmse:0.67936\u001b[0m\n",
      "\u001b[34m[1092]#011train-rmse:0.67859#011validation-rmse:0.67935\u001b[0m\n",
      "\u001b[34m[1093]#011train-rmse:0.67859#011validation-rmse:0.67935\u001b[0m\n",
      "\u001b[34m[1094]#011train-rmse:0.67859#011validation-rmse:0.67935\u001b[0m\n",
      "\u001b[34m[1095]#011train-rmse:0.67859#011validation-rmse:0.67935\u001b[0m\n",
      "\u001b[34m[1096]#011train-rmse:0.67859#011validation-rmse:0.67936\u001b[0m\n",
      "\u001b[34m[1097]#011train-rmse:0.67859#011validation-rmse:0.67935\u001b[0m\n",
      "\u001b[34m[1098]#011train-rmse:0.67859#011validation-rmse:0.67935\u001b[0m\n",
      "\u001b[34m[1099]#011train-rmse:0.67859#011validation-rmse:0.67935\u001b[0m\n",
      "\u001b[34m[1100]#011train-rmse:0.67859#011validation-rmse:0.67935\u001b[0m\n",
      "\u001b[34m[1101]#011train-rmse:0.67859#011validation-rmse:0.67935\u001b[0m\n",
      "\u001b[34m[1102]#011train-rmse:0.67859#011validation-rmse:0.67935\u001b[0m\n",
      "\u001b[34m[1103]#011train-rmse:0.67859#011validation-rmse:0.67936\u001b[0m\n",
      "\u001b[34m[1104]#011train-rmse:0.67859#011validation-rmse:0.67936\u001b[0m\n",
      "\u001b[34m[1105]#011train-rmse:0.67859#011validation-rmse:0.67936\u001b[0m\n",
      "\u001b[34m[1106]#011train-rmse:0.67859#011validation-rmse:0.67936\u001b[0m\n",
      "\u001b[34m[1107]#011train-rmse:0.67859#011validation-rmse:0.67935\u001b[0m\n",
      "\u001b[34m[1108]#011train-rmse:0.67859#011validation-rmse:0.67935\u001b[0m\n",
      "\u001b[34m[1109]#011train-rmse:0.67859#011validation-rmse:0.67935\u001b[0m\n",
      "\u001b[34m[1110]#011train-rmse:0.67859#011validation-rmse:0.67935\u001b[0m\n",
      "\u001b[34m[1111]#011train-rmse:0.67859#011validation-rmse:0.67935\u001b[0m\n",
      "\u001b[34m[1112]#011train-rmse:0.67859#011validation-rmse:0.67936\u001b[0m\n",
      "\u001b[34m[1113]#011train-rmse:0.67859#011validation-rmse:0.67936\u001b[0m\n",
      "\u001b[34m[1114]#011train-rmse:0.67859#011validation-rmse:0.67935\u001b[0m\n",
      "\u001b[34m[1115]#011train-rmse:0.67859#011validation-rmse:0.67936\u001b[0m\n",
      "\u001b[34m[1116]#011train-rmse:0.67859#011validation-rmse:0.67935\u001b[0m\n",
      "\u001b[34m[1117]#011train-rmse:0.67859#011validation-rmse:0.67935\u001b[0m\n",
      "\u001b[34m[1118]#011train-rmse:0.67859#011validation-rmse:0.67936\u001b[0m\n",
      "\u001b[34m[1119]#011train-rmse:0.67859#011validation-rmse:0.67936\u001b[0m\n",
      "\u001b[34m[1120]#011train-rmse:0.67859#011validation-rmse:0.67935\u001b[0m\n",
      "\u001b[34m[1121]#011train-rmse:0.67859#011validation-rmse:0.67936\u001b[0m\n",
      "\u001b[34m[1122]#011train-rmse:0.67859#011validation-rmse:0.67935\u001b[0m\n",
      "\u001b[34m[1123]#011train-rmse:0.67859#011validation-rmse:0.67935\u001b[0m\n",
      "\u001b[34m[1124]#011train-rmse:0.67859#011validation-rmse:0.67935\u001b[0m\n",
      "\u001b[34m[1125]#011train-rmse:0.67859#011validation-rmse:0.67935\u001b[0m\n",
      "\u001b[34m[1126]#011train-rmse:0.67859#011validation-rmse:0.67935\u001b[0m\n",
      "\u001b[34m[1127]#011train-rmse:0.67859#011validation-rmse:0.67935\u001b[0m\n",
      "\u001b[34m[1128]#011train-rmse:0.67859#011validation-rmse:0.67936\u001b[0m\n",
      "\u001b[34m[1129]#011train-rmse:0.67859#011validation-rmse:0.67935\u001b[0m\n",
      "\u001b[34m[1130]#011train-rmse:0.67859#011validation-rmse:0.67935\u001b[0m\n",
      "\u001b[34m[1131]#011train-rmse:0.67859#011validation-rmse:0.67936\u001b[0m\n",
      "\u001b[34m[1132]#011train-rmse:0.67859#011validation-rmse:0.67936\u001b[0m\n",
      "\u001b[34m[1133]#011train-rmse:0.67859#011validation-rmse:0.67935\u001b[0m\n",
      "\u001b[34m[1134]#011train-rmse:0.67859#011validation-rmse:0.67935\u001b[0m\n",
      "\u001b[34m[1135]#011train-rmse:0.67859#011validation-rmse:0.67935\u001b[0m\n",
      "\u001b[34m[1136]#011train-rmse:0.67859#011validation-rmse:0.67936\u001b[0m\n",
      "\u001b[34m[1137]#011train-rmse:0.67859#011validation-rmse:0.67936\u001b[0m\n",
      "\u001b[34m[1138]#011train-rmse:0.67859#011validation-rmse:0.67936\u001b[0m\n",
      "\u001b[34m[1139]#011train-rmse:0.67859#011validation-rmse:0.67936\u001b[0m\n",
      "\u001b[34m[1140]#011train-rmse:0.67859#011validation-rmse:0.67936\u001b[0m\n",
      "\u001b[34m[1141]#011train-rmse:0.67859#011validation-rmse:0.67935\u001b[0m\n",
      "\u001b[34m[1142]#011train-rmse:0.67859#011validation-rmse:0.67935\u001b[0m\n",
      "\u001b[34m[1143]#011train-rmse:0.67859#011validation-rmse:0.67935\u001b[0m\n",
      "\u001b[34m[1144]#011train-rmse:0.67859#011validation-rmse:0.67935\u001b[0m\n",
      "\u001b[34m[1145]#011train-rmse:0.67859#011validation-rmse:0.67935\u001b[0m\n",
      "\u001b[34m[1146]#011train-rmse:0.67859#011validation-rmse:0.67935\u001b[0m\n",
      "\u001b[34m[1147]#011train-rmse:0.67859#011validation-rmse:0.67936\u001b[0m\n",
      "\u001b[34m[1148]#011train-rmse:0.67859#011validation-rmse:0.67936\u001b[0m\n",
      "\u001b[34m[1149]#011train-rmse:0.67859#011validation-rmse:0.67936\u001b[0m\n",
      "\u001b[34m[1150]#011train-rmse:0.67859#011validation-rmse:0.67936\u001b[0m\n",
      "\u001b[34m[1151]#011train-rmse:0.67859#011validation-rmse:0.67936\u001b[0m\n",
      "\u001b[34m[1152]#011train-rmse:0.67859#011validation-rmse:0.67936\u001b[0m\n",
      "\u001b[34m[1153]#011train-rmse:0.67859#011validation-rmse:0.67936\u001b[0m\n",
      "\u001b[34m[1154]#011train-rmse:0.67859#011validation-rmse:0.67936\u001b[0m\n",
      "\u001b[34m[1155]#011train-rmse:0.67859#011validation-rmse:0.67936\u001b[0m\n",
      "\u001b[34m[1156]#011train-rmse:0.67859#011validation-rmse:0.67936\u001b[0m\n",
      "\u001b[34m[1157]#011train-rmse:0.67859#011validation-rmse:0.67936\u001b[0m\n",
      "\u001b[34m[1158]#011train-rmse:0.67859#011validation-rmse:0.67936\u001b[0m\n",
      "\u001b[34m[1159]#011train-rmse:0.67859#011validation-rmse:0.67936\u001b[0m\n",
      "\u001b[34m[1160]#011train-rmse:0.67859#011validation-rmse:0.67936\u001b[0m\n",
      "\u001b[34m[1161]#011train-rmse:0.67859#011validation-rmse:0.67936\u001b[0m\n",
      "\u001b[34m[1162]#011train-rmse:0.67859#011validation-rmse:0.67936\u001b[0m\n",
      "\u001b[34m[1163]#011train-rmse:0.67859#011validation-rmse:0.67936\u001b[0m\n",
      "\u001b[34m[1164]#011train-rmse:0.67859#011validation-rmse:0.67936\u001b[0m\n",
      "\u001b[34m[1165]#011train-rmse:0.67859#011validation-rmse:0.67935\u001b[0m\n",
      "\u001b[34m[1166]#011train-rmse:0.67859#011validation-rmse:0.67936\u001b[0m\n",
      "\u001b[34m[1167]#011train-rmse:0.67859#011validation-rmse:0.67936\u001b[0m\n",
      "\u001b[34m[1168]#011train-rmse:0.67859#011validation-rmse:0.67936\u001b[0m\n",
      "\u001b[34m[1169]#011train-rmse:0.67859#011validation-rmse:0.67936\u001b[0m\n",
      "\u001b[34m[1170]#011train-rmse:0.67860#011validation-rmse:0.67936\u001b[0m\n",
      "\u001b[34m[1171]#011train-rmse:0.67859#011validation-rmse:0.67936\u001b[0m\n",
      "\u001b[34m[1172]#011train-rmse:0.67859#011validation-rmse:0.67936\u001b[0m\n",
      "\u001b[34m[1173]#011train-rmse:0.67859#011validation-rmse:0.67936\u001b[0m\n",
      "\u001b[34m[1174]#011train-rmse:0.67859#011validation-rmse:0.67936\u001b[0m\n",
      "\u001b[34m[1175]#011train-rmse:0.67860#011validation-rmse:0.67936\u001b[0m\n",
      "\u001b[34m[1176]#011train-rmse:0.67860#011validation-rmse:0.67936\u001b[0m\n",
      "\u001b[34m[1177]#011train-rmse:0.67859#011validation-rmse:0.67936\u001b[0m\n",
      "\u001b[34m[1178]#011train-rmse:0.67859#011validation-rmse:0.67936\u001b[0m\n",
      "\u001b[34m[1179]#011train-rmse:0.67859#011validation-rmse:0.67936\u001b[0m\n",
      "\u001b[34m[1180]#011train-rmse:0.67859#011validation-rmse:0.67936\u001b[0m\n",
      "\u001b[34m[1181]#011train-rmse:0.67859#011validation-rmse:0.67935\u001b[0m\n",
      "\u001b[34m[1182]#011train-rmse:0.67859#011validation-rmse:0.67936\u001b[0m\n",
      "\u001b[34m[1183]#011train-rmse:0.67859#011validation-rmse:0.67936\u001b[0m\n",
      "\u001b[34m[1184]#011train-rmse:0.67859#011validation-rmse:0.67936\u001b[0m\n",
      "\u001b[34m[1185]#011train-rmse:0.67859#011validation-rmse:0.67935\u001b[0m\n",
      "\u001b[34m[1186]#011train-rmse:0.67859#011validation-rmse:0.67935\u001b[0m\n",
      "\u001b[34m[1187]#011train-rmse:0.67859#011validation-rmse:0.67935\u001b[0m\n",
      "\u001b[34m[1188]#011train-rmse:0.67859#011validation-rmse:0.67936\u001b[0m\n",
      "\u001b[34m[1189]#011train-rmse:0.67859#011validation-rmse:0.67936\u001b[0m\n",
      "\u001b[34m[1190]#011train-rmse:0.67859#011validation-rmse:0.67936\u001b[0m\n",
      "\u001b[34m[1191]#011train-rmse:0.67859#011validation-rmse:0.67935\u001b[0m\n",
      "\u001b[34m[1192]#011train-rmse:0.67859#011validation-rmse:0.67935\u001b[0m\n",
      "\u001b[34m[1193]#011train-rmse:0.67859#011validation-rmse:0.67935\u001b[0m\n",
      "\u001b[34m[1194]#011train-rmse:0.67859#011validation-rmse:0.67935\u001b[0m\n",
      "\u001b[34m[1195]#011train-rmse:0.67859#011validation-rmse:0.67935\u001b[0m\n",
      "\u001b[34m[1196]#011train-rmse:0.67859#011validation-rmse:0.67935\u001b[0m\n",
      "\u001b[34m[1197]#011train-rmse:0.67859#011validation-rmse:0.67935\u001b[0m\n",
      "\u001b[34m[1198]#011train-rmse:0.67859#011validation-rmse:0.67936\u001b[0m\n",
      "\u001b[34m[1199]#011train-rmse:0.67859#011validation-rmse:0.67935\u001b[0m\n",
      "\u001b[34m[1200]#011train-rmse:0.67859#011validation-rmse:0.67935\u001b[0m\n",
      "\u001b[34m[1201]#011train-rmse:0.67859#011validation-rmse:0.67936\u001b[0m\n",
      "\u001b[34m[1202]#011train-rmse:0.67859#011validation-rmse:0.67936\u001b[0m\n",
      "\u001b[34m[1203]#011train-rmse:0.67859#011validation-rmse:0.67936\u001b[0m\n",
      "\u001b[34m[1204]#011train-rmse:0.67859#011validation-rmse:0.67935\u001b[0m\n",
      "\u001b[34m[1205]#011train-rmse:0.67859#011validation-rmse:0.67936\u001b[0m\n",
      "\u001b[34m[1206]#011train-rmse:0.67859#011validation-rmse:0.67936\u001b[0m\n",
      "\u001b[34m[1207]#011train-rmse:0.67859#011validation-rmse:0.67936\u001b[0m\n",
      "\u001b[34m[1208]#011train-rmse:0.67859#011validation-rmse:0.67936\u001b[0m\n",
      "\u001b[34m[1209]#011train-rmse:0.67859#011validation-rmse:0.67936\u001b[0m\n",
      "\u001b[34m[1210]#011train-rmse:0.67859#011validation-rmse:0.67936\u001b[0m\n",
      "\u001b[34m[1211]#011train-rmse:0.67859#011validation-rmse:0.67936\u001b[0m\n",
      "\u001b[34m[1212]#011train-rmse:0.67859#011validation-rmse:0.67936\u001b[0m\n",
      "\u001b[34m[1213]#011train-rmse:0.67859#011validation-rmse:0.67936\u001b[0m\n",
      "\u001b[34m[1214]#011train-rmse:0.67859#011validation-rmse:0.67936\u001b[0m\n",
      "\u001b[34m[1215]#011train-rmse:0.67859#011validation-rmse:0.67936\u001b[0m\n",
      "\u001b[34m[1216]#011train-rmse:0.67859#011validation-rmse:0.67935\u001b[0m\n",
      "\u001b[34m[1217]#011train-rmse:0.67859#011validation-rmse:0.67935\u001b[0m\n",
      "\u001b[34m[1218]#011train-rmse:0.67859#011validation-rmse:0.67935\u001b[0m\n",
      "\u001b[34m[1219]#011train-rmse:0.67859#011validation-rmse:0.67935\u001b[0m\n",
      "\u001b[34m[1220]#011train-rmse:0.67859#011validation-rmse:0.67936\u001b[0m\n",
      "\u001b[34m[1221]#011train-rmse:0.67859#011validation-rmse:0.67936\u001b[0m\n",
      "\u001b[34m[1222]#011train-rmse:0.67859#011validation-rmse:0.67935\u001b[0m\n",
      "\u001b[34m[1223]#011train-rmse:0.67859#011validation-rmse:0.67936\u001b[0m\n",
      "\u001b[34m[1224]#011train-rmse:0.67859#011validation-rmse:0.67936\u001b[0m\n",
      "\u001b[34m[1225]#011train-rmse:0.67859#011validation-rmse:0.67935\u001b[0m\n",
      "\u001b[34m[1226]#011train-rmse:0.67859#011validation-rmse:0.67936\u001b[0m\n",
      "\u001b[34m[1227]#011train-rmse:0.67860#011validation-rmse:0.67936\u001b[0m\n",
      "\u001b[34m[1228]#011train-rmse:0.67860#011validation-rmse:0.67936\u001b[0m\n",
      "\u001b[34m[1229]#011train-rmse:0.67859#011validation-rmse:0.67936\u001b[0m\n",
      "\u001b[34m[1230]#011train-rmse:0.67859#011validation-rmse:0.67935\u001b[0m\n",
      "\u001b[34m[1231]#011train-rmse:0.67859#011validation-rmse:0.67936\u001b[0m\n",
      "\u001b[34m[1232]#011train-rmse:0.67859#011validation-rmse:0.67935\u001b[0m\n",
      "\u001b[34m[1233]#011train-rmse:0.67859#011validation-rmse:0.67935\u001b[0m\n",
      "\u001b[34m[1234]#011train-rmse:0.67859#011validation-rmse:0.67935\u001b[0m\n",
      "\u001b[34m[1235]#011train-rmse:0.67859#011validation-rmse:0.67936\u001b[0m\n",
      "\u001b[34m[1236]#011train-rmse:0.67859#011validation-rmse:0.67936\u001b[0m\n",
      "\u001b[34m[1237]#011train-rmse:0.67859#011validation-rmse:0.67936\u001b[0m\n",
      "\u001b[34m[1238]#011train-rmse:0.67859#011validation-rmse:0.67935\u001b[0m\n",
      "\u001b[34m[1239]#011train-rmse:0.67859#011validation-rmse:0.67935\u001b[0m\n",
      "\u001b[34m[1240]#011train-rmse:0.67860#011validation-rmse:0.67935\u001b[0m\n",
      "\u001b[34m[1241]#011train-rmse:0.67859#011validation-rmse:0.67935\u001b[0m\n",
      "\u001b[34m[1242]#011train-rmse:0.67859#011validation-rmse:0.67935\u001b[0m\n",
      "\u001b[34m[1243]#011train-rmse:0.67859#011validation-rmse:0.67935\u001b[0m\n",
      "\u001b[34m[1244]#011train-rmse:0.67859#011validation-rmse:0.67936\u001b[0m\n",
      "\u001b[34m[1245]#011train-rmse:0.67859#011validation-rmse:0.67935\u001b[0m\n",
      "\u001b[34m[1246]#011train-rmse:0.67859#011validation-rmse:0.67935\u001b[0m\n",
      "\u001b[34m[1247]#011train-rmse:0.67859#011validation-rmse:0.67936\u001b[0m\n",
      "\u001b[34m[1248]#011train-rmse:0.67859#011validation-rmse:0.67936\u001b[0m\n",
      "\u001b[34m[1249]#011train-rmse:0.67859#011validation-rmse:0.67936\u001b[0m\n",
      "\u001b[34m[1250]#011train-rmse:0.67859#011validation-rmse:0.67936\u001b[0m\n",
      "\u001b[34m[1251]#011train-rmse:0.67859#011validation-rmse:0.67935\u001b[0m\n",
      "\u001b[34m[1252]#011train-rmse:0.67859#011validation-rmse:0.67936\u001b[0m\n",
      "\u001b[34m[1253]#011train-rmse:0.67859#011validation-rmse:0.67935\u001b[0m\n",
      "\u001b[34m[1254]#011train-rmse:0.67859#011validation-rmse:0.67936\u001b[0m\n",
      "\u001b[34m[1255]#011train-rmse:0.67859#011validation-rmse:0.67936\u001b[0m\n",
      "\u001b[34m[1256]#011train-rmse:0.67859#011validation-rmse:0.67935\u001b[0m\n",
      "\u001b[34m[1257]#011train-rmse:0.67859#011validation-rmse:0.67936\u001b[0m\n",
      "\u001b[34m[1258]#011train-rmse:0.67859#011validation-rmse:0.67935\u001b[0m\n",
      "\u001b[34m[1259]#011train-rmse:0.67859#011validation-rmse:0.67935\u001b[0m\n",
      "\u001b[34m[1260]#011train-rmse:0.67859#011validation-rmse:0.67936\u001b[0m\n",
      "\u001b[34m[1261]#011train-rmse:0.67859#011validation-rmse:0.67936\u001b[0m\n",
      "\u001b[34m[1262]#011train-rmse:0.67859#011validation-rmse:0.67936\u001b[0m\n",
      "\u001b[34m[1263]#011train-rmse:0.67859#011validation-rmse:0.67935\u001b[0m\n",
      "\u001b[34m[1264]#011train-rmse:0.67860#011validation-rmse:0.67935\u001b[0m\n",
      "\u001b[34m[1265]#011train-rmse:0.67859#011validation-rmse:0.67935\u001b[0m\n",
      "\u001b[34m[1266]#011train-rmse:0.67859#011validation-rmse:0.67936\u001b[0m\n",
      "\u001b[34m[1267]#011train-rmse:0.67859#011validation-rmse:0.67935\u001b[0m\n",
      "\u001b[34m[1268]#011train-rmse:0.67859#011validation-rmse:0.67935\u001b[0m\n",
      "\u001b[34m[1269]#011train-rmse:0.67859#011validation-rmse:0.67935\u001b[0m\n",
      "\u001b[34m[1270]#011train-rmse:0.67859#011validation-rmse:0.67935\u001b[0m\n",
      "\u001b[34m[1271]#011train-rmse:0.67859#011validation-rmse:0.67935\u001b[0m\n",
      "\u001b[34m[1272]#011train-rmse:0.67859#011validation-rmse:0.67935\u001b[0m\n",
      "\u001b[34m[1273]#011train-rmse:0.67859#011validation-rmse:0.67935\u001b[0m\n",
      "\u001b[34m[1274]#011train-rmse:0.67859#011validation-rmse:0.67935\u001b[0m\n",
      "\u001b[34m[1275]#011train-rmse:0.67859#011validation-rmse:0.67935\u001b[0m\n",
      "\u001b[34m[1276]#011train-rmse:0.67859#011validation-rmse:0.67936\u001b[0m\n",
      "\u001b[34m[1277]#011train-rmse:0.67859#011validation-rmse:0.67936\u001b[0m\n",
      "\u001b[34m[1278]#011train-rmse:0.67859#011validation-rmse:0.67936\u001b[0m\n",
      "\u001b[34m[1279]#011train-rmse:0.67859#011validation-rmse:0.67936\u001b[0m\n",
      "\u001b[34m[1280]#011train-rmse:0.67859#011validation-rmse:0.67935\u001b[0m\n",
      "\u001b[34m[1281]#011train-rmse:0.67859#011validation-rmse:0.67935\u001b[0m\n",
      "\u001b[34m[1282]#011train-rmse:0.67859#011validation-rmse:0.67935\u001b[0m\n",
      "\u001b[34m[1283]#011train-rmse:0.67859#011validation-rmse:0.67935\u001b[0m\n",
      "\u001b[34m[1284]#011train-rmse:0.67859#011validation-rmse:0.67935\u001b[0m\n",
      "\u001b[34m[1285]#011train-rmse:0.67859#011validation-rmse:0.67935\u001b[0m\n",
      "\u001b[34m[1286]#011train-rmse:0.67859#011validation-rmse:0.67935\u001b[0m\n",
      "\u001b[34m[1287]#011train-rmse:0.67859#011validation-rmse:0.67935\u001b[0m\n",
      "\u001b[34m[1288]#011train-rmse:0.67859#011validation-rmse:0.67936\u001b[0m\n",
      "\u001b[34m[1289]#011train-rmse:0.67859#011validation-rmse:0.67935\u001b[0m\n",
      "\u001b[34m[1290]#011train-rmse:0.67859#011validation-rmse:0.67935\u001b[0m\n",
      "\u001b[34m[1291]#011train-rmse:0.67859#011validation-rmse:0.67935\u001b[0m\n",
      "\u001b[34m[1292]#011train-rmse:0.67859#011validation-rmse:0.67935\u001b[0m\n",
      "\u001b[34m[1293]#011train-rmse:0.67859#011validation-rmse:0.67935\u001b[0m\n",
      "\u001b[34m[1294]#011train-rmse:0.67859#011validation-rmse:0.67935\u001b[0m\n",
      "\u001b[34m[1295]#011train-rmse:0.67859#011validation-rmse:0.67935\u001b[0m\n",
      "\u001b[34m[1296]#011train-rmse:0.67859#011validation-rmse:0.67935\u001b[0m\n",
      "\u001b[34m[1297]#011train-rmse:0.67859#011validation-rmse:0.67935\u001b[0m\n",
      "\u001b[34m[1298]#011train-rmse:0.67860#011validation-rmse:0.67935\u001b[0m\n",
      "\u001b[34m[1299]#011train-rmse:0.67859#011validation-rmse:0.67935\u001b[0m\n",
      "\u001b[34m[1300]#011train-rmse:0.67859#011validation-rmse:0.67936\u001b[0m\n",
      "\u001b[34m[1301]#011train-rmse:0.67859#011validation-rmse:0.67936\u001b[0m\n",
      "\u001b[34m[1302]#011train-rmse:0.67859#011validation-rmse:0.67936\u001b[0m\n",
      "\u001b[34m[1303]#011train-rmse:0.67859#011validation-rmse:0.67936\u001b[0m\n",
      "\u001b[34m[1304]#011train-rmse:0.67859#011validation-rmse:0.67935\u001b[0m\n",
      "\u001b[34m[1305]#011train-rmse:0.67859#011validation-rmse:0.67936\u001b[0m\n",
      "\u001b[34m[1306]#011train-rmse:0.67859#011validation-rmse:0.67935\u001b[0m\n",
      "\u001b[34m[1307]#011train-rmse:0.67859#011validation-rmse:0.67936\u001b[0m\n",
      "\u001b[34m[1308]#011train-rmse:0.67859#011validation-rmse:0.67936\u001b[0m\n",
      "\u001b[34m[1309]#011train-rmse:0.67859#011validation-rmse:0.67936\u001b[0m\n",
      "\u001b[34m[1310]#011train-rmse:0.67859#011validation-rmse:0.67936\u001b[0m\n",
      "\u001b[34m[1311]#011train-rmse:0.67859#011validation-rmse:0.67935\u001b[0m\n",
      "\u001b[34m[1312]#011train-rmse:0.67859#011validation-rmse:0.67935\u001b[0m\n",
      "\u001b[34m[1313]#011train-rmse:0.67859#011validation-rmse:0.67935\u001b[0m\n",
      "\u001b[34m[1314]#011train-rmse:0.67859#011validation-rmse:0.67935\u001b[0m\n",
      "\u001b[34m[1315]#011train-rmse:0.67859#011validation-rmse:0.67935\u001b[0m\n",
      "\u001b[34m[1316]#011train-rmse:0.67859#011validation-rmse:0.67936\u001b[0m\n",
      "\u001b[34m[1317]#011train-rmse:0.67859#011validation-rmse:0.67935\u001b[0m\n",
      "\u001b[34m[1318]#011train-rmse:0.67859#011validation-rmse:0.67935\u001b[0m\n",
      "\u001b[34m[1319]#011train-rmse:0.67859#011validation-rmse:0.67936\u001b[0m\n",
      "\u001b[34m[1320]#011train-rmse:0.67859#011validation-rmse:0.67935\u001b[0m\n",
      "\u001b[34m[1321]#011train-rmse:0.67859#011validation-rmse:0.67936\u001b[0m\n",
      "\u001b[34m[1322]#011train-rmse:0.67859#011validation-rmse:0.67935\u001b[0m\n",
      "\u001b[34m[1323]#011train-rmse:0.67859#011validation-rmse:0.67935\u001b[0m\n",
      "\u001b[34m[1324]#011train-rmse:0.67859#011validation-rmse:0.67935\u001b[0m\n",
      "\u001b[34m[1325]#011train-rmse:0.67859#011validation-rmse:0.67935\u001b[0m\n",
      "\u001b[34m[1326]#011train-rmse:0.67859#011validation-rmse:0.67935\u001b[0m\n",
      "\u001b[34m[1327]#011train-rmse:0.67859#011validation-rmse:0.67936\u001b[0m\n",
      "\u001b[34m[1328]#011train-rmse:0.67859#011validation-rmse:0.67936\u001b[0m\n",
      "\u001b[34m[1329]#011train-rmse:0.67859#011validation-rmse:0.67936\u001b[0m\n",
      "\u001b[34m[1330]#011train-rmse:0.67859#011validation-rmse:0.67936\u001b[0m\n",
      "\u001b[34m[1331]#011train-rmse:0.67859#011validation-rmse:0.67936\u001b[0m\n",
      "\u001b[34m[1332]#011train-rmse:0.67859#011validation-rmse:0.67936\u001b[0m\n",
      "\u001b[34m[1333]#011train-rmse:0.67859#011validation-rmse:0.67936\u001b[0m\n",
      "\u001b[34m[1334]#011train-rmse:0.67859#011validation-rmse:0.67936\u001b[0m\n",
      "\u001b[34m[1335]#011train-rmse:0.67859#011validation-rmse:0.67935\u001b[0m\n",
      "\u001b[34m[1336]#011train-rmse:0.67859#011validation-rmse:0.67936\u001b[0m\n",
      "\u001b[34m[1337]#011train-rmse:0.67859#011validation-rmse:0.67936\u001b[0m\n",
      "\u001b[34m[1338]#011train-rmse:0.67859#011validation-rmse:0.67936\u001b[0m\n",
      "\u001b[34m[1339]#011train-rmse:0.67859#011validation-rmse:0.67936\u001b[0m\n",
      "\u001b[34m[1340]#011train-rmse:0.67859#011validation-rmse:0.67936\u001b[0m\n",
      "\u001b[34m[1341]#011train-rmse:0.67859#011validation-rmse:0.67936\u001b[0m\n",
      "\u001b[34m[1342]#011train-rmse:0.67859#011validation-rmse:0.67936\u001b[0m\n",
      "\u001b[34m[1343]#011train-rmse:0.67859#011validation-rmse:0.67936\u001b[0m\n",
      "\u001b[34m[1344]#011train-rmse:0.67859#011validation-rmse:0.67936\u001b[0m\n",
      "\u001b[34m[1345]#011train-rmse:0.67859#011validation-rmse:0.67936\u001b[0m\n",
      "\u001b[34m[1346]#011train-rmse:0.67859#011validation-rmse:0.67936\u001b[0m\n",
      "\u001b[34m[1347]#011train-rmse:0.67859#011validation-rmse:0.67935\u001b[0m\n",
      "\u001b[34m[1348]#011train-rmse:0.67859#011validation-rmse:0.67936\u001b[0m\n",
      "\u001b[34m[1349]#011train-rmse:0.67859#011validation-rmse:0.67936\u001b[0m\n",
      "\u001b[34m[1350]#011train-rmse:0.67859#011validation-rmse:0.67936\u001b[0m\n",
      "\u001b[34m[1351]#011train-rmse:0.67859#011validation-rmse:0.67936\u001b[0m\n",
      "\u001b[34m[1352]#011train-rmse:0.67859#011validation-rmse:0.67936\u001b[0m\n",
      "\u001b[34m[1353]#011train-rmse:0.67859#011validation-rmse:0.67936\u001b[0m\n",
      "\u001b[34m[1354]#011train-rmse:0.67859#011validation-rmse:0.67935\u001b[0m\n",
      "\u001b[34m[1355]#011train-rmse:0.67859#011validation-rmse:0.67935\u001b[0m\n",
      "\u001b[34m[1356]#011train-rmse:0.67859#011validation-rmse:0.67936\u001b[0m\n",
      "\u001b[34m[1357]#011train-rmse:0.67859#011validation-rmse:0.67936\u001b[0m\n",
      "\u001b[34m[1358]#011train-rmse:0.67859#011validation-rmse:0.67936\u001b[0m\n",
      "\u001b[34m[1359]#011train-rmse:0.67860#011validation-rmse:0.67937\u001b[0m\n",
      "\u001b[34m[1360]#011train-rmse:0.67859#011validation-rmse:0.67936\u001b[0m\n",
      "\u001b[34m[1361]#011train-rmse:0.67859#011validation-rmse:0.67936\u001b[0m\n",
      "\u001b[34m[1362]#011train-rmse:0.67859#011validation-rmse:0.67935\u001b[0m\n",
      "\u001b[34m[1363]#011train-rmse:0.67859#011validation-rmse:0.67936\u001b[0m\n",
      "\u001b[34m[1364]#011train-rmse:0.67859#011validation-rmse:0.67935\u001b[0m\n",
      "\u001b[34m[1365]#011train-rmse:0.67859#011validation-rmse:0.67936\u001b[0m\n",
      "\u001b[34m[1366]#011train-rmse:0.67859#011validation-rmse:0.67936\u001b[0m\n",
      "\u001b[34m[1367]#011train-rmse:0.67859#011validation-rmse:0.67936\u001b[0m\n",
      "\u001b[34m[1368]#011train-rmse:0.67859#011validation-rmse:0.67936\u001b[0m\n",
      "\u001b[34m[1369]#011train-rmse:0.67859#011validation-rmse:0.67936\u001b[0m\n",
      "\u001b[34m[1370]#011train-rmse:0.67859#011validation-rmse:0.67935\u001b[0m\n",
      "\u001b[34m[1371]#011train-rmse:0.67859#011validation-rmse:0.67935\u001b[0m\n",
      "\u001b[34m[1372]#011train-rmse:0.67859#011validation-rmse:0.67935\u001b[0m\n",
      "\u001b[34m[1373]#011train-rmse:0.67859#011validation-rmse:0.67936\u001b[0m\n",
      "\u001b[34m[1374]#011train-rmse:0.67859#011validation-rmse:0.67936\u001b[0m\n",
      "\u001b[34m[1375]#011train-rmse:0.67859#011validation-rmse:0.67936\u001b[0m\n",
      "\u001b[34m[1376]#011train-rmse:0.67859#011validation-rmse:0.67935\u001b[0m\n",
      "\u001b[34m[1377]#011train-rmse:0.67859#011validation-rmse:0.67935\u001b[0m\n",
      "\u001b[34m[1378]#011train-rmse:0.67859#011validation-rmse:0.67935\u001b[0m\n",
      "\u001b[34m[1379]#011train-rmse:0.67859#011validation-rmse:0.67936\u001b[0m\n",
      "\u001b[34m[1380]#011train-rmse:0.67859#011validation-rmse:0.67935\u001b[0m\n",
      "\u001b[34m[1381]#011train-rmse:0.67859#011validation-rmse:0.67936\u001b[0m\n",
      "\u001b[34m[1382]#011train-rmse:0.67859#011validation-rmse:0.67936\u001b[0m\n",
      "\u001b[34m[1383]#011train-rmse:0.67859#011validation-rmse:0.67936\u001b[0m\n",
      "\u001b[34m[1384]#011train-rmse:0.67859#011validation-rmse:0.67936\u001b[0m\n",
      "\u001b[34m[1385]#011train-rmse:0.67859#011validation-rmse:0.67936\u001b[0m\n",
      "\u001b[34m[1386]#011train-rmse:0.67859#011validation-rmse:0.67936\u001b[0m\n",
      "\u001b[34m[1387]#011train-rmse:0.67859#011validation-rmse:0.67935\u001b[0m\n",
      "\u001b[34m[1388]#011train-rmse:0.67859#011validation-rmse:0.67936\u001b[0m\n",
      "\u001b[34m[1389]#011train-rmse:0.67859#011validation-rmse:0.67936\u001b[0m\n",
      "\u001b[34m[1390]#011train-rmse:0.67859#011validation-rmse:0.67936\u001b[0m\n",
      "\u001b[34m[1391]#011train-rmse:0.67859#011validation-rmse:0.67936\u001b[0m\n",
      "\u001b[34m[1392]#011train-rmse:0.67859#011validation-rmse:0.67936\u001b[0m\n",
      "\u001b[34m[1393]#011train-rmse:0.67859#011validation-rmse:0.67936\u001b[0m\n",
      "\u001b[34m[1394]#011train-rmse:0.67860#011validation-rmse:0.67936\u001b[0m\n",
      "\u001b[34m[1395]#011train-rmse:0.67859#011validation-rmse:0.67936\u001b[0m\n",
      "\u001b[34m[1396]#011train-rmse:0.67859#011validation-rmse:0.67935\u001b[0m\n",
      "\u001b[34m[1397]#011train-rmse:0.67859#011validation-rmse:0.67936\u001b[0m\n",
      "\u001b[34m[1398]#011train-rmse:0.67859#011validation-rmse:0.67935\u001b[0m\n",
      "\u001b[34m[1399]#011train-rmse:0.67859#011validation-rmse:0.67935\u001b[0m\n",
      "\u001b[34m[1400]#011train-rmse:0.67859#011validation-rmse:0.67935\u001b[0m\n",
      "\u001b[34m[1401]#011train-rmse:0.67859#011validation-rmse:0.67935\u001b[0m\n",
      "\u001b[34m[1402]#011train-rmse:0.67859#011validation-rmse:0.67936\u001b[0m\n",
      "\u001b[34m[1403]#011train-rmse:0.67859#011validation-rmse:0.67935\u001b[0m\n",
      "\u001b[34m[1404]#011train-rmse:0.67859#011validation-rmse:0.67935\u001b[0m\n",
      "\u001b[34m[1405]#011train-rmse:0.67859#011validation-rmse:0.67936\u001b[0m\n",
      "\u001b[34m[1406]#011train-rmse:0.67859#011validation-rmse:0.67936\u001b[0m\n",
      "\u001b[34m[1407]#011train-rmse:0.67859#011validation-rmse:0.67935\u001b[0m\n",
      "\u001b[34m[1408]#011train-rmse:0.67859#011validation-rmse:0.67935\u001b[0m\n",
      "\u001b[34m[1409]#011train-rmse:0.67859#011validation-rmse:0.67935\u001b[0m\n",
      "\u001b[34m[1410]#011train-rmse:0.67859#011validation-rmse:0.67935\u001b[0m\n",
      "\u001b[34m[1411]#011train-rmse:0.67859#011validation-rmse:0.67935\u001b[0m\n",
      "\u001b[34m[1412]#011train-rmse:0.67859#011validation-rmse:0.67935\u001b[0m\n",
      "\u001b[34m[1413]#011train-rmse:0.67859#011validation-rmse:0.67935\u001b[0m\n",
      "\u001b[34m[1414]#011train-rmse:0.67859#011validation-rmse:0.67935\u001b[0m\n",
      "\u001b[34m[1415]#011train-rmse:0.67859#011validation-rmse:0.67936\u001b[0m\n",
      "\u001b[34m[1416]#011train-rmse:0.67859#011validation-rmse:0.67936\u001b[0m\n",
      "\u001b[34m[1417]#011train-rmse:0.67859#011validation-rmse:0.67936\u001b[0m\n",
      "\u001b[34m[1418]#011train-rmse:0.67859#011validation-rmse:0.67936\u001b[0m\n",
      "\u001b[34m[1419]#011train-rmse:0.67859#011validation-rmse:0.67936\u001b[0m\n",
      "\u001b[34m[1420]#011train-rmse:0.67859#011validation-rmse:0.67935\u001b[0m\n",
      "\u001b[34m[1421]#011train-rmse:0.67859#011validation-rmse:0.67935\u001b[0m\n",
      "\u001b[34m[1422]#011train-rmse:0.67859#011validation-rmse:0.67935\u001b[0m\n",
      "\u001b[34m[1423]#011train-rmse:0.67859#011validation-rmse:0.67935\u001b[0m\n",
      "\u001b[34m[1424]#011train-rmse:0.67860#011validation-rmse:0.67935\u001b[0m\n",
      "\u001b[34m[1425]#011train-rmse:0.67860#011validation-rmse:0.67935\u001b[0m\n",
      "\u001b[34m[1426]#011train-rmse:0.67859#011validation-rmse:0.67935\u001b[0m\n",
      "\u001b[34m[1427]#011train-rmse:0.67859#011validation-rmse:0.67935\u001b[0m\n",
      "\u001b[34m[1428]#011train-rmse:0.67859#011validation-rmse:0.67935\u001b[0m\n",
      "\u001b[34m[1429]#011train-rmse:0.67859#011validation-rmse:0.67935\u001b[0m\n",
      "\u001b[34m[1430]#011train-rmse:0.67859#011validation-rmse:0.67935\u001b[0m\n",
      "\u001b[34m[1431]#011train-rmse:0.67859#011validation-rmse:0.67936\u001b[0m\n",
      "\u001b[34m[1432]#011train-rmse:0.67859#011validation-rmse:0.67936\u001b[0m\n",
      "\u001b[34m[1433]#011train-rmse:0.67859#011validation-rmse:0.67935\u001b[0m\n",
      "\u001b[34m[1434]#011train-rmse:0.67859#011validation-rmse:0.67936\u001b[0m\n",
      "\u001b[34m[1435]#011train-rmse:0.67859#011validation-rmse:0.67936\u001b[0m\n",
      "\u001b[34m[1436]#011train-rmse:0.67859#011validation-rmse:0.67936\u001b[0m\n",
      "\u001b[34m[1437]#011train-rmse:0.67859#011validation-rmse:0.67936\u001b[0m\n",
      "\u001b[34m[1438]#011train-rmse:0.67859#011validation-rmse:0.67936\u001b[0m\n",
      "\u001b[34m[1439]#011train-rmse:0.67859#011validation-rmse:0.67936\u001b[0m\n",
      "\u001b[34m[1440]#011train-rmse:0.67859#011validation-rmse:0.67936\u001b[0m\n",
      "\u001b[34m[1441]#011train-rmse:0.67859#011validation-rmse:0.67936\u001b[0m\n",
      "\u001b[34m[1442]#011train-rmse:0.67859#011validation-rmse:0.67936\u001b[0m\n",
      "\u001b[34m[1443]#011train-rmse:0.67860#011validation-rmse:0.67936\u001b[0m\n",
      "\u001b[34m[1444]#011train-rmse:0.67859#011validation-rmse:0.67936\u001b[0m\n",
      "\u001b[34m[1445]#011train-rmse:0.67859#011validation-rmse:0.67936\u001b[0m\n",
      "\u001b[34m[1446]#011train-rmse:0.67859#011validation-rmse:0.67936\u001b[0m\n",
      "\u001b[34m[1447]#011train-rmse:0.67859#011validation-rmse:0.67936\u001b[0m\n",
      "\u001b[34m[1448]#011train-rmse:0.67859#011validation-rmse:0.67936\u001b[0m\n",
      "\u001b[34m[1449]#011train-rmse:0.67859#011validation-rmse:0.67936\u001b[0m\n",
      "\u001b[34m[1450]#011train-rmse:0.67859#011validation-rmse:0.67935\u001b[0m\n",
      "\u001b[34m[1451]#011train-rmse:0.67859#011validation-rmse:0.67935\u001b[0m\n",
      "\u001b[34m[1452]#011train-rmse:0.67859#011validation-rmse:0.67936\u001b[0m\n",
      "\u001b[34m[1453]#011train-rmse:0.67859#011validation-rmse:0.67936\u001b[0m\n",
      "\u001b[34m[1454]#011train-rmse:0.67859#011validation-rmse:0.67936\u001b[0m\n",
      "\u001b[34m[1455]#011train-rmse:0.67860#011validation-rmse:0.67936\u001b[0m\n",
      "\u001b[34m[1456]#011train-rmse:0.67859#011validation-rmse:0.67936\u001b[0m\n",
      "\u001b[34m[1457]#011train-rmse:0.67859#011validation-rmse:0.67936\u001b[0m\n",
      "\u001b[34m[1458]#011train-rmse:0.67859#011validation-rmse:0.67936\u001b[0m\n",
      "\u001b[34m[1459]#011train-rmse:0.67859#011validation-rmse:0.67935\u001b[0m\n",
      "\u001b[34m[1460]#011train-rmse:0.67859#011validation-rmse:0.67935\u001b[0m\n",
      "\u001b[34m[1461]#011train-rmse:0.67859#011validation-rmse:0.67935\u001b[0m\n",
      "\u001b[34m[1462]#011train-rmse:0.67859#011validation-rmse:0.67935\u001b[0m\n",
      "\u001b[34m[1463]#011train-rmse:0.67859#011validation-rmse:0.67935\u001b[0m\n",
      "\u001b[34m[1464]#011train-rmse:0.67859#011validation-rmse:0.67935\u001b[0m\n",
      "\u001b[34m[1465]#011train-rmse:0.67859#011validation-rmse:0.67936\u001b[0m\n",
      "\u001b[34m[1466]#011train-rmse:0.67859#011validation-rmse:0.67935\u001b[0m\n",
      "\u001b[34m[1467]#011train-rmse:0.67859#011validation-rmse:0.67936\u001b[0m\n",
      "\u001b[34m[1468]#011train-rmse:0.67859#011validation-rmse:0.67936\u001b[0m\n",
      "\u001b[34m[1469]#011train-rmse:0.67860#011validation-rmse:0.67937\u001b[0m\n",
      "\u001b[34m[1470]#011train-rmse:0.67860#011validation-rmse:0.67936\u001b[0m\n",
      "\u001b[34m[1471]#011train-rmse:0.67859#011validation-rmse:0.67936\u001b[0m\n",
      "\u001b[34m[1472]#011train-rmse:0.67859#011validation-rmse:0.67936\u001b[0m\n",
      "\u001b[34m[1473]#011train-rmse:0.67859#011validation-rmse:0.67936\u001b[0m\n",
      "\u001b[34m[1474]#011train-rmse:0.67859#011validation-rmse:0.67936\u001b[0m\n",
      "\u001b[34m[1475]#011train-rmse:0.67859#011validation-rmse:0.67936\u001b[0m\n",
      "\u001b[34m[1476]#011train-rmse:0.67859#011validation-rmse:0.67936\u001b[0m\n",
      "\u001b[34m[1477]#011train-rmse:0.67859#011validation-rmse:0.67935\u001b[0m\n",
      "\u001b[34m[1478]#011train-rmse:0.67859#011validation-rmse:0.67935\u001b[0m\n",
      "\u001b[34m[1479]#011train-rmse:0.67859#011validation-rmse:0.67936\u001b[0m\n",
      "\u001b[34m[1480]#011train-rmse:0.67859#011validation-rmse:0.67936\u001b[0m\n",
      "\u001b[34m[1481]#011train-rmse:0.67860#011validation-rmse:0.67936\u001b[0m\n",
      "\u001b[34m[1482]#011train-rmse:0.67859#011validation-rmse:0.67936\u001b[0m\n",
      "\u001b[34m[1483]#011train-rmse:0.67859#011validation-rmse:0.67936\u001b[0m\n",
      "\u001b[34m[1484]#011train-rmse:0.67859#011validation-rmse:0.67936\u001b[0m\n",
      "\u001b[34m[1485]#011train-rmse:0.67859#011validation-rmse:0.67936\u001b[0m\n",
      "\u001b[34m[1486]#011train-rmse:0.67859#011validation-rmse:0.67936\u001b[0m\n",
      "\u001b[34m[1487]#011train-rmse:0.67859#011validation-rmse:0.67935\u001b[0m\n",
      "\u001b[34m[1488]#011train-rmse:0.67859#011validation-rmse:0.67936\u001b[0m\n",
      "\u001b[34m[1489]#011train-rmse:0.67859#011validation-rmse:0.67935\u001b[0m\n",
      "\u001b[34m[1490]#011train-rmse:0.67859#011validation-rmse:0.67935\u001b[0m\n",
      "\u001b[34m[1491]#011train-rmse:0.67859#011validation-rmse:0.67935\u001b[0m\n",
      "\u001b[34m[1492]#011train-rmse:0.67859#011validation-rmse:0.67935\u001b[0m\n",
      "\u001b[34m[1493]#011train-rmse:0.67859#011validation-rmse:0.67935\u001b[0m\n",
      "\u001b[34m[1494]#011train-rmse:0.67859#011validation-rmse:0.67936\u001b[0m\n",
      "\u001b[34m[1495]#011train-rmse:0.67859#011validation-rmse:0.67936\u001b[0m\n",
      "\u001b[34m[1496]#011train-rmse:0.67859#011validation-rmse:0.67936\u001b[0m\n",
      "\u001b[34m[1497]#011train-rmse:0.67859#011validation-rmse:0.67936\u001b[0m\n",
      "\u001b[34m[1498]#011train-rmse:0.67859#011validation-rmse:0.67935\u001b[0m\n",
      "\u001b[34m[1499]#011train-rmse:0.67859#011validation-rmse:0.67936\u001b[0m\n",
      "\n",
      "2022-09-10 13:06:41 Uploading - Uploading generated training model\n",
      "2022-09-10 13:07:21 Completed - Training job completed\n",
      "ProfilerReport-1662814354: NoIssuesFound\n",
      "Training seconds: 730\n",
      "Billable seconds: 295\n",
      "Managed Spot Training savings: 59.6%\n"
     ]
    }
   ],
   "source": [
    "best_estimator.fit({'train': s3_input_train, 'validation': s3_input_validation})"
   ]
  },
  {
   "cell_type": "code",
   "execution_count": 6,
   "metadata": {},
   "outputs": [
    {
     "name": "stdout",
     "output_type": "stream",
     "text": [
      "\n",
      "2022-09-10 13:07:21 Starting - Preparing the instances for training\n",
      "2022-09-10 13:07:21 Downloading - Downloading input data\n",
      "2022-09-10 13:07:21 Training - Training image download completed. Training in progress.\n",
      "2022-09-10 13:07:21 Uploading - Uploading generated training model\n",
      "2022-09-10 13:07:21 Completed - Training job completed\n"
     ]
    }
   ],
   "source": [
    "TrainingJobName = 'sagemaker-xgboost-2022-09-10-12-52-34-304'\n",
    "\n",
    "xgb_estimator = sagemaker.estimator.Estimator.attach(TrainingJobName)"
   ]
  },
  {
   "cell_type": "code",
   "execution_count": 7,
   "metadata": {},
   "outputs": [
    {
     "name": "stdout",
     "output_type": "stream",
     "text": [
      "-------!"
     ]
    }
   ],
   "source": [
    "from sagemaker.predictor import CSVSerializer\n",
    "\n",
    "xgb_predictor = xgb_estimator.deploy(\n",
    "    initial_instance_count=1, instance_type=\"ml.m4.xlarge\", serializer=CSVSerializer()\n",
    ")\n"
   ]
  },
  {
   "cell_type": "code",
   "execution_count": 39,
   "metadata": {},
   "outputs": [
    {
     "data": {
      "text/plain": [
       "array([[-0.09891874, -0.09992411, -0.10994655, ..., -0.03110269,\n",
       "        -0.03263483,  0.11242919],\n",
       "       [-0.09891874, -0.09992411, -0.10994655, ..., -0.03110269,\n",
       "        -0.03263483,  0.11242919],\n",
       "       [-0.09891874, -0.09992411, -0.10994655, ..., -0.03110269,\n",
       "        -0.03263483,  0.11242919],\n",
       "       ...,\n",
       "       [-0.09891874, -0.09992411, -0.10994655, ..., -0.03110269,\n",
       "        -0.03263483,  0.11242919],\n",
       "       [-0.09891874, -0.09992411, -0.10994655, ..., -0.03110269,\n",
       "        -0.03263483,  0.11242919],\n",
       "       [-0.09891874, -0.09992411, -0.10994655, ..., -0.03110269,\n",
       "        -0.03263483,  0.11242919]])"
      ]
     },
     "execution_count": 39,
     "metadata": {},
     "output_type": "execute_result"
    }
   ],
   "source": [
    "df_test.to_numpy()[:, 1:]"
   ]
  },
  {
   "cell_type": "code",
   "execution_count": 24,
   "metadata": {},
   "outputs": [],
   "source": [
    "# Split test data into arrays of 500 before predictiongand predict iteritively to avoid error\n",
    "\n",
    "def predict(data, rows=500):\n",
    "    split_array = np.array_split(data, int(data.shape[0] / float(rows) + 1))\n",
    "    predictions = ''\n",
    "    for array in split_array:\n",
    "        predictions = ','.join(\n",
    "            [predictions, xgb_predictor.predict(array).decode('utf-8')])\n",
    "\n",
    "    return np.fromstring(predictions[1:], sep=',')\n",
    "\n",
    "\n",
    "predictions = predict(df_test.to_numpy()[:, 1:])"
   ]
  },
  {
   "cell_type": "code",
   "execution_count": 26,
   "metadata": {},
   "outputs": [
    {
     "data": {
      "text/plain": [
       "24627"
      ]
     },
     "execution_count": 26,
     "metadata": {},
     "output_type": "execute_result"
    }
   ],
   "source": [
    "len(predictions)"
   ]
  },
  {
   "cell_type": "code",
   "execution_count": 31,
   "metadata": {},
   "outputs": [
    {
     "data": {
      "text/plain": [
       "0.538407065208711"
      ]
     },
     "execution_count": 31,
     "metadata": {},
     "output_type": "execute_result"
    }
   ],
   "source": [
    "r2_score(df_test[\"target\"], predictions)"
   ]
  },
  {
   "cell_type": "code",
   "execution_count": 11,
   "metadata": {},
   "outputs": [
    {
     "data": {
      "text/plain": [
       "'sagemaker-xgboost-2022-09-10-12-52-34-304'"
      ]
     },
     "execution_count": 11,
     "metadata": {},
     "output_type": "execute_result"
    }
   ],
   "source": [
    "job_name"
   ]
  },
  {
   "cell_type": "code",
   "execution_count": 51,
   "metadata": {},
   "outputs": [],
   "source": [
    "model = sagemaker.model.Model(\n",
    "    image_uri=container,\n",
    "    model_data='s3://{}/model.tar.gz'.format(bucket),\n",
    "    role=role)"
   ]
  },
  {
   "cell_type": "code",
   "execution_count": 54,
   "metadata": {},
   "outputs": [
    {
     "name": "stdout",
     "output_type": "stream",
     "text": [
      "Looking in indexes: https://pypi.org/simple, https://pip.repos.neuron.amazonaws.com\n",
      "Collecting xgboost\n",
      "  Downloading xgboost-1.6.2-py3-none-manylinux2014_x86_64.whl (255.9 MB)\n",
      "\u001b[2K     \u001b[90m━━━━━━━━━━━━━━━━━━━━━━━━━━━━━━━━━━━━━━━\u001b[0m \u001b[32m255.9/255.9 MB\u001b[0m \u001b[31m1.5 MB/s\u001b[0m eta \u001b[36m0:00:00\u001b[0m00:01\u001b[0m00:01\u001b[0m\n",
      "\u001b[?25hRequirement already satisfied: scipy in /home/ec2-user/anaconda3/envs/python3/lib/python3.8/site-packages (from xgboost) (1.5.3)\n",
      "Requirement already satisfied: numpy in /home/ec2-user/anaconda3/envs/python3/lib/python3.8/site-packages (from xgboost) (1.20.3)\n",
      "Installing collected packages: xgboost\n",
      "Successfully installed xgboost-1.6.2\n",
      "\u001b[33mWARNING: You are using pip version 22.0.4; however, version 22.2.2 is available.\n",
      "You should consider upgrading via the '/home/ec2-user/anaconda3/envs/python3/bin/python -m pip install --upgrade pip' command.\u001b[0m\u001b[33m\n",
      "\u001b[0m"
     ]
    }
   ],
   "source": [
    "!pip install xgboost"
   ]
  },
  {
   "cell_type": "code",
   "execution_count": 112,
   "metadata": {},
   "outputs": [],
   "source": [
    "myfeatures = df_train.columns[1:]\n",
    "dict_features = dict(enumerate(myfeatures))\n",
    "keys = list(dict_features.keys())\n",
    "values = list(dict_features.values())\n",
    "\n",
    "myfeaturesdf = pd.DataFrame(data=values, index=keys, columns = ['feature_names'])"
   ]
  },
  {
   "cell_type": "code",
   "execution_count": 113,
   "metadata": {},
   "outputs": [],
   "source": [
    "myfeaturesdf = myfeaturesdf.reset_index()"
   ]
  },
  {
   "cell_type": "code",
   "execution_count": 119,
   "metadata": {},
   "outputs": [],
   "source": [
    "feature_important = xgbooster.get_score(importance_type='weight')\n",
    "keys = list(feature_important.keys())\n",
    "values = list(feature_important.values())\n",
    "\n",
    "ddd =pd.DataFrame(data=values, index=keys, columns=[\"score\"]).reset_index()"
   ]
  },
  {
   "cell_type": "code",
   "execution_count": 120,
   "metadata": {},
   "outputs": [],
   "source": [
    "ddd['index'] = ddd['index'].apply(lambda x: x.replace('f', '')).astype(int)"
   ]
  },
  {
   "cell_type": "code",
   "execution_count": 121,
   "metadata": {},
   "outputs": [],
   "source": [
    "ddd = ddd.merge(myfeaturesdf, on = 'index').drop(columns ='index')"
   ]
  },
  {
   "cell_type": "code",
   "execution_count": 122,
   "metadata": {},
   "outputs": [
    {
     "data": {
      "text/plain": [
       "Index(['score', 'feature_names'], dtype='object')"
      ]
     },
     "execution_count": 122,
     "metadata": {},
     "output_type": "execute_result"
    }
   ],
   "source": [
    "ddd.columns"
   ]
  },
  {
   "cell_type": "code",
   "execution_count": 128,
   "metadata": {},
   "outputs": [
    {
     "data": {
      "text/plain": [
       "<AxesSubplot:ylabel='feature_names'>"
      ]
     },
     "execution_count": 128,
     "metadata": {},
     "output_type": "execute_result"
    },
    {
     "data": {
      "image/png": "[encoded data removed]",
      "text/plain": [
       "<Figure size 1440x720 with 1 Axes>"
      ]
     },
     "metadata": {
      "needs_background": "light"
     },
     "output_type": "display_data"
    }
   ],
   "source": [
    "\n",
    "\n",
    "data = ddd.sort_values(by = \"score\", ascending=False).set_index('feature_names')\n",
    "data.nlargest(20, columns=\"score\").sort_values(by='score', ascending=True).plot(kind='barh', figsize = (20,10)) ## plot top 20 features"
   ]
  },
  {
   "cell_type": "code",
   "execution_count": 55,
   "metadata": {},
   "outputs": [
    {
     "name": "stdout",
     "output_type": "stream",
     "text": [
      "[10:58:01] WARNING: ../src/learner.cc:438: \n",
      "  If you are loading a serialized model (like pickle in Python, RDS in R) generated by\n",
      "  older XGBoost, please export the model by calling `Booster.save_model` from that version\n",
      "  first, then load it back in current version. See:\n",
      "\n",
      "    https://xgboost.readthedocs.io/en/latest/tutorials/saving_model.html\n",
      "\n",
      "  for more details about differences between saving model and serializing.\n",
      "\n"
     ]
    },
    {
     "data": {
      "text/plain": [
       "{'f0': 17.0,\n",
       " 'f1': 20.0,\n",
       " 'f2': 3.0,\n",
       " 'f3': 124.0,\n",
       " 'f4': 33.0,\n",
       " 'f5': 8.0,\n",
       " 'f6': 12.0,\n",
       " 'f7': 12.0,\n",
       " 'f8': 14.0,\n",
       " 'f9': 12.0,\n",
       " 'f10': 16.0,\n",
       " 'f11': 16.0,\n",
       " 'f12': 2.0,\n",
       " 'f14': 5.0,\n",
       " 'f17': 18.0,\n",
       " 'f18': 19.0,\n",
       " 'f19': 7.0,\n",
       " 'f20': 1.0,\n",
       " 'f21': 5.0,\n",
       " 'f24': 4.0,\n",
       " 'f25': 1.0,\n",
       " 'f26': 5.0,\n",
       " 'f27': 2.0,\n",
       " 'f29': 2.0,\n",
       " 'f30': 2.0}"
      ]
     },
     "execution_count": 55,
     "metadata": {},
     "output_type": "execute_result"
    }
   ],
   "source": [
    "import s3fs\n",
    "import pickle\n",
    "import tarfile\n",
    "import xgboost\n",
    "\n",
    "model_path = \"s3://sagemaker-us-east-1-664031765781/sagemaker-xgboost-2022-09-10-12-52-34-304/output/model.tar.gz\"\n",
    "\n",
    "fs = s3fs.S3FileSystem()\n",
    "\n",
    "with fs.open(model_path, 'rb') as f:\n",
    "    with tarfile.open(fileobj=f, mode='r') as tar_f:\n",
    "        with tar_f.extractfile('xgboost-model') as extracted_f:\n",
    "            xgbooster = pickle.load(extracted_f)\n",
    "\n",
    "xgbooster.get_fscore()"
   ]
  },
  {
   "cell_type": "code",
   "execution_count": 57,
   "metadata": {},
   "outputs": [
    {
     "data": {
      "text/plain": [
       "{'f0': 17.0,\n",
       " 'f1': 20.0,\n",
       " 'f2': 3.0,\n",
       " 'f3': 124.0,\n",
       " 'f4': 33.0,\n",
       " 'f5': 8.0,\n",
       " 'f6': 12.0,\n",
       " 'f7': 12.0,\n",
       " 'f8': 14.0,\n",
       " 'f9': 12.0,\n",
       " 'f10': 16.0,\n",
       " 'f11': 16.0,\n",
       " 'f12': 2.0,\n",
       " 'f14': 5.0,\n",
       " 'f17': 18.0,\n",
       " 'f18': 19.0,\n",
       " 'f19': 7.0,\n",
       " 'f20': 1.0,\n",
       " 'f21': 5.0,\n",
       " 'f24': 4.0,\n",
       " 'f25': 1.0,\n",
       " 'f26': 5.0,\n",
       " 'f27': 2.0,\n",
       " 'f29': 2.0,\n",
       " 'f30': 2.0}"
      ]
     },
     "execution_count": 57,
     "metadata": {},
     "output_type": "execute_result"
    }
   ],
   "source": [
    "xgbooster.get_score()"
   ]
  },
  {
   "cell_type": "code",
   "execution_count": null,
   "metadata": {},
   "outputs": [],
   "source": [
    "s3 = boto3.client('s3')\n",
    "data_key = 'sagemaker-xgboost-2022-09-10-12-52-34-304/output/model.tar.gz' \n",
    "s3.get_object(Bucket=bucket, Key=data_key)['Body'].read()"
   ]
  },
  {
   "cell_type": "code",
   "execution_count": null,
   "metadata": {},
   "outputs": [],
   "source": [
    "model_file = \"s3://sagemaker-us-east-1-664031765781/sagemaker-xgboost-2022-09-10-12-52-34-304/output/model.tar.gz\"\n",
    "booster = pkl.load(open(s3.get_object(Bucket=bucket, Key=data_key)['Body'].read(), 'rb'))"
   ]
  },
  {
   "cell_type": "code",
   "execution_count": 14,
   "metadata": {},
   "outputs": [
    {
     "ename": "FileNotFoundError",
     "evalue": "[Errno 2] No such file or directory: 's3a://sagemaker-us-east-1-664031765781/sagemaker-xgboost-2022-09-10-12-52-34-304/output/model.tar.gz'",
     "output_type": "error",
     "traceback": [
      "\u001b[0;31m---------------------------------------------------------------------------\u001b[0m",
      "\u001b[0;31mFileNotFoundError\u001b[0m                         Traceback (most recent call last)",
      "\u001b[0;32m/tmp/ipykernel_8669/3083003475.py\u001b[0m in \u001b[0;36m<cell line: 7>\u001b[0;34m()\u001b[0m\n\u001b[1;32m      5\u001b[0m \u001b[0;31m#model_file = 's3://{}/{}/output/model.tar.gz'.format(bucket, job_name)\u001b[0m\u001b[0;34m\u001b[0m\u001b[0;34m\u001b[0m\u001b[0;34m\u001b[0m\u001b[0m\n\u001b[1;32m      6\u001b[0m \u001b[0mmodel_file\u001b[0m \u001b[0;34m=\u001b[0m \u001b[0;34m's3a://sagemaker-us-east-1-664031765781/sagemaker-xgboost-2022-09-10-12-52-34-304/output/model.tar.gz'\u001b[0m\u001b[0;34m\u001b[0m\u001b[0;34m\u001b[0m\u001b[0m\n\u001b[0;32m----> 7\u001b[0;31m \u001b[0mbooster\u001b[0m \u001b[0;34m=\u001b[0m \u001b[0mpkl\u001b[0m\u001b[0;34m.\u001b[0m\u001b[0mload\u001b[0m\u001b[0;34m(\u001b[0m\u001b[0mopen\u001b[0m\u001b[0;34m(\u001b[0m\u001b[0mmodel_file\u001b[0m\u001b[0;34m,\u001b[0m \u001b[0;34m'rb'\u001b[0m\u001b[0;34m)\u001b[0m\u001b[0;34m)\u001b[0m\u001b[0;34m\u001b[0m\u001b[0;34m\u001b[0m\u001b[0m\n\u001b[0m\u001b[1;32m      8\u001b[0m \u001b[0mbooster\u001b[0m\u001b[0;34m.\u001b[0m\u001b[0mget_score\u001b[0m\u001b[0;34m(\u001b[0m\u001b[0;34m)\u001b[0m\u001b[0;34m\u001b[0m\u001b[0;34m\u001b[0m\u001b[0m\n\u001b[1;32m      9\u001b[0m \u001b[0mbooster\u001b[0m\u001b[0;34m.\u001b[0m\u001b[0mget_fscore\u001b[0m\u001b[0;34m(\u001b[0m\u001b[0;34m)\u001b[0m\u001b[0;34m\u001b[0m\u001b[0;34m\u001b[0m\u001b[0m\n",
      "\u001b[0;31mFileNotFoundError\u001b[0m: [Errno 2] No such file or directory: 's3a://sagemaker-us-east-1-664031765781/sagemaker-xgboost-2022-09-10-12-52-34-304/output/model.tar.gz'"
     ]
    }
   ],
   "source": [
    "\n",
    "import pickle as pkl\n",
    "#import xgboost\n",
    "\n",
    "#s3://sagemaker-us-east-1-664031765781/sagemaker-xgboost-2022-09-10-12-15-12-519/output/model.tar.gz\n",
    "#model_file = 's3://{}/{}/output/model.tar.gz'.format(bucket, job_name)\n",
    "model_file = 's3://sagemaker-us-east-1-664031765781/sagemaker-xgboost-2022-09-10-12-52-34-304/output/model.tar.gz'\n",
    "booster = pkl.load(open(model_file, 'rb'))\n",
    "booster.get_score()\n",
    "booster.get_fscore()"
   ]
  },
  {
   "cell_type": "code",
   "execution_count": null,
   "metadata": {},
   "outputs": [],
   "source": []
  },
  {
   "cell_type": "markdown",
   "metadata": {},
   "source": [
    "\n",
    "xgb.set_hyperparameters(objective='reg:squarederror',\n",
    "                        num_round=1500,\n",
    "                        objective_metric_name=objective_metric_name\n",
    "                        eta: 0.36482434587259494,\n",
    "                        gamma: 7,\n",
    "                        max_depth: 981,\n",
    "                        subsample: 0.6429304118413212)\n",
    "\n",
    "\n",
    "xgb.fit({'train': s3_input_train, 'validation': s3_input_validation})"
   ]
  },
  {
   "cell_type": "code",
   "execution_count": 1,
   "metadata": {},
   "outputs": [
    {
     "data": {
      "image/png": "[encoded data removed]",
      "text/plain": [
       "<Figure size 864x360 with 1 Axes>"
      ]
     },
     "metadata": {
      "needs_background": "light"
     },
     "output_type": "display_data"
    }
   ],
   "source": [
    "%matplotlib inline\n",
    "from sagemaker.analytics import TrainingJobAnalytics\n",
    "\n",
    "metric_name = \"validation:rmse\"\n",
    "job_name = 'sagemaker-xgboost-2022-09-10-12-52-34-304'\n",
    "metrics_dataframe = TrainingJobAnalytics(\n",
    "    training_job_name=job_name, metric_names=[metric_name]\n",
    ").dataframe()\n",
    "plt = metrics_dataframe.plot(\n",
    "    kind=\"line\", figsize=(12, 5), x=\"timestamp\", y=\"value\", style=\"b.\", legend=False\n",
    ")\n",
    "plt.set_ylabel(metric_name);"
   ]
  },
  {
   "cell_type": "code",
   "execution_count": 2,
   "metadata": {},
   "outputs": [
    {
     "data": {
      "text/html": [
       "<div>\n",
       "<style scoped>\n",
       "    .dataframe tbody tr th:only-of-type {\n",
       "        vertical-align: middle;\n",
       "    }\n",
       "\n",
       "    .dataframe tbody tr th {\n",
       "        vertical-align: top;\n",
       "    }\n",
       "\n",
       "    .dataframe thead th {\n",
       "        text-align: right;\n",
       "    }\n",
       "</style>\n",
       "<table border=\"1\" class=\"dataframe\">\n",
       "  <thead>\n",
       "    <tr style=\"text-align: right;\">\n",
       "      <th></th>\n",
       "      <th>timestamp</th>\n",
       "      <th>metric_name</th>\n",
       "      <th>value</th>\n",
       "    </tr>\n",
       "  </thead>\n",
       "  <tbody>\n",
       "    <tr>\n",
       "      <th>0</th>\n",
       "      <td>0.0</td>\n",
       "      <td>validation:rmse</td>\n",
       "      <td>0.691348</td>\n",
       "    </tr>\n",
       "    <tr>\n",
       "      <th>1</th>\n",
       "      <td>60.0</td>\n",
       "      <td>validation:rmse</td>\n",
       "      <td>0.679532</td>\n",
       "    </tr>\n",
       "    <tr>\n",
       "      <th>2</th>\n",
       "      <td>120.0</td>\n",
       "      <td>validation:rmse</td>\n",
       "      <td>0.679423</td>\n",
       "    </tr>\n",
       "    <tr>\n",
       "      <th>3</th>\n",
       "      <td>180.0</td>\n",
       "      <td>validation:rmse</td>\n",
       "      <td>0.679370</td>\n",
       "    </tr>\n",
       "    <tr>\n",
       "      <th>4</th>\n",
       "      <td>240.0</td>\n",
       "      <td>validation:rmse</td>\n",
       "      <td>0.679391</td>\n",
       "    </tr>\n",
       "    <tr>\n",
       "      <th>5</th>\n",
       "      <td>300.0</td>\n",
       "      <td>validation:rmse</td>\n",
       "      <td>0.679473</td>\n",
       "    </tr>\n",
       "    <tr>\n",
       "      <th>6</th>\n",
       "      <td>360.0</td>\n",
       "      <td>validation:rmse</td>\n",
       "      <td>0.679460</td>\n",
       "    </tr>\n",
       "    <tr>\n",
       "      <th>7</th>\n",
       "      <td>420.0</td>\n",
       "      <td>validation:rmse</td>\n",
       "      <td>0.679356</td>\n",
       "    </tr>\n",
       "    <tr>\n",
       "      <th>8</th>\n",
       "      <td>480.0</td>\n",
       "      <td>validation:rmse</td>\n",
       "      <td>0.679357</td>\n",
       "    </tr>\n",
       "    <tr>\n",
       "      <th>9</th>\n",
       "      <td>540.0</td>\n",
       "      <td>validation:rmse</td>\n",
       "      <td>0.679356</td>\n",
       "    </tr>\n",
       "    <tr>\n",
       "      <th>10</th>\n",
       "      <td>600.0</td>\n",
       "      <td>validation:rmse</td>\n",
       "      <td>0.679357</td>\n",
       "    </tr>\n",
       "  </tbody>\n",
       "</table>\n",
       "</div>"
      ],
      "text/plain": [
       "    timestamp      metric_name     value\n",
       "0         0.0  validation:rmse  0.691348\n",
       "1        60.0  validation:rmse  0.679532\n",
       "2       120.0  validation:rmse  0.679423\n",
       "3       180.0  validation:rmse  0.679370\n",
       "4       240.0  validation:rmse  0.679391\n",
       "5       300.0  validation:rmse  0.679473\n",
       "6       360.0  validation:rmse  0.679460\n",
       "7       420.0  validation:rmse  0.679356\n",
       "8       480.0  validation:rmse  0.679357\n",
       "9       540.0  validation:rmse  0.679356\n",
       "10      600.0  validation:rmse  0.679357"
      ]
     },
     "execution_count": 2,
     "metadata": {},
     "output_type": "execute_result"
    }
   ],
   "source": [
    "metrics_dataframe"
   ]
  },
  {
   "cell_type": "code",
   "execution_count": 101,
   "metadata": {},
   "outputs": [
    {
     "data": {
      "text/plain": [
       "<sagemaker.TrainingJobAnalytics for sagemaker-xgboost-2022-09-10-12-52-34-304>"
      ]
     },
     "execution_count": 101,
     "metadata": {},
     "output_type": "execute_result"
    }
   ],
   "source": [
    "best_estimator."
   ]
  },
  {
   "cell_type": "code",
   "execution_count": null,
   "metadata": {},
   "outputs": [],
   "source": []
  },
  {
   "cell_type": "code",
   "execution_count": null,
   "metadata": {},
   "outputs": [],
   "source": []
  },
  {
   "cell_type": "code",
   "execution_count": null,
   "metadata": {},
   "outputs": [],
   "source": [
    "# Set the hyperparameters\n",
    "xgb.set_hyperparameters(\n",
    "    objective=\"binary:logistic\",\n",
    "    num_round=1000,\n",
    "    max_depth=100,\n",
    "    subsample=0.8,\n",
    "    eta=0.1,\n",
    "    gamma=1\n",
    ")"
   ]
  },
  {
   "cell_type": "code",
   "execution_count": null,
   "metadata": {},
   "outputs": [],
   "source": [
    "# Configuring the data inputs\n",
    "s3_input_train = sagemaker.inputs.TrainingInput(\n",
    "    s3_data='s3://{}/{}/train'.format(bucket, prefix), content_type='csv')\n",
    "s3_input_validation = sagemaker.inputs.TrainingInput(\n",
    "    s3_data='s3://{}/{}/test/'.format(bucket, prefix), content_type='csv')"
   ]
  },
  {
   "cell_type": "code",
   "execution_count": null,
   "metadata": {},
   "outputs": [],
   "source": [
    "# Training the model\n",
    "xgb.fit({'train': s3_input_train, 'validation': s3_input_validation})"
   ]
  },
  {
   "cell_type": "code",
   "execution_count": null,
   "metadata": {},
   "outputs": [],
   "source": []
  },
  {
   "cell_type": "code",
   "execution_count": null,
   "metadata": {},
   "outputs": [],
   "source": []
  },
  {
   "cell_type": "code",
   "execution_count": null,
   "metadata": {},
   "outputs": [],
   "source": []
  },
  {
   "cell_type": "code",
   "execution_count": null,
   "metadata": {},
   "outputs": [],
   "source": [
    "# Recreate the Estimator from above\n",
    "# Creating the SageMaker Estimator object\n",
    "xgb = sagemaker.estimator.Estimator(\n",
    "    image_uri=container,\n",
    "    role=role,\n",
    "    sagemaker_session =sess,\n",
    "    instance_count =1,\n",
    "    instance_type=\"ml.m4.xlarge\",\n",
    "    max_run=2000,\n",
    "    max_wait = 2500,\n",
    "    use_spot_instances=True #Save up to 90%\n",
    ")\n"
   ]
  },
  {
   "cell_type": "markdown",
   "metadata": {},
   "source": [
    "### From my nlp project"
   ]
  },
  {
   "cell_type": "code",
   "execution_count": null,
   "metadata": {},
   "outputs": [],
   "source": []
  },
  {
   "cell_type": "code",
   "execution_count": null,
   "metadata": {},
   "outputs": [],
   "source": [
    "training_path= \"s3://{}/{}/\".format(bucket, \"data/dogImages\")\n",
    "s3_output_dir = \"s3://{}/{}/\".format(bucket, \"output\")\n",
    "s3_model_dir = \"s3://{}/{}/\".format(bucket, \"model\")\n",
    "os.environ['SM_CHANNEL_TRAIN']=training_path\n",
    "os.environ['SM_MODEL_DIR']=s3_model_dir\n",
    "os.environ['SM_OUTPUT_DATA_DIR']=s3_output_dir\n"
   ]
  },
  {
   "cell_type": "code",
   "execution_count": null,
   "metadata": {},
   "outputs": [],
   "source": [
    "hyperparameter_ranges = {\n",
    "    \"lr\": ContinuousParameter(0.001, 0.1),\n",
    "    \"batch-size\": CategoricalParameter([32, 64, 128, 256]),\n",
    "}\n",
    "\n",
    "objective_metric_name = \"average test loss\"\n",
    "objective_type = \"Minimize\"\n",
    "metric_definitions = [{\"Name\": \"average test loss\", \"Regex\": \"Test set: Average loss: ([0-9\\\\.]+)\"}]"
   ]
  },
  {
   "cell_type": "code",
   "execution_count": null,
   "metadata": {},
   "outputs": [],
   "source": [
    "#TODO: Create estimators for your HPs\n",
    "from sagemaker.pytorch import PyTorch\n",
    "\n",
    "estimator = PyTorch(\n",
    "    entry_point=\"hpo.py\",\n",
    "    role=sagemaker.get_execution_role(),\n",
    "    py_version='py36',\n",
    "    framework_version=\"1.8\",\n",
    "    instance_count=1,\n",
    "    instance_type=\"ml.g4dn.xlarge\"\n",
    ")\n",
    "\n",
    "tuner = HyperparameterTuner(\n",
    "    estimator,\n",
    "    objective_metric_name,\n",
    "    hyperparameter_ranges,\n",
    "    metric_definitions,\n",
    "    max_jobs=4,\n",
    "    max_parallel_jobs=2,\n",
    "    objective_type=objective_type,\n",
    ")"
   ]
  },
  {
   "cell_type": "code",
   "execution_count": null,
   "metadata": {},
   "outputs": [],
   "source": [
    "# TODO: Get the best estimators and the best HPs\n",
    "\n",
    "best_estimator = tuner.best_estimator()\n",
    "\n",
    "#Get the hyperparameters of the best trained model\n",
    "best_estimator.hyperparameters()"
   ]
  },
  {
   "cell_type": "code",
   "execution_count": null,
   "metadata": {},
   "outputs": [],
   "source": [
    "\n",
    "hyperparameters = {\"lr\": '0.0010890341083269243',\n",
    "                  \"batch-size\": 256}\n",
    "\n",
    "estimator = PyTorch(\n",
    "    role=sagemaker.get_execution_role(),\n",
    "    instance_count=1,\n",
    "    instance_type=\"ml.g4dn.xlarge\",\n",
    "    entry_point=\"train_model.py\",\n",
    "    framework_version=\"1.8\",\n",
    "    py_version=\"py36\",\n",
    "    profiler_config=profiler_config,\n",
    "    hyperparameters=hyperparameters,\n",
    "    debugger_hook_config=debugger_config,\n",
    "    rules=rules,\n",
    ")\n",
    "\n",
    "#os.environ['SM_CHANNEL_TRAIN']=training_path\n",
    "#os.environ['SM_MODEL_DIR']=s3_model_dir\n",
    "#os.environ['SM_OUTPUT_DATA_DIR']=s3_output_dir\n",
    "estimator.fit({\"train\": training_path}, wait=True)"
   ]
  },
  {
   "cell_type": "code",
   "execution_count": null,
   "metadata": {},
   "outputs": [],
   "source": [
    "# TODO: Plot a debutraining_job_name = estimator.latest_training_job.name\n",
    "session = boto3.session.Session()\n",
    "region = session.region_name\n",
    "print(f\"Training jobname: {training_job_name}\")\n",
    "print(f\"Region: {region}\")\n",
    "\n",
    "trial = create_trial(estimator.latest_job_debugger_artifacts_path())\n",
    "\n",
    "print(trial.tensor_names())\n",
    "print(len(trial.tensor(\"NLLLoss_output_0\").steps(mode=ModeKeys.TRAIN)))\n",
    "print(len(trial.tensor(\"NLLLoss_output_0\").steps(mode=ModeKeys.EVAL)))\n"
   ]
  },
  {
   "cell_type": "code",
   "execution_count": null,
   "metadata": {},
   "outputs": [],
   "source": [
    "# TODO: Deploy your model to an endpoint\n",
    "\n",
    "predictor=estimator.deploy(initial_instance_count=1, instance_type=\"ml.t2.medium\") # TODO: Add your deployment configuration like instance type and number of instances"
   ]
  },
  {
   "cell_type": "code",
   "execution_count": null,
   "metadata": {},
   "outputs": [],
   "source": [
    "predictor = sagemaker.predictor.Predictor('pytorch-training-2022-08-09-14-18-19-119', sagemaker_session=sagemaker_session)\n"
   ]
  },
  {
   "cell_type": "code",
   "execution_count": null,
   "metadata": {},
   "outputs": [],
   "source": [
    "response = predictor.predict(data = img_tensor_pred)"
   ]
  },
  {
   "cell_type": "code",
   "execution_count": null,
   "metadata": {},
   "outputs": [],
   "source": [
    "# TODO: Remember to shutdown/delete your endpoint once your work is done\n",
    "predictor.delete_endpoint()"
   ]
  },
  {
   "cell_type": "code",
   "execution_count": null,
   "metadata": {},
   "outputs": [],
   "source": []
  },
  {
   "cell_type": "markdown",
   "metadata": {},
   "source": [
    "#### end"
   ]
  },
  {
   "cell_type": "code",
   "execution_count": null,
   "metadata": {},
   "outputs": [],
   "source": []
  },
  {
   "cell_type": "code",
   "execution_count": null,
   "metadata": {},
   "outputs": [],
   "source": []
  },
  {
   "cell_type": "code",
   "execution_count": null,
   "metadata": {},
   "outputs": [],
   "source": []
  },
  {
   "cell_type": "code",
   "execution_count": null,
   "metadata": {},
   "outputs": [],
   "source": []
  },
  {
   "cell_type": "code",
   "execution_count": null,
   "metadata": {},
   "outputs": [],
   "source": []
  }
 ],
 "metadata": {
  "kernelspec": {
   "display_name": "conda_python3",
   "language": "python",
   "name": "conda_python3"
  },
  "language_info": {
   "codemirror_mode": {
    "name": "ipython",
    "version": 3
   },
   "file_extension": ".py",
   "mimetype": "text/x-python",
   "name": "python",
   "nbconvert_exporter": "python",
   "pygments_lexer": "ipython3",
   "version": "3.8.12"
  }
 },
 "nbformat": 4,
 "nbformat_minor": 4
}
